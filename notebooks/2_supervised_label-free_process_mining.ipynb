{
 "cells": [
  {
   "cell_type": "code",
   "execution_count": 1,
   "id": "a8b94b13-6e05-4935-8b1e-a9ff8d73ebed",
   "metadata": {},
   "outputs": [],
   "source": [
    "import os\n",
    "import re\n",
    "import glob\n",
    "import random \n",
    "import statistics\n",
    "import numpy as np\n",
    "import pandas as pd\n",
    "from pathlib import Path\n",
    "from datetime import datetime\n",
    "from collections import Counter\n",
    "from sklearn.metrics import classification_report\n",
    "from sklearn.model_selection import RepeatedKFold\n",
    "from sklearn.ensemble import RandomForestClassifier"
   ]
  },
  {
   "cell_type": "code",
   "execution_count": 2,
   "id": "e158b1da-5e32-446b-8df6-6e6210880889",
   "metadata": {},
   "outputs": [],
   "source": [
    "def load_event_log(dataset_path=None, n_rows=1000):\n",
    "    print('Reading', dataset_path)\n",
    "    try:\n",
    "        event_log = pd.read_csv(dataset_path, nrows=n_rows)\n",
    "    except:\n",
    "        return None\n",
    "    h = event_log.columns.values.tolist()\n",
    "    # check if a dataset contains a tuple of case_id, activity, and timestamp\n",
    "    if ('case:concept:name' in h) and ('concept:name' in h) and ('time:timestamp' in h):\n",
    "        # pre-process an event log\n",
    "        return event_log.fillna(np.nan).replace([np.nan], [''])\n",
    "    else:\n",
    "        return None"
   ]
  },
  {
   "cell_type": "code",
   "execution_count": 3,
   "id": "372b98f5-3097-4b5c-937e-d6129d7ce2f2",
   "metadata": {},
   "outputs": [],
   "source": [
    "# feature_extraction: \n",
    "# input: expect a vector of values in a column\n",
    "# output: set of features\n",
    "def local_feature_extraction(value, round_digits=3):\n",
    "    patterns = ['[a-z]', '[A-Z]', '\\d', '\\s', '[^a-zA-Z\\d\\s]']\n",
    "    f = {}\n",
    "    if len(value) == 0:\n",
    "        f['f_chars'] = 0 \n",
    "        f['f_words'] = 0\n",
    "        for p in patterns:\n",
    "            f['f_{}'.format(p)] = 0\n",
    "    else:\n",
    "        # length: length of a value\n",
    "        f['f_chars'] = len(value)\n",
    "        # words: number of words in a value\n",
    "        f['f_words'] = len(re.findall(r'\\w+', value))\n",
    "        # The following code find the frequency of each pattern in patterns in a value\n",
    "        for p in patterns:\n",
    "            f['f_{}'.format(p)] = round(len(re.findall(p, value)) / len(value), round_digits)\n",
    "    return f\n",
    "\n",
    "def feature_extraction(values, round_digits=3):\n",
    "    # set type of values string\n",
    "    values = values.astype(str)\n",
    "    # local features\n",
    "    f_local = [local_feature_extraction(value) for value in values]\n",
    "    # convert it into a DF to easily calculate mean of each feature\n",
    "    f = pd.DataFrame.from_dict(f_local)\n",
    "    f = f.apply(np.mean, axis=0)\n",
    "    # global features\n",
    "    # count the occurence of each value in values\n",
    "    counts = Counter(values).values()\n",
    "    if len(counts) > 1:\n",
    "        # f_ratio_unique_values: how much unique values are involved\n",
    "        f['f_ratio_unique_values'] = round(len(set(values)) / len(values), round_digits)\n",
    "        # f_mean_unique_values: mean value of number of appearance of each value\n",
    "        f['f_mean_unique_values'] = round(statistics.mean(counts), round_digits)\n",
    "    else:\n",
    "        f['f_ratio_unique_values'] = 1\n",
    "        f['f_mean_unique_values'] = 1\n",
    "    return f.to_numpy()\n"
   ]
  },
  {
   "cell_type": "code",
   "execution_count": 4,
   "id": "a218ed1d-8b6b-48eb-a264-c287a7fda592",
   "metadata": {
    "tags": []
   },
   "outputs": [
    {
     "name": "stdout",
     "output_type": "stream",
     "text": [
      "Reading ../datasets/BPIC2015_2.csv\n",
      "Reading ../datasets/BPIC2013_incident_management.csv\n",
      "Reading ../datasets/BPIC2018.csv\n",
      "Reading ../datasets/BPIC2013_problem_management_open_problems.csv\n",
      "Reading ../datasets/BPIC2016_Clicks_NOT_Logged_In.csv\n",
      "Reading ../datasets/BPIC2015_5.csv\n",
      "Reading ../datasets/BPIC2015_4.csv\n",
      "Reading ../datasets/BPIC2016_Clicks_Logged_In.csv\n",
      "Reading ../datasets/BPIC2014_change_log.csv\n",
      "Reading ../datasets/Production_Data.csv\n",
      "Reading ../datasets/BPIC2011_Dutch_academic_hospital.csv\n",
      "Reading ../datasets/BPIC2017.csv\n",
      "Reading ../datasets/BPIC2013_problem_management_closed_problems.csv\n",
      "Reading ../datasets/BPIC2015_3.csv\n",
      "Reading ../datasets/BPIC2012_loan_application_process.csv\n",
      "Reading ../datasets/BPIC2019_purchase_order_handling_process.csv\n",
      "Reading ../datasets/BPI2016_Clicks_Logged_In.csv\n",
      "Reading ../datasets/BPIC2015_1.csv\n",
      "Reading ../datasets/BPI2016_Clicks_NOT_Logged_In.csv\n",
      "Datasets found in the dataset dir: 19\n",
      "Datasets that are ready for evaluation: 13\n"
     ]
    }
   ],
   "source": [
    "datasets = glob.glob('../datasets/*.csv', recursive=False)\n",
    "event_logs = [load_event_log(d, n_rows=1000) for d in datasets]\n",
    "# remove None from event_logs\n",
    "event_logs = [e for e in event_logs if e is not None]\n",
    "print('Datasets found in the dataset dir:', len(datasets))\n",
    "print('Datasets that are ready for evaluation:', len(event_logs))"
   ]
  },
  {
   "cell_type": "code",
   "execution_count": 5,
   "id": "297a7d30-9cc0-47b5-9ac2-599b6407ac60",
   "metadata": {
    "tags": []
   },
   "outputs": [],
   "source": [
    "tmp = [e.apply(lambda x: feature_extraction(x), axis=0) for e in event_logs]"
   ]
  }
 ],
 "metadata": {
  "kernelspec": {
   "display_name": "Python 3 (ipykernel)",
   "language": "python",
   "name": "python3"
  },
  "language_info": {
   "codemirror_mode": {
    "name": "ipython",
    "version": 3
   },
   "file_extension": ".py",
   "mimetype": "text/x-python",
   "name": "python",
   "nbconvert_exporter": "python",
   "pygments_lexer": "ipython3",
   "version": "3.10.5"
  }
 },
 "nbformat": 4,
 "nbformat_minor": 5
}
