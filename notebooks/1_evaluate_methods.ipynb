{
 "cells": [
  {
   "cell_type": "code",
   "execution_count": null,
   "id": "b771b9ce-38df-4577-9e46-f42876acb184",
   "metadata": {},
   "outputs": [],
   "source": [
    "# 1) narrow down key column candidates with the supervised approach\n",
    "# 2) test them with the unsupervised approach to identify the best one"
   ]
  },
  {
   "cell_type": "code",
   "execution_count": 14,
   "id": "02bf4144-09a5-4e0b-87a3-cd9ff0b1e7a9",
   "metadata": {},
   "outputs": [],
   "source": [
    "import os\n",
    "import re\n",
    "import glob\n",
    "import time\n",
    "import random \n",
    "import pickle\n",
    "import signal\n",
    "import statistics\n",
    "import numpy as np\n",
    "import pandas as pd\n",
    "from pathlib import Path\n",
    "from random import sample\n",
    "from datetime import datetime\n",
    "from itertools import product\n",
    "from collections import Counter\n",
    "from SetSimilaritySearch import all_pairs\n",
    "from sklearn.model_selection import GroupKFold\n",
    "from sklearn.model_selection import RepeatedKFold\n",
    "from sklearn.metrics import classification_report\n",
    "from sklearn.ensemble import RandomForestClassifier\n",
    "# for CV\n",
    "# process mining\n",
    "import pm4py\n",
    "from pm4py.objects.conversion.log import converter as log_converter\n",
    "# miners\n",
    "from pm4py.algo.discovery.inductive import algorithm as inductive_miner\n",
    "from pm4py.algo.discovery.heuristics import algorithm as heuristics_miner\n",
    "# performance metrics\n",
    "from pm4py.algo.evaluation.replay_fitness import algorithm as replay_fitness_evaluator\n",
    "from pm4py.algo.evaluation.precision import algorithm as precision_evaluator\n",
    "from pm4py.algo.evaluation.generalization import algorithm as generalization_evaluator\n",
    "from pm4py.algo.evaluation.simplicity import algorithm as simplicity_evaluator"
   ]
  },
  {
   "cell_type": "code",
   "execution_count": 1,
   "id": "f9753d13-39cc-41c2-87a8-a6b9fe011786",
   "metadata": {},
   "outputs": [],
   "source": [
    "def load_event_log(dataset_path=None, n_rows=1000):\n",
    "    try:\n",
    "        event_log = pd.read_csv(dataset_path, nrows=n_rows)\n",
    "    except:\n",
    "        return None\n",
    "    h = event_log.columns.values.tolist()\n",
    "    # check if a dataset contains a tuple of case_id, activity, and timestamp\n",
    "    if ('case:concept:name' in h) and ('concept:name' in h) and ('time:timestamp' in h):\n",
    "        print(dataset_path, 'is valid for evaluation')\n",
    "        # replace NaN with ''\n",
    "        event_log = event_log.fillna(np.nan).replace([np.nan], [''])\n",
    "        return event_log\n",
    "    else:\n",
    "        return None"
   ]
  },
  {
   "cell_type": "code",
   "execution_count": 4,
   "id": "a9be5490-d7a1-44e8-b096-8d7738b24b50",
   "metadata": {},
   "outputs": [],
   "source": [
    "# feature_extraction: \n",
    "# input: values in a column\n",
    "# output: features\n",
    "def feature_extraction(values, round_digits=3):\n",
    "    def local_feature_extraction(value):\n",
    "        patterns = ['[a-z]', '[A-Z]', '\\d', '\\s', '[^a-zA-Z\\d\\s]']\n",
    "        f = {}\n",
    "        if len(value) == 0:\n",
    "            f['f_chars'] = 0 \n",
    "            f['f_words'] = 0\n",
    "            for p in patterns:\n",
    "                f['f_{}'.format(p)] = 0\n",
    "        else:\n",
    "            # length: length of a value\n",
    "            f['f_chars'] = len(value)\n",
    "            # words: number of words in a value\n",
    "            f['f_words'] = len(re.findall(r'\\w+', value))\n",
    "            # The following code find the frequency of each pattern in patterns in a value\n",
    "            for p in patterns:\n",
    "                f['f_{}'.format(p)] = round(len(re.findall(p, value)) / len(value), round_digits)\n",
    "        return f\n",
    "\n",
    "    # set type of values string\n",
    "    values = values.astype(str)\n",
    "    # local features\n",
    "    f_local = [local_feature_extraction(value) for value in values]\n",
    "    # convert it into a DF to easily calculate mean of each feature\n",
    "    f = pd.DataFrame.from_dict(f_local)\n",
    "    f = f.apply(np.mean, axis=0)\n",
    "    # global features\n",
    "    # count the occurence of each value in values\n",
    "    counts = Counter(values).values()\n",
    "    if len(counts) > 1:\n",
    "        # f_ratio_unique_values: how much unique values are involved\n",
    "        f['f_ratio_unique_values'] = round(len(set(values)) / len(values), round_digits)\n",
    "        # f_mean_unique_values: mean value of number of appearance of each value\n",
    "        f['f_mean_unique_values'] = round(statistics.mean(counts), round_digits)\n",
    "    else:\n",
    "        f['f_ratio_unique_values'] = 1\n",
    "        f['f_mean_unique_values'] = 1\n",
    "    return f.to_numpy()"
   ]
  },
  {
   "cell_type": "code",
   "execution_count": 5,
   "id": "3bbaee99-353f-4d10-90bf-f8dce54a0e33",
   "metadata": {},
   "outputs": [],
   "source": [
    "# relabel: if a label is a key label, keep it. Otherwise, relabel it as 'other'\n",
    "def relabel(labels, target_class=None):\n",
    "    return np.array([label if label == target_class else 'other' for label in labels])\n",
    "\n",
    "# flatten: flatten an array of arrays\n",
    "# https://stackoverflow.com/a/952952/7184459\n",
    "def flatten(x):\n",
    "    return [x_elem_elem for x_elem in x for x_elem_elem in x_elem]"
   ]
  },
  {
   "cell_type": "code",
   "execution_count": 6,
   "id": "5fd99ad9-cb33-4488-8b39-265f43eb314c",
   "metadata": {
    "tags": []
   },
   "outputs": [],
   "source": [
    "def get_key_column_cands(feature_df, target_class, n_cands=2):\n",
    "    # make a test dataset\n",
    "    y = np.array([np.array(relabel(labels=e.columns.values, target_class=target_class)) \n",
    "                  for e in feature_df], dtype=object)\n",
    "    X = np.array([np.transpose(e).values for e in feature_df], dtype=object)\n",
    "    X_test = flatten(X)\n",
    "    y_test = flatten(y)\n",
    "    # evaluate the classifier\n",
    "    # only return the highest n_cands candidates\n",
    "    probs = clf.predict_proba(X_test)\n",
    "    # the probs contain two probabilities (for binary classficiation), but we need to check\n",
    "    # which element refers to the target class's probability\n",
    "    target_class_index = np.where(clf.classes_ == target_class)\n",
    "    # print('target_class_index', target_class_index, 'of', clf.classes_)\n",
    "    probs = [probs[i][target_class_index] for i in range(len(probs))]\n",
    "    # print(probs)\n",
    "    top_probs = sorted(probs)[-n_cands:]\n",
    "    # a candidate must be identified as a target key (i.e. judge if a prob > 0.5)\n",
    "    top_probs = [prob for prob in top_probs if prob > 0.5]\n",
    "    cands = np.where([p in top_probs for p in probs])[0].tolist()\n",
    "    # print(cands)\n",
    "    return cands\n",
    "    \n",
    "    # The previous idea just returns every column index where its class is identified as a target key\n",
    "    # y_predicted = clf.predict(X_test)\n",
    "    # print(classification_report(y_test, y_predicted))\n",
    "    # return the indices of timestamp candidtes\n",
    "    # return np.where([value == target_class for value in y_predicted])[0].tolist()"
   ]
  },
  {
   "cell_type": "code",
   "execution_count": 7,
   "id": "b582450e-e553-407a-9814-b32c9fe6b8fe",
   "metadata": {},
   "outputs": [],
   "source": [
    "def similarity_check(d=None, key_indices=None, n_samples=10, min_cosine_sim=0.5):\n",
    "    event_log_df = d.iloc[:, key_indices]\n",
    "    event_log_df.columns.values[0] = 'case:concept:name'\n",
    "    event_log_df.columns.values[1] = 'time:timestamp'\n",
    "    event_log_df.columns.values[2] = 'concept:name'\n",
    "    # get the number of cases\n",
    "    n_cases = len(set(event_log_df['case:concept:name']))\n",
    "    if n_cases > n_samples:\n",
    "        # sample n_sample cases\n",
    "        sampled_case_ids = sample(list(set(event_log_df['case:concept:name'])), n_samples)\n",
    "        event_log_df = event_log_df[event_log_df['case:concept:name'].isin(sampled_case_ids)]\n",
    "    \n",
    "    # get the sequence of activities by case_ids\n",
    "    sets = event_log_df.groupby('case:concept:name')['concept:name']\\\n",
    "        .apply(list).apply(set).tolist()\n",
    "    if len(sets) > 0:\n",
    "        pairs = list(all_pairs(sets, similarity_func_name=\"cosine\", similarity_threshold=0.1))\n",
    "        #  print('pairs:', pairs)\n",
    "        if len(pairs) == 0:\n",
    "            cosine_sim = 0\n",
    "        else:\n",
    "            cosine_sim = np.mean([list(pairs[i])[2] for i in range(len(pairs))])\n",
    "    else:\n",
    "        cosine_sim = 0\n",
    "\n",
    "    # print('cosine similarity:', cosine_sim)\n",
    "    if cosine_sim <= min_cosine_sim:\n",
    "        return False\n",
    "    else:\n",
    "        # if passed all preliminary tests, then return True\n",
    "        return True"
   ]
  },
  {
   "cell_type": "code",
   "execution_count": 8,
   "id": "9438a82e-93f1-4a8b-ba61-6233d6a86971",
   "metadata": {},
   "outputs": [],
   "source": [
    "def measure_score(d=None, key_indices=None, miner='inductive_miner', metric='generalization', n_splits=2,\n",
    "                  model_discovery_timeout_in_sec=5, evaluation_timeout_in_sec=60):\n",
    "    def discover_model(event_log, miner):\n",
    "        # default parameters are used\n",
    "        if miner == 'inductive_miner':\n",
    "            net, im, fm = inductive_miner.apply(event_log,\n",
    "                {pm4py.algo.discovery.inductive.variants.im.algorithm.Parameters.NOISE_THRESHOLD: 0.2},\n",
    "                pm4py.algo.discovery.inductive.algorithm.Variants.IM)\n",
    "        elif miner == 'heuristics_miner':\n",
    "            net, im, fm = heuristics_miner.apply(event_log, {\n",
    "                heuristics_miner.Variants.CLASSIC.value.Parameters.DEPENDENCY_THRESH: 0.5,\n",
    "                heuristics_miner.Variants.CLASSIC.value.Parameters.AND_MEASURE_THRESH: 0.65,\n",
    "                heuristics_miner.Variants.CLASSIC.value.Parameters.MIN_ACT_COUNT: 1,\n",
    "                heuristics_miner.Variants.CLASSIC.value.Parameters.MIN_DFG_OCCURRENCES: 1,\n",
    "                heuristics_miner.Variants.CLASSIC.value.Parameters.DFG_PRE_CLEANING_NOISE_THRESH: 0.05,\n",
    "                heuristics_miner.Variants.CLASSIC.value.Parameters.LOOP_LENGTH_TWO_THRESH: 2})\n",
    "        return net, im, fm\n",
    "\n",
    "    def evaluate_score(event_log, net, im, fm, metric):\n",
    "        if metric == 'fitness':\n",
    "            score = replay_fitness_evaluator.apply(event_log, net, im, fm, \n",
    "                    variant=replay_fitness_evaluator.Variants.TOKEN_BASED)['log_fitness']\n",
    "        elif metric == 'precision':\n",
    "            score = precision_evaluator.apply(event_log, net, im, fm, \n",
    "                    variant=precision_evaluator.Variants.ETCONFORMANCE_TOKEN)\n",
    "        elif metric == 'generalization':\n",
    "            score = generalization_evaluator.apply(event_log, net, im, fm)\n",
    "        elif metric == 'simplicity':\n",
    "            score = simplicity_evaluator.apply(net)\n",
    "        else:\n",
    "            if metric == 'Buijs2014':\n",
    "            # A paper \"Quality dimensions in process discovery: The importance of fitness, \n",
    "            # precision, generalization and simplicity\" proposed to calculate the following \n",
    "            # four metrics with giving 10 times more weight to replay fitness than \n",
    "            # the other three.\n",
    "            # 10 x + 3x = 1 => x = 1 / 13\n",
    "                weights = [10/13, 1/13, 1/13, 1/13]\n",
    "            elif metric == 'average':\n",
    "                weights = [0.25, 0.25, 0.25, 0.25]\n",
    "            fitness = replay_fitness_evaluator.apply(event_log, net, im, fm, \n",
    "                    variant=replay_fitness_evaluator.Variants.TOKEN_BASED)['log_fitness']\n",
    "            precision = precision_evaluator.apply(event_log, net, im, fm, \n",
    "                    variant=precision_evaluator.Variants.ETCONFORMANCE_TOKEN)\n",
    "            #  fitness = replay_fitness_evaluator.apply(event_log, net, im, fm, \n",
    "                    #  variant=replay_fitness_evaluator.Variants.ALIGNMENT_BASED)['log_fitness']\n",
    "            #  precision = precision_evaluator.apply(event_log, net, im, fm, \n",
    "                    #  variant=precision_evaluator.Variants.ALIGN_ETCONFORMANCE)\n",
    "            generalization = generalization_evaluator.apply(event_log, net, im, fm)\n",
    "            simplicity = simplicity_evaluator.apply(net)\n",
    "            score = np.dot(weights, [fitness, precision, generalization, simplicity])\n",
    "        return score\n",
    "    \n",
    "    def timeout_handler(signum, frame):\n",
    "        raise Exception('timeout')\n",
    "        \n",
    "    def cross_validation(event_log_df, train, test):\n",
    "        # dataset need be sorted by timestamp (https://pm4py.fit.fraunhofer.de/documentation#item-import-csv)\n",
    "        #  print(\"%s %s\" % (train, test))\n",
    "        train_log_df = event_log_df.iloc[train]\n",
    "        try:\n",
    "            train_log_df = train_log_df.sort_values('time:timestamp')\n",
    "        except:\n",
    "            print(datetime.now().strftime('%Y-%m-%d %H:%M:%S'), 'the identified timestamp seems wrong', 0)\n",
    "            return 0\n",
    "            \n",
    "        test_log_df = event_log_df.iloc[test]\n",
    "        try:\n",
    "            test_log_df = test_log_df.sort_values('time:timestamp')\n",
    "        except:\n",
    "            print(datetime.now().strftime('%Y-%m-%d %H:%M:%S'), 'the identified timestamp seems wrong', 0)\n",
    "            return 0\n",
    "        \n",
    "        train_log = log_converter.apply(train_log_df, \\\n",
    "                                        variant=log_converter.Variants.TO_EVENT_LOG)\n",
    "        test_log = log_converter.apply(test_log_df, \\\n",
    "                                       variant=log_converter.Variants.TO_EVENT_LOG)\n",
    "    \n",
    "        print(datetime.now().strftime('%Y-%m-%d %H:%M:%S'), \\\n",
    "              'discovering a process model...')\n",
    "        \n",
    "        # discover_model may take time. hence, we set a timeout for it\n",
    "        # https://stackoverflow.com/a/494273/7184459\n",
    "        signal.signal(signal.SIGALRM, timeout_handler)\n",
    "        signal.alarm(model_discovery_timeout_in_sec)\n",
    "        try:\n",
    "            net, im, fm = discover_model(train_log, miner)\n",
    "        except Exception:\n",
    "            print(datetime.now().strftime('%Y-%m-%d %H:%M:%S'), 'gave up discovering a model')\n",
    "            print(datetime.now().strftime('%Y-%m-%d %H:%M:%S'), 'score evaluated:', 0)\n",
    "            return 0\n",
    "        print(datetime.now().strftime('%Y-%m-%d %H:%M:%S'), 'process model discovered')\n",
    "        # reset a timer when a model discovery finishes before the deadline\n",
    "        signal.alarm(0)\n",
    "        # set another timer for evaluation\n",
    "        signal.signal(signal.SIGALRM, timeout_handler)\n",
    "        signal.alarm(evaluation_timeout_in_sec)\n",
    "        try:\n",
    "            score = evaluate_score(test_log, net, im, fm, metric)\n",
    "        except Exception:\n",
    "            print(datetime.now().strftime('%Y-%m-%d %H:%M:%S'), 'gave up evaluating a model')\n",
    "            print(datetime.now().strftime('%Y-%m-%d %H:%M:%S'), 'score evaluated:', 0)\n",
    "            return 0\n",
    "        signal.alarm(0)\n",
    "        print(datetime.now().strftime('%Y-%m-%d %H:%M:%S'), 'score evaluated:', score)\n",
    "        return score\n",
    "    \n",
    "    # assume the columns as case_id, timestamp, and activity from left\n",
    "    event_log_df = d.iloc[:, key_indices]\n",
    "    event_log_df.columns = ['case:concept:name', 'time:timestamp', 'concept:name']\n",
    "    # print(event_log_df.head())\n",
    "    # evaluate the goodness with CV\n",
    "    gkf = GroupKFold(n_splits=n_splits)\n",
    "    X = list(event_log_df.index)\n",
    "    groups = list(event_log_df['case:concept:name'])\n",
    "    if len(groups) < n_splits:\n",
    "        print(datetime.now().strftime('%Y-%m-%d %H:%M:%S'), 'the case_id seems wrong')\n",
    "        return 0\n",
    "    scores = [cross_validation(event_log_df, train, test) \\\n",
    "          for train, test in gkf.split(X, groups=groups)]\n",
    "    score = round(np.mean(scores), ndigits=3)\n",
    "    print('final score:', score)\n",
    "    return score"
   ]
  },
  {
   "cell_type": "code",
   "execution_count": 9,
   "id": "cb2e17ad-cbcc-48df-b4a5-1edaace0ca5b",
   "metadata": {
    "tags": []
   },
   "outputs": [],
   "source": [
    "def narrow_down_cands_and_measure_scores(dataset=None, verbose=False, \\\n",
    "                                         miner='inductive_miner', metric='Buijs2014', n_splits=2):\n",
    "    cands = get_combinations_to_try(dataset=dataset, verbose=verbose)\n",
    "    # after pre-filtering the candidates, try every combination to process discovery\n",
    "    # the intuition behind it is that the correct key column combination would result in\n",
    "    # a good score (e.g. fitness, precision, generalizability, simplicity)\n",
    "    scores = [{'indices': key_indices, \\\n",
    "               'score': measure_score(dataset, key_indices, miner=miner, \\\n",
    "                                      metric=metric, n_splits=n_splits)} for key_indices in cands]\n",
    "    return scores"
   ]
  },
  {
   "cell_type": "code",
   "execution_count": 9,
   "id": "78e2c453-e628-4361-a19f-32bd512c7c87",
   "metadata": {
    "tags": []
   },
   "outputs": [
    {
     "name": "stdout",
     "output_type": "stream",
     "text": [
      "../datasets/BPIC2011_Dutch_academic_hospital.csv is valid for evaluation\n",
      "../datasets/BPIC2012_loan_application_process.csv is valid for evaluation\n",
      "../datasets/BPIC2013_incident_management.csv is valid for evaluation\n",
      "../datasets/BPIC2013_problem_management_closed_problems.csv is valid for evaluation\n",
      "../datasets/BPIC2013_problem_management_open_problems.csv is valid for evaluation\n",
      "../datasets/BPIC2015_1.csv is valid for evaluation\n",
      "../datasets/BPIC2015_2.csv is valid for evaluation\n",
      "../datasets/BPIC2015_3.csv is valid for evaluation\n",
      "../datasets/BPIC2015_4.csv is valid for evaluation\n",
      "../datasets/BPIC2015_5.csv is valid for evaluation\n",
      "../datasets/BPIC2017.csv is valid for evaluation\n",
      "../datasets/BPIC2018.csv is valid for evaluation\n",
      "../datasets/BPIC2019_purchase_order_handling_process.csv is valid for evaluation\n",
      "../datasets/BPIC2020_Prepaid_Travel_Costs.csv is valid for evaluation\n",
      "../datasets/ModelFactory.csv is valid for evaluation\n"
     ]
    }
   ],
   "source": [
    "datasets = sorted(glob.glob('../datasets/*.csv', recursive=False))\n",
    "event_logs = [load_event_log(d, n_rows=1000) for d in datasets]\n",
    "# remove unqualified event logs\n",
    "valid_indices = [e is not None for e in event_logs]\n",
    "# need to update datasets too\n",
    "datasets = [datasets[i] for i in range(len(datasets)) if valid_indices[i]]\n",
    "event_logs = [e for e in event_logs if e is not None]"
   ]
  },
  {
   "cell_type": "code",
   "execution_count": 11,
   "id": "b552f180-0689-4bb6-9baf-e134458ab9b5",
   "metadata": {},
   "outputs": [],
   "source": [
    "features = [e.apply(lambda x: feature_extraction(x), axis=0) for e in event_logs]"
   ]
  },
  {
   "cell_type": "code",
   "execution_count": 10,
   "id": "119cf818-a919-46b9-95c8-c9891fc1e361",
   "metadata": {
    "tags": []
   },
   "outputs": [
    {
     "ename": "NameError",
     "evalue": "name 'features' is not defined",
     "output_type": "error",
     "traceback": [
      "\u001b[0;31m---------------------------------------------------------------------------\u001b[0m",
      "\u001b[0;31mNameError\u001b[0m                                 Traceback (most recent call last)",
      "Input \u001b[0;32mIn [10]\u001b[0m, in \u001b[0;36m<cell line: 9>\u001b[0;34m()\u001b[0m\n\u001b[1;32m      8\u001b[0m results \u001b[38;5;241m=\u001b[39m []\n\u001b[1;32m      9\u001b[0m \u001b[38;5;28;01mfor\u001b[39;00m n \u001b[38;5;129;01min\u001b[39;00m \u001b[38;5;28mrange\u001b[39m(n_repeats):\n\u001b[1;32m     10\u001b[0m     \u001b[38;5;66;03m# performance evaluation with leave-one-out (use one for test and the others for training)\u001b[39;00m\n\u001b[0;32m---> 11\u001b[0m     \u001b[38;5;28;01mfor\u001b[39;00m i \u001b[38;5;129;01min\u001b[39;00m \u001b[38;5;28mrange\u001b[39m(\u001b[38;5;28mlen\u001b[39m(\u001b[43mfeatures\u001b[49m)):\n\u001b[1;32m     12\u001b[0m         test_index \u001b[38;5;241m=\u001b[39m i\n\u001b[1;32m     13\u001b[0m         train_index \u001b[38;5;241m=\u001b[39m \u001b[38;5;28mlist\u001b[39m(\u001b[38;5;28mset\u001b[39m(\u001b[38;5;28mrange\u001b[39m(\u001b[38;5;28mlen\u001b[39m(features))) \u001b[38;5;241m-\u001b[39m \u001b[38;5;28mset\u001b[39m([test_index]))\n",
      "\u001b[0;31mNameError\u001b[0m: name 'features' is not defined"
     ]
    }
   ],
   "source": [
    "n_splits = len(event_logs)\n",
    "n_estimators = 100\n",
    "n_cands_filtering = [1, 2]\n",
    "miners = ['inductive_miner', 'heuristics_miner']\n",
    "metrics = ['Buijs2014', 'fitness', 'precision', 'generalization', 'simplicity']\n",
    "maximum_trials = 10\n",
    "n_repeats = 10\n",
    "results = []\n",
    "for n in range(n_repeats):\n",
    "    # performance evaluation with leave-one-out (use one for test and the others for training)\n",
    "    for i in range(len(features)):\n",
    "        test_index = i\n",
    "        train_index = list(set(range(len(features))) - set([test_index]))\n",
    "        # print('TRAIN:', train_index)\n",
    "        print(datetime.now().strftime('%Y-%m-%d %H:%M:%S'), 'evaluating:', datasets[test_index])\n",
    "        \n",
    "        for i_n_cands in n_cands_filtering:\n",
    "            # narrow down key column candidates with a supervised approach\n",
    "            # build a binary classifier for each key column\n",
    "            # try multiple times to find candidates\n",
    "            start_time = time.time()\n",
    "            found_cands = False\n",
    "            for i_trial in range(maximum_trials):\n",
    "                case_id_cand = get_key_column_cands(features, 'case:concept:name', \n",
    "                                                    train_index, [test_index], 1, i_n_cands)\n",
    "                timestamp_cand = get_key_column_cands(features, 'time:timestamp', \n",
    "                                                      train_index, [test_index], 1, i_n_cands)\n",
    "                activity_cand = get_key_column_cands(features, 'concept:name', \n",
    "                                                     train_index, [test_index], 1, i_n_cands)\n",
    "                print('case_id_cand:', case_id_cand)\n",
    "                print('timestamp_cand:', timestamp_cand)\n",
    "                print('activity_cand:', activity_cand)\n",
    "                if all([len(timestamp_cand) > 0, len(case_id_cand) > 0, len(activity_cand) > 0]):\n",
    "                    found_cands = True\n",
    "                    break\n",
    "            if not found_cands:\n",
    "                print('Could not find key column candidates. Skip this test.')\n",
    "                break\n",
    "            \n",
    "            if all([len(case_id_cand) == 1, len(timestamp_cand) == 1, len(activity_cand) == 1]):\n",
    "                combinations_to_try = [[case_id_cand[0], timestamp_cand[0], activity_cand[0]]]\n",
    "            else:\n",
    "                key_index_cand = [list(t) for t in product(case_id_cand, timestamp_cand, activity_cand) if len(set(t)) >= 3]\n",
    "                # as similar activity sequences have to be observed by multiple cases (otherwise we cannot identify a process flow)\n",
    "                # hence we rule out the cases where each sequence of activities do not share a common pattern\n",
    "                # in this regrad, we use cosine similarity to measure the overlaps between activities\n",
    "                tmp = [similarity_check(event_logs[test_index], key_indices, n_samples=10, min_cosine_sim=0.3) \\\n",
    "                    for key_indices in key_index_cand]\n",
    "                combinations_to_try = np.array(key_index_cand)[np.array(tmp)].tolist()\n",
    "            time_cand_selection = time.time() - start_time\n",
    "            \n",
    "            h = event_logs[test_index].columns.values.tolist()\n",
    "            correct_indices = [\n",
    "                h.index('case:concept:name'),\n",
    "                h.index('time:timestamp'),\n",
    "                h.index('concept:name')\n",
    "            ]\n",
    "            \n",
    "            # if only one candidate is identified, we can skip the second stage\n",
    "            if all([len(case_id_cand) == 1, len(timestamp_cand) == 1, len(activity_cand) == 1]):\n",
    "                results.append({\n",
    "                    'dataset': datasets[test_index], \n",
    "                    'time_cand_selection': time_cand_selection, \n",
    "                    'time_score_eval': 0, \n",
    "                    'n_timestamp_cand': 1, \n",
    "                    'n_case_id_cand': 1,\n",
    "                    'n_activity_cand': 1,\n",
    "                    'n_top_cands': i_n_cands,\n",
    "                    'n_cands': 1,\n",
    "                    'scores': [],\n",
    "                    'correct_indices': correct_indices, \n",
    "                    'cands': combinations_to_try, \n",
    "                    'miner': None,\n",
    "                    'metric': None, \n",
    "                    'n_RF_estimators': None\n",
    "                })\n",
    "            else:    \n",
    "                for i_miner in miners:\n",
    "                    for i_metric in metrics:\n",
    "                        print(datetime.now().strftime('%Y-%m-%d %H:%M:%S'), 'miner:', i_miner, 'metric:', i_metric)\n",
    "                        start_time = time.time()\n",
    "                        scores = [measure_score(event_logs[test_index], key_indices, miner=i_miner, \n",
    "                                                metric=i_metric, n_splits=2) for key_indices in combinations_to_try]\n",
    "                        time_score_eval = time.time() - start_time\n",
    "                        \n",
    "                        results.append({\n",
    "                            'dataset': datasets[test_index], \n",
    "                            'time_cand_selection': time_cand_selection, \n",
    "                            'time_score_eval': time_score_eval, \n",
    "                            'n_timestamp_cand': len(timestamp_cand), \n",
    "                            'n_case_id_cand': len(case_id_cand), \n",
    "                            'n_activity_cand': len(activity_cand), \n",
    "                            'n_top_cands': i_n_cands,\n",
    "                            'n_cands': len(combinations_to_try), \n",
    "                            'scores': scores, \n",
    "                            'correct_indices': correct_indices, \n",
    "                            'cands': combinations_to_try, \n",
    "                            'miner': i_miner, \n",
    "                            'metric': i_metric, \n",
    "                            'n_RF_estimators': n_estimators\n",
    "                        })"
   ]
  },
  {
   "cell_type": "code",
   "execution_count": null,
   "id": "c9cc0d5d-a9ee-434b-b3dc-512bc93eb64b",
   "metadata": {},
   "outputs": [],
   "source": [
    "with open(r'../results/results.pickle', 'wb') as output_file:\n",
    "    pickle.dump(results, output_file)"
   ]
  },
  {
   "cell_type": "code",
   "execution_count": null,
   "id": "6b64f0af-d7c5-43de-ae6b-30205a460eff",
   "metadata": {
    "tags": []
   },
   "outputs": [],
   "source": [
    "results"
   ]
  },
  {
   "cell_type": "markdown",
   "id": "a926f7b4-6b5e-4119-ab4b-8f464600555c",
   "metadata": {},
   "source": [
    "# Make a library"
   ]
  },
  {
   "cell_type": "markdown",
   "id": "741e6ba0-e22b-4ef8-b562-d5040cd720e4",
   "metadata": {
    "tags": []
   },
   "source": [
    "## Build classifiers"
   ]
  },
  {
   "cell_type": "code",
   "execution_count": 13,
   "id": "59d49bf5-0ec3-4afd-a8d7-3c982a8d606d",
   "metadata": {},
   "outputs": [
    {
     "name": "stdout",
     "output_type": "stream",
     "text": [
      "../datasets/BPIC2011_Dutch_academic_hospital.csv is valid for evaluation\n",
      "../datasets/BPIC2012_loan_application_process.csv is valid for evaluation\n",
      "../datasets/BPIC2013_incident_management.csv is valid for evaluation\n",
      "../datasets/BPIC2013_problem_management_closed_problems.csv is valid for evaluation\n",
      "../datasets/BPIC2013_problem_management_open_problems.csv is valid for evaluation\n",
      "../datasets/BPIC2015_1.csv is valid for evaluation\n",
      "../datasets/BPIC2015_2.csv is valid for evaluation\n",
      "../datasets/BPIC2015_3.csv is valid for evaluation\n",
      "../datasets/BPIC2015_4.csv is valid for evaluation\n",
      "../datasets/BPIC2015_5.csv is valid for evaluation\n",
      "../datasets/BPIC2017.csv is valid for evaluation\n",
      "../datasets/BPIC2018.csv is valid for evaluation\n",
      "../datasets/BPIC2019_purchase_order_handling_process.csv is valid for evaluation\n",
      "../datasets/BPIC2020_Prepaid_Travel_Costs.csv is valid for evaluation\n",
      "../datasets/ModelFactory.csv is valid for evaluation\n"
     ]
    },
    {
     "data": {
      "text/plain": [
       "[RandomForestClassifier(n_estimators=250),\n",
       " RandomForestClassifier(n_estimators=250),\n",
       " RandomForestClassifier(n_estimators=250)]"
      ]
     },
     "execution_count": 13,
     "metadata": {},
     "output_type": "execute_result"
    }
   ],
   "source": [
    "import pickle\n",
    "target_classes = ['case:concept:name', 'time:timestamp', 'concept:name']\n",
    "\n",
    "def make_train_df(feature=None, target_class=None, n_others=1):\n",
    "    df = feature.iloc[:, feature.columns != target_class]\\\n",
    "        .sample(n=n_others, axis=1)\n",
    "    df[target_class] = feature[target_class]\n",
    "    return df\n",
    "\n",
    "def build_classifier(features, target_class, n_estimators=250):\n",
    "    # make a training dataset\n",
    "    tmp_df = [make_train_df(feature, target_class) for feature in features]\n",
    "    y = np.array([np.array(relabel(labels=e.columns.values, target_class=target_class)) \\\n",
    "                           for e in tmp_df], dtype=object)\n",
    "    X = np.array([np.transpose(e).values for e in tmp_df], dtype=object)\n",
    "    X_train = flatten(X)\n",
    "    y_train = flatten(y)\n",
    "    clf = RandomForestClassifier(n_estimators=n_estimators)\n",
    "    clf.fit(X_train, y_train)\n",
    "    # save the trained classifier\n",
    "    pickle.dump(clf, open('../models/' + target_class + '.clf', 'wb'))\n",
    "    return clf\n",
    "    \n",
    "datasets = sorted(glob.glob('../datasets/*.csv', recursive=False))\n",
    "event_logs = [load_event_log(d, n_rows=1000) for d in datasets]\n",
    "# remove unqualified event logs\n",
    "valid_indices = [e is not None for e in event_logs]\n",
    "# need to update datasets too\n",
    "datasets = [datasets[i] for i in range(len(datasets)) if valid_indices[i]]\n",
    "event_logs = [e for e in event_logs if e is not None]\n",
    "features = [e.apply(lambda x: feature_extraction(x), axis=0) for e in event_logs]\n",
    "[build_classifier(features, target_class) for target_class in target_classes]"
   ]
  },
  {
   "cell_type": "markdown",
   "id": "9ad89288-9044-499a-a32c-d7727dcdb058",
   "metadata": {
    "tags": []
   },
   "source": [
    "## Server side"
   ]
  },
  {
   "cell_type": "code",
   "execution_count": 2,
   "id": "bda4a191-b8f5-4324-bb7f-d417b2498679",
   "metadata": {
    "tags": []
   },
   "outputs": [],
   "source": [
    "import os\n",
    "import re\n",
    "import glob\n",
    "import time\n",
    "import random \n",
    "import pickle\n",
    "import signal\n",
    "import statistics\n",
    "import numpy as np\n",
    "import pandas as pd\n",
    "from pathlib import Path\n",
    "from random import sample\n",
    "from datetime import datetime\n",
    "from itertools import product\n",
    "from collections import Counter\n",
    "from SetSimilaritySearch import all_pairs\n",
    "from sklearn.model_selection import GroupKFold\n",
    "from sklearn.model_selection import RepeatedKFold\n",
    "from sklearn.metrics import classification_report\n",
    "from sklearn.ensemble import RandomForestClassifier\n",
    "# for CV\n",
    "# process mining\n",
    "import pm4py\n",
    "from pm4py.objects.conversion.log import converter as log_converter\n",
    "# miners\n",
    "from pm4py.algo.discovery.inductive import algorithm as inductive_miner\n",
    "from pm4py.algo.discovery.heuristics import algorithm as heuristics_miner\n",
    "# performance metrics\n",
    "from pm4py.algo.evaluation.replay_fitness import algorithm as replay_fitness_evaluator\n",
    "from pm4py.algo.evaluation.precision import algorithm as precision_evaluator\n",
    "from pm4py.algo.evaluation.generalization import algorithm as generalization_evaluator\n",
    "from pm4py.algo.evaluation.simplicity import algorithm as simplicity_evaluator\n",
    "\n",
    "def get_candidates(features, target_class, k=2):\n",
    "    # read the trained classifier for the target_class\n",
    "    clf = pickle.load(open('../models/' + target_class + '.clf', 'rb'))\n",
    "    # transform the features in DF to np.array\n",
    "    X = np.array(np.transpose(features), dtype=object)\n",
    "    # only return the highest k candidates\n",
    "    probs = clf.predict_proba(X)\n",
    "    # the probs contain two probabilities (for binary classficiation), but we need to check\n",
    "    # which element refers to the target class's probability\n",
    "    target_class_index = np.where(clf.classes_ == target_class)\n",
    "    # print('target_class_index', target_class_index, 'of', clf.classes_)\n",
    "    probs = [probs[i][target_class_index] for i in range(len(probs))]\n",
    "    # print(probs)\n",
    "    top_probs = sorted(probs)[-k:]\n",
    "    # a candidate must be at least identified as a target key (i.e. judge if a prob > 0.5)\n",
    "    top_probs = [prob for prob in top_probs if prob > 0.5]\n",
    "    cands = np.where([p in top_probs for p in probs])[0].tolist()\n",
    "    # print(cands)\n",
    "    return cands\n",
    "\n",
    "def measure_score(d=None, key_indices=None, miner='inductive_miner', metric='generalization', n_splits=2,\n",
    "                  model_discovery_timeout_in_sec=5, evaluation_timeout_in_sec=60):\n",
    "    def discover_model(event_log, miner):\n",
    "        # default parameters are used\n",
    "        if miner == 'inductive_miner':\n",
    "            net, im, fm = inductive_miner.apply(event_log,\n",
    "                {pm4py.algo.discovery.inductive.variants.im.algorithm.Parameters.NOISE_THRESHOLD: 0.2},\n",
    "                pm4py.algo.discovery.inductive.algorithm.Variants.IM)\n",
    "        elif miner == 'heuristics_miner':\n",
    "            net, im, fm = heuristics_miner.apply(event_log, {\n",
    "                heuristics_miner.Variants.CLASSIC.value.Parameters.DEPENDENCY_THRESH: 0.5,\n",
    "                heuristics_miner.Variants.CLASSIC.value.Parameters.AND_MEASURE_THRESH: 0.65,\n",
    "                heuristics_miner.Variants.CLASSIC.value.Parameters.MIN_ACT_COUNT: 1,\n",
    "                heuristics_miner.Variants.CLASSIC.value.Parameters.MIN_DFG_OCCURRENCES: 1,\n",
    "                heuristics_miner.Variants.CLASSIC.value.Parameters.DFG_PRE_CLEANING_NOISE_THRESH: 0.05,\n",
    "                heuristics_miner.Variants.CLASSIC.value.Parameters.LOOP_LENGTH_TWO_THRESH: 2})\n",
    "        return net, im, fm\n",
    "\n",
    "    def evaluate_score(event_log, net, im, fm, metric):\n",
    "        if metric == 'fitness':\n",
    "            score = replay_fitness_evaluator.apply(event_log, net, im, fm, \n",
    "                    variant=replay_fitness_evaluator.Variants.TOKEN_BASED)['log_fitness']\n",
    "        elif metric == 'precision':\n",
    "            score = precision_evaluator.apply(event_log, net, im, fm, \n",
    "                    variant=precision_evaluator.Variants.ETCONFORMANCE_TOKEN)\n",
    "        elif metric == 'generalization':\n",
    "            score = generalization_evaluator.apply(event_log, net, im, fm)\n",
    "        elif metric == 'simplicity':\n",
    "            score = simplicity_evaluator.apply(net)\n",
    "        else:\n",
    "            if metric == 'Buijs2014':\n",
    "            # A paper \"Quality dimensions in process discovery: The importance of fitness, \n",
    "            # precision, generalization and simplicity\" proposed to calculate the following \n",
    "            # four metrics with giving 10 times more weight to replay fitness than \n",
    "            # the other three.\n",
    "            # 10 x + 3x = 1 => x = 1 / 13\n",
    "                weights = [10/13, 1/13, 1/13, 1/13]\n",
    "            elif metric == 'average':\n",
    "                weights = [0.25, 0.25, 0.25, 0.25]\n",
    "            fitness = replay_fitness_evaluator.apply(event_log, net, im, fm, \n",
    "                    variant=replay_fitness_evaluator.Variants.TOKEN_BASED)['log_fitness']\n",
    "            precision = precision_evaluator.apply(event_log, net, im, fm, \n",
    "                    variant=precision_evaluator.Variants.ETCONFORMANCE_TOKEN)\n",
    "            #  fitness = replay_fitness_evaluator.apply(event_log, net, im, fm, \n",
    "                    #  variant=replay_fitness_evaluator.Variants.ALIGNMENT_BASED)['log_fitness']\n",
    "            #  precision = precision_evaluator.apply(event_log, net, im, fm, \n",
    "                    #  variant=precision_evaluator.Variants.ALIGN_ETCONFORMANCE)\n",
    "            generalization = generalization_evaluator.apply(event_log, net, im, fm)\n",
    "            simplicity = simplicity_evaluator.apply(net)\n",
    "            score = np.dot(weights, [fitness, precision, generalization, simplicity])\n",
    "        return score\n",
    "    \n",
    "    def timeout_handler(signum, frame):\n",
    "        raise Exception('timeout')\n",
    "        \n",
    "    def cross_validation(event_log_df, train, test):\n",
    "        # dataset need be sorted by timestamp (https://pm4py.fit.fraunhofer.de/documentation#item-import-csv)\n",
    "        #  print(\"%s %s\" % (train, test))\n",
    "        train_log_df = event_log_df.iloc[train]\n",
    "        try:\n",
    "            train_log_df = train_log_df.sort_values('time:timestamp')\n",
    "        except:\n",
    "            print(datetime.now().strftime('%Y-%m-%d %H:%M:%S'), 'the identified timestamp seems wrong', 0)\n",
    "            return 0\n",
    "            \n",
    "        test_log_df = event_log_df.iloc[test]\n",
    "        try:\n",
    "            test_log_df = test_log_df.sort_values('time:timestamp')\n",
    "        except:\n",
    "            print(datetime.now().strftime('%Y-%m-%d %H:%M:%S'), 'the identified timestamp seems wrong', 0)\n",
    "            return 0\n",
    "        \n",
    "        train_log = log_converter.apply(train_log_df, \\\n",
    "                                        variant=log_converter.Variants.TO_EVENT_LOG)\n",
    "        test_log = log_converter.apply(test_log_df, \\\n",
    "                                       variant=log_converter.Variants.TO_EVENT_LOG)\n",
    "    \n",
    "        print(datetime.now().strftime('%Y-%m-%d %H:%M:%S'), \\\n",
    "              'discovering a process model...')\n",
    "        \n",
    "        # discover_model may take time. hence, we set a timeout for it\n",
    "        # https://stackoverflow.com/a/494273/7184459\n",
    "        signal.signal(signal.SIGALRM, timeout_handler)\n",
    "        signal.alarm(model_discovery_timeout_in_sec)\n",
    "        try:\n",
    "            net, im, fm = discover_model(train_log, miner)\n",
    "        except Exception:\n",
    "            print(datetime.now().strftime('%Y-%m-%d %H:%M:%S'), 'gave up discovering a model')\n",
    "            print(datetime.now().strftime('%Y-%m-%d %H:%M:%S'), 'score evaluated:', 0)\n",
    "            return 0\n",
    "        print(datetime.now().strftime('%Y-%m-%d %H:%M:%S'), 'process model discovered')\n",
    "        # reset a timer when a model discovery finishes before the deadline\n",
    "        signal.alarm(0)\n",
    "        # set another timer for evaluation\n",
    "        signal.signal(signal.SIGALRM, timeout_handler)\n",
    "        signal.alarm(evaluation_timeout_in_sec)\n",
    "        try:\n",
    "            score = evaluate_score(test_log, net, im, fm, metric)\n",
    "        except Exception:\n",
    "            print(datetime.now().strftime('%Y-%m-%d %H:%M:%S'), 'gave up evaluating a model')\n",
    "            print(datetime.now().strftime('%Y-%m-%d %H:%M:%S'), 'score evaluated:', 0)\n",
    "            return 0\n",
    "        signal.alarm(0)\n",
    "        print(datetime.now().strftime('%Y-%m-%d %H:%M:%S'), 'score evaluated:', score)\n",
    "        return score\n",
    "    # assume the columns as case_id, timestamp, and activity from left\n",
    "    event_log_df = d.iloc[:, key_indices]\n",
    "    event_log_df.columns = ['case:concept:name', 'time:timestamp', 'concept:name']\n",
    "    # evaluate the goodness with CV\n",
    "    gkf = GroupKFold(n_splits=n_splits)\n",
    "    X = list(event_log_df.index)\n",
    "    groups = list(event_log_df['case:concept:name'])\n",
    "    if len(groups) < n_splits:\n",
    "        print(datetime.now().strftime('%Y-%m-%d %H:%M:%S'), 'the case_id seems wrong')\n",
    "        return 0\n",
    "    scores = [cross_validation(event_log_df, train, test) \\\n",
    "          for train, test in gkf.split(X, groups=groups)]\n",
    "    score = round(np.mean(scores), ndigits=3)\n",
    "    print('final score:', score)\n",
    "    return score\n",
    "\n",
    "# feature_extraction: \n",
    "# input: values in a column\n",
    "# output: features\n",
    "def feature_extraction(values, round_digits=3):\n",
    "    def local_feature_extraction(value):\n",
    "        patterns = ['[a-z]', '[A-Z]', '\\d', '\\s', '[^a-zA-Z\\d\\s]']\n",
    "        f = {}\n",
    "        if len(value) == 0:\n",
    "            f['f_chars'] = 0 \n",
    "            f['f_words'] = 0\n",
    "            for p in patterns:\n",
    "                f['f_{}'.format(p)] = 0\n",
    "        else:\n",
    "            # length: length of a value\n",
    "            f['f_chars'] = len(value)\n",
    "            # words: number of words in a value\n",
    "            f['f_words'] = len(re.findall(r'\\w+', value))\n",
    "            # The following code find the frequency of each pattern in patterns in a value\n",
    "            for p in patterns:\n",
    "                f['f_{}'.format(p)] = round(len(re.findall(p, value)) / len(value), round_digits)\n",
    "        return f\n",
    "\n",
    "    # set type of values string\n",
    "    values = values.astype(str)\n",
    "    # local features\n",
    "    f_local = [local_feature_extraction(value) for value in values]\n",
    "    # convert it into a DF to easily calculate mean of each feature\n",
    "    f = pd.DataFrame.from_dict(f_local)\n",
    "    f = f.apply(np.mean, axis=0)\n",
    "    # global features\n",
    "    # count the occurence of each value in values\n",
    "    counts = Counter(values).values()\n",
    "    if len(counts) > 1:\n",
    "        # f_ratio_unique_values: how much unique values are involved\n",
    "        f['f_ratio_unique_values'] = round(len(set(values)) / len(values), round_digits)\n",
    "        # f_mean_unique_values: mean value of number of appearance of each value\n",
    "        f['f_mean_unique_values'] = round(statistics.mean(counts), round_digits)\n",
    "    else:\n",
    "        f['f_ratio_unique_values'] = 1\n",
    "        f['f_mean_unique_values'] = 1\n",
    "    return f.to_numpy()\n",
    "\n",
    "def identify_attributes(event_log, k=2, max_trials=5, miner='inductive_miner', metric='generalization', in_detail=True):\n",
    "    # extract features\n",
    "    features = event_log.apply(lambda x: feature_extraction(x), axis=0)\n",
    "    found_cands = False\n",
    "    ####### Stage 1 #######\n",
    "    for i_trial in range(max_trials):\n",
    "        case_id_cand = get_candidates(features, 'case:concept:name', k=k)\n",
    "        timestamp_cand = get_candidates(features, 'time:timestamp', k=k)\n",
    "        activity_cand = get_candidates(features, 'concept:name', k=k)\n",
    "        print('case_id_cand:', case_id_cand)\n",
    "        print('timestamp_cand:', timestamp_cand)\n",
    "        print('activity_cand:', activity_cand)\n",
    "        if all([len(timestamp_cand) > 0, len(case_id_cand) > 0, len(activity_cand) > 0]):\n",
    "            found_cands = True\n",
    "            break\n",
    "    if not found_cands:\n",
    "        print('Could not find key column candidates. Halt.')\n",
    "        return [None, None, None]\n",
    "\n",
    "    # if we can identify a single candidate for each, simply return them\n",
    "    if all([len(case_id_cand) == 1, len(timestamp_cand) == 1, len(activity_cand) == 1]):\n",
    "        return [case_id_cand[0], timestamp_cand[0], activity_cand[0]]\n",
    "    # otherwise, we proceed to the second stage\n",
    "    ####### Stage 2 #######\n",
    "    else:\n",
    "        # list the possible combinations\n",
    "        combinations = [list(t) for t in product(case_id_cand, timestamp_cand, activity_cand) if len(set(t)) == 3]\n",
    "        # print(combinations)\n",
    "        # scoring\n",
    "        scores = [measure_score(event_log, c, miner=miner, metric=metric, n_splits=2) for c in combinations]\n",
    "        if in_detail:\n",
    "            return scores, combinations\n",
    "        else:\n",
    "            # only return the combination with the highest score\n",
    "            return [combinations[i] for i in np.argwhere(np.amax(scores) == scores).flatten().tolist()][0]"
   ]
  },
  {
   "cell_type": "markdown",
   "id": "2694008c-ad7b-441a-9d21-2fd8c21438eb",
   "metadata": {
    "tags": []
   },
   "source": [
    "## Client side"
   ]
  },
  {
   "cell_type": "code",
   "execution_count": 3,
   "id": "d14865dd-0bac-496b-afe3-ab9a73879a91",
   "metadata": {
    "tags": []
   },
   "outputs": [
    {
     "data": {
      "text/plain": [
       "[0, 14, 3]"
      ]
     },
     "metadata": {},
     "output_type": "display_data"
    },
    {
     "name": "stdout",
     "output_type": "stream",
     "text": [
      "case_id_cand: [0, 1]\n",
      "timestamp_cand: [12, 14]\n",
      "activity_cand: [2, 3]\n",
      "2022-11-10 06:48:15 discovering a process model...\n",
      "2022-11-10 06:48:15 process model discovered\n"
     ]
    },
    {
     "data": {
      "application/json": {
       "ascii": false,
       "bar_format": null,
       "colour": null,
       "elapsed": 0.020883798599243164,
       "initial": 0,
       "n": 0,
       "ncols": null,
       "nrows": null,
       "postfix": null,
       "prefix": "replaying log with TBR, completed variants :: ",
       "rate": null,
       "total": 3,
       "unit": "it",
       "unit_divisor": 1000,
       "unit_scale": false
      },
      "application/vnd.jupyter.widget-view+json": {
       "model_id": "8afa0d64655e4747bea05d5754f28902",
       "version_major": 2,
       "version_minor": 0
      },
      "text/plain": [
       "replaying log with TBR, completed variants ::   0%|          | 0/3 [00:00<?, ?it/s]"
      ]
     },
     "metadata": {},
     "output_type": "display_data"
    },
    {
     "name": "stdout",
     "output_type": "stream",
     "text": [
      "2022-11-10 06:48:15 score evaluated: 0.5346279549539388\n",
      "2022-11-10 06:48:15 discovering a process model...\n",
      "2022-11-10 06:48:15 process model discovered\n"
     ]
    },
    {
     "data": {
      "application/json": {
       "ascii": false,
       "bar_format": null,
       "colour": null,
       "elapsed": 0.022457122802734375,
       "initial": 0,
       "n": 0,
       "ncols": null,
       "nrows": null,
       "postfix": null,
       "prefix": "replaying log with TBR, completed variants :: ",
       "rate": null,
       "total": 3,
       "unit": "it",
       "unit_divisor": 1000,
       "unit_scale": false
      },
      "application/vnd.jupyter.widget-view+json": {
       "model_id": "a3d1a2c8f58d4342bbd19edd2db974e1",
       "version_major": 2,
       "version_minor": 0
      },
      "text/plain": [
       "replaying log with TBR, completed variants ::   0%|          | 0/3 [00:00<?, ?it/s]"
      ]
     },
     "metadata": {},
     "output_type": "display_data"
    },
    {
     "name": "stdout",
     "output_type": "stream",
     "text": [
      "2022-11-10 06:48:15 score evaluated: 0.5346279549539388\n",
      "final score: 0.535\n",
      "2022-11-10 06:48:15 discovering a process model...\n",
      "2022-11-10 06:48:15 process model discovered\n"
     ]
    },
    {
     "data": {
      "application/json": {
       "ascii": false,
       "bar_format": null,
       "colour": null,
       "elapsed": 0.02100205421447754,
       "initial": 0,
       "n": 0,
       "ncols": null,
       "nrows": null,
       "postfix": null,
       "prefix": "replaying log with TBR, completed variants :: ",
       "rate": null,
       "total": 3,
       "unit": "it",
       "unit_divisor": 1000,
       "unit_scale": false
      },
      "application/vnd.jupyter.widget-view+json": {
       "model_id": "2bbb24785efe4b6284b3c42d7d858722",
       "version_major": 2,
       "version_minor": 0
      },
      "text/plain": [
       "replaying log with TBR, completed variants ::   0%|          | 0/3 [00:00<?, ?it/s]"
      ]
     },
     "metadata": {},
     "output_type": "display_data"
    },
    {
     "name": "stdout",
     "output_type": "stream",
     "text": [
      "2022-11-10 06:48:15 score evaluated: 0.5346279549539388\n",
      "2022-11-10 06:48:15 discovering a process model...\n",
      "2022-11-10 06:48:15 process model discovered\n"
     ]
    },
    {
     "data": {
      "application/json": {
       "ascii": false,
       "bar_format": null,
       "colour": null,
       "elapsed": 0.02231121063232422,
       "initial": 0,
       "n": 0,
       "ncols": null,
       "nrows": null,
       "postfix": null,
       "prefix": "replaying log with TBR, completed variants :: ",
       "rate": null,
       "total": 3,
       "unit": "it",
       "unit_divisor": 1000,
       "unit_scale": false
      },
      "application/vnd.jupyter.widget-view+json": {
       "model_id": "9f04f91138f24c02b1515d7a1bb6fdb0",
       "version_major": 2,
       "version_minor": 0
      },
      "text/plain": [
       "replaying log with TBR, completed variants ::   0%|          | 0/3 [00:00<?, ?it/s]"
      ]
     },
     "metadata": {},
     "output_type": "display_data"
    },
    {
     "name": "stdout",
     "output_type": "stream",
     "text": [
      "2022-11-10 06:48:15 score evaluated: 0.5346279549539388\n",
      "final score: 0.535\n",
      "2022-11-10 06:48:15 discovering a process model...\n",
      "2022-11-10 06:48:15 process model discovered\n"
     ]
    },
    {
     "data": {
      "application/json": {
       "ascii": false,
       "bar_format": null,
       "colour": null,
       "elapsed": 0.021087646484375,
       "initial": 0,
       "n": 0,
       "ncols": null,
       "nrows": null,
       "postfix": null,
       "prefix": "replaying log with TBR, completed variants :: ",
       "rate": null,
       "total": 3,
       "unit": "it",
       "unit_divisor": 1000,
       "unit_scale": false
      },
      "application/vnd.jupyter.widget-view+json": {
       "model_id": "211fc77c151f43e68c173bd6a2f74f8e",
       "version_major": 2,
       "version_minor": 0
      },
      "text/plain": [
       "replaying log with TBR, completed variants ::   0%|          | 0/3 [00:00<?, ?it/s]"
      ]
     },
     "metadata": {},
     "output_type": "display_data"
    },
    {
     "name": "stdout",
     "output_type": "stream",
     "text": [
      "2022-11-10 06:48:15 score evaluated: 0.5346279549539388\n",
      "2022-11-10 06:48:15 discovering a process model...\n",
      "2022-11-10 06:48:15 process model discovered\n"
     ]
    },
    {
     "data": {
      "application/json": {
       "ascii": false,
       "bar_format": null,
       "colour": null,
       "elapsed": 0.021402597427368164,
       "initial": 0,
       "n": 0,
       "ncols": null,
       "nrows": null,
       "postfix": null,
       "prefix": "replaying log with TBR, completed variants :: ",
       "rate": null,
       "total": 3,
       "unit": "it",
       "unit_divisor": 1000,
       "unit_scale": false
      },
      "application/vnd.jupyter.widget-view+json": {
       "model_id": "bd52a09fe52842d5805850084cfe5b23",
       "version_major": 2,
       "version_minor": 0
      },
      "text/plain": [
       "replaying log with TBR, completed variants ::   0%|          | 0/3 [00:00<?, ?it/s]"
      ]
     },
     "metadata": {},
     "output_type": "display_data"
    },
    {
     "name": "stdout",
     "output_type": "stream",
     "text": [
      "2022-11-10 06:48:15 score evaluated: 0.5346279549539388\n",
      "final score: 0.535\n",
      "2022-11-10 06:48:15 discovering a process model...\n",
      "2022-11-10 06:48:15 process model discovered\n"
     ]
    },
    {
     "data": {
      "application/json": {
       "ascii": false,
       "bar_format": null,
       "colour": null,
       "elapsed": 0.021272897720336914,
       "initial": 0,
       "n": 0,
       "ncols": null,
       "nrows": null,
       "postfix": null,
       "prefix": "replaying log with TBR, completed variants :: ",
       "rate": null,
       "total": 3,
       "unit": "it",
       "unit_divisor": 1000,
       "unit_scale": false
      },
      "application/vnd.jupyter.widget-view+json": {
       "model_id": "72ac8fdb80274722b97c0431bae3d56b",
       "version_major": 2,
       "version_minor": 0
      },
      "text/plain": [
       "replaying log with TBR, completed variants ::   0%|          | 0/3 [00:00<?, ?it/s]"
      ]
     },
     "metadata": {},
     "output_type": "display_data"
    },
    {
     "name": "stdout",
     "output_type": "stream",
     "text": [
      "2022-11-10 06:48:15 score evaluated: 0.5346279549539388\n",
      "2022-11-10 06:48:15 discovering a process model...\n",
      "2022-11-10 06:48:15 process model discovered\n"
     ]
    },
    {
     "data": {
      "application/json": {
       "ascii": false,
       "bar_format": null,
       "colour": null,
       "elapsed": 0.02176976203918457,
       "initial": 0,
       "n": 0,
       "ncols": null,
       "nrows": null,
       "postfix": null,
       "prefix": "replaying log with TBR, completed variants :: ",
       "rate": null,
       "total": 3,
       "unit": "it",
       "unit_divisor": 1000,
       "unit_scale": false
      },
      "application/vnd.jupyter.widget-view+json": {
       "model_id": "8103803feac94f59a639019dc95b2c12",
       "version_major": 2,
       "version_minor": 0
      },
      "text/plain": [
       "replaying log with TBR, completed variants ::   0%|          | 0/3 [00:00<?, ?it/s]"
      ]
     },
     "metadata": {},
     "output_type": "display_data"
    },
    {
     "name": "stdout",
     "output_type": "stream",
     "text": [
      "2022-11-10 06:48:15 score evaluated: 0.5346279549539388\n",
      "final score: 0.535\n",
      "2022-11-10 06:48:15 discovering a process model...\n",
      "2022-11-10 06:48:15 process model discovered\n"
     ]
    },
    {
     "data": {
      "application/json": {
       "ascii": false,
       "bar_format": null,
       "colour": null,
       "elapsed": 0.02161860466003418,
       "initial": 0,
       "n": 0,
       "ncols": null,
       "nrows": null,
       "postfix": null,
       "prefix": "replaying log with TBR, completed variants :: ",
       "rate": null,
       "total": 2,
       "unit": "it",
       "unit_divisor": 1000,
       "unit_scale": false
      },
      "application/vnd.jupyter.widget-view+json": {
       "model_id": "7ee638106af443429bbcc736b091a6f2",
       "version_major": 2,
       "version_minor": 0
      },
      "text/plain": [
       "replaying log with TBR, completed variants ::   0%|          | 0/2 [00:00<?, ?it/s]"
      ]
     },
     "metadata": {},
     "output_type": "display_data"
    },
    {
     "name": "stdout",
     "output_type": "stream",
     "text": [
      "2022-11-10 06:48:15 score evaluated: 0.0\n",
      "2022-11-10 06:48:15 discovering a process model...\n",
      "2022-11-10 06:48:15 process model discovered\n"
     ]
    },
    {
     "data": {
      "application/json": {
       "ascii": false,
       "bar_format": null,
       "colour": null,
       "elapsed": 0.022492647171020508,
       "initial": 0,
       "n": 0,
       "ncols": null,
       "nrows": null,
       "postfix": null,
       "prefix": "replaying log with TBR, completed variants :: ",
       "rate": null,
       "total": 3,
       "unit": "it",
       "unit_divisor": 1000,
       "unit_scale": false
      },
      "application/vnd.jupyter.widget-view+json": {
       "model_id": "4b91177e202b4f4e89c6519896c99280",
       "version_major": 2,
       "version_minor": 0
      },
      "text/plain": [
       "replaying log with TBR, completed variants ::   0%|          | 0/3 [00:00<?, ?it/s]"
      ]
     },
     "metadata": {},
     "output_type": "display_data"
    },
    {
     "name": "stdout",
     "output_type": "stream",
     "text": [
      "2022-11-10 06:48:15 score evaluated: 0.0\n",
      "final score: 0.0\n",
      "2022-11-10 06:48:15 discovering a process model...\n",
      "2022-11-10 06:48:15 process model discovered\n"
     ]
    },
    {
     "data": {
      "application/json": {
       "ascii": false,
       "bar_format": null,
       "colour": null,
       "elapsed": 0.020678997039794922,
       "initial": 0,
       "n": 0,
       "ncols": null,
       "nrows": null,
       "postfix": null,
       "prefix": "replaying log with TBR, completed variants :: ",
       "rate": null,
       "total": 2,
       "unit": "it",
       "unit_divisor": 1000,
       "unit_scale": false
      },
      "application/vnd.jupyter.widget-view+json": {
       "model_id": "2fbcd22832fa4a2ab3605b89dae9334d",
       "version_major": 2,
       "version_minor": 0
      },
      "text/plain": [
       "replaying log with TBR, completed variants ::   0%|          | 0/2 [00:00<?, ?it/s]"
      ]
     },
     "metadata": {},
     "output_type": "display_data"
    },
    {
     "name": "stdout",
     "output_type": "stream",
     "text": [
      "2022-11-10 06:48:16 score evaluated: 0.0\n",
      "2022-11-10 06:48:16 discovering a process model...\n",
      "2022-11-10 06:48:16 process model discovered\n"
     ]
    },
    {
     "data": {
      "application/json": {
       "ascii": false,
       "bar_format": null,
       "colour": null,
       "elapsed": 0.02245807647705078,
       "initial": 0,
       "n": 0,
       "ncols": null,
       "nrows": null,
       "postfix": null,
       "prefix": "replaying log with TBR, completed variants :: ",
       "rate": null,
       "total": 3,
       "unit": "it",
       "unit_divisor": 1000,
       "unit_scale": false
      },
      "application/vnd.jupyter.widget-view+json": {
       "model_id": "352d9453d2bc4407929f0324b9e10ded",
       "version_major": 2,
       "version_minor": 0
      },
      "text/plain": [
       "replaying log with TBR, completed variants ::   0%|          | 0/3 [00:00<?, ?it/s]"
      ]
     },
     "metadata": {},
     "output_type": "display_data"
    },
    {
     "name": "stdout",
     "output_type": "stream",
     "text": [
      "2022-11-10 06:48:16 score evaluated: 0.0\n",
      "final score: 0.0\n",
      "2022-11-10 06:48:16 discovering a process model...\n",
      "2022-11-10 06:48:16 process model discovered\n"
     ]
    },
    {
     "data": {
      "application/json": {
       "ascii": false,
       "bar_format": null,
       "colour": null,
       "elapsed": 0.020580291748046875,
       "initial": 0,
       "n": 0,
       "ncols": null,
       "nrows": null,
       "postfix": null,
       "prefix": "replaying log with TBR, completed variants :: ",
       "rate": null,
       "total": 2,
       "unit": "it",
       "unit_divisor": 1000,
       "unit_scale": false
      },
      "application/vnd.jupyter.widget-view+json": {
       "model_id": "c5f44184b1f241ac8462bf567cbcf6fb",
       "version_major": 2,
       "version_minor": 0
      },
      "text/plain": [
       "replaying log with TBR, completed variants ::   0%|          | 0/2 [00:00<?, ?it/s]"
      ]
     },
     "metadata": {},
     "output_type": "display_data"
    },
    {
     "name": "stdout",
     "output_type": "stream",
     "text": [
      "2022-11-10 06:48:16 score evaluated: 0.0\n",
      "2022-11-10 06:48:16 discovering a process model...\n",
      "2022-11-10 06:48:16 process model discovered\n"
     ]
    },
    {
     "data": {
      "application/json": {
       "ascii": false,
       "bar_format": null,
       "colour": null,
       "elapsed": 0.022498130798339844,
       "initial": 0,
       "n": 0,
       "ncols": null,
       "nrows": null,
       "postfix": null,
       "prefix": "replaying log with TBR, completed variants :: ",
       "rate": null,
       "total": 3,
       "unit": "it",
       "unit_divisor": 1000,
       "unit_scale": false
      },
      "application/vnd.jupyter.widget-view+json": {
       "model_id": "5bb014b2874e4a8fb81306dc478e4ce6",
       "version_major": 2,
       "version_minor": 0
      },
      "text/plain": [
       "replaying log with TBR, completed variants ::   0%|          | 0/3 [00:00<?, ?it/s]"
      ]
     },
     "metadata": {},
     "output_type": "display_data"
    },
    {
     "name": "stdout",
     "output_type": "stream",
     "text": [
      "2022-11-10 06:48:16 score evaluated: 0.0\n",
      "final score: 0.0\n",
      "2022-11-10 06:48:16 discovering a process model...\n",
      "2022-11-10 06:48:16 process model discovered\n"
     ]
    },
    {
     "data": {
      "application/json": {
       "ascii": false,
       "bar_format": null,
       "colour": null,
       "elapsed": 0.0204160213470459,
       "initial": 0,
       "n": 0,
       "ncols": null,
       "nrows": null,
       "postfix": null,
       "prefix": "replaying log with TBR, completed variants :: ",
       "rate": null,
       "total": 2,
       "unit": "it",
       "unit_divisor": 1000,
       "unit_scale": false
      },
      "application/vnd.jupyter.widget-view+json": {
       "model_id": "4fdc9e2910344218b9be41109a7ee6bc",
       "version_major": 2,
       "version_minor": 0
      },
      "text/plain": [
       "replaying log with TBR, completed variants ::   0%|          | 0/2 [00:00<?, ?it/s]"
      ]
     },
     "metadata": {},
     "output_type": "display_data"
    },
    {
     "name": "stdout",
     "output_type": "stream",
     "text": [
      "2022-11-10 06:48:16 score evaluated: 0.0\n",
      "2022-11-10 06:48:16 discovering a process model...\n",
      "2022-11-10 06:48:16 process model discovered\n"
     ]
    },
    {
     "data": {
      "application/json": {
       "ascii": false,
       "bar_format": null,
       "colour": null,
       "elapsed": 0.020442724227905273,
       "initial": 0,
       "n": 0,
       "ncols": null,
       "nrows": null,
       "postfix": null,
       "prefix": "replaying log with TBR, completed variants :: ",
       "rate": null,
       "total": 3,
       "unit": "it",
       "unit_divisor": 1000,
       "unit_scale": false
      },
      "application/vnd.jupyter.widget-view+json": {
       "model_id": "ee222819ec2f41daa768192fba7d1720",
       "version_major": 2,
       "version_minor": 0
      },
      "text/plain": [
       "replaying log with TBR, completed variants ::   0%|          | 0/3 [00:00<?, ?it/s]"
      ]
     },
     "metadata": {},
     "output_type": "display_data"
    },
    {
     "name": "stdout",
     "output_type": "stream",
     "text": [
      "2022-11-10 06:48:16 score evaluated: 0.0\n",
      "final score: 0.0\n"
     ]
    },
    {
     "data": {
      "text/plain": [
       "([0.535, 0.535, 0.535, 0.535, 0.0, 0.0, 0.0, 0.0],\n",
       " [[0, 12, 2],\n",
       "  [0, 12, 3],\n",
       "  [0, 14, 2],\n",
       "  [0, 14, 3],\n",
       "  [1, 12, 2],\n",
       "  [1, 12, 3],\n",
       "  [1, 14, 2],\n",
       "  [1, 14, 3]])"
      ]
     },
     "execution_count": 3,
     "metadata": {},
     "output_type": "execute_result"
    }
   ],
   "source": [
    "import pandas as pd\n",
    "\n",
    "# simulate how a client side sends an event log\n",
    "# read a csv\n",
    "# event_log = pd.read_csv('../datasets/ModelFactory.csv')\n",
    "event_log = pd.read_csv('../datasets/MF-connect.csv')\n",
    "h = event_log.columns.values.tolist()\n",
    "correct_indices = [\n",
    "    h.index('case:concept:name'),\n",
    "    h.index('time:timestamp'),\n",
    "    h.index('concept:name')\n",
    "]\n",
    "display(correct_indices)\n",
    "# this contains a header, so replace it with its indices\n",
    "colnames = [x for x in range(len(event_log.columns))]\n",
    "event_log.columns = colnames\n",
    "# to json\n",
    "event_log = event_log.to_json()\n",
    "# JSON to DF\n",
    "event_log = pd.read_json(event_log, orient='columns')\n",
    "\n",
    "identify_attributes(event_log, k=2, in_detail=True)"
   ]
  },
  {
   "cell_type": "code",
   "execution_count": 8,
   "id": "8c7317b0-38d0-4b09-8dc4-4c71d97e3e8e",
   "metadata": {
    "tags": []
   },
   "outputs": [
    {
     "name": "stdout",
     "output_type": "stream",
     "text": [
      "../datasets/MF-connect.csv is valid for evaluation\n",
      "View a bpmn\n"
     ]
    },
    {
     "data": {
      "image/png": "[encoded data removed]",
      "text/plain": [
       "<IPython.core.display.Image object>"
      ]
     },
     "metadata": {},
     "output_type": "display_data"
    },
    {
     "name": "stdout",
     "output_type": "stream",
     "text": [
      "bpmn to gviz\n",
      "Saving a bpmn as png\n",
      "Saving a bpmn\n",
      "../datasets/MF-connect.csv is valid for evaluation\n"
     ]
    },
    {
     "data": {
      "text/plain": [
       "[0, 1, 2, 3, 4, 5, 6, 7, 8, 9, 10, 11, 12, 13, 14]"
      ]
     },
     "metadata": {},
     "output_type": "display_data"
    },
    {
     "name": "stdout",
     "output_type": "stream",
     "text": [
      "../datasets/MF-connect.csv is valid for evaluation\n",
      "View a bpmn\n"
     ]
    },
    {
     "data": {
      "image/png": "[encoded data removed]",
      "text/plain": [
       "<IPython.core.display.Image object>"
      ]
     },
     "metadata": {},
     "output_type": "display_data"
    },
    {
     "name": "stdout",
     "output_type": "stream",
     "text": [
      "bpmn to gviz\n",
      "Saving a bpmn as png\n",
      "Saving a bpmn\n"
     ]
    }
   ],
   "source": [
    "def save_bpmn(dataset, key_indices=None, attribute=''):\n",
    "    # extract the dataset name\n",
    "    dataset_name = re.match('../datasets/(.+).csv', dataset).groups()[0]\n",
    "    # read the event log\n",
    "    event_log = load_event_log(dataset, n_rows=1000)\n",
    "    # when colnames are given, we set it the dataset's header\n",
    "    if key_indices is not None:\n",
    "        event_log = event_log.iloc[:, key_indices]\n",
    "        event_log.columns = ['case:concept:name', 'time:timestamp', 'concept:name']\n",
    "    # discover a process model\n",
    "    try:\n",
    "        net, initial_marking, final_marking = pm4py.discover_petri_net_inductive(event_log)\n",
    "        # convert it from petri nets to a process tree\n",
    "        pt = pm4py.convert.convert_to_process_tree(net, initial_marking, final_marking)\n",
    "        # convert the process tree to a bpmn\n",
    "        bpmn = pm4py.convert.convert_to_bpmn(pt)\n",
    "    except:\n",
    "        print('Something wrong happened in converting to BPMN.')\n",
    "    try:\n",
    "        # save it\n",
    "        print('View a bpmn')\n",
    "        pm4py.vis.view_bpmn(bpmn)\n",
    "    except:\n",
    "        print('Something wrong happened in trying to view a bpmn')\n",
    "    print('bpmn to gviz')\n",
    "    # pm4py.vis.save_vis_petri_net(net, initial_marking, final_marking, '../plots/', dataset_name + '_pn.png')\n",
    "    gviz = pm4py.visualization.bpmn.visualizer.apply(bpmn)\n",
    "    try:\n",
    "        print('Saving a bpmn as png')\n",
    "        pm4py.visualization.bpmn.visualizer.save(gviz, '../plots/' + dataset_name + attribute + '_bpmn.png')\n",
    "    except:\n",
    "        print('Something wrong happened in trying to save a bpmn as png')\n",
    "    try:\n",
    "        print('Saving a bpmn')\n",
    "        pm4py.write.write_bpmn(bpmn, '../plots/' + dataset_name + attribute + '.bpmn')\n",
    "    except:\n",
    "        print('Something wrong happened.')\n",
    "\n",
    "# datasets = glob.glob('../datasets/*.csv', recursive=False)\n",
    "# [save_bpmn(d) for d in datasets]\n",
    "dataset = '../datasets/MF-connect.csv'\n",
    "# save the manual one\n",
    "save_bpmn(dataset)\n",
    "# save the model discovered by our method\n",
    "event_log = load_event_log(dataset, n_rows=1000)\n",
    "display(colnames)\n",
    "save_bpmn(dataset, key_indices=[0, 14, 2], attribute='_our_method_0_14_2')"
   ]
  }
 ],
 "metadata": {
  "kernelspec": {
   "display_name": "Python 3 (ipykernel)",
   "language": "python",
   "name": "python3"
  },
  "language_info": {
   "codemirror_mode": {
    "name": "ipython",
    "version": 3
   },
   "file_extension": ".py",
   "mimetype": "text/x-python",
   "name": "python",
   "nbconvert_exporter": "python",
   "pygments_lexer": "ipython3",
   "version": "3.10.5"
  }
 },
 "nbformat": 4,
 "nbformat_minor": 5
}
