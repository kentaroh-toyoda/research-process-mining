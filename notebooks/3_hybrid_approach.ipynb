{
 "cells": [
  {
   "cell_type": "code",
   "execution_count": 1,
   "id": "b771b9ce-38df-4577-9e46-f42876acb184",
   "metadata": {},
   "outputs": [],
   "source": [
    "# 1) narrow down key column candidates with the supervised approach\n",
    "# 2) test them with the unsupervised approach"
   ]
  },
  {
   "cell_type": "code",
   "execution_count": 2,
   "id": "02bf4144-09a5-4e0b-87a3-cd9ff0b1e7a9",
   "metadata": {},
   "outputs": [],
   "source": [
    "import os\n",
    "import re\n",
    "import glob\n",
    "import time\n",
    "import random \n",
    "import pickle\n",
    "import signal\n",
    "import statistics\n",
    "import numpy as np\n",
    "import pandas as pd\n",
    "from pathlib import Path\n",
    "from random import sample\n",
    "from datetime import datetime\n",
    "from itertools import product\n",
    "from collections import Counter\n",
    "from SetSimilaritySearch import all_pairs\n",
    "from sklearn.model_selection import GroupKFold\n",
    "from sklearn.model_selection import RepeatedKFold\n",
    "from sklearn.metrics import classification_report\n",
    "from sklearn.ensemble import RandomForestClassifier\n",
    "# for CV\n",
    "# process mining\n",
    "import pm4py\n",
    "from pm4py.objects.conversion.log import converter as log_converter\n",
    "# miners\n",
    "from pm4py.algo.discovery.inductive import algorithm as inductive_miner\n",
    "from pm4py.algo.discovery.heuristics import algorithm as heuristics_miner\n",
    "# performance metrics\n",
    "from pm4py.algo.evaluation.replay_fitness import algorithm as replay_fitness_evaluator\n",
    "from pm4py.algo.evaluation.precision import algorithm as precision_evaluator\n",
    "from pm4py.algo.evaluation.generalization import algorithm as generalization_evaluator\n",
    "from pm4py.algo.evaluation.simplicity import algorithm as simplicity_evaluator"
   ]
  },
  {
   "cell_type": "code",
   "execution_count": 3,
   "id": "f9753d13-39cc-41c2-87a8-a6b9fe011786",
   "metadata": {},
   "outputs": [],
   "source": [
    "def load_event_log(dataset_path=None, n_rows=1000):\n",
    "    print('Reading', dataset_path)\n",
    "    try:\n",
    "        event_log = pd.read_csv(dataset_path, nrows=n_rows)\n",
    "    except:\n",
    "        return None\n",
    "    h = event_log.columns.values.tolist()\n",
    "    # check if a dataset contains a tuple of case_id, activity, and timestamp\n",
    "    if ('case:concept:name' in h) and ('concept:name' in h) and ('time:timestamp' in h):\n",
    "        # pre-process an event log\n",
    "        return event_log.fillna(np.nan).replace([np.nan], [''])\n",
    "    else:\n",
    "        return None"
   ]
  },
  {
   "cell_type": "code",
   "execution_count": 4,
   "id": "a9be5490-d7a1-44e8-b096-8d7738b24b50",
   "metadata": {},
   "outputs": [],
   "source": [
    "# feature_extraction: \n",
    "# input: expect a vector of values in a column\n",
    "# output: set of features\n",
    "def local_feature_extraction(value, round_digits=3):\n",
    "    patterns = ['[a-z]', '[A-Z]', '\\d', '\\s', '[^a-zA-Z\\d\\s]']\n",
    "    f = {}\n",
    "    if len(value) == 0:\n",
    "        f['f_chars'] = 0 \n",
    "        f['f_words'] = 0\n",
    "        for p in patterns:\n",
    "            f['f_{}'.format(p)] = 0\n",
    "    else:\n",
    "        # length: length of a value\n",
    "        f['f_chars'] = len(value)\n",
    "        # words: number of words in a value\n",
    "        f['f_words'] = len(re.findall(r'\\w+', value))\n",
    "        # The following code find the frequency of each pattern in patterns in a value\n",
    "        for p in patterns:\n",
    "            f['f_{}'.format(p)] = round(len(re.findall(p, value)) / len(value), round_digits)\n",
    "    return f\n",
    "\n",
    "def feature_extraction(values, round_digits=3):\n",
    "    # set type of values string\n",
    "    values = values.astype(str)\n",
    "    # local features\n",
    "    f_local = [local_feature_extraction(value) for value in values]\n",
    "    # convert it into a DF to easily calculate mean of each feature\n",
    "    f = pd.DataFrame.from_dict(f_local)\n",
    "    f = f.apply(np.mean, axis=0)\n",
    "    # global features\n",
    "    # count the occurence of each value in values\n",
    "    counts = Counter(values).values()\n",
    "    if len(counts) > 1:\n",
    "        # f_ratio_unique_values: how much unique values are involved\n",
    "        f['f_ratio_unique_values'] = round(len(set(values)) / len(values), round_digits)\n",
    "        # f_mean_unique_values: mean value of number of appearance of each value\n",
    "        f['f_mean_unique_values'] = round(statistics.mean(counts), round_digits)\n",
    "    else:\n",
    "        f['f_ratio_unique_values'] = 1\n",
    "        f['f_mean_unique_values'] = 1\n",
    "    return f.to_numpy()"
   ]
  },
  {
   "cell_type": "code",
   "execution_count": 5,
   "id": "3bbaee99-353f-4d10-90bf-f8dce54a0e33",
   "metadata": {},
   "outputs": [],
   "source": [
    "# relabel: if a label is a key label, keep it. Otherwise, relabel it as 'other'\n",
    "def relabel(labels, target_class=None):\n",
    "    return np.array([label if label == target_class else 'other' for label in labels])\n",
    "\n",
    "# flatten: flatten an array of arrays\n",
    "# https://stackoverflow.com/a/952952/7184459\n",
    "def flatten(x):\n",
    "    return [x_elem_elem for x_elem in x for x_elem_elem in x_elem]"
   ]
  },
  {
   "cell_type": "code",
   "execution_count": 6,
   "id": "5fd99ad9-cb33-4488-8b39-265f43eb314c",
   "metadata": {
    "tags": []
   },
   "outputs": [],
   "source": [
    "def get_key_column_cands(features, target_class, train_index, test_index, \\\n",
    "                         n_others=1, n_cands=2, n_estimators=100):\n",
    "    def make_train_df(feature=None):\n",
    "        df = feature.iloc[:, feature.columns != target_class]\\\n",
    "            .sample(n=n_others, axis=1)\n",
    "        df[target_class] = feature[target_class]\n",
    "        return df\n",
    "\n",
    "    # make a training dataset\n",
    "    tmp_df = [make_train_df(feature=features[i]) for i in train_index]\n",
    "    y = np.array([np.array(relabel(labels=e.columns.values, target_class=target_class)) \\\n",
    "                            for e in tmp_df], dtype=object)\n",
    "    X = np.array([np.transpose(e).values for e in tmp_df], dtype=object)\n",
    "    X_train = flatten(X)\n",
    "    y_train = flatten(y)\n",
    "    clf = RandomForestClassifier(n_estimators=n_estimators)\n",
    "    clf.fit(X_train, y_train)\n",
    "    \n",
    "    # make a test dataset\n",
    "    tmp_df = [features[i] for i in test_index]\n",
    "    y = np.array([np.array(relabel(labels=e.columns.values, target_class=target_class)) \\\n",
    "                            for e in tmp_df], dtype=object)\n",
    "    X = np.array([np.transpose(e).values for e in tmp_df], dtype=object)\n",
    "    X_test = flatten(X)\n",
    "    y_test = flatten(y)\n",
    "    # evaluate the classifier\n",
    "    # only return the highest n_cands candidates\n",
    "    probs = clf.predict_proba(X_test)\n",
    "    # the probs contain two probabilities (for binary classficiation), but we need to check\n",
    "    # which element refers to the target class's probability\n",
    "    target_class_index = np.where(clf.classes_ == target_class)\n",
    "    # print('target_class_index', target_class_index, 'of', clf.classes_)\n",
    "    probs = [probs[i][target_class_index] for i in range(len(probs))]\n",
    "    # print(probs)\n",
    "    top_probs = sorted(probs)[-n_cands:]\n",
    "    # a candidate must be identified as a target key (i.e. judge if a prob > 0.5)\n",
    "    top_probs = [prob for prob in top_probs if prob > 0.5]\n",
    "    cands = np.where([p in top_probs for p in probs])[0].tolist()\n",
    "    # print(cands)\n",
    "    return cands\n",
    "    \n",
    "    # Previous idea just returns every column indice where its class is identified as a target key\n",
    "    # y_predicted = clf.predict(X_test)\n",
    "    # print(classification_report(y_test, y_predicted))\n",
    "    # return the indices of timestamp candidtes\n",
    "    # return np.where([value == target_class for value in y_predicted])[0].tolist()"
   ]
  },
  {
   "cell_type": "code",
   "execution_count": 7,
   "id": "b582450e-e553-407a-9814-b32c9fe6b8fe",
   "metadata": {},
   "outputs": [],
   "source": [
    "def similarity_check(d=None, key_indices=None, n_samples=10, min_cosine_sim=0.5):\n",
    "    event_log_df = d.iloc[:, key_indices]\n",
    "    event_log_df.columns.values[0] = 'case:concept:name'\n",
    "    event_log_df.columns.values[1] = 'time:timestamp'\n",
    "    event_log_df.columns.values[2] = 'concept:name'\n",
    "    # get the number of cases\n",
    "    n_cases = len(set(event_log_df['case:concept:name']))\n",
    "    if n_cases > n_samples:\n",
    "        # sample n_sample cases\n",
    "        sampled_case_ids = sample(list(set(event_log_df['case:concept:name'])), n_samples)\n",
    "        event_log_df = event_log_df[event_log_df['case:concept:name'].isin(sampled_case_ids)]\n",
    "    \n",
    "    # get the sequence of activities by case_ids\n",
    "    sets = event_log_df.groupby('case:concept:name')['concept:name']\\\n",
    "        .apply(list).apply(set).tolist()\n",
    "    if len(sets) > 0:\n",
    "        pairs = list(all_pairs(sets, similarity_func_name=\"cosine\", similarity_threshold=0.1))\n",
    "        #  print('pairs:', pairs)\n",
    "        if len(pairs) == 0:\n",
    "            cosine_sim = 0\n",
    "        else:\n",
    "            cosine_sim = np.mean([list(pairs[i])[2] for i in range(len(pairs))])\n",
    "    else:\n",
    "        cosine_sim = 0\n",
    "\n",
    "    # print('cosine similarity:', cosine_sim)\n",
    "    if cosine_sim <= min_cosine_sim:\n",
    "        return False\n",
    "    else:\n",
    "        # if passed all preliminary tests, then return True\n",
    "        return True"
   ]
  },
  {
   "cell_type": "code",
   "execution_count": 8,
   "id": "9438a82e-93f1-4a8b-ba61-6233d6a86971",
   "metadata": {},
   "outputs": [],
   "source": [
    "def measure_score(d=None, key_indices=None, miner='inductive_miner', metric='Buijs2014', n_splits=2, \\\n",
    "                  model_discovery_timeout_in_sec=5, evaluation_timeout_in_sec=60):\n",
    "    def discover_model(event_log, miner):\n",
    "        # default parameters are used\n",
    "        if miner == 'inductive_miner':\n",
    "            net, im, fm = inductive_miner.apply(event_log,\n",
    "                {pm4py.algo.discovery.inductive.variants.im.algorithm.Parameters.NOISE_THRESHOLD: 0.2},\n",
    "                pm4py.algo.discovery.inductive.algorithm.Variants.IM)\n",
    "        elif miner == 'heuristics_miner':\n",
    "            net, im, fm = heuristics_miner.apply(event_log, {\n",
    "                heuristics_miner.Variants.CLASSIC.value.Parameters.DEPENDENCY_THRESH: 0.5,\n",
    "                heuristics_miner.Variants.CLASSIC.value.Parameters.AND_MEASURE_THRESH: 0.65,\n",
    "                heuristics_miner.Variants.CLASSIC.value.Parameters.MIN_ACT_COUNT: 1,\n",
    "                heuristics_miner.Variants.CLASSIC.value.Parameters.MIN_DFG_OCCURRENCES: 1,\n",
    "                heuristics_miner.Variants.CLASSIC.value.Parameters.DFG_PRE_CLEANING_NOISE_THRESH: 0.05,\n",
    "                heuristics_miner.Variants.CLASSIC.value.Parameters.LOOP_LENGTH_TWO_THRESH: 2})\n",
    "        return net, im, fm\n",
    "\n",
    "    def evaluate_score(event_log, net, im, fm, metric):\n",
    "        if metric == 'fitness':\n",
    "            score = replay_fitness_evaluator.apply(event_log, net, im, fm, \n",
    "                    variant=replay_fitness_evaluator.Variants.TOKEN_BASED)['log_fitness']\n",
    "        elif metric == 'precision':\n",
    "            score = precision_evaluator.apply(event_log, net, im, fm, \n",
    "                    variant=precision_evaluator.Variants.ETCONFORMANCE_TOKEN)\n",
    "        elif metric == 'generalization':\n",
    "            score = generalization_evaluator.apply(event_log, net, im, fm)\n",
    "        elif metric == 'simplicity':\n",
    "            score = simplicity_evaluator.apply(net)\n",
    "        else:\n",
    "            if metric == 'Buijs2014':\n",
    "            # A paper \"Quality dimensions in process discovery: The importance of fitness, \n",
    "            # precision, generalization and simplicity\" proposed to calculate the following \n",
    "            # four metrics with giving 10 times more weight to replay fitness than \n",
    "            # the other three.\n",
    "            # 10 x + 3x = 1 => x = 1 / 13\n",
    "                weights = [10/13, 1/13, 1/13, 1/13]\n",
    "            elif metric == 'average':\n",
    "                weights = [0.25, 0.25, 0.25, 0.25]\n",
    "            fitness = replay_fitness_evaluator.apply(event_log, net, im, fm, \n",
    "                    variant=replay_fitness_evaluator.Variants.TOKEN_BASED)['log_fitness']\n",
    "            precision = precision_evaluator.apply(event_log, net, im, fm, \n",
    "                    variant=precision_evaluator.Variants.ETCONFORMANCE_TOKEN)\n",
    "            #  fitness = replay_fitness_evaluator.apply(event_log, net, im, fm, \n",
    "                    #  variant=replay_fitness_evaluator.Variants.ALIGNMENT_BASED)['log_fitness']\n",
    "            #  precision = precision_evaluator.apply(event_log, net, im, fm, \n",
    "                    #  variant=precision_evaluator.Variants.ALIGN_ETCONFORMANCE)\n",
    "            generalization = generalization_evaluator.apply(event_log, net, im, fm)\n",
    "            simplicity = simplicity_evaluator.apply(net)\n",
    "            score = np.dot(weights, [fitness, precision, generalization, simplicity])\n",
    "        return score\n",
    "    \n",
    "    def timeout_handler(signum, frame):\n",
    "        raise Exception('timeout')\n",
    "        \n",
    "    def cross_validation(event_log_df, train, test):\n",
    "        # dataset need be sorted by timestamp (https://pm4py.fit.fraunhofer.de/documentation#item-import-csv)\n",
    "        #  print(\"%s %s\" % (train, test))\n",
    "        train_log_df = event_log_df.iloc[train]\n",
    "        try:\n",
    "            train_log_df = train_log_df.sort_values('time:timestamp')\n",
    "        except:\n",
    "            print(datetime.now().strftime('%Y-%m-%d %H:%M:%S'), 'the identified timestamp seems wrong', 0)\n",
    "            return 0\n",
    "            \n",
    "        #  print('train_log_df')\n",
    "        #  print(set(train_log_df['case:concept:name']))\n",
    "        test_log_df = event_log_df.iloc[test]\n",
    "        try:\n",
    "            test_log_df = test_log_df.sort_values('time:timestamp')\n",
    "        except:\n",
    "            print(datetime.now().strftime('%Y-%m-%d %H:%M:%S'), 'the identified timestamp seems wrong', 0)\n",
    "            return 0\n",
    "        #  print('test_log_df')\n",
    "        #  print(set(test_log_df['case:concept:name']))\n",
    "        train_log = log_converter.apply(train_log_df, \\\n",
    "                                        variant=log_converter.Variants.TO_EVENT_LOG)\n",
    "        test_log = log_converter.apply(test_log_df, \\\n",
    "                                       variant=log_converter.Variants.TO_EVENT_LOG)\n",
    "    \n",
    "        print(datetime.now().strftime('%Y-%m-%d %H:%M:%S'), \\\n",
    "              'discovering a process model...')\n",
    "        #  print(train_log_df[['case:concept:name', 'time:timestamp', 'concept:name']])\n",
    "        #  print(train_log_df.groupby('case:concept:name').size())\n",
    "        #  print(set(train_log_df['case:concept:name']))\n",
    "        #  print(set(train_log_df['time:timestamp']))\n",
    "        #  print(set(train_log_df['concept:name']))\n",
    "        \n",
    "        # discover_model may take time. hence, we set a timeout for it\n",
    "        # https://stackoverflow.com/a/494273/7184459\n",
    "        signal.signal(signal.SIGALRM, timeout_handler)\n",
    "        signal.alarm(model_discovery_timeout_in_sec)\n",
    "        try:\n",
    "            net, im, fm = discover_model(train_log, miner)\n",
    "        except Exception:\n",
    "            print(datetime.now().strftime('%Y-%m-%d %H:%M:%S'), 'gave up discovering a model')\n",
    "            print(datetime.now().strftime('%Y-%m-%d %H:%M:%S'), 'score evaluated:', 0)\n",
    "            return 0\n",
    "        print(datetime.now().strftime('%Y-%m-%d %H:%M:%S'), 'process model discovered')\n",
    "        # reset a timer when a model discovery finishes before the deadline\n",
    "        signal.alarm(0)\n",
    "        # set another timer for evaluation\n",
    "        signal.signal(signal.SIGALRM, timeout_handler)\n",
    "        signal.alarm(evaluation_timeout_in_sec)\n",
    "        try:\n",
    "            score = evaluate_score(test_log, net, im, fm, metric)\n",
    "        except Exception:\n",
    "            print(datetime.now().strftime('%Y-%m-%d %H:%M:%S'), 'gave up evaluating a model')\n",
    "            print(datetime.now().strftime('%Y-%m-%d %H:%M:%S'), 'score evaluated:', 0)\n",
    "            return 0\n",
    "        signal.alarm(0)\n",
    "        print(datetime.now().strftime('%Y-%m-%d %H:%M:%S'), 'score evaluated:', score)\n",
    "        return score\n",
    "    \n",
    "    # assume the columns as case_id, timestamp, and activity from left\n",
    "    event_log_df = d.iloc[:, key_indices]\n",
    "    event_log_df.columns.values[0] = 'case:concept:name'\n",
    "    event_log_df.columns.values[1] = 'time:timestamp'\n",
    "    event_log_df.columns.values[2] = 'concept:name'\n",
    "    # evaluate the goodness of such an assumption with CV\n",
    "    gkf = GroupKFold(n_splits=n_splits)\n",
    "    X = list(event_log_df.index)\n",
    "    groups = list(event_log_df['case:concept:name'])\n",
    "    scores = [cross_validation(event_log_df, train, test) \\\n",
    "          for train, test in gkf.split(X, groups=groups)]\n",
    "    score = round(np.mean(scores), ndigits=3)\n",
    "    print('final score:', score)\n",
    "    return score"
   ]
  },
  {
   "cell_type": "code",
   "execution_count": 9,
   "id": "cb2e17ad-cbcc-48df-b4a5-1edaace0ca5b",
   "metadata": {},
   "outputs": [],
   "source": [
    "def narrow_down_cands_and_measure_scores(dataset=None, verbose=False, \\\n",
    "                                         miner='inductive_miner', metric='Buijs2014', n_splits=2):\n",
    "    cands = get_combinations_to_try(dataset=dataset, verbose=verbose)\n",
    "    # after pre-filtering the candidates, try every combination to process discovery\n",
    "    # the intuition behind it is that the correct key column combination would result in\n",
    "    # a good score (e.g. fitness, precision, generalizability, simplicity)\n",
    "    scores = [{'indices': key_indices, \\\n",
    "               'score': measure_score(dataset, key_indices, miner=miner, \\\n",
    "                                      metric=metric, n_splits=n_splits)} for key_indices in cands]\n",
    "    return scores"
   ]
  },
  {
   "cell_type": "code",
   "execution_count": 10,
   "id": "1f2f18bb-24de-4eb3-ba78-89ec07125e32",
   "metadata": {},
   "outputs": [],
   "source": [
    "def check_if_correct_labels_in(dataset=None, scores=None, combinations_to_try=None, top=None):\n",
    "    # get the indicies of the key columns\n",
    "    h = dataset.columns.values.tolist()\n",
    "    correct_labels = [\n",
    "        h.index('case:concept:name'),\n",
    "        h.index('time:timestamp'),\n",
    "        h.index('concept:name')\n",
    "    ]\n",
    "    # check if it is in the top k\n",
    "    top_cand_indices = sorted(range(len(scores)), key=lambda i: scores[i])[-top:]\n",
    "    return correct_labels in combinations_to_try[np.array(top_cand_indices)]"
   ]
  },
  {
   "cell_type": "code",
   "execution_count": 11,
   "id": "78e2c453-e628-4361-a19f-32bd512c7c87",
   "metadata": {
    "tags": []
   },
   "outputs": [
    {
     "name": "stdout",
     "output_type": "stream",
     "text": [
      "Reading ../datasets/BPIC2015_2.csv\n",
      "Reading ../datasets/BPIC2013_incident_management.csv\n",
      "Reading ../datasets/BPIC2020_Prepaid_Travel_Costs.csv\n",
      "Reading ../datasets/BPIC2018.csv\n",
      "Reading ../datasets/BPIC2013_problem_management_open_problems.csv\n",
      "Reading ../datasets/BPIC2016_Clicks_NOT_Logged_In.csv\n",
      "Reading ../datasets/BPIC2015_5.csv\n",
      "Reading ../datasets/BPIC2015_4.csv\n",
      "Reading ../datasets/BPIC2016_Clicks_Logged_In.csv\n",
      "Reading ../datasets/BPIC2014_change_log.csv\n",
      "Reading ../datasets/Production_Data.csv\n",
      "Reading ../datasets/BPIC2011_Dutch_academic_hospital.csv\n",
      "Reading ../datasets/BPIC2017.csv\n",
      "Reading ../datasets/BPIC2013_problem_management_closed_problems.csv\n",
      "Reading ../datasets/BPIC2015_3.csv\n",
      "Reading ../datasets/BPIC2012_loan_application_process.csv\n",
      "Reading ../datasets/BPIC2019_purchase_order_handling_process.csv\n",
      "Reading ../datasets/BPI2016_Clicks_Logged_In.csv\n",
      "Reading ../datasets/BPIC2015_1.csv\n",
      "Reading ../datasets/BPI2016_Clicks_NOT_Logged_In.csv\n",
      "Datasets found in the dataset dir: 20\n",
      "Datasets that are ready for evaluation: 14\n"
     ]
    }
   ],
   "source": [
    "datasets = glob.glob('../datasets/*.csv', recursive=False)\n",
    "event_logs = [load_event_log(d, n_rows=1000) for d in datasets]\n",
    "# remove None from event_logs\n",
    "event_logs = [e for e in event_logs if e is not None]\n",
    "print('Datasets found in the dataset dir:', len(datasets))\n",
    "print('Datasets that are ready for evaluation:', len(event_logs))"
   ]
  },
  {
   "cell_type": "code",
   "execution_count": 12,
   "id": "b552f180-0689-4bb6-9baf-e134458ab9b5",
   "metadata": {},
   "outputs": [],
   "source": [
    "features = [e.apply(lambda x: feature_extraction(x), axis=0) for e in event_logs]"
   ]
  },
  {
   "cell_type": "code",
   "execution_count": null,
   "id": "8669212a-71c0-44e5-b8e1-2f81089e0cac",
   "metadata": {
    "tags": []
   },
   "outputs": [
    {
     "name": "stdout",
     "output_type": "stream",
     "text": [
      "2022-08-10 01:52:15 evaluating: ../datasets/BPIC2015_2.csv\n",
      "timestamp_cand: [10]\n",
      "case_id_cand: [12]\n",
      "activity_cand: [16]\n",
      "2022-08-10 01:52:16 miner: inductive_miner metric: Buijs2014\n",
      "2022-08-10 01:52:16 discovering a process model...\n",
      "2022-08-10 01:52:16 process model discovered\n"
     ]
    },
    {
     "data": {
      "application/vnd.jupyter.widget-view+json": {
       "model_id": "14d9a30597a74e75b04703a9cd44e342",
       "version_major": 2,
       "version_minor": 0
      },
      "text/plain": [
       "replaying log with TBR, completed variants ::   0%|          | 0/9 [00:00<?, ?it/s]"
      ]
     },
     "metadata": {},
     "output_type": "display_data"
    },
    {
     "data": {
      "application/vnd.jupyter.widget-view+json": {
       "model_id": "baae1c20e0f94052a9fcf1d774fa05d3",
       "version_major": 2,
       "version_minor": 0
      },
      "text/plain": [
       "replaying log with TBR, completed variants ::   0%|          | 0/301 [00:00<?, ?it/s]"
      ]
     },
     "metadata": {},
     "output_type": "display_data"
    },
    {
     "data": {
      "application/vnd.jupyter.widget-view+json": {
       "model_id": "d953006cbd0643fc9f7586127665111d",
       "version_major": 2,
       "version_minor": 0
      },
      "text/plain": [
       "replaying log with TBR, completed variants ::   0%|          | 0/9 [00:00<?, ?it/s]"
      ]
     },
     "metadata": {},
     "output_type": "display_data"
    },
    {
     "name": "stdout",
     "output_type": "stream",
     "text": [
      "2022-08-10 01:52:19 score evaluated: 0.8725198460678252\n",
      "2022-08-10 01:52:19 discovering a process model...\n",
      "2022-08-10 01:52:19 process model discovered\n"
     ]
    },
    {
     "data": {
      "application/vnd.jupyter.widget-view+json": {
       "model_id": "f34b7113c6204fd9895937ee77e6f296",
       "version_major": 2,
       "version_minor": 0
      },
      "text/plain": [
       "replaying log with TBR, completed variants ::   0%|          | 0/9 [00:00<?, ?it/s]"
      ]
     },
     "metadata": {},
     "output_type": "display_data"
    },
    {
     "data": {
      "application/vnd.jupyter.widget-view+json": {
       "model_id": "f413057a99c24ca5a2e83a6d0434d599",
       "version_major": 2,
       "version_minor": 0
      },
      "text/plain": [
       "replaying log with TBR, completed variants ::   0%|          | 0/361 [00:00<?, ?it/s]"
      ]
     },
     "metadata": {},
     "output_type": "display_data"
    },
    {
     "data": {
      "application/vnd.jupyter.widget-view+json": {
       "model_id": "8d48a37aa90a4d098ccc0b0af52bca62",
       "version_major": 2,
       "version_minor": 0
      },
      "text/plain": [
       "replaying log with TBR, completed variants ::   0%|          | 0/9 [00:00<?, ?it/s]"
      ]
     },
     "metadata": {},
     "output_type": "display_data"
    },
    {
     "name": "stdout",
     "output_type": "stream",
     "text": [
      "2022-08-10 01:52:21 score evaluated: 0.866133632438171\n",
      "final score: 0.869\n",
      "2022-08-10 01:52:21 miner: inductive_miner metric: fitness\n",
      "2022-08-10 01:52:21 discovering a process model...\n",
      "2022-08-10 01:52:21 process model discovered\n"
     ]
    },
    {
     "data": {
      "application/vnd.jupyter.widget-view+json": {
       "model_id": "a54552796ed04a05922610b81f846da3",
       "version_major": 2,
       "version_minor": 0
      },
      "text/plain": [
       "replaying log with TBR, completed variants ::   0%|          | 0/9 [00:00<?, ?it/s]"
      ]
     },
     "metadata": {},
     "output_type": "display_data"
    },
    {
     "name": "stdout",
     "output_type": "stream",
     "text": [
      "2022-08-10 01:52:21 score evaluated: 0.99568345323741\n",
      "2022-08-10 01:52:21 discovering a process model...\n",
      "2022-08-10 01:52:21 process model discovered\n"
     ]
    },
    {
     "data": {
      "application/vnd.jupyter.widget-view+json": {
       "model_id": "c964e6c62bac4671b1969b371ee9604c",
       "version_major": 2,
       "version_minor": 0
      },
      "text/plain": [
       "replaying log with TBR, completed variants ::   0%|          | 0/9 [00:00<?, ?it/s]"
      ]
     },
     "metadata": {},
     "output_type": "display_data"
    },
    {
     "name": "stdout",
     "output_type": "stream",
     "text": [
      "2022-08-10 01:52:22 score evaluated: 0.9937304075235109\n",
      "final score: 0.995\n",
      "2022-08-10 01:52:22 miner: inductive_miner metric: precision\n",
      "2022-08-10 01:52:22 discovering a process model...\n",
      "2022-08-10 01:52:22 process model discovered\n"
     ]
    },
    {
     "data": {
      "application/vnd.jupyter.widget-view+json": {
       "model_id": "7e8db497940d4ced815a5c90381ccd74",
       "version_major": 2,
       "version_minor": 0
      },
      "text/plain": [
       "replaying log with TBR, completed variants ::   0%|          | 0/301 [00:00<?, ?it/s]"
      ]
     },
     "metadata": {},
     "output_type": "display_data"
    },
    {
     "name": "stdout",
     "output_type": "stream",
     "text": [
      "2022-08-10 01:52:24 score evaluated: 0.4601063829787234\n",
      "2022-08-10 01:52:24 discovering a process model...\n",
      "2022-08-10 01:52:24 process model discovered\n"
     ]
    },
    {
     "data": {
      "application/vnd.jupyter.widget-view+json": {
       "model_id": "1892e995885e4674b6bb48e26c22f4f4",
       "version_major": 2,
       "version_minor": 0
      },
      "text/plain": [
       "replaying log with TBR, completed variants ::   0%|          | 0/361 [00:00<?, ?it/s]"
      ]
     },
     "metadata": {},
     "output_type": "display_data"
    },
    {
     "name": "stdout",
     "output_type": "stream",
     "text": [
      "2022-08-10 01:52:26 score evaluated: 0.36866359447004604\n",
      "final score: 0.414\n",
      "2022-08-10 01:52:26 miner: inductive_miner metric: generalization\n",
      "2022-08-10 01:52:26 discovering a process model...\n",
      "2022-08-10 01:52:26 process model discovered\n"
     ]
    },
    {
     "data": {
      "application/vnd.jupyter.widget-view+json": {
       "model_id": "d00da4b1ab844627b61c364c43275ead",
       "version_major": 2,
       "version_minor": 0
      },
      "text/plain": [
       "replaying log with TBR, completed variants ::   0%|          | 0/9 [00:00<?, ?it/s]"
      ]
     },
     "metadata": {},
     "output_type": "display_data"
    },
    {
     "name": "stdout",
     "output_type": "stream",
     "text": [
      "2022-08-10 01:52:27 score evaluated: 0.2483977286901925\n",
      "2022-08-10 01:52:27 discovering a process model...\n",
      "2022-08-10 01:52:27 process model discovered\n"
     ]
    },
    {
     "data": {
      "application/vnd.jupyter.widget-view+json": {
       "model_id": "731dd5ebacb340ebbf00c80bfe4e8497",
       "version_major": 2,
       "version_minor": 0
      },
      "text/plain": [
       "replaying log with TBR, completed variants ::   0%|          | 0/9 [00:00<?, ?it/s]"
      ]
     },
     "metadata": {},
     "output_type": "display_data"
    },
    {
     "name": "stdout",
     "output_type": "stream",
     "text": [
      "2022-08-10 01:52:27 score evaluated: 0.261461859683373\n",
      "final score: 0.255\n",
      "2022-08-10 01:52:27 miner: inductive_miner metric: simplicity\n",
      "2022-08-10 01:52:27 discovering a process model...\n",
      "2022-08-10 01:52:27 process model discovered\n",
      "2022-08-10 01:52:27 score evaluated: 0.6774193548387096\n",
      "2022-08-10 01:52:27 discovering a process model...\n",
      "2022-08-10 01:52:27 process model discovered\n",
      "2022-08-10 01:52:27 score evaluated: 0.6923076923076922\n",
      "final score: 0.685\n",
      "2022-08-10 01:52:27 miner: heuristics_miner metric: Buijs2014\n",
      "2022-08-10 01:52:27 discovering a process model...\n",
      "2022-08-10 01:52:27 process model discovered\n"
     ]
    },
    {
     "data": {
      "application/vnd.jupyter.widget-view+json": {
       "model_id": "fc67690d348e46b6aa3ccfb34e0e4054",
       "version_major": 2,
       "version_minor": 0
      },
      "text/plain": [
       "replaying log with TBR, completed variants ::   0%|          | 0/9 [00:00<?, ?it/s]"
      ]
     },
     "metadata": {},
     "output_type": "display_data"
    },
    {
     "data": {
      "application/vnd.jupyter.widget-view+json": {
       "model_id": "7695a04df4fb4c0ab6691b851634492e",
       "version_major": 2,
       "version_minor": 0
      },
      "text/plain": [
       "replaying log with TBR, completed variants ::   0%|          | 0/301 [00:00<?, ?it/s]"
      ]
     },
     "metadata": {},
     "output_type": "display_data"
    },
    {
     "data": {
      "application/vnd.jupyter.widget-view+json": {
       "model_id": "9ff3b64f03914903a698ba0556cb5d32",
       "version_major": 2,
       "version_minor": 0
      },
      "text/plain": [
       "replaying log with TBR, completed variants ::   0%|          | 0/9 [00:00<?, ?it/s]"
      ]
     },
     "metadata": {},
     "output_type": "display_data"
    },
    {
     "name": "stdout",
     "output_type": "stream",
     "text": [
      "2022-08-10 01:52:29 score evaluated: 0.8685492175711317\n",
      "2022-08-10 01:52:29 discovering a process model...\n",
      "2022-08-10 01:52:29 process model discovered\n"
     ]
    },
    {
     "data": {
      "application/vnd.jupyter.widget-view+json": {
       "model_id": "bda4f7b98822427187c27b02faf5842f",
       "version_major": 2,
       "version_minor": 0
      },
      "text/plain": [
       "replaying log with TBR, completed variants ::   0%|          | 0/9 [00:00<?, ?it/s]"
      ]
     },
     "metadata": {},
     "output_type": "display_data"
    },
    {
     "data": {
      "application/vnd.jupyter.widget-view+json": {
       "model_id": "b56c202b3cb240e5880a13492c925e51",
       "version_major": 2,
       "version_minor": 0
      },
      "text/plain": [
       "replaying log with TBR, completed variants ::   0%|          | 0/361 [00:00<?, ?it/s]"
      ]
     },
     "metadata": {},
     "output_type": "display_data"
    },
    {
     "data": {
      "application/vnd.jupyter.widget-view+json": {
       "model_id": "e63c1d7eb67d43059dc82647ee6a3017",
       "version_major": 2,
       "version_minor": 0
      },
      "text/plain": [
       "replaying log with TBR, completed variants ::   0%|          | 0/9 [00:00<?, ?it/s]"
      ]
     },
     "metadata": {},
     "output_type": "display_data"
    },
    {
     "name": "stdout",
     "output_type": "stream",
     "text": [
      "2022-08-10 01:52:32 score evaluated: 0.8618434922171151\n",
      "final score: 0.865\n",
      "2022-08-10 01:52:32 miner: heuristics_miner metric: fitness\n",
      "2022-08-10 01:52:32 discovering a process model...\n",
      "2022-08-10 01:52:32 process model discovered\n"
     ]
    },
    {
     "data": {
      "application/vnd.jupyter.widget-view+json": {
       "model_id": "e72db2d892dc4fb9b277da203036b8f3",
       "version_major": 2,
       "version_minor": 0
      },
      "text/plain": [
       "replaying log with TBR, completed variants ::   0%|          | 0/9 [00:00<?, ?it/s]"
      ]
     },
     "metadata": {},
     "output_type": "display_data"
    },
    {
     "name": "stdout",
     "output_type": "stream",
     "text": [
      "2022-08-10 01:52:32 score evaluated: 0.9956076134699854\n",
      "2022-08-10 01:52:32 discovering a process model...\n",
      "2022-08-10 01:52:32 process model discovered\n"
     ]
    },
    {
     "data": {
      "application/vnd.jupyter.widget-view+json": {
       "model_id": "e4387eb1c8914bf9843bb499a8f7774f",
       "version_major": 2,
       "version_minor": 0
      },
      "text/plain": [
       "replaying log with TBR, completed variants ::   0%|          | 0/9 [00:00<?, ?it/s]"
      ]
     },
     "metadata": {},
     "output_type": "display_data"
    },
    {
     "name": "stdout",
     "output_type": "stream",
     "text": [
      "2022-08-10 01:52:32 score evaluated: 0.9936305732484076\n",
      "final score: 0.995\n",
      "2022-08-10 01:52:32 miner: heuristics_miner metric: precision\n",
      "2022-08-10 01:52:32 discovering a process model...\n",
      "2022-08-10 01:52:32 process model discovered\n"
     ]
    },
    {
     "data": {
      "application/vnd.jupyter.widget-view+json": {
       "model_id": "c5b9c53ab228467aa3115caf198e98b2",
       "version_major": 2,
       "version_minor": 0
      },
      "text/plain": [
       "replaying log with TBR, completed variants ::   0%|          | 0/301 [00:00<?, ?it/s]"
      ]
     },
     "metadata": {},
     "output_type": "display_data"
    },
    {
     "name": "stdout",
     "output_type": "stream",
     "text": [
      "2022-08-10 01:52:34 score evaluated: 0.4601063829787234\n",
      "2022-08-10 01:52:34 discovering a process model...\n",
      "2022-08-10 01:52:34 process model discovered\n"
     ]
    },
    {
     "data": {
      "application/vnd.jupyter.widget-view+json": {
       "model_id": "67a8de39c41e449f98c7035c25917b20",
       "version_major": 2,
       "version_minor": 0
      },
      "text/plain": [
       "replaying log with TBR, completed variants ::   0%|          | 0/361 [00:00<?, ?it/s]"
      ]
     },
     "metadata": {},
     "output_type": "display_data"
    },
    {
     "name": "stdout",
     "output_type": "stream",
     "text": [
      "2022-08-10 01:52:37 score evaluated: 0.36866359447004604\n",
      "final score: 0.414\n",
      "2022-08-10 01:52:37 miner: heuristics_miner metric: generalization\n",
      "2022-08-10 01:52:37 discovering a process model...\n",
      "2022-08-10 01:52:37 process model discovered\n"
     ]
    },
    {
     "data": {
      "application/vnd.jupyter.widget-view+json": {
       "model_id": "e699de3dfd8e4db9b5875380d70a0408",
       "version_major": 2,
       "version_minor": 0
      },
      "text/plain": [
       "replaying log with TBR, completed variants ::   0%|          | 0/9 [00:00<?, ?it/s]"
      ]
     },
     "metadata": {},
     "output_type": "display_data"
    },
    {
     "name": "stdout",
     "output_type": "stream",
     "text": [
      "2022-08-10 01:52:37 score evaluated: 0.21978489695303038\n",
      "2022-08-10 01:52:37 discovering a process model...\n",
      "2022-08-10 01:52:37 process model discovered\n"
     ]
    },
    {
     "data": {
      "application/vnd.jupyter.widget-view+json": {
       "model_id": "aaee6c0e24024344b2de3d9b7856676c",
       "version_major": 2,
       "version_minor": 0
      },
      "text/plain": [
       "replaying log with TBR, completed variants ::   0%|          | 0/9 [00:00<?, ?it/s]"
      ]
     },
     "metadata": {},
     "output_type": "display_data"
    },
    {
     "name": "stdout",
     "output_type": "stream",
     "text": [
      "2022-08-10 01:52:37 score evaluated: 0.2323294052017062\n",
      "final score: 0.226\n",
      "2022-08-10 01:52:37 miner: heuristics_miner metric: simplicity\n",
      "2022-08-10 01:52:37 discovering a process model...\n",
      "2022-08-10 01:52:37 process model discovered\n",
      "2022-08-10 01:52:37 score evaluated: 0.6551724137931035\n",
      "2022-08-10 01:52:37 discovering a process model...\n",
      "2022-08-10 01:52:37 process model discovered\n",
      "2022-08-10 01:52:37 score evaluated: 0.6666666666666666\n",
      "final score: 0.661\n",
      "timestamp_cand: [10, 20]\n",
      "case_id_cand: [1, 12]\n",
      "activity_cand: [3, 6, 16]\n",
      "2022-08-10 01:52:38 miner: inductive_miner metric: Buijs2014\n",
      "2022-08-10 01:52:38 discovering a process model...\n",
      "2022-08-10 01:52:43 gave up discovering a model\n",
      "2022-08-10 01:52:43 score evaluated: 0\n",
      "2022-08-10 01:52:43 discovering a process model...\n",
      "2022-08-10 01:52:48 gave up discovering a model\n",
      "2022-08-10 01:52:48 score evaluated: 0\n",
      "final score: 0.0\n",
      "2022-08-10 01:52:48 discovering a process model...\n",
      "2022-08-10 01:52:53 gave up discovering a model\n",
      "2022-08-10 01:52:53 score evaluated: 0\n",
      "2022-08-10 01:52:53 discovering a process model...\n",
      "2022-08-10 01:52:58 gave up discovering a model\n",
      "2022-08-10 01:52:58 score evaluated: 0\n",
      "final score: 0.0\n",
      "2022-08-10 01:52:58 discovering a process model...\n",
      "2022-08-10 01:52:58 process model discovered\n"
     ]
    },
    {
     "data": {
      "application/vnd.jupyter.widget-view+json": {
       "model_id": "cc171296399a4a3cb032063e076eaed8",
       "version_major": 2,
       "version_minor": 0
      },
      "text/plain": [
       "replaying log with TBR, completed variants ::   0%|          | 0/4 [00:00<?, ?it/s]"
      ]
     },
     "metadata": {},
     "output_type": "display_data"
    },
    {
     "data": {
      "application/vnd.jupyter.widget-view+json": {
       "model_id": "7f05ff3aeff04d409456dc94b5f2394d",
       "version_major": 2,
       "version_minor": 0
      },
      "text/plain": [
       "replaying log with TBR, completed variants ::   0%|          | 0/485 [00:00<?, ?it/s]"
      ]
     },
     "metadata": {},
     "output_type": "display_data"
    },
    {
     "data": {
      "application/vnd.jupyter.widget-view+json": {
       "model_id": "a00fa1343a1d45c8a1cfe46504408b64",
       "version_major": 2,
       "version_minor": 0
      },
      "text/plain": [
       "replaying log with TBR, completed variants ::   0%|          | 0/4 [00:00<?, ?it/s]"
      ]
     },
     "metadata": {},
     "output_type": "display_data"
    },
    {
     "name": "stdout",
     "output_type": "stream",
     "text": [
      "2022-08-10 01:53:11 score evaluated: 0.8532375130055514\n",
      "2022-08-10 01:53:11 discovering a process model...\n",
      "2022-08-10 01:53:11 process model discovered\n"
     ]
    },
    {
     "data": {
      "application/vnd.jupyter.widget-view+json": {
       "model_id": "8ff8aacec52349be860bc35cd7ba1e94",
       "version_major": 2,
       "version_minor": 0
      },
      "text/plain": [
       "replaying log with TBR, completed variants ::   0%|          | 0/2 [00:00<?, ?it/s]"
      ]
     },
     "metadata": {},
     "output_type": "display_data"
    },
    {
     "data": {
      "application/vnd.jupyter.widget-view+json": {
       "model_id": "fbc8569dca6b4c94a49912dd5b01ff18",
       "version_major": 2,
       "version_minor": 0
      },
      "text/plain": [
       "replaying log with TBR, completed variants ::   0%|          | 0/485 [00:00<?, ?it/s]"
      ]
     },
     "metadata": {},
     "output_type": "display_data"
    },
    {
     "data": {
      "application/vnd.jupyter.widget-view+json": {
       "model_id": "08223b466d44429ab113592995bea061",
       "version_major": 2,
       "version_minor": 0
      },
      "text/plain": [
       "replaying log with TBR, completed variants ::   0%|          | 0/2 [00:00<?, ?it/s]"
      ]
     },
     "metadata": {},
     "output_type": "display_data"
    },
    {
     "name": "stdout",
     "output_type": "stream",
     "text": [
      "2022-08-10 01:53:31 score evaluated: 0.8620618368095557\n",
      "final score: 0.858\n",
      "2022-08-10 01:53:31 discovering a process model...\n",
      "2022-08-10 01:53:36 gave up discovering a model\n",
      "2022-08-10 01:53:36 score evaluated: 0\n",
      "2022-08-10 01:53:36 discovering a process model...\n",
      "2022-08-10 01:53:41 gave up discovering a model\n",
      "2022-08-10 01:53:41 score evaluated: 0\n",
      "final score: 0.0\n",
      "2022-08-10 01:53:41 discovering a process model...\n",
      "2022-08-10 01:53:46 gave up discovering a model\n",
      "2022-08-10 01:53:46 score evaluated: 0\n",
      "2022-08-10 01:53:46 discovering a process model...\n",
      "2022-08-10 01:53:51 gave up discovering a model\n",
      "2022-08-10 01:53:51 score evaluated: 0\n",
      "final score: 0.0\n",
      "2022-08-10 01:53:51 discovering a process model...\n",
      "2022-08-10 01:53:51 process model discovered\n"
     ]
    },
    {
     "data": {
      "application/vnd.jupyter.widget-view+json": {
       "model_id": "7c32a49f4990456ca152936d5b0f22e3",
       "version_major": 2,
       "version_minor": 0
      },
      "text/plain": [
       "replaying log with TBR, completed variants ::   0%|          | 0/4 [00:00<?, ?it/s]"
      ]
     },
     "metadata": {},
     "output_type": "display_data"
    },
    {
     "data": {
      "application/vnd.jupyter.widget-view+json": {
       "model_id": "dcf1aa239daa4564a090f8160ca0b9f7",
       "version_major": 2,
       "version_minor": 0
      },
      "text/plain": [
       "replaying log with TBR, completed variants ::   0%|          | 0/454 [00:00<?, ?it/s]"
      ]
     },
     "metadata": {},
     "output_type": "display_data"
    },
    {
     "data": {
      "application/vnd.jupyter.widget-view+json": {
       "model_id": "a037b2ef59b64073be6087c4b08982c4",
       "version_major": 2,
       "version_minor": 0
      },
      "text/plain": [
       "replaying log with TBR, completed variants ::   0%|          | 0/4 [00:00<?, ?it/s]"
      ]
     },
     "metadata": {},
     "output_type": "display_data"
    },
    {
     "name": "stdout",
     "output_type": "stream",
     "text": [
      "2022-08-10 01:54:05 score evaluated: 0.8579889174494411\n",
      "2022-08-10 01:54:05 discovering a process model...\n",
      "2022-08-10 01:54:05 process model discovered\n"
     ]
    },
    {
     "data": {
      "application/vnd.jupyter.widget-view+json": {
       "model_id": "fc81b5431a0642b892f65a497e01c2d6",
       "version_major": 2,
       "version_minor": 0
      },
      "text/plain": [
       "replaying log with TBR, completed variants ::   0%|          | 0/2 [00:00<?, ?it/s]"
      ]
     },
     "metadata": {},
     "output_type": "display_data"
    },
    {
     "data": {
      "application/vnd.jupyter.widget-view+json": {
       "model_id": "786a90da97664bd5a518e542d9f5c7ea",
       "version_major": 2,
       "version_minor": 0
      },
      "text/plain": [
       "replaying log with TBR, completed variants ::   0%|          | 0/485 [00:00<?, ?it/s]"
      ]
     },
     "metadata": {},
     "output_type": "display_data"
    },
    {
     "data": {
      "application/vnd.jupyter.widget-view+json": {
       "model_id": "2e8aed6143e74507848ace3363e5312d",
       "version_major": 2,
       "version_minor": 0
      },
      "text/plain": [
       "replaying log with TBR, completed variants ::   0%|          | 0/2 [00:00<?, ?it/s]"
      ]
     },
     "metadata": {},
     "output_type": "display_data"
    },
    {
     "name": "stdout",
     "output_type": "stream",
     "text": [
      "2022-08-10 01:54:26 score evaluated: 0.8570883707368981\n",
      "final score: 0.858\n",
      "2022-08-10 01:54:26 discovering a process model...\n",
      "2022-08-10 01:54:31 gave up discovering a model\n",
      "2022-08-10 01:54:31 score evaluated: 0\n",
      "2022-08-10 01:54:31 discovering a process model...\n",
      "2022-08-10 01:54:36 gave up discovering a model\n",
      "2022-08-10 01:54:36 score evaluated: 0\n",
      "final score: 0.0\n",
      "2022-08-10 01:54:36 discovering a process model...\n",
      "2022-08-10 01:54:41 gave up discovering a model\n",
      "2022-08-10 01:54:41 score evaluated: 0\n",
      "2022-08-10 01:54:41 discovering a process model...\n",
      "2022-08-10 01:54:46 gave up discovering a model\n",
      "2022-08-10 01:54:46 score evaluated: 0\n",
      "final score: 0.0\n",
      "2022-08-10 01:54:46 discovering a process model...\n",
      "2022-08-10 01:54:46 process model discovered\n"
     ]
    },
    {
     "data": {
      "application/vnd.jupyter.widget-view+json": {
       "model_id": "0f7f847df7114bd295b04547bd3e3cde",
       "version_major": 2,
       "version_minor": 0
      },
      "text/plain": [
       "replaying log with TBR, completed variants ::   0%|          | 0/9 [00:00<?, ?it/s]"
      ]
     },
     "metadata": {},
     "output_type": "display_data"
    },
    {
     "data": {
      "application/vnd.jupyter.widget-view+json": {
       "model_id": "b94487ef17594b5f8d95fff3cdbfc3e2",
       "version_major": 2,
       "version_minor": 0
      },
      "text/plain": [
       "replaying log with TBR, completed variants ::   0%|          | 0/301 [00:00<?, ?it/s]"
      ]
     },
     "metadata": {},
     "output_type": "display_data"
    },
    {
     "data": {
      "application/vnd.jupyter.widget-view+json": {
       "model_id": "681bbbbb701247c3a92989b660c0ce20",
       "version_major": 2,
       "version_minor": 0
      },
      "text/plain": [
       "replaying log with TBR, completed variants ::   0%|          | 0/9 [00:00<?, ?it/s]"
      ]
     },
     "metadata": {},
     "output_type": "display_data"
    },
    {
     "name": "stdout",
     "output_type": "stream",
     "text": [
      "2022-08-10 01:54:49 score evaluated: 0.8725198460678252\n",
      "2022-08-10 01:54:49 discovering a process model...\n",
      "2022-08-10 01:54:49 process model discovered\n"
     ]
    },
    {
     "data": {
      "application/vnd.jupyter.widget-view+json": {
       "model_id": "50e6c81d9bc04650a90011f86dbe18c0",
       "version_major": 2,
       "version_minor": 0
      },
      "text/plain": [
       "replaying log with TBR, completed variants ::   0%|          | 0/9 [00:00<?, ?it/s]"
      ]
     },
     "metadata": {},
     "output_type": "display_data"
    },
    {
     "data": {
      "application/vnd.jupyter.widget-view+json": {
       "model_id": "26f30fa89d694917bfb322cf14acc15d",
       "version_major": 2,
       "version_minor": 0
      },
      "text/plain": [
       "replaying log with TBR, completed variants ::   0%|          | 0/361 [00:00<?, ?it/s]"
      ]
     },
     "metadata": {},
     "output_type": "display_data"
    },
    {
     "data": {
      "application/vnd.jupyter.widget-view+json": {
       "model_id": "6c92739c890d40859b4046996ab0cb89",
       "version_major": 2,
       "version_minor": 0
      },
      "text/plain": [
       "replaying log with TBR, completed variants ::   0%|          | 0/9 [00:00<?, ?it/s]"
      ]
     },
     "metadata": {},
     "output_type": "display_data"
    },
    {
     "name": "stdout",
     "output_type": "stream",
     "text": [
      "2022-08-10 01:54:52 score evaluated: 0.866133632438171\n",
      "final score: 0.869\n",
      "2022-08-10 01:54:52 discovering a process model...\n",
      "2022-08-10 01:54:57 gave up discovering a model\n",
      "2022-08-10 01:54:57 score evaluated: 0\n",
      "2022-08-10 01:54:57 discovering a process model...\n",
      "2022-08-10 01:55:02 gave up discovering a model\n",
      "2022-08-10 01:55:02 score evaluated: 0\n",
      "final score: 0.0\n",
      "2022-08-10 01:55:02 discovering a process model...\n",
      "2022-08-10 01:55:07 gave up discovering a model\n",
      "2022-08-10 01:55:07 score evaluated: 0\n",
      "2022-08-10 01:55:07 discovering a process model...\n",
      "2022-08-10 01:55:12 gave up discovering a model\n",
      "2022-08-10 01:55:12 score evaluated: 0\n",
      "final score: 0.0\n",
      "2022-08-10 01:55:12 discovering a process model...\n",
      "2022-08-10 01:55:12 process model discovered\n"
     ]
    },
    {
     "data": {
      "application/vnd.jupyter.widget-view+json": {
       "model_id": "428e6168f30946ab981799975a3404bf",
       "version_major": 2,
       "version_minor": 0
      },
      "text/plain": [
       "replaying log with TBR, completed variants ::   0%|          | 0/9 [00:00<?, ?it/s]"
      ]
     },
     "metadata": {},
     "output_type": "display_data"
    },
    {
     "data": {
      "application/vnd.jupyter.widget-view+json": {
       "model_id": "ee0aecc155f6464cb2413a3e6544437b",
       "version_major": 2,
       "version_minor": 0
      },
      "text/plain": [
       "replaying log with TBR, completed variants ::   0%|          | 0/301 [00:00<?, ?it/s]"
      ]
     },
     "metadata": {},
     "output_type": "display_data"
    },
    {
     "data": {
      "application/vnd.jupyter.widget-view+json": {
       "model_id": "0360e04f8fb4475ba73b41e81a3abd9d",
       "version_major": 2,
       "version_minor": 0
      },
      "text/plain": [
       "replaying log with TBR, completed variants ::   0%|          | 0/9 [00:00<?, ?it/s]"
      ]
     },
     "metadata": {},
     "output_type": "display_data"
    },
    {
     "name": "stdout",
     "output_type": "stream",
     "text": [
      "2022-08-10 01:55:14 score evaluated: 0.8725198460678252\n",
      "2022-08-10 01:55:14 discovering a process model...\n",
      "2022-08-10 01:55:14 process model discovered\n"
     ]
    },
    {
     "data": {
      "application/vnd.jupyter.widget-view+json": {
       "model_id": "bd2f27668a434d7b9b9adf905f7e4509",
       "version_major": 2,
       "version_minor": 0
      },
      "text/plain": [
       "replaying log with TBR, completed variants ::   0%|          | 0/9 [00:00<?, ?it/s]"
      ]
     },
     "metadata": {},
     "output_type": "display_data"
    },
    {
     "data": {
      "application/vnd.jupyter.widget-view+json": {
       "model_id": "59ca71f8a72a4912b6cd0f29ff7c1ace",
       "version_major": 2,
       "version_minor": 0
      },
      "text/plain": [
       "replaying log with TBR, completed variants ::   0%|          | 0/361 [00:00<?, ?it/s]"
      ]
     },
     "metadata": {},
     "output_type": "display_data"
    },
    {
     "data": {
      "application/vnd.jupyter.widget-view+json": {
       "model_id": "686348e493ef4409803f6edd28935555",
       "version_major": 2,
       "version_minor": 0
      },
      "text/plain": [
       "replaying log with TBR, completed variants ::   0%|          | 0/9 [00:00<?, ?it/s]"
      ]
     },
     "metadata": {},
     "output_type": "display_data"
    },
    {
     "name": "stdout",
     "output_type": "stream",
     "text": [
      "2022-08-10 01:55:17 score evaluated: 0.866133632438171\n",
      "final score: 0.869\n",
      "2022-08-10 01:55:17 miner: inductive_miner metric: fitness\n",
      "2022-08-10 01:55:17 discovering a process model...\n",
      "2022-08-10 01:55:22 gave up discovering a model\n",
      "2022-08-10 01:55:22 score evaluated: 0\n",
      "2022-08-10 01:55:22 discovering a process model...\n",
      "2022-08-10 01:55:27 gave up discovering a model\n",
      "2022-08-10 01:55:27 score evaluated: 0\n",
      "final score: 0.0\n",
      "2022-08-10 01:55:27 discovering a process model...\n",
      "2022-08-10 01:55:32 gave up discovering a model\n",
      "2022-08-10 01:55:32 score evaluated: 0\n",
      "2022-08-10 01:55:32 discovering a process model...\n",
      "2022-08-10 01:55:37 gave up discovering a model\n",
      "2022-08-10 01:55:37 score evaluated: 0\n",
      "final score: 0.0\n",
      "2022-08-10 01:55:37 discovering a process model...\n",
      "2022-08-10 01:55:37 process model discovered\n"
     ]
    },
    {
     "data": {
      "application/vnd.jupyter.widget-view+json": {
       "model_id": "2e4431b0ab7a42108ba9fff1ccc209cb",
       "version_major": 2,
       "version_minor": 0
      },
      "text/plain": [
       "replaying log with TBR, completed variants ::   0%|          | 0/4 [00:00<?, ?it/s]"
      ]
     },
     "metadata": {},
     "output_type": "display_data"
    },
    {
     "name": "stdout",
     "output_type": "stream",
     "text": [
      "2022-08-10 01:55:37 score evaluated: 0.9897846457879694\n",
      "2022-08-10 01:55:37 discovering a process model...\n",
      "2022-08-10 01:55:37 process model discovered\n"
     ]
    },
    {
     "data": {
      "application/vnd.jupyter.widget-view+json": {
       "model_id": "e9d3eab239a3451b90f205bb0f4803f1",
       "version_major": 2,
       "version_minor": 0
      },
      "text/plain": [
       "replaying log with TBR, completed variants ::   0%|          | 0/2 [00:00<?, ?it/s]"
      ]
     },
     "metadata": {},
     "output_type": "display_data"
    },
    {
     "name": "stdout",
     "output_type": "stream",
     "text": [
      "2022-08-10 01:55:38 score evaluated: 0.9957605106757649\n",
      "final score: 0.993\n",
      "2022-08-10 01:55:38 discovering a process model...\n",
      "2022-08-10 01:55:43 gave up discovering a model\n",
      "2022-08-10 01:55:43 score evaluated: 0\n",
      "2022-08-10 01:55:43 discovering a process model...\n",
      "2022-08-10 01:55:48 gave up discovering a model\n",
      "2022-08-10 01:55:48 score evaluated: 0\n",
      "final score: 0.0\n",
      "2022-08-10 01:55:48 discovering a process model...\n",
      "2022-08-10 01:55:53 gave up discovering a model\n",
      "2022-08-10 01:55:53 score evaluated: 0\n",
      "2022-08-10 01:55:53 discovering a process model...\n",
      "2022-08-10 01:55:58 gave up discovering a model\n",
      "2022-08-10 01:55:58 score evaluated: 0\n",
      "final score: 0.0\n",
      "2022-08-10 01:55:58 discovering a process model...\n",
      "2022-08-10 01:55:58 process model discovered\n"
     ]
    },
    {
     "data": {
      "application/vnd.jupyter.widget-view+json": {
       "model_id": "bd9fe65568214f8c934256441e6b5159",
       "version_major": 2,
       "version_minor": 0
      },
      "text/plain": [
       "replaying log with TBR, completed variants ::   0%|          | 0/4 [00:00<?, ?it/s]"
      ]
     },
     "metadata": {},
     "output_type": "display_data"
    },
    {
     "name": "stdout",
     "output_type": "stream",
     "text": [
      "2022-08-10 01:55:58 score evaluated: 0.9920027742210841\n",
      "2022-08-10 01:55:58 discovering a process model...\n",
      "2022-08-10 01:55:58 process model discovered\n"
     ]
    },
    {
     "data": {
      "application/vnd.jupyter.widget-view+json": {
       "model_id": "b505955f14694467985401f5589c2b88",
       "version_major": 2,
       "version_minor": 0
      },
      "text/plain": [
       "replaying log with TBR, completed variants ::   0%|          | 0/2 [00:00<?, ?it/s]"
      ]
     },
     "metadata": {},
     "output_type": "display_data"
    },
    {
     "name": "stdout",
     "output_type": "stream",
     "text": [
      "2022-08-10 01:55:58 score evaluated: 0.9952038369304557\n",
      "final score: 0.994\n",
      "2022-08-10 01:55:58 discovering a process model...\n",
      "2022-08-10 01:56:03 gave up discovering a model\n",
      "2022-08-10 01:56:03 score evaluated: 0\n",
      "2022-08-10 01:56:03 discovering a process model...\n",
      "2022-08-10 01:56:08 gave up discovering a model\n",
      "2022-08-10 01:56:08 score evaluated: 0\n",
      "final score: 0.0\n",
      "2022-08-10 01:56:08 discovering a process model...\n",
      "2022-08-10 01:56:13 gave up discovering a model\n",
      "2022-08-10 01:56:13 score evaluated: 0\n",
      "2022-08-10 01:56:13 discovering a process model...\n",
      "2022-08-10 01:56:18 gave up discovering a model\n",
      "2022-08-10 01:56:18 score evaluated: 0\n",
      "final score: 0.0\n",
      "2022-08-10 01:56:18 discovering a process model...\n",
      "2022-08-10 01:56:18 process model discovered\n"
     ]
    },
    {
     "data": {
      "application/vnd.jupyter.widget-view+json": {
       "model_id": "98e122b4d53f4fa086646cd58765b4df",
       "version_major": 2,
       "version_minor": 0
      },
      "text/plain": [
       "replaying log with TBR, completed variants ::   0%|          | 0/9 [00:00<?, ?it/s]"
      ]
     },
     "metadata": {},
     "output_type": "display_data"
    },
    {
     "name": "stdout",
     "output_type": "stream",
     "text": [
      "2022-08-10 01:56:18 score evaluated: 0.99568345323741\n",
      "2022-08-10 01:56:18 discovering a process model...\n",
      "2022-08-10 01:56:18 process model discovered\n"
     ]
    },
    {
     "data": {
      "application/vnd.jupyter.widget-view+json": {
       "model_id": "9fe851a373254b6d97df2087e8a77985",
       "version_major": 2,
       "version_minor": 0
      },
      "text/plain": [
       "replaying log with TBR, completed variants ::   0%|          | 0/9 [00:00<?, ?it/s]"
      ]
     },
     "metadata": {},
     "output_type": "display_data"
    },
    {
     "name": "stdout",
     "output_type": "stream",
     "text": [
      "2022-08-10 01:56:18 score evaluated: 0.9937304075235109\n",
      "final score: 0.995\n",
      "2022-08-10 01:56:18 discovering a process model...\n",
      "2022-08-10 01:56:23 gave up discovering a model\n",
      "2022-08-10 01:56:23 score evaluated: 0\n",
      "2022-08-10 01:56:23 discovering a process model...\n",
      "2022-08-10 01:56:28 gave up discovering a model\n",
      "2022-08-10 01:56:28 score evaluated: 0\n",
      "final score: 0.0\n",
      "2022-08-10 01:56:28 discovering a process model...\n",
      "2022-08-10 01:56:33 gave up discovering a model\n",
      "2022-08-10 01:56:33 score evaluated: 0\n",
      "2022-08-10 01:56:34 discovering a process model...\n",
      "2022-08-10 01:56:39 gave up discovering a model\n",
      "2022-08-10 01:56:39 score evaluated: 0\n",
      "final score: 0.0\n",
      "2022-08-10 01:56:39 discovering a process model...\n",
      "2022-08-10 01:56:39 process model discovered\n"
     ]
    },
    {
     "data": {
      "application/vnd.jupyter.widget-view+json": {
       "model_id": "10a727a07e9d425aa05ac1c75975e30c",
       "version_major": 2,
       "version_minor": 0
      },
      "text/plain": [
       "replaying log with TBR, completed variants ::   0%|          | 0/9 [00:00<?, ?it/s]"
      ]
     },
     "metadata": {},
     "output_type": "display_data"
    },
    {
     "name": "stdout",
     "output_type": "stream",
     "text": [
      "2022-08-10 01:56:39 score evaluated: 0.99568345323741\n",
      "2022-08-10 01:56:39 discovering a process model...\n",
      "2022-08-10 01:56:39 process model discovered\n"
     ]
    },
    {
     "data": {
      "application/vnd.jupyter.widget-view+json": {
       "model_id": "e0283383302c4b1e857952167f47f687",
       "version_major": 2,
       "version_minor": 0
      },
      "text/plain": [
       "replaying log with TBR, completed variants ::   0%|          | 0/9 [00:00<?, ?it/s]"
      ]
     },
     "metadata": {},
     "output_type": "display_data"
    },
    {
     "name": "stdout",
     "output_type": "stream",
     "text": [
      "2022-08-10 01:56:39 score evaluated: 0.9937304075235109\n",
      "final score: 0.995\n",
      "2022-08-10 01:56:39 miner: inductive_miner metric: precision\n",
      "2022-08-10 01:56:39 discovering a process model...\n",
      "2022-08-10 01:56:44 gave up discovering a model\n",
      "2022-08-10 01:56:44 score evaluated: 0\n",
      "2022-08-10 01:56:44 discovering a process model...\n",
      "2022-08-10 01:56:49 gave up discovering a model\n",
      "2022-08-10 01:56:49 score evaluated: 0\n",
      "final score: 0.0\n",
      "2022-08-10 01:56:49 discovering a process model...\n",
      "2022-08-10 01:56:54 gave up discovering a model\n",
      "2022-08-10 01:56:54 score evaluated: 0\n",
      "2022-08-10 01:56:54 discovering a process model...\n",
      "2022-08-10 01:56:59 gave up discovering a model\n",
      "2022-08-10 01:56:59 score evaluated: 0\n",
      "final score: 0.0\n",
      "2022-08-10 01:56:59 discovering a process model...\n",
      "2022-08-10 01:56:59 process model discovered\n"
     ]
    },
    {
     "data": {
      "application/vnd.jupyter.widget-view+json": {
       "model_id": "fb62274877934bdabef7f13a50459cba",
       "version_major": 2,
       "version_minor": 0
      },
      "text/plain": [
       "replaying log with TBR, completed variants ::   0%|          | 0/485 [00:00<?, ?it/s]"
      ]
     },
     "metadata": {},
     "output_type": "display_data"
    },
    {
     "name": "stdout",
     "output_type": "stream",
     "text": [
      "2022-08-10 01:57:11 score evaluated: 0.15043156596794083\n",
      "2022-08-10 01:57:11 discovering a process model...\n",
      "2022-08-10 01:57:11 process model discovered\n"
     ]
    },
    {
     "data": {
      "application/vnd.jupyter.widget-view+json": {
       "model_id": "809a4d2fa00c49adb05b791add24e2d4",
       "version_major": 2,
       "version_minor": 0
      },
      "text/plain": [
       "replaying log with TBR, completed variants ::   0%|          | 0/485 [00:00<?, ?it/s]"
      ]
     },
     "metadata": {},
     "output_type": "display_data"
    },
    {
     "name": "stdout",
     "output_type": "stream",
     "text": [
      "2022-08-10 01:57:30 score evaluated: 0.1762452107279694\n",
      "final score: 0.163\n",
      "2022-08-10 01:57:30 discovering a process model...\n",
      "2022-08-10 01:57:35 gave up discovering a model\n",
      "2022-08-10 01:57:35 score evaluated: 0\n",
      "2022-08-10 01:57:35 discovering a process model...\n",
      "2022-08-10 01:57:40 gave up discovering a model\n",
      "2022-08-10 01:57:40 score evaluated: 0\n",
      "final score: 0.0\n",
      "2022-08-10 01:57:40 discovering a process model...\n",
      "2022-08-10 01:57:45 gave up discovering a model\n",
      "2022-08-10 01:57:45 score evaluated: 0\n",
      "2022-08-10 01:57:45 discovering a process model...\n",
      "2022-08-10 01:57:50 gave up discovering a model\n",
      "2022-08-10 01:57:50 score evaluated: 0\n",
      "final score: 0.0\n",
      "2022-08-10 01:57:50 discovering a process model...\n",
      "2022-08-10 01:57:50 process model discovered\n"
     ]
    },
    {
     "data": {
      "application/vnd.jupyter.widget-view+json": {
       "model_id": "fcd64dd7f08a437cb324a908bb4e4963",
       "version_major": 2,
       "version_minor": 0
      },
      "text/plain": [
       "replaying log with TBR, completed variants ::   0%|          | 0/454 [00:00<?, ?it/s]"
      ]
     },
     "metadata": {},
     "output_type": "display_data"
    },
    {
     "name": "stdout",
     "output_type": "stream",
     "text": [
      "2022-08-10 01:58:05 score evaluated: 0.1798587885544407\n",
      "2022-08-10 01:58:05 discovering a process model...\n",
      "2022-08-10 01:58:05 process model discovered\n"
     ]
    },
    {
     "data": {
      "application/vnd.jupyter.widget-view+json": {
       "model_id": "702f4f51ec514c59b1b6e097c6a7d38a",
       "version_major": 2,
       "version_minor": 0
      },
      "text/plain": [
       "replaying log with TBR, completed variants ::   0%|          | 0/485 [00:00<?, ?it/s]"
      ]
     },
     "metadata": {},
     "output_type": "display_data"
    },
    {
     "name": "stdout",
     "output_type": "stream",
     "text": [
      "2022-08-10 01:58:25 score evaluated: 0.13678516228748072\n",
      "final score: 0.158\n",
      "2022-08-10 01:58:25 discovering a process model...\n",
      "2022-08-10 01:58:30 gave up discovering a model\n",
      "2022-08-10 01:58:30 score evaluated: 0\n",
      "2022-08-10 01:58:30 discovering a process model...\n",
      "2022-08-10 01:58:35 gave up discovering a model\n",
      "2022-08-10 01:58:35 score evaluated: 0\n",
      "final score: 0.0\n",
      "2022-08-10 01:58:35 discovering a process model...\n",
      "2022-08-10 01:58:40 gave up discovering a model\n",
      "2022-08-10 01:58:40 score evaluated: 0\n",
      "2022-08-10 01:58:40 discovering a process model...\n",
      "2022-08-10 01:58:45 gave up discovering a model\n",
      "2022-08-10 01:58:45 score evaluated: 0\n",
      "final score: 0.0\n",
      "2022-08-10 01:58:45 discovering a process model...\n",
      "2022-08-10 01:58:45 process model discovered\n"
     ]
    },
    {
     "data": {
      "application/vnd.jupyter.widget-view+json": {
       "model_id": "b1000678212f4c40badc28271652f0b4",
       "version_major": 2,
       "version_minor": 0
      },
      "text/plain": [
       "replaying log with TBR, completed variants ::   0%|          | 0/301 [00:00<?, ?it/s]"
      ]
     },
     "metadata": {},
     "output_type": "display_data"
    },
    {
     "name": "stdout",
     "output_type": "stream",
     "text": [
      "2022-08-10 01:58:47 score evaluated: 0.4601063829787234\n",
      "2022-08-10 01:58:47 discovering a process model...\n",
      "2022-08-10 01:58:47 process model discovered\n"
     ]
    },
    {
     "data": {
      "application/vnd.jupyter.widget-view+json": {
       "model_id": "169ce656eaa34cd38428b0639381811f",
       "version_major": 2,
       "version_minor": 0
      },
      "text/plain": [
       "replaying log with TBR, completed variants ::   0%|          | 0/361 [00:00<?, ?it/s]"
      ]
     },
     "metadata": {},
     "output_type": "display_data"
    },
    {
     "name": "stdout",
     "output_type": "stream",
     "text": [
      "2022-08-10 01:58:50 score evaluated: 0.36866359447004604\n",
      "final score: 0.414\n",
      "2022-08-10 01:58:50 discovering a process model...\n",
      "2022-08-10 01:58:55 gave up discovering a model\n",
      "2022-08-10 01:58:55 score evaluated: 0\n",
      "2022-08-10 01:58:55 discovering a process model...\n",
      "2022-08-10 01:59:00 gave up discovering a model\n",
      "2022-08-10 01:59:00 score evaluated: 0\n",
      "final score: 0.0\n",
      "2022-08-10 01:59:00 discovering a process model...\n",
      "2022-08-10 01:59:05 gave up discovering a model\n",
      "2022-08-10 01:59:05 score evaluated: 0\n",
      "2022-08-10 01:59:05 discovering a process model...\n",
      "2022-08-10 01:59:10 gave up discovering a model\n",
      "2022-08-10 01:59:10 score evaluated: 0\n",
      "final score: 0.0\n",
      "2022-08-10 01:59:10 discovering a process model...\n",
      "2022-08-10 01:59:10 process model discovered\n"
     ]
    },
    {
     "data": {
      "application/vnd.jupyter.widget-view+json": {
       "model_id": "1cd51859ad2d46528a59fb2d90508404",
       "version_major": 2,
       "version_minor": 0
      },
      "text/plain": [
       "replaying log with TBR, completed variants ::   0%|          | 0/301 [00:00<?, ?it/s]"
      ]
     },
     "metadata": {},
     "output_type": "display_data"
    },
    {
     "name": "stdout",
     "output_type": "stream",
     "text": [
      "2022-08-10 01:59:12 score evaluated: 0.4601063829787234\n",
      "2022-08-10 01:59:12 discovering a process model...\n",
      "2022-08-10 01:59:12 process model discovered\n"
     ]
    },
    {
     "data": {
      "application/vnd.jupyter.widget-view+json": {
       "model_id": "ab6b32fd0eb2487fa983096f11ef766b",
       "version_major": 2,
       "version_minor": 0
      },
      "text/plain": [
       "replaying log with TBR, completed variants ::   0%|          | 0/361 [00:00<?, ?it/s]"
      ]
     },
     "metadata": {},
     "output_type": "display_data"
    },
    {
     "name": "stdout",
     "output_type": "stream",
     "text": [
      "2022-08-10 01:59:15 score evaluated: 0.36866359447004604\n",
      "final score: 0.414\n",
      "2022-08-10 01:59:15 miner: inductive_miner metric: generalization\n",
      "2022-08-10 01:59:15 discovering a process model...\n",
      "2022-08-10 01:59:20 gave up discovering a model\n",
      "2022-08-10 01:59:20 score evaluated: 0\n",
      "2022-08-10 01:59:20 discovering a process model...\n",
      "2022-08-10 01:59:25 gave up discovering a model\n",
      "2022-08-10 01:59:25 score evaluated: 0\n",
      "final score: 0.0\n",
      "2022-08-10 01:59:25 discovering a process model...\n",
      "2022-08-10 01:59:30 gave up discovering a model\n",
      "2022-08-10 01:59:30 score evaluated: 0\n",
      "2022-08-10 01:59:30 discovering a process model...\n",
      "2022-08-10 01:59:35 gave up discovering a model\n",
      "2022-08-10 01:59:35 score evaluated: 0\n",
      "final score: 0.0\n",
      "2022-08-10 01:59:35 discovering a process model...\n",
      "2022-08-10 01:59:35 process model discovered\n"
     ]
    },
    {
     "data": {
      "application/vnd.jupyter.widget-view+json": {
       "model_id": "0d09a14c79594a3fa58937af540c28fb",
       "version_major": 2,
       "version_minor": 0
      },
      "text/plain": [
       "replaying log with TBR, completed variants ::   0%|          | 0/4 [00:00<?, ?it/s]"
      ]
     },
     "metadata": {},
     "output_type": "display_data"
    },
    {
     "name": "stdout",
     "output_type": "stream",
     "text": [
      "2022-08-10 01:59:35 score evaluated: 0.3468399482548363\n",
      "2022-08-10 01:59:35 discovering a process model...\n",
      "2022-08-10 01:59:35 process model discovered\n"
     ]
    },
    {
     "data": {
      "application/vnd.jupyter.widget-view+json": {
       "model_id": "8fa45c1e349c4befa8e3a9562200675f",
       "version_major": 2,
       "version_minor": 0
      },
      "text/plain": [
       "replaying log with TBR, completed variants ::   0%|          | 0/2 [00:00<?, ?it/s]"
      ]
     },
     "metadata": {},
     "output_type": "display_data"
    },
    {
     "name": "stdout",
     "output_type": "stream",
     "text": [
      "2022-08-10 01:59:35 score evaluated: 0.3718041357512505\n",
      "final score: 0.359\n",
      "2022-08-10 01:59:35 discovering a process model...\n",
      "2022-08-10 01:59:40 gave up discovering a model\n",
      "2022-08-10 01:59:40 score evaluated: 0\n",
      "2022-08-10 01:59:40 discovering a process model...\n",
      "2022-08-10 01:59:45 gave up discovering a model\n",
      "2022-08-10 01:59:45 score evaluated: 0\n",
      "final score: 0.0\n",
      "2022-08-10 01:59:45 discovering a process model...\n",
      "2022-08-10 01:59:50 gave up discovering a model\n",
      "2022-08-10 01:59:50 score evaluated: 0\n",
      "2022-08-10 01:59:50 discovering a process model...\n",
      "2022-08-10 01:59:55 gave up discovering a model\n",
      "2022-08-10 01:59:55 score evaluated: 0\n",
      "final score: 0.0\n",
      "2022-08-10 01:59:55 discovering a process model...\n",
      "2022-08-10 01:59:55 process model discovered\n"
     ]
    },
    {
     "data": {
      "application/vnd.jupyter.widget-view+json": {
       "model_id": "46da31d6be8b4360ad7503ffdc243630",
       "version_major": 2,
       "version_minor": 0
      },
      "text/plain": [
       "replaying log with TBR, completed variants ::   0%|          | 0/4 [00:00<?, ?it/s]"
      ]
     },
     "metadata": {},
     "output_type": "display_data"
    },
    {
     "name": "stdout",
     "output_type": "stream",
     "text": [
      "2022-08-10 01:59:56 score evaluated: 0.3836397257477814\n",
      "2022-08-10 01:59:56 discovering a process model...\n",
      "2022-08-10 01:59:56 process model discovered\n"
     ]
    },
    {
     "data": {
      "application/vnd.jupyter.widget-view+json": {
       "model_id": "13b917f43faf45c8bffbc7844174f674",
       "version_major": 2,
       "version_minor": 0
      },
      "text/plain": [
       "replaying log with TBR, completed variants ::   0%|          | 0/2 [00:00<?, ?it/s]"
      ]
     },
     "metadata": {},
     "output_type": "display_data"
    },
    {
     "name": "stdout",
     "output_type": "stream",
     "text": [
      "2022-08-10 01:59:56 score evaluated: 0.373325287987638\n",
      "final score: 0.378\n",
      "2022-08-10 01:59:56 discovering a process model...\n",
      "2022-08-10 02:00:01 gave up discovering a model\n",
      "2022-08-10 02:00:01 score evaluated: 0\n",
      "2022-08-10 02:00:01 discovering a process model...\n",
      "2022-08-10 02:00:06 gave up discovering a model\n",
      "2022-08-10 02:00:06 score evaluated: 0\n",
      "final score: 0.0\n",
      "2022-08-10 02:00:06 discovering a process model...\n",
      "2022-08-10 02:00:11 gave up discovering a model\n",
      "2022-08-10 02:00:11 score evaluated: 0\n",
      "2022-08-10 02:00:11 discovering a process model...\n",
      "2022-08-10 02:00:16 gave up discovering a model\n",
      "2022-08-10 02:00:16 score evaluated: 0\n",
      "final score: 0.0\n",
      "2022-08-10 02:00:16 discovering a process model...\n",
      "2022-08-10 02:00:16 process model discovered\n"
     ]
    },
    {
     "data": {
      "application/vnd.jupyter.widget-view+json": {
       "model_id": "8e92b28fccac4184a54fc4d4069e2e29",
       "version_major": 2,
       "version_minor": 0
      },
      "text/plain": [
       "replaying log with TBR, completed variants ::   0%|          | 0/9 [00:00<?, ?it/s]"
      ]
     },
     "metadata": {},
     "output_type": "display_data"
    },
    {
     "name": "stdout",
     "output_type": "stream",
     "text": [
      "2022-08-10 02:00:16 score evaluated: 0.2483977286901925\n",
      "2022-08-10 02:00:16 discovering a process model...\n",
      "2022-08-10 02:00:16 process model discovered\n"
     ]
    },
    {
     "data": {
      "application/vnd.jupyter.widget-view+json": {
       "model_id": "bf3c7f476b1b4521be34dae48df2dca2",
       "version_major": 2,
       "version_minor": 0
      },
      "text/plain": [
       "replaying log with TBR, completed variants ::   0%|          | 0/9 [00:00<?, ?it/s]"
      ]
     },
     "metadata": {},
     "output_type": "display_data"
    },
    {
     "name": "stdout",
     "output_type": "stream",
     "text": [
      "2022-08-10 02:00:16 score evaluated: 0.261461859683373\n",
      "final score: 0.255\n",
      "2022-08-10 02:00:16 discovering a process model...\n",
      "2022-08-10 02:00:21 gave up discovering a model\n",
      "2022-08-10 02:00:21 score evaluated: 0\n",
      "2022-08-10 02:00:21 discovering a process model...\n",
      "2022-08-10 02:00:26 gave up discovering a model\n",
      "2022-08-10 02:00:26 score evaluated: 0\n",
      "final score: 0.0\n",
      "2022-08-10 02:00:26 discovering a process model...\n",
      "2022-08-10 02:00:31 gave up discovering a model\n",
      "2022-08-10 02:00:31 score evaluated: 0\n",
      "2022-08-10 02:00:31 discovering a process model...\n",
      "2022-08-10 02:00:36 gave up discovering a model\n",
      "2022-08-10 02:00:36 score evaluated: 0\n",
      "final score: 0.0\n",
      "2022-08-10 02:00:36 discovering a process model...\n",
      "2022-08-10 02:00:36 process model discovered\n"
     ]
    },
    {
     "data": {
      "application/vnd.jupyter.widget-view+json": {
       "model_id": "bdb369579d3446fb8fa2f872dbbec42c",
       "version_major": 2,
       "version_minor": 0
      },
      "text/plain": [
       "replaying log with TBR, completed variants ::   0%|          | 0/9 [00:00<?, ?it/s]"
      ]
     },
     "metadata": {},
     "output_type": "display_data"
    },
    {
     "name": "stdout",
     "output_type": "stream",
     "text": [
      "2022-08-10 02:00:37 score evaluated: 0.2483977286901925\n",
      "2022-08-10 02:00:37 discovering a process model...\n",
      "2022-08-10 02:00:37 process model discovered\n"
     ]
    },
    {
     "data": {
      "application/vnd.jupyter.widget-view+json": {
       "model_id": "573e84d5bbb54b7a813a13d3e2e953ca",
       "version_major": 2,
       "version_minor": 0
      },
      "text/plain": [
       "replaying log with TBR, completed variants ::   0%|          | 0/9 [00:00<?, ?it/s]"
      ]
     },
     "metadata": {},
     "output_type": "display_data"
    },
    {
     "name": "stdout",
     "output_type": "stream",
     "text": [
      "2022-08-10 02:00:37 score evaluated: 0.261461859683373\n",
      "final score: 0.255\n",
      "2022-08-10 02:00:37 miner: inductive_miner metric: simplicity\n",
      "2022-08-10 02:00:37 discovering a process model...\n",
      "2022-08-10 02:00:42 gave up discovering a model\n",
      "2022-08-10 02:00:42 score evaluated: 0\n",
      "2022-08-10 02:00:42 discovering a process model...\n",
      "2022-08-10 02:00:47 gave up discovering a model\n",
      "2022-08-10 02:00:47 score evaluated: 0\n",
      "final score: 0.0\n",
      "2022-08-10 02:00:47 discovering a process model...\n",
      "2022-08-10 02:00:52 gave up discovering a model\n",
      "2022-08-10 02:00:52 score evaluated: 0\n",
      "2022-08-10 02:00:52 discovering a process model...\n",
      "2022-08-10 02:00:57 gave up discovering a model\n",
      "2022-08-10 02:00:57 score evaluated: 0\n",
      "final score: 0.0\n",
      "2022-08-10 02:00:57 discovering a process model...\n",
      "2022-08-10 02:00:57 process model discovered\n",
      "2022-08-10 02:00:57 score evaluated: 0.6969696969696969\n",
      "2022-08-10 02:00:57 discovering a process model...\n",
      "2022-08-10 02:00:57 process model discovered\n",
      "2022-08-10 02:00:57 score evaluated: 0.7011494252873564\n",
      "final score: 0.699\n",
      "2022-08-10 02:00:57 discovering a process model...\n",
      "2022-08-10 02:01:02 gave up discovering a model\n",
      "2022-08-10 02:01:02 score evaluated: 0\n",
      "2022-08-10 02:01:02 discovering a process model...\n",
      "2022-08-10 02:01:07 gave up discovering a model\n",
      "2022-08-10 02:01:07 score evaluated: 0\n",
      "final score: 0.0\n",
      "2022-08-10 02:01:07 discovering a process model...\n",
      "2022-08-10 02:01:12 gave up discovering a model\n",
      "2022-08-10 02:01:12 score evaluated: 0\n",
      "2022-08-10 02:01:12 discovering a process model...\n",
      "2022-08-10 02:01:17 gave up discovering a model\n",
      "2022-08-10 02:01:17 score evaluated: 0\n",
      "final score: 0.0\n",
      "2022-08-10 02:01:17 discovering a process model...\n",
      "2022-08-10 02:01:17 process model discovered\n",
      "2022-08-10 02:01:17 score evaluated: 0.6703296703296703\n",
      "2022-08-10 02:01:17 discovering a process model...\n",
      "2022-08-10 02:01:17 process model discovered\n",
      "2022-08-10 02:01:17 score evaluated: 0.6799999999999999\n",
      "final score: 0.675\n",
      "2022-08-10 02:01:17 discovering a process model...\n",
      "2022-08-10 02:01:22 gave up discovering a model\n",
      "2022-08-10 02:01:22 score evaluated: 0\n",
      "2022-08-10 02:01:22 discovering a process model...\n",
      "2022-08-10 02:01:27 gave up discovering a model\n",
      "2022-08-10 02:01:27 score evaluated: 0\n",
      "final score: 0.0\n",
      "2022-08-10 02:01:27 discovering a process model...\n",
      "2022-08-10 02:01:32 gave up discovering a model\n",
      "2022-08-10 02:01:32 score evaluated: 0\n",
      "2022-08-10 02:01:32 discovering a process model...\n",
      "2022-08-10 02:01:37 gave up discovering a model\n",
      "2022-08-10 02:01:37 score evaluated: 0\n",
      "final score: 0.0\n",
      "2022-08-10 02:01:37 discovering a process model...\n",
      "2022-08-10 02:01:37 process model discovered\n",
      "2022-08-10 02:01:37 score evaluated: 0.6774193548387096\n",
      "2022-08-10 02:01:37 discovering a process model...\n",
      "2022-08-10 02:01:37 process model discovered\n",
      "2022-08-10 02:01:37 score evaluated: 0.6923076923076922\n",
      "final score: 0.685\n",
      "2022-08-10 02:01:37 discovering a process model...\n",
      "2022-08-10 02:01:42 gave up discovering a model\n",
      "2022-08-10 02:01:42 score evaluated: 0\n",
      "2022-08-10 02:01:42 discovering a process model...\n",
      "2022-08-10 02:01:47 gave up discovering a model\n",
      "2022-08-10 02:01:47 score evaluated: 0\n",
      "final score: 0.0\n",
      "2022-08-10 02:01:47 discovering a process model...\n",
      "2022-08-10 02:01:52 gave up discovering a model\n",
      "2022-08-10 02:01:52 score evaluated: 0\n",
      "2022-08-10 02:01:52 discovering a process model...\n",
      "2022-08-10 02:01:57 gave up discovering a model\n",
      "2022-08-10 02:01:57 score evaluated: 0\n",
      "final score: 0.0\n",
      "2022-08-10 02:01:57 discovering a process model...\n",
      "2022-08-10 02:01:57 process model discovered\n",
      "2022-08-10 02:01:57 score evaluated: 0.6774193548387096\n",
      "2022-08-10 02:01:57 discovering a process model...\n",
      "2022-08-10 02:01:57 process model discovered\n",
      "2022-08-10 02:01:57 score evaluated: 0.6923076923076922\n",
      "final score: 0.685\n",
      "2022-08-10 02:01:57 miner: heuristics_miner metric: Buijs2014\n",
      "2022-08-10 02:01:57 discovering a process model...\n",
      "2022-08-10 02:01:58 process model discovered\n"
     ]
    },
    {
     "data": {
      "application/vnd.jupyter.widget-view+json": {
       "model_id": "8e784a266eed432ca4cffdad7cc77e18",
       "version_major": 2,
       "version_minor": 0
      },
      "text/plain": [
       "replaying log with TBR, completed variants ::   0%|          | 0/4 [00:00<?, ?it/s]"
      ]
     },
     "metadata": {},
     "output_type": "display_data"
    },
    {
     "data": {
      "application/vnd.jupyter.widget-view+json": {
       "model_id": "0740e61b32ae4263b9c0ba4feecf75e2",
       "version_major": 2,
       "version_minor": 0
      },
      "text/plain": [
       "replaying log with TBR, completed variants ::   0%|          | 0/507 [00:00<?, ?it/s]"
      ]
     },
     "metadata": {},
     "output_type": "display_data"
    },
    {
     "data": {
      "application/vnd.jupyter.widget-view+json": {
       "model_id": "7af73350fc52416ca35742e02e4434f0",
       "version_major": 2,
       "version_minor": 0
      },
      "text/plain": [
       "replaying log with TBR, completed variants ::   0%|          | 0/4 [00:00<?, ?it/s]"
      ]
     },
     "metadata": {},
     "output_type": "display_data"
    },
    {
     "name": "stdout",
     "output_type": "stream",
     "text": [
      "2022-08-10 02:02:03 score evaluated: 0.6854768861199514\n",
      "2022-08-10 02:02:03 discovering a process model...\n",
      "2022-08-10 02:02:03 process model discovered\n"
     ]
    },
    {
     "data": {
      "application/vnd.jupyter.widget-view+json": {
       "model_id": "86e9d4fc8d4f410d83a41c56a37cc30a",
       "version_major": 2,
       "version_minor": 0
      },
      "text/plain": [
       "replaying log with TBR, completed variants ::   0%|          | 0/2 [00:00<?, ?it/s]"
      ]
     },
     "metadata": {},
     "output_type": "display_data"
    },
    {
     "data": {
      "application/vnd.jupyter.widget-view+json": {
       "model_id": "0e818af234bf4b8881ba338d1e62151e",
       "version_major": 2,
       "version_minor": 0
      },
      "text/plain": [
       "replaying log with TBR, completed variants ::   0%|          | 0/484 [00:00<?, ?it/s]"
      ]
     },
     "metadata": {},
     "output_type": "display_data"
    },
    {
     "data": {
      "application/vnd.jupyter.widget-view+json": {
       "model_id": "80c32fdd497e496b8175400957738f99",
       "version_major": 2,
       "version_minor": 0
      },
      "text/plain": [
       "replaying log with TBR, completed variants ::   0%|          | 0/2 [00:00<?, ?it/s]"
      ]
     },
     "metadata": {},
     "output_type": "display_data"
    },
    {
     "name": "stdout",
     "output_type": "stream",
     "text": [
      "2022-08-10 02:02:08 score evaluated: 0.7364645625499735\n",
      "final score: 0.711\n",
      "2022-08-10 02:02:08 discovering a process model...\n",
      "2022-08-10 02:02:09 process model discovered\n"
     ]
    },
    {
     "data": {
      "application/vnd.jupyter.widget-view+json": {
       "model_id": "ea70774bd04c414e8807e90a13d46700",
       "version_major": 2,
       "version_minor": 0
      },
      "text/plain": [
       "replaying log with TBR, completed variants ::   0%|          | 0/4 [00:00<?, ?it/s]"
      ]
     },
     "metadata": {},
     "output_type": "display_data"
    },
    {
     "data": {
      "application/vnd.jupyter.widget-view+json": {
       "model_id": "d6f504c554fd44a4b14afafc499c3e55",
       "version_major": 2,
       "version_minor": 0
      },
      "text/plain": [
       "replaying log with TBR, completed variants ::   0%|          | 0/507 [00:00<?, ?it/s]"
      ]
     },
     "metadata": {},
     "output_type": "display_data"
    },
    {
     "data": {
      "application/vnd.jupyter.widget-view+json": {
       "model_id": "08688d4f8db94069bc8965f9feee2b51",
       "version_major": 2,
       "version_minor": 0
      },
      "text/plain": [
       "replaying log with TBR, completed variants ::   0%|          | 0/4 [00:00<?, ?it/s]"
      ]
     },
     "metadata": {},
     "output_type": "display_data"
    },
    {
     "name": "stdout",
     "output_type": "stream",
     "text": [
      "2022-08-10 02:02:13 score evaluated: 0.685524850834439\n",
      "2022-08-10 02:02:13 discovering a process model...\n",
      "2022-08-10 02:02:14 process model discovered\n"
     ]
    },
    {
     "data": {
      "application/vnd.jupyter.widget-view+json": {
       "model_id": "71249e2b60f14cd184f7dbb6f1dc1e3b",
       "version_major": 2,
       "version_minor": 0
      },
      "text/plain": [
       "replaying log with TBR, completed variants ::   0%|          | 0/2 [00:00<?, ?it/s]"
      ]
     },
     "metadata": {},
     "output_type": "display_data"
    },
    {
     "data": {
      "application/vnd.jupyter.widget-view+json": {
       "model_id": "aa963073ec5b4c2898f543398a05bc94",
       "version_major": 2,
       "version_minor": 0
      },
      "text/plain": [
       "replaying log with TBR, completed variants ::   0%|          | 0/484 [00:00<?, ?it/s]"
      ]
     },
     "metadata": {},
     "output_type": "display_data"
    },
    {
     "data": {
      "application/vnd.jupyter.widget-view+json": {
       "model_id": "fcebb4c5d9c7453aa41bbf750e84626f",
       "version_major": 2,
       "version_minor": 0
      },
      "text/plain": [
       "replaying log with TBR, completed variants ::   0%|          | 0/2 [00:00<?, ?it/s]"
      ]
     },
     "metadata": {},
     "output_type": "display_data"
    },
    {
     "name": "stdout",
     "output_type": "stream",
     "text": [
      "2022-08-10 02:02:19 score evaluated: 0.7343685706012107\n",
      "final score: 0.71\n",
      "2022-08-10 02:02:19 discovering a process model...\n",
      "2022-08-10 02:02:19 process model discovered\n"
     ]
    },
    {
     "data": {
      "application/vnd.jupyter.widget-view+json": {
       "model_id": "ff4329145a6843f7bceaa44b83257793",
       "version_major": 2,
       "version_minor": 0
      },
      "text/plain": [
       "replaying log with TBR, completed variants ::   0%|          | 0/4 [00:00<?, ?it/s]"
      ]
     },
     "metadata": {},
     "output_type": "display_data"
    },
    {
     "data": {
      "application/vnd.jupyter.widget-view+json": {
       "model_id": "74eaf9b8d518438ebb886e816f966518",
       "version_major": 2,
       "version_minor": 0
      },
      "text/plain": [
       "replaying log with TBR, completed variants ::   0%|          | 0/485 [00:00<?, ?it/s]"
      ]
     },
     "metadata": {},
     "output_type": "display_data"
    },
    {
     "data": {
      "application/vnd.jupyter.widget-view+json": {
       "model_id": "069db380dbaf4660b1a5da92b58e9fa3",
       "version_major": 2,
       "version_minor": 0
      },
      "text/plain": [
       "replaying log with TBR, completed variants ::   0%|          | 0/4 [00:00<?, ?it/s]"
      ]
     },
     "metadata": {},
     "output_type": "display_data"
    },
    {
     "name": "stdout",
     "output_type": "stream",
     "text": [
      "2022-08-10 02:02:22 score evaluated: 0.8571299354583723\n",
      "2022-08-10 02:02:22 discovering a process model...\n",
      "2022-08-10 02:02:22 process model discovered\n"
     ]
    },
    {
     "data": {
      "application/vnd.jupyter.widget-view+json": {
       "model_id": "bba24d55e1394b5094720bb8c760616f",
       "version_major": 2,
       "version_minor": 0
      },
      "text/plain": [
       "replaying log with TBR, completed variants ::   0%|          | 0/2 [00:00<?, ?it/s]"
      ]
     },
     "metadata": {},
     "output_type": "display_data"
    },
    {
     "data": {
      "application/vnd.jupyter.widget-view+json": {
       "model_id": "21ea48612ba946968408da13885cdf47",
       "version_major": 2,
       "version_minor": 0
      },
      "text/plain": [
       "replaying log with TBR, completed variants ::   0%|          | 0/485 [00:00<?, ?it/s]"
      ]
     },
     "metadata": {},
     "output_type": "display_data"
    },
    {
     "data": {
      "application/vnd.jupyter.widget-view+json": {
       "model_id": "260fd4a613424e54bb301a8f846a1a1b",
       "version_major": 2,
       "version_minor": 0
      },
      "text/plain": [
       "replaying log with TBR, completed variants ::   0%|          | 0/2 [00:00<?, ?it/s]"
      ]
     },
     "metadata": {},
     "output_type": "display_data"
    },
    {
     "name": "stdout",
     "output_type": "stream",
     "text": [
      "2022-08-10 02:02:24 score evaluated: 0.9048917932248324\n",
      "final score: 0.881\n",
      "2022-08-10 02:02:24 discovering a process model...\n",
      "2022-08-10 02:02:25 process model discovered\n"
     ]
    },
    {
     "data": {
      "application/vnd.jupyter.widget-view+json": {
       "model_id": "d25a7bec54254e178fed743a88ac80d2",
       "version_major": 2,
       "version_minor": 0
      },
      "text/plain": [
       "replaying log with TBR, completed variants ::   0%|          | 0/4 [00:00<?, ?it/s]"
      ]
     },
     "metadata": {},
     "output_type": "display_data"
    },
    {
     "data": {
      "application/vnd.jupyter.widget-view+json": {
       "model_id": "c154c92cfcc942e3a6f92b60d92c6f50",
       "version_major": 2,
       "version_minor": 0
      },
      "text/plain": [
       "replaying log with TBR, completed variants ::   0%|          | 0/509 [00:00<?, ?it/s]"
      ]
     },
     "metadata": {},
     "output_type": "display_data"
    },
    {
     "data": {
      "application/vnd.jupyter.widget-view+json": {
       "model_id": "419f9d3e2e2d4e08b7a035f9a066856c",
       "version_major": 2,
       "version_minor": 0
      },
      "text/plain": [
       "replaying log with TBR, completed variants ::   0%|          | 0/4 [00:00<?, ?it/s]"
      ]
     },
     "metadata": {},
     "output_type": "display_data"
    },
    {
     "name": "stdout",
     "output_type": "stream",
     "text": [
      "2022-08-10 02:02:43 score evaluated: 0.6516843418978164\n",
      "2022-08-10 02:02:43 discovering a process model...\n",
      "2022-08-10 02:02:44 process model discovered\n"
     ]
    },
    {
     "data": {
      "application/vnd.jupyter.widget-view+json": {
       "model_id": "51555a3eb60346e4a11934fdddc5d25f",
       "version_major": 2,
       "version_minor": 0
      },
      "text/plain": [
       "replaying log with TBR, completed variants ::   0%|          | 0/2 [00:00<?, ?it/s]"
      ]
     },
     "metadata": {},
     "output_type": "display_data"
    },
    {
     "data": {
      "application/vnd.jupyter.widget-view+json": {
       "model_id": "bc3f39b3f5cc4dc28be3219a81083b89",
       "version_major": 2,
       "version_minor": 0
      },
      "text/plain": [
       "replaying log with TBR, completed variants ::   0%|          | 0/485 [00:00<?, ?it/s]"
      ]
     },
     "metadata": {},
     "output_type": "display_data"
    },
    {
     "data": {
      "application/vnd.jupyter.widget-view+json": {
       "model_id": "59cbba5cab2e4b94ac7c4e8b7a0f92af",
       "version_major": 2,
       "version_minor": 0
      },
      "text/plain": [
       "replaying log with TBR, completed variants ::   0%|          | 0/2 [00:00<?, ?it/s]"
      ]
     },
     "metadata": {},
     "output_type": "display_data"
    },
    {
     "name": "stdout",
     "output_type": "stream",
     "text": [
      "2022-08-10 02:03:02 score evaluated: 0.6715446655500101\n",
      "final score: 0.662\n",
      "2022-08-10 02:03:02 discovering a process model...\n",
      "2022-08-10 02:03:03 process model discovered\n"
     ]
    },
    {
     "data": {
      "application/vnd.jupyter.widget-view+json": {
       "model_id": "dfd67217d32d456fac50d3cbe8bf3d39",
       "version_major": 2,
       "version_minor": 0
      },
      "text/plain": [
       "replaying log with TBR, completed variants ::   0%|          | 0/4 [00:00<?, ?it/s]"
      ]
     },
     "metadata": {},
     "output_type": "display_data"
    },
    {
     "data": {
      "application/vnd.jupyter.widget-view+json": {
       "model_id": "388d37adb5f141d7ab4506568f3a958a",
       "version_major": 2,
       "version_minor": 0
      },
      "text/plain": [
       "replaying log with TBR, completed variants ::   0%|          | 0/509 [00:00<?, ?it/s]"
      ]
     },
     "metadata": {},
     "output_type": "display_data"
    },
    {
     "data": {
      "application/vnd.jupyter.widget-view+json": {
       "model_id": "b07e6b240b0e454faecfbf382242e759",
       "version_major": 2,
       "version_minor": 0
      },
      "text/plain": [
       "replaying log with TBR, completed variants ::   0%|          | 0/4 [00:00<?, ?it/s]"
      ]
     },
     "metadata": {},
     "output_type": "display_data"
    },
    {
     "name": "stdout",
     "output_type": "stream",
     "text": [
      "2022-08-10 02:03:23 score evaluated: 0.6517149592909257\n",
      "2022-08-10 02:03:23 discovering a process model...\n",
      "2022-08-10 02:03:24 process model discovered\n"
     ]
    },
    {
     "data": {
      "application/vnd.jupyter.widget-view+json": {
       "model_id": "736f773bcdf94168930833c23295752a",
       "version_major": 2,
       "version_minor": 0
      },
      "text/plain": [
       "replaying log with TBR, completed variants ::   0%|          | 0/2 [00:00<?, ?it/s]"
      ]
     },
     "metadata": {},
     "output_type": "display_data"
    },
    {
     "data": {
      "application/vnd.jupyter.widget-view+json": {
       "model_id": "a7050c59b1ca4d859bfb73a4458f24ed",
       "version_major": 2,
       "version_minor": 0
      },
      "text/plain": [
       "replaying log with TBR, completed variants ::   0%|          | 0/485 [00:00<?, ?it/s]"
      ]
     },
     "metadata": {},
     "output_type": "display_data"
    },
    {
     "data": {
      "application/vnd.jupyter.widget-view+json": {
       "model_id": "487dbb6e44bf4636a6f41aab5444a524",
       "version_major": 2,
       "version_minor": 0
      },
      "text/plain": [
       "replaying log with TBR, completed variants ::   0%|          | 0/2 [00:00<?, ?it/s]"
      ]
     },
     "metadata": {},
     "output_type": "display_data"
    },
    {
     "name": "stdout",
     "output_type": "stream",
     "text": [
      "2022-08-10 02:03:42 score evaluated: 0.6715446655500101\n",
      "final score: 0.662\n",
      "2022-08-10 02:03:42 discovering a process model...\n",
      "2022-08-10 02:03:42 process model discovered\n"
     ]
    },
    {
     "data": {
      "application/vnd.jupyter.widget-view+json": {
       "model_id": "8e703ab765564174bda6d42ec5962744",
       "version_major": 2,
       "version_minor": 0
      },
      "text/plain": [
       "replaying log with TBR, completed variants ::   0%|          | 0/4 [00:00<?, ?it/s]"
      ]
     },
     "metadata": {},
     "output_type": "display_data"
    },
    {
     "data": {
      "application/vnd.jupyter.widget-view+json": {
       "model_id": "be5f0b2ff67c4b60977796842b1a7847",
       "version_major": 2,
       "version_minor": 0
      },
      "text/plain": [
       "replaying log with TBR, completed variants ::   0%|          | 0/454 [00:00<?, ?it/s]"
      ]
     },
     "metadata": {},
     "output_type": "display_data"
    },
    {
     "data": {
      "application/vnd.jupyter.widget-view+json": {
       "model_id": "b3961b3ea6df4022a786908da30621be",
       "version_major": 2,
       "version_minor": 0
      },
      "text/plain": [
       "replaying log with TBR, completed variants ::   0%|          | 0/4 [00:00<?, ?it/s]"
      ]
     },
     "metadata": {},
     "output_type": "display_data"
    },
    {
     "name": "stdout",
     "output_type": "stream",
     "text": [
      "2022-08-10 02:03:47 score evaluated: 0.9077584275512617\n",
      "2022-08-10 02:03:47 discovering a process model...\n",
      "2022-08-10 02:03:47 process model discovered\n"
     ]
    },
    {
     "data": {
      "application/vnd.jupyter.widget-view+json": {
       "model_id": "489ac1904a684cdc8413422b0a500527",
       "version_major": 2,
       "version_minor": 0
      },
      "text/plain": [
       "replaying log with TBR, completed variants ::   0%|          | 0/2 [00:00<?, ?it/s]"
      ]
     },
     "metadata": {},
     "output_type": "display_data"
    },
    {
     "data": {
      "application/vnd.jupyter.widget-view+json": {
       "model_id": "bd0ec3511a9448389d0415c435302874",
       "version_major": 2,
       "version_minor": 0
      },
      "text/plain": [
       "replaying log with TBR, completed variants ::   0%|          | 0/485 [00:00<?, ?it/s]"
      ]
     },
     "metadata": {},
     "output_type": "display_data"
    },
    {
     "data": {
      "application/vnd.jupyter.widget-view+json": {
       "model_id": "725e9379e1de475c8100f6807dfd21d9",
       "version_major": 2,
       "version_minor": 0
      },
      "text/plain": [
       "replaying log with TBR, completed variants ::   0%|          | 0/2 [00:00<?, ?it/s]"
      ]
     },
     "metadata": {},
     "output_type": "display_data"
    },
    {
     "name": "stdout",
     "output_type": "stream",
     "text": [
      "2022-08-10 02:03:59 score evaluated: 0.8765091200219289\n",
      "final score: 0.892\n",
      "2022-08-10 02:03:59 discovering a process model...\n",
      "2022-08-10 02:04:00 process model discovered\n"
     ]
    },
    {
     "data": {
      "application/vnd.jupyter.widget-view+json": {
       "model_id": "58c06c2b427b4357825ff823e5cd6585",
       "version_major": 2,
       "version_minor": 0
      },
      "text/plain": [
       "replaying log with TBR, completed variants ::   0%|          | 0/9 [00:00<?, ?it/s]"
      ]
     },
     "metadata": {},
     "output_type": "display_data"
    },
    {
     "data": {
      "application/vnd.jupyter.widget-view+json": {
       "model_id": "a3cac71f653541d3b87d14fede11a706",
       "version_major": 2,
       "version_minor": 0
      },
      "text/plain": [
       "replaying log with TBR, completed variants ::   0%|          | 0/465 [00:00<?, ?it/s]"
      ]
     },
     "metadata": {},
     "output_type": "display_data"
    },
    {
     "data": {
      "application/vnd.jupyter.widget-view+json": {
       "model_id": "158a98ca06f141d9b676bc78ca2c8323",
       "version_major": 2,
       "version_minor": 0
      },
      "text/plain": [
       "replaying log with TBR, completed variants ::   0%|          | 0/9 [00:00<?, ?it/s]"
      ]
     },
     "metadata": {},
     "output_type": "display_data"
    },
    {
     "name": "stdout",
     "output_type": "stream",
     "text": [
      "2022-08-10 02:04:03 score evaluated: 0.7257341241462605\n",
      "2022-08-10 02:04:03 discovering a process model...\n",
      "2022-08-10 02:04:03 process model discovered\n"
     ]
    },
    {
     "data": {
      "application/vnd.jupyter.widget-view+json": {
       "model_id": "6e1213c3b01e469ab7dc3a4d2b12c1e9",
       "version_major": 2,
       "version_minor": 0
      },
      "text/plain": [
       "replaying log with TBR, completed variants ::   0%|          | 0/9 [00:00<?, ?it/s]"
      ]
     },
     "metadata": {},
     "output_type": "display_data"
    },
    {
     "data": {
      "application/vnd.jupyter.widget-view+json": {
       "model_id": "f3ca687e6dda4666b60e7b43ab7bea3b",
       "version_major": 2,
       "version_minor": 0
      },
      "text/plain": [
       "replaying log with TBR, completed variants ::   0%|          | 0/484 [00:00<?, ?it/s]"
      ]
     },
     "metadata": {},
     "output_type": "display_data"
    },
    {
     "data": {
      "application/vnd.jupyter.widget-view+json": {
       "model_id": "08ae0c3349a34c63817489b4ffd09aed",
       "version_major": 2,
       "version_minor": 0
      },
      "text/plain": [
       "replaying log with TBR, completed variants ::   0%|          | 0/9 [00:00<?, ?it/s]"
      ]
     },
     "metadata": {},
     "output_type": "display_data"
    },
    {
     "name": "stdout",
     "output_type": "stream",
     "text": [
      "2022-08-10 02:04:07 score evaluated: 0.6743074063218564\n",
      "final score: 0.7\n",
      "2022-08-10 02:04:07 discovering a process model...\n",
      "2022-08-10 02:04:08 process model discovered\n"
     ]
    },
    {
     "data": {
      "application/vnd.jupyter.widget-view+json": {
       "model_id": "f6e43d53261143ba949f27ed87ef17f7",
       "version_major": 2,
       "version_minor": 0
      },
      "text/plain": [
       "replaying log with TBR, completed variants ::   0%|          | 0/9 [00:00<?, ?it/s]"
      ]
     },
     "metadata": {},
     "output_type": "display_data"
    },
    {
     "data": {
      "application/vnd.jupyter.widget-view+json": {
       "model_id": "dfb57311cfe04a20a2bb9d9dc51fa6d5",
       "version_major": 2,
       "version_minor": 0
      },
      "text/plain": [
       "replaying log with TBR, completed variants ::   0%|          | 0/465 [00:00<?, ?it/s]"
      ]
     },
     "metadata": {},
     "output_type": "display_data"
    },
    {
     "data": {
      "application/vnd.jupyter.widget-view+json": {
       "model_id": "1a51f850c7cf4920af682244e292b0f0",
       "version_major": 2,
       "version_minor": 0
      },
      "text/plain": [
       "replaying log with TBR, completed variants ::   0%|          | 0/9 [00:00<?, ?it/s]"
      ]
     },
     "metadata": {},
     "output_type": "display_data"
    },
    {
     "name": "stdout",
     "output_type": "stream",
     "text": [
      "2022-08-10 02:04:11 score evaluated: 0.7243405788831577\n",
      "2022-08-10 02:04:11 discovering a process model...\n",
      "2022-08-10 02:04:12 process model discovered\n"
     ]
    },
    {
     "data": {
      "application/vnd.jupyter.widget-view+json": {
       "model_id": "75673e7e74ea446887331e4541962efa",
       "version_major": 2,
       "version_minor": 0
      },
      "text/plain": [
       "replaying log with TBR, completed variants ::   0%|          | 0/9 [00:00<?, ?it/s]"
      ]
     },
     "metadata": {},
     "output_type": "display_data"
    },
    {
     "data": {
      "application/vnd.jupyter.widget-view+json": {
       "model_id": "0512ef49277e49d39856bdbf6af68fc5",
       "version_major": 2,
       "version_minor": 0
      },
      "text/plain": [
       "replaying log with TBR, completed variants ::   0%|          | 0/484 [00:00<?, ?it/s]"
      ]
     },
     "metadata": {},
     "output_type": "display_data"
    },
    {
     "data": {
      "application/vnd.jupyter.widget-view+json": {
       "model_id": "37cd212e9f89417d965ec602aefa9672",
       "version_major": 2,
       "version_minor": 0
      },
      "text/plain": [
       "replaying log with TBR, completed variants ::   0%|          | 0/9 [00:00<?, ?it/s]"
      ]
     },
     "metadata": {},
     "output_type": "display_data"
    },
    {
     "name": "stdout",
     "output_type": "stream",
     "text": [
      "2022-08-10 02:04:15 score evaluated: 0.6738712093410337\n",
      "final score: 0.699\n",
      "2022-08-10 02:04:15 discovering a process model...\n",
      "2022-08-10 02:04:15 process model discovered\n"
     ]
    },
    {
     "data": {
      "application/vnd.jupyter.widget-view+json": {
       "model_id": "510ed60278994b17b9edbf4a76dfed71",
       "version_major": 2,
       "version_minor": 0
      },
      "text/plain": [
       "replaying log with TBR, completed variants ::   0%|          | 0/9 [00:00<?, ?it/s]"
      ]
     },
     "metadata": {},
     "output_type": "display_data"
    },
    {
     "data": {
      "application/vnd.jupyter.widget-view+json": {
       "model_id": "461da86b917945ec99e48d1fa8fdd9af",
       "version_major": 2,
       "version_minor": 0
      },
      "text/plain": [
       "replaying log with TBR, completed variants ::   0%|          | 0/301 [00:00<?, ?it/s]"
      ]
     },
     "metadata": {},
     "output_type": "display_data"
    },
    {
     "data": {
      "application/vnd.jupyter.widget-view+json": {
       "model_id": "d9733485ef4f4d92957e55acc35ac0ec",
       "version_major": 2,
       "version_minor": 0
      },
      "text/plain": [
       "replaying log with TBR, completed variants ::   0%|          | 0/9 [00:00<?, ?it/s]"
      ]
     },
     "metadata": {},
     "output_type": "display_data"
    },
    {
     "name": "stdout",
     "output_type": "stream",
     "text": [
      "2022-08-10 02:04:18 score evaluated: 0.8685492175711317\n",
      "2022-08-10 02:04:18 discovering a process model...\n",
      "2022-08-10 02:04:18 process model discovered\n"
     ]
    },
    {
     "data": {
      "application/vnd.jupyter.widget-view+json": {
       "model_id": "653b38823ae4414e8e68a5bb0f04a9fa",
       "version_major": 2,
       "version_minor": 0
      },
      "text/plain": [
       "replaying log with TBR, completed variants ::   0%|          | 0/9 [00:00<?, ?it/s]"
      ]
     },
     "metadata": {},
     "output_type": "display_data"
    },
    {
     "data": {
      "application/vnd.jupyter.widget-view+json": {
       "model_id": "6a2249836efb4574935fd210adce7857",
       "version_major": 2,
       "version_minor": 0
      },
      "text/plain": [
       "replaying log with TBR, completed variants ::   0%|          | 0/361 [00:00<?, ?it/s]"
      ]
     },
     "metadata": {},
     "output_type": "display_data"
    },
    {
     "data": {
      "application/vnd.jupyter.widget-view+json": {
       "model_id": "bca976f69cc841afb5f8b5fe17a12182",
       "version_major": 2,
       "version_minor": 0
      },
      "text/plain": [
       "replaying log with TBR, completed variants ::   0%|          | 0/9 [00:00<?, ?it/s]"
      ]
     },
     "metadata": {},
     "output_type": "display_data"
    },
    {
     "name": "stdout",
     "output_type": "stream",
     "text": [
      "2022-08-10 02:04:20 score evaluated: 0.8618434922171151\n",
      "final score: 0.865\n",
      "2022-08-10 02:04:20 discovering a process model...\n",
      "2022-08-10 02:04:22 process model discovered\n"
     ]
    },
    {
     "data": {
      "application/vnd.jupyter.widget-view+json": {
       "model_id": "41b4a9e1ca9346079f95e275e10e047b",
       "version_major": 2,
       "version_minor": 0
      },
      "text/plain": [
       "replaying log with TBR, completed variants ::   0%|          | 0/9 [00:00<?, ?it/s]"
      ]
     },
     "metadata": {},
     "output_type": "display_data"
    },
    {
     "data": {
      "application/vnd.jupyter.widget-view+json": {
       "model_id": "19d49d47361a47b985bf484b0c4820ff",
       "version_major": 2,
       "version_minor": 0
      },
      "text/plain": [
       "replaying log with TBR, completed variants ::   0%|          | 0/482 [00:00<?, ?it/s]"
      ]
     },
     "metadata": {},
     "output_type": "display_data"
    },
    {
     "data": {
      "application/vnd.jupyter.widget-view+json": {
       "model_id": "383f614c6d6b4ac0b061ca6da5016a69",
       "version_major": 2,
       "version_minor": 0
      },
      "text/plain": [
       "replaying log with TBR, completed variants ::   0%|          | 0/9 [00:00<?, ?it/s]"
      ]
     },
     "metadata": {},
     "output_type": "display_data"
    },
    {
     "name": "stdout",
     "output_type": "stream",
     "text": [
      "2022-08-10 02:04:30 score evaluated: 0.6137280944796081\n",
      "2022-08-10 02:04:30 discovering a process model...\n",
      "2022-08-10 02:04:31 process model discovered\n"
     ]
    },
    {
     "data": {
      "application/vnd.jupyter.widget-view+json": {
       "model_id": "0da34e6f9449466f8a2998c40d66f2b6",
       "version_major": 2,
       "version_minor": 0
      },
      "text/plain": [
       "replaying log with TBR, completed variants ::   0%|          | 0/9 [00:00<?, ?it/s]"
      ]
     },
     "metadata": {},
     "output_type": "display_data"
    },
    {
     "data": {
      "application/vnd.jupyter.widget-view+json": {
       "model_id": "2f993088af29479db79b63e284bf321a",
       "version_major": 2,
       "version_minor": 0
      },
      "text/plain": [
       "replaying log with TBR, completed variants ::   0%|          | 0/499 [00:00<?, ?it/s]"
      ]
     },
     "metadata": {},
     "output_type": "display_data"
    },
    {
     "data": {
      "application/vnd.jupyter.widget-view+json": {
       "model_id": "158ac99a3821453dafaa20bd145b77e7",
       "version_major": 2,
       "version_minor": 0
      },
      "text/plain": [
       "replaying log with TBR, completed variants ::   0%|          | 0/9 [00:00<?, ?it/s]"
      ]
     },
     "metadata": {},
     "output_type": "display_data"
    },
    {
     "name": "stdout",
     "output_type": "stream",
     "text": [
      "2022-08-10 02:04:40 score evaluated: 0.6225714926321289\n",
      "final score: 0.618\n",
      "2022-08-10 02:04:40 discovering a process model...\n",
      "2022-08-10 02:04:41 process model discovered\n"
     ]
    },
    {
     "data": {
      "application/vnd.jupyter.widget-view+json": {
       "model_id": "613016b6f71f4fc29e69ebdb657ac6bf",
       "version_major": 2,
       "version_minor": 0
      },
      "text/plain": [
       "replaying log with TBR, completed variants ::   0%|          | 0/9 [00:00<?, ?it/s]"
      ]
     },
     "metadata": {},
     "output_type": "display_data"
    },
    {
     "data": {
      "application/vnd.jupyter.widget-view+json": {
       "model_id": "7547a85fd06a4dd386b8574c029ddb1a",
       "version_major": 2,
       "version_minor": 0
      },
      "text/plain": [
       "replaying log with TBR, completed variants ::   0%|          | 0/482 [00:00<?, ?it/s]"
      ]
     },
     "metadata": {},
     "output_type": "display_data"
    },
    {
     "data": {
      "application/vnd.jupyter.widget-view+json": {
       "model_id": "4555480cf6974ed98b19728818d86598",
       "version_major": 2,
       "version_minor": 0
      },
      "text/plain": [
       "replaying log with TBR, completed variants ::   0%|          | 0/9 [00:00<?, ?it/s]"
      ]
     },
     "metadata": {},
     "output_type": "display_data"
    },
    {
     "name": "stdout",
     "output_type": "stream",
     "text": [
      "2022-08-10 02:04:49 score evaluated: 0.6137280944796081\n",
      "2022-08-10 02:04:49 discovering a process model...\n",
      "2022-08-10 02:04:50 process model discovered\n"
     ]
    },
    {
     "data": {
      "application/vnd.jupyter.widget-view+json": {
       "model_id": "b4e7e394707c4ac5a0b10a8f6847adf8",
       "version_major": 2,
       "version_minor": 0
      },
      "text/plain": [
       "replaying log with TBR, completed variants ::   0%|          | 0/9 [00:00<?, ?it/s]"
      ]
     },
     "metadata": {},
     "output_type": "display_data"
    },
    {
     "data": {
      "application/vnd.jupyter.widget-view+json": {
       "model_id": "47a88b377f3d4c83bad4088be0425d67",
       "version_major": 2,
       "version_minor": 0
      },
      "text/plain": [
       "replaying log with TBR, completed variants ::   0%|          | 0/499 [00:00<?, ?it/s]"
      ]
     },
     "metadata": {},
     "output_type": "display_data"
    },
    {
     "data": {
      "application/vnd.jupyter.widget-view+json": {
       "model_id": "ca6476fa41734b01842f392a0ed83a98",
       "version_major": 2,
       "version_minor": 0
      },
      "text/plain": [
       "replaying log with TBR, completed variants ::   0%|          | 0/9 [00:00<?, ?it/s]"
      ]
     },
     "metadata": {},
     "output_type": "display_data"
    },
    {
     "name": "stdout",
     "output_type": "stream",
     "text": [
      "2022-08-10 02:04:59 score evaluated: 0.6225714926321289\n",
      "final score: 0.618\n",
      "2022-08-10 02:04:59 discovering a process model...\n",
      "2022-08-10 02:04:59 process model discovered\n"
     ]
    },
    {
     "data": {
      "application/vnd.jupyter.widget-view+json": {
       "model_id": "105289cf3afd4f1bbeb0fc883ada7100",
       "version_major": 2,
       "version_minor": 0
      },
      "text/plain": [
       "replaying log with TBR, completed variants ::   0%|          | 0/9 [00:00<?, ?it/s]"
      ]
     },
     "metadata": {},
     "output_type": "display_data"
    },
    {
     "data": {
      "application/vnd.jupyter.widget-view+json": {
       "model_id": "db46526bec614a28a80cbd967fd3d967",
       "version_major": 2,
       "version_minor": 0
      },
      "text/plain": [
       "replaying log with TBR, completed variants ::   0%|          | 0/301 [00:00<?, ?it/s]"
      ]
     },
     "metadata": {},
     "output_type": "display_data"
    },
    {
     "data": {
      "application/vnd.jupyter.widget-view+json": {
       "model_id": "fe5ab00952754bb2990f930539302eb1",
       "version_major": 2,
       "version_minor": 0
      },
      "text/plain": [
       "replaying log with TBR, completed variants ::   0%|          | 0/9 [00:00<?, ?it/s]"
      ]
     },
     "metadata": {},
     "output_type": "display_data"
    },
    {
     "name": "stdout",
     "output_type": "stream",
     "text": [
      "2022-08-10 02:05:02 score evaluated: 0.8685492175711317\n",
      "2022-08-10 02:05:02 discovering a process model...\n",
      "2022-08-10 02:05:02 process model discovered\n"
     ]
    },
    {
     "data": {
      "application/vnd.jupyter.widget-view+json": {
       "model_id": "e47e666902694654bf8b4238146c2514",
       "version_major": 2,
       "version_minor": 0
      },
      "text/plain": [
       "replaying log with TBR, completed variants ::   0%|          | 0/9 [00:00<?, ?it/s]"
      ]
     },
     "metadata": {},
     "output_type": "display_data"
    },
    {
     "data": {
      "application/vnd.jupyter.widget-view+json": {
       "model_id": "2312a17092de48faa9a3cb7a982185f4",
       "version_major": 2,
       "version_minor": 0
      },
      "text/plain": [
       "replaying log with TBR, completed variants ::   0%|          | 0/361 [00:00<?, ?it/s]"
      ]
     },
     "metadata": {},
     "output_type": "display_data"
    },
    {
     "data": {
      "application/vnd.jupyter.widget-view+json": {
       "model_id": "080a019cdb5b47c1863bdd4d6eff11ef",
       "version_major": 2,
       "version_minor": 0
      },
      "text/plain": [
       "replaying log with TBR, completed variants ::   0%|          | 0/9 [00:00<?, ?it/s]"
      ]
     },
     "metadata": {},
     "output_type": "display_data"
    },
    {
     "name": "stdout",
     "output_type": "stream",
     "text": [
      "2022-08-10 02:05:05 score evaluated: 0.8618434922171151\n",
      "final score: 0.865\n",
      "2022-08-10 02:05:05 miner: heuristics_miner metric: fitness\n",
      "2022-08-10 02:05:05 discovering a process model...\n",
      "2022-08-10 02:05:05 process model discovered\n"
     ]
    },
    {
     "data": {
      "application/vnd.jupyter.widget-view+json": {
       "model_id": "418a59cbe31b44d0ab74234d6b0ef936",
       "version_major": 2,
       "version_minor": 0
      },
      "text/plain": [
       "replaying log with TBR, completed variants ::   0%|          | 0/4 [00:00<?, ?it/s]"
      ]
     },
     "metadata": {},
     "output_type": "display_data"
    },
    {
     "name": "stdout",
     "output_type": "stream",
     "text": [
      "2022-08-10 02:05:07 score evaluated: 0.7933082441491238\n",
      "2022-08-10 02:05:07 discovering a process model...\n",
      "2022-08-10 02:05:07 process model discovered\n"
     ]
    },
    {
     "data": {
      "application/vnd.jupyter.widget-view+json": {
       "model_id": "485c172b5deb403687ea347e4e679c11",
       "version_major": 2,
       "version_minor": 0
      },
      "text/plain": [
       "replaying log with TBR, completed variants ::   0%|          | 0/2 [00:00<?, ?it/s]"
      ]
     },
     "metadata": {},
     "output_type": "display_data"
    },
    {
     "name": "stdout",
     "output_type": "stream",
     "text": [
      "2022-08-10 02:05:09 score evaluated: 0.8360313781422714\n",
      "final score: 0.815\n",
      "2022-08-10 02:05:09 discovering a process model...\n",
      "2022-08-10 02:05:10 process model discovered\n"
     ]
    },
    {
     "data": {
      "application/vnd.jupyter.widget-view+json": {
       "model_id": "9c4f30e8b3ec4fbbb1c7018559805e2f",
       "version_major": 2,
       "version_minor": 0
      },
      "text/plain": [
       "replaying log with TBR, completed variants ::   0%|          | 0/4 [00:00<?, ?it/s]"
      ]
     },
     "metadata": {},
     "output_type": "display_data"
    },
    {
     "name": "stdout",
     "output_type": "stream",
     "text": [
      "2022-08-10 02:05:11 score evaluated: 0.795707521886725\n",
      "2022-08-10 02:05:11 discovering a process model...\n",
      "2022-08-10 02:05:11 process model discovered\n"
     ]
    },
    {
     "data": {
      "application/vnd.jupyter.widget-view+json": {
       "model_id": "a26bf6d9e927472882f77e0f155899e3",
       "version_major": 2,
       "version_minor": 0
      },
      "text/plain": [
       "replaying log with TBR, completed variants ::   0%|          | 0/2 [00:00<?, ?it/s]"
      ]
     },
     "metadata": {},
     "output_type": "display_data"
    },
    {
     "name": "stdout",
     "output_type": "stream",
     "text": [
      "2022-08-10 02:05:13 score evaluated: 0.8360313781422714\n",
      "final score: 0.816\n",
      "2022-08-10 02:05:13 discovering a process model...\n",
      "2022-08-10 02:05:13 process model discovered\n"
     ]
    },
    {
     "data": {
      "application/vnd.jupyter.widget-view+json": {
       "model_id": "0398347b5d2f4febab6b5ad463ad140f",
       "version_major": 2,
       "version_minor": 0
      },
      "text/plain": [
       "replaying log with TBR, completed variants ::   0%|          | 0/4 [00:00<?, ?it/s]"
      ]
     },
     "metadata": {},
     "output_type": "display_data"
    },
    {
     "name": "stdout",
     "output_type": "stream",
     "text": [
      "2022-08-10 02:05:13 score evaluated: 0.9872746553552492\n",
      "2022-08-10 02:05:13 discovering a process model...\n",
      "2022-08-10 02:05:13 process model discovered\n"
     ]
    },
    {
     "data": {
      "application/vnd.jupyter.widget-view+json": {
       "model_id": "9284cb5b4a604e8896d5d03bba816922",
       "version_major": 2,
       "version_minor": 0
      },
      "text/plain": [
       "replaying log with TBR, completed variants ::   0%|          | 0/2 [00:00<?, ?it/s]"
      ]
     },
     "metadata": {},
     "output_type": "display_data"
    },
    {
     "name": "stdout",
     "output_type": "stream",
     "text": [
      "2022-08-10 02:05:13 score evaluated: 0.9868613138686131\n",
      "final score: 0.987\n",
      "2022-08-10 02:05:13 discovering a process model...\n",
      "2022-08-10 02:05:14 process model discovered\n"
     ]
    },
    {
     "data": {
      "application/vnd.jupyter.widget-view+json": {
       "model_id": "23a27669e3c64b26b39c04812bdcc864",
       "version_major": 2,
       "version_minor": 0
      },
      "text/plain": [
       "replaying log with TBR, completed variants ::   0%|          | 0/4 [00:00<?, ?it/s]"
      ]
     },
     "metadata": {},
     "output_type": "display_data"
    },
    {
     "name": "stdout",
     "output_type": "stream",
     "text": [
      "2022-08-10 02:05:23 score evaluated: 0.7697127397029293\n",
      "2022-08-10 02:05:24 discovering a process model...\n",
      "2022-08-10 02:05:24 process model discovered\n"
     ]
    },
    {
     "data": {
      "application/vnd.jupyter.widget-view+json": {
       "model_id": "7924fd11d2934d52a2d5a4b3be940960",
       "version_major": 2,
       "version_minor": 0
      },
      "text/plain": [
       "replaying log with TBR, completed variants ::   0%|          | 0/2 [00:00<?, ?it/s]"
      ]
     },
     "metadata": {},
     "output_type": "display_data"
    },
    {
     "name": "stdout",
     "output_type": "stream",
     "text": [
      "2022-08-10 02:05:32 score evaluated: 0.7967166402227763\n",
      "final score: 0.783\n",
      "2022-08-10 02:05:32 discovering a process model...\n",
      "2022-08-10 02:05:33 process model discovered\n"
     ]
    },
    {
     "data": {
      "application/vnd.jupyter.widget-view+json": {
       "model_id": "9177479090ca41f1894c5d5c4b558edd",
       "version_major": 2,
       "version_minor": 0
      },
      "text/plain": [
       "replaying log with TBR, completed variants ::   0%|          | 0/4 [00:00<?, ?it/s]"
      ]
     },
     "metadata": {},
     "output_type": "display_data"
    },
    {
     "name": "stdout",
     "output_type": "stream",
     "text": [
      "2022-08-10 02:05:42 score evaluated: 0.7699800495102465\n",
      "2022-08-10 02:05:42 discovering a process model...\n",
      "2022-08-10 02:05:43 process model discovered\n"
     ]
    },
    {
     "data": {
      "application/vnd.jupyter.widget-view+json": {
       "model_id": "4da38a43a66a40b0bfed131b25c95de7",
       "version_major": 2,
       "version_minor": 0
      },
      "text/plain": [
       "replaying log with TBR, completed variants ::   0%|          | 0/2 [00:00<?, ?it/s]"
      ]
     },
     "metadata": {},
     "output_type": "display_data"
    },
    {
     "name": "stdout",
     "output_type": "stream",
     "text": [
      "2022-08-10 02:05:50 score evaluated: 0.7967166402227763\n",
      "final score: 0.783\n",
      "2022-08-10 02:05:50 discovering a process model...\n",
      "2022-08-10 02:05:50 process model discovered\n"
     ]
    },
    {
     "data": {
      "application/vnd.jupyter.widget-view+json": {
       "model_id": "cca18112d07c42db9d4e5cfc8c83c722",
       "version_major": 2,
       "version_minor": 0
      },
      "text/plain": [
       "replaying log with TBR, completed variants ::   0%|          | 0/4 [00:00<?, ?it/s]"
      ]
     },
     "metadata": {},
     "output_type": "display_data"
    },
    {
     "name": "stdout",
     "output_type": "stream",
     "text": [
      "2022-08-10 02:05:50 score evaluated: 0.9917098445595854\n",
      "2022-08-10 02:05:50 discovering a process model...\n",
      "2022-08-10 02:05:50 process model discovered\n"
     ]
    },
    {
     "data": {
      "application/vnd.jupyter.widget-view+json": {
       "model_id": "0817fb7d37a045a3934a007d501784d0",
       "version_major": 2,
       "version_minor": 0
      },
      "text/plain": [
       "replaying log with TBR, completed variants ::   0%|          | 0/2 [00:00<?, ?it/s]"
      ]
     },
     "metadata": {},
     "output_type": "display_data"
    },
    {
     "name": "stdout",
     "output_type": "stream",
     "text": [
      "2022-08-10 02:05:51 score evaluated: 0.9904240766073872\n",
      "final score: 0.991\n",
      "2022-08-10 02:05:51 discovering a process model...\n",
      "2022-08-10 02:05:51 process model discovered\n"
     ]
    },
    {
     "data": {
      "application/vnd.jupyter.widget-view+json": {
       "model_id": "ae2973cc6fbd44f78afc820bba84ddc9",
       "version_major": 2,
       "version_minor": 0
      },
      "text/plain": [
       "replaying log with TBR, completed variants ::   0%|          | 0/9 [00:00<?, ?it/s]"
      ]
     },
     "metadata": {},
     "output_type": "display_data"
    },
    {
     "name": "stdout",
     "output_type": "stream",
     "text": [
      "2022-08-10 02:05:52 score evaluated: 0.7958984318553585\n",
      "2022-08-10 02:05:52 discovering a process model...\n",
      "2022-08-10 02:05:53 process model discovered\n"
     ]
    },
    {
     "data": {
      "application/vnd.jupyter.widget-view+json": {
       "model_id": "7e43615d67434769b3cc7e2d3cbffd56",
       "version_major": 2,
       "version_minor": 0
      },
      "text/plain": [
       "replaying log with TBR, completed variants ::   0%|          | 0/9 [00:00<?, ?it/s]"
      ]
     },
     "metadata": {},
     "output_type": "display_data"
    },
    {
     "name": "stdout",
     "output_type": "stream",
     "text": [
      "2022-08-10 02:05:54 score evaluated: 0.7441444372153545\n",
      "final score: 0.77\n",
      "2022-08-10 02:05:54 discovering a process model...\n",
      "2022-08-10 02:05:55 process model discovered\n"
     ]
    },
    {
     "data": {
      "application/vnd.jupyter.widget-view+json": {
       "model_id": "5439f3b1740748a5968b59c16b8abf18",
       "version_major": 2,
       "version_minor": 0
      },
      "text/plain": [
       "replaying log with TBR, completed variants ::   0%|          | 0/9 [00:00<?, ?it/s]"
      ]
     },
     "metadata": {},
     "output_type": "display_data"
    },
    {
     "name": "stdout",
     "output_type": "stream",
     "text": [
      "2022-08-10 02:05:55 score evaluated: 0.7973440700713428\n",
      "2022-08-10 02:05:55 discovering a process model...\n",
      "2022-08-10 02:05:56 process model discovered\n"
     ]
    },
    {
     "data": {
      "application/vnd.jupyter.widget-view+json": {
       "model_id": "88146621633a4ec69ab1f71e61258209",
       "version_major": 2,
       "version_minor": 0
      },
      "text/plain": [
       "replaying log with TBR, completed variants ::   0%|          | 0/9 [00:00<?, ?it/s]"
      ]
     },
     "metadata": {},
     "output_type": "display_data"
    },
    {
     "name": "stdout",
     "output_type": "stream",
     "text": [
      "2022-08-10 02:05:57 score evaluated: 0.7448128552838846\n",
      "final score: 0.771\n",
      "2022-08-10 02:05:57 discovering a process model...\n",
      "2022-08-10 02:05:57 process model discovered\n"
     ]
    },
    {
     "data": {
      "application/vnd.jupyter.widget-view+json": {
       "model_id": "11cf90e0cd7d470486c20ce4a0075a36",
       "version_major": 2,
       "version_minor": 0
      },
      "text/plain": [
       "replaying log with TBR, completed variants ::   0%|          | 0/9 [00:00<?, ?it/s]"
      ]
     },
     "metadata": {},
     "output_type": "display_data"
    },
    {
     "name": "stdout",
     "output_type": "stream",
     "text": [
      "2022-08-10 02:05:57 score evaluated: 0.9956076134699854\n",
      "2022-08-10 02:05:57 discovering a process model...\n",
      "2022-08-10 02:05:57 process model discovered\n"
     ]
    },
    {
     "data": {
      "application/vnd.jupyter.widget-view+json": {
       "model_id": "2aa6680cd39c4d6aa24f47598eafd47e",
       "version_major": 2,
       "version_minor": 0
      },
      "text/plain": [
       "replaying log with TBR, completed variants ::   0%|          | 0/9 [00:00<?, ?it/s]"
      ]
     },
     "metadata": {},
     "output_type": "display_data"
    },
    {
     "name": "stdout",
     "output_type": "stream",
     "text": [
      "2022-08-10 02:05:57 score evaluated: 0.9936305732484076\n",
      "final score: 0.995\n",
      "2022-08-10 02:05:57 discovering a process model...\n",
      "2022-08-10 02:05:58 process model discovered\n"
     ]
    },
    {
     "data": {
      "application/vnd.jupyter.widget-view+json": {
       "model_id": "0977abcad14d425cb663ef73809ff731",
       "version_major": 2,
       "version_minor": 0
      },
      "text/plain": [
       "replaying log with TBR, completed variants ::   0%|          | 0/9 [00:00<?, ?it/s]"
      ]
     },
     "metadata": {},
     "output_type": "display_data"
    },
    {
     "name": "stdout",
     "output_type": "stream",
     "text": [
      "2022-08-10 02:06:01 score evaluated: 0.7065786003165113\n",
      "2022-08-10 02:06:01 discovering a process model...\n",
      "2022-08-10 02:06:02 process model discovered\n"
     ]
    },
    {
     "data": {
      "application/vnd.jupyter.widget-view+json": {
       "model_id": "0c2ccb7daac24ac0b44c8fa11b53c242",
       "version_major": 2,
       "version_minor": 0
      },
      "text/plain": [
       "replaying log with TBR, completed variants ::   0%|          | 0/9 [00:00<?, ?it/s]"
      ]
     },
     "metadata": {},
     "output_type": "display_data"
    },
    {
     "name": "stdout",
     "output_type": "stream",
     "text": [
      "2022-08-10 02:06:05 score evaluated: 0.7161074707407666\n",
      "final score: 0.711\n",
      "2022-08-10 02:06:05 discovering a process model...\n",
      "2022-08-10 02:06:06 process model discovered\n"
     ]
    },
    {
     "data": {
      "application/vnd.jupyter.widget-view+json": {
       "model_id": "26e07762ae3c42b29a6a3207a624304d",
       "version_major": 2,
       "version_minor": 0
      },
      "text/plain": [
       "replaying log with TBR, completed variants ::   0%|          | 0/9 [00:00<?, ?it/s]"
      ]
     },
     "metadata": {},
     "output_type": "display_data"
    },
    {
     "name": "stdout",
     "output_type": "stream",
     "text": [
      "2022-08-10 02:06:08 score evaluated: 0.7065786003165113\n",
      "2022-08-10 02:06:08 discovering a process model...\n",
      "2022-08-10 02:06:10 process model discovered\n"
     ]
    },
    {
     "data": {
      "application/vnd.jupyter.widget-view+json": {
       "model_id": "02db40c4aa8f4baa867a4f5ae4118c4c",
       "version_major": 2,
       "version_minor": 0
      },
      "text/plain": [
       "replaying log with TBR, completed variants ::   0%|          | 0/9 [00:00<?, ?it/s]"
      ]
     },
     "metadata": {},
     "output_type": "display_data"
    },
    {
     "name": "stdout",
     "output_type": "stream",
     "text": [
      "2022-08-10 02:06:12 score evaluated: 0.7142162171759316\n",
      "final score: 0.71\n",
      "2022-08-10 02:06:12 discovering a process model...\n",
      "2022-08-10 02:06:12 process model discovered\n"
     ]
    },
    {
     "data": {
      "application/vnd.jupyter.widget-view+json": {
       "model_id": "e3b6be71f4db479883ec6a8ac3bdd4b8",
       "version_major": 2,
       "version_minor": 0
      },
      "text/plain": [
       "replaying log with TBR, completed variants ::   0%|          | 0/9 [00:00<?, ?it/s]"
      ]
     },
     "metadata": {},
     "output_type": "display_data"
    },
    {
     "name": "stdout",
     "output_type": "stream",
     "text": [
      "2022-08-10 02:06:13 score evaluated: 0.9956076134699854\n",
      "2022-08-10 02:06:13 discovering a process model...\n",
      "2022-08-10 02:06:13 process model discovered\n"
     ]
    },
    {
     "data": {
      "application/vnd.jupyter.widget-view+json": {
       "model_id": "37a8a501d90d4a3c93f7d18a57f1e31e",
       "version_major": 2,
       "version_minor": 0
      },
      "text/plain": [
       "replaying log with TBR, completed variants ::   0%|          | 0/9 [00:00<?, ?it/s]"
      ]
     },
     "metadata": {},
     "output_type": "display_data"
    },
    {
     "name": "stdout",
     "output_type": "stream",
     "text": [
      "2022-08-10 02:06:13 score evaluated: 0.9936305732484076\n",
      "final score: 0.995\n",
      "2022-08-10 02:06:13 miner: heuristics_miner metric: precision\n",
      "2022-08-10 02:06:13 discovering a process model...\n",
      "2022-08-10 02:06:13 process model discovered\n"
     ]
    },
    {
     "data": {
      "application/vnd.jupyter.widget-view+json": {
       "model_id": "97ee95dc4e0f40c5b7e302d6b2c998aa",
       "version_major": 2,
       "version_minor": 0
      },
      "text/plain": [
       "replaying log with TBR, completed variants ::   0%|          | 0/507 [00:00<?, ?it/s]"
      ]
     },
     "metadata": {},
     "output_type": "display_data"
    },
    {
     "name": "stdout",
     "output_type": "stream",
     "text": [
      "2022-08-10 02:06:15 score evaluated: 0.0892857142857143\n",
      "2022-08-10 02:06:15 discovering a process model...\n",
      "2022-08-10 02:06:16 process model discovered\n"
     ]
    },
    {
     "data": {
      "application/vnd.jupyter.widget-view+json": {
       "model_id": "0f69b1db790f458085787d167b80ce4f",
       "version_major": 2,
       "version_minor": 0
      },
      "text/plain": [
       "replaying log with TBR, completed variants ::   0%|          | 0/484 [00:00<?, ?it/s]"
      ]
     },
     "metadata": {},
     "output_type": "display_data"
    },
    {
     "name": "stdout",
     "output_type": "stream",
     "text": [
      "2022-08-10 02:06:17 score evaluated: 0.375\n",
      "final score: 0.232\n",
      "2022-08-10 02:06:17 discovering a process model...\n",
      "2022-08-10 02:06:18 process model discovered\n"
     ]
    },
    {
     "data": {
      "application/vnd.jupyter.widget-view+json": {
       "model_id": "65224321e69d46ce849d7c925a7375c9",
       "version_major": 2,
       "version_minor": 0
      },
      "text/plain": [
       "replaying log with TBR, completed variants ::   0%|          | 0/507 [00:00<?, ?it/s]"
      ]
     },
     "metadata": {},
     "output_type": "display_data"
    },
    {
     "name": "stdout",
     "output_type": "stream",
     "text": [
      "2022-08-10 02:06:20 score evaluated: 0.0892857142857143\n",
      "2022-08-10 02:06:20 discovering a process model...\n",
      "2022-08-10 02:06:20 process model discovered\n"
     ]
    },
    {
     "data": {
      "application/vnd.jupyter.widget-view+json": {
       "model_id": "fba0bdb80bd54c5485fe7e5a54bca213",
       "version_major": 2,
       "version_minor": 0
      },
      "text/plain": [
       "replaying log with TBR, completed variants ::   0%|          | 0/484 [00:00<?, ?it/s]"
      ]
     },
     "metadata": {},
     "output_type": "display_data"
    },
    {
     "name": "stdout",
     "output_type": "stream",
     "text": [
      "2022-08-10 02:06:22 score evaluated: 0.375\n",
      "final score: 0.232\n",
      "2022-08-10 02:06:22 discovering a process model...\n",
      "2022-08-10 02:06:22 process model discovered\n"
     ]
    },
    {
     "data": {
      "application/vnd.jupyter.widget-view+json": {
       "model_id": "9e9ca1be974a4f129fe54753d032d232",
       "version_major": 2,
       "version_minor": 0
      },
      "text/plain": [
       "replaying log with TBR, completed variants ::   0%|          | 0/485 [00:00<?, ?it/s]"
      ]
     },
     "metadata": {},
     "output_type": "display_data"
    },
    {
     "name": "stdout",
     "output_type": "stream",
     "text": [
      "2022-08-10 02:06:25 score evaluated: 0.19489559164733183\n",
      "2022-08-10 02:06:25 discovering a process model...\n",
      "2022-08-10 02:06:25 process model discovered\n"
     ]
    },
    {
     "data": {
      "application/vnd.jupyter.widget-view+json": {
       "model_id": "802e2c04d56344bf862ed295c65edd15",
       "version_major": 2,
       "version_minor": 0
      },
      "text/plain": [
       "replaying log with TBR, completed variants ::   0%|          | 0/485 [00:00<?, ?it/s]"
      ]
     },
     "metadata": {},
     "output_type": "display_data"
    },
    {
     "name": "stdout",
     "output_type": "stream",
     "text": [
      "2022-08-10 02:06:26 score evaluated: 0.7142857142857143\n",
      "final score: 0.455\n",
      "2022-08-10 02:06:26 discovering a process model...\n",
      "2022-08-10 02:06:27 process model discovered\n"
     ]
    },
    {
     "data": {
      "application/vnd.jupyter.widget-view+json": {
       "model_id": "9464a396265e4ac9bb275b1a89c7d874",
       "version_major": 2,
       "version_minor": 0
      },
      "text/plain": [
       "replaying log with TBR, completed variants ::   0%|          | 0/509 [00:00<?, ?it/s]"
      ]
     },
     "metadata": {},
     "output_type": "display_data"
    },
    {
     "name": "stdout",
     "output_type": "stream",
     "text": [
      "2022-08-10 02:06:29 score evaluated: 0.0\n",
      "2022-08-10 02:06:29 discovering a process model...\n",
      "2022-08-10 02:06:30 process model discovered\n"
     ]
    },
    {
     "data": {
      "application/vnd.jupyter.widget-view+json": {
       "model_id": "47103252f9ed431f8d5f5026b84c923a",
       "version_major": 2,
       "version_minor": 0
      },
      "text/plain": [
       "replaying log with TBR, completed variants ::   0%|          | 0/485 [00:00<?, ?it/s]"
      ]
     },
     "metadata": {},
     "output_type": "display_data"
    },
    {
     "name": "stdout",
     "output_type": "stream",
     "text": [
      "2022-08-10 02:06:31 score evaluated: 0.0\n",
      "final score: 0.0\n",
      "2022-08-10 02:06:31 discovering a process model...\n",
      "2022-08-10 02:06:32 process model discovered\n"
     ]
    },
    {
     "data": {
      "application/vnd.jupyter.widget-view+json": {
       "model_id": "064eb903b50d4c69be15b38f92f91574",
       "version_major": 2,
       "version_minor": 0
      },
      "text/plain": [
       "replaying log with TBR, completed variants ::   0%|          | 0/509 [00:00<?, ?it/s]"
      ]
     },
     "metadata": {},
     "output_type": "display_data"
    },
    {
     "name": "stdout",
     "output_type": "stream",
     "text": [
      "2022-08-10 02:06:34 score evaluated: 0.0\n",
      "2022-08-10 02:06:34 discovering a process model...\n",
      "2022-08-10 02:06:34 process model discovered\n"
     ]
    },
    {
     "data": {
      "application/vnd.jupyter.widget-view+json": {
       "model_id": "e5a1b9877dc348d282b217c97ac863d8",
       "version_major": 2,
       "version_minor": 0
      },
      "text/plain": [
       "replaying log with TBR, completed variants ::   0%|          | 0/485 [00:00<?, ?it/s]"
      ]
     },
     "metadata": {},
     "output_type": "display_data"
    },
    {
     "name": "stdout",
     "output_type": "stream",
     "text": [
      "2022-08-10 02:06:36 score evaluated: 0.0\n",
      "final score: 0.0\n",
      "2022-08-10 02:06:36 discovering a process model...\n",
      "2022-08-10 02:06:36 process model discovered\n"
     ]
    },
    {
     "data": {
      "application/vnd.jupyter.widget-view+json": {
       "model_id": "161b5ee7d30c4df8a65c7c979173310a",
       "version_major": 2,
       "version_minor": 0
      },
      "text/plain": [
       "replaying log with TBR, completed variants ::   0%|          | 0/454 [00:00<?, ?it/s]"
      ]
     },
     "metadata": {},
     "output_type": "display_data"
    },
    {
     "name": "stdout",
     "output_type": "stream",
     "text": [
      "2022-08-10 02:06:42 score evaluated: 0.6657381615598885\n",
      "2022-08-10 02:06:42 discovering a process model...\n",
      "2022-08-10 02:06:42 process model discovered\n"
     ]
    },
    {
     "data": {
      "application/vnd.jupyter.widget-view+json": {
       "model_id": "6af08405c80e4069a6b5a67a63b285fc",
       "version_major": 2,
       "version_minor": 0
      },
      "text/plain": [
       "replaying log with TBR, completed variants ::   0%|          | 0/485 [00:00<?, ?it/s]"
      ]
     },
     "metadata": {},
     "output_type": "display_data"
    },
    {
     "name": "stdout",
     "output_type": "stream",
     "text": [
      "2022-08-10 02:06:53 score evaluated: 0.3841059602649006\n",
      "final score: 0.525\n",
      "2022-08-10 02:06:53 discovering a process model...\n",
      "2022-08-10 02:06:54 process model discovered\n"
     ]
    },
    {
     "data": {
      "application/vnd.jupyter.widget-view+json": {
       "model_id": "a25ff3c5d0d14e3b95ce819bbc5b0c74",
       "version_major": 2,
       "version_minor": 0
      },
      "text/plain": [
       "replaying log with TBR, completed variants ::   0%|          | 0/465 [00:00<?, ?it/s]"
      ]
     },
     "metadata": {},
     "output_type": "display_data"
    },
    {
     "name": "stdout",
     "output_type": "stream",
     "text": [
      "2022-08-10 02:06:56 score evaluated: 0.5942028985507246\n",
      "2022-08-10 02:06:56 discovering a process model...\n",
      "2022-08-10 02:06:56 process model discovered\n"
     ]
    },
    {
     "data": {
      "application/vnd.jupyter.widget-view+json": {
       "model_id": "d6ae50193b2244eea03e34b8b7a73b87",
       "version_major": 2,
       "version_minor": 0
      },
      "text/plain": [
       "replaying log with TBR, completed variants ::   0%|          | 0/484 [00:00<?, ?it/s]"
      ]
     },
     "metadata": {},
     "output_type": "display_data"
    },
    {
     "name": "stdout",
     "output_type": "stream",
     "text": [
      "2022-08-10 02:06:58 score evaluated: 0.4411764705882353\n",
      "final score: 0.518\n",
      "2022-08-10 02:06:58 discovering a process model...\n",
      "2022-08-10 02:06:58 process model discovered\n"
     ]
    },
    {
     "data": {
      "application/vnd.jupyter.widget-view+json": {
       "model_id": "5508026647fb4bcf8c6d200802966c03",
       "version_major": 2,
       "version_minor": 0
      },
      "text/plain": [
       "replaying log with TBR, completed variants ::   0%|          | 0/465 [00:00<?, ?it/s]"
      ]
     },
     "metadata": {},
     "output_type": "display_data"
    },
    {
     "name": "stdout",
     "output_type": "stream",
     "text": [
      "2022-08-10 02:07:00 score evaluated: 0.5942028985507246\n",
      "2022-08-10 02:07:00 discovering a process model...\n",
      "2022-08-10 02:07:00 process model discovered\n"
     ]
    },
    {
     "data": {
      "application/vnd.jupyter.widget-view+json": {
       "model_id": "a1b0bc09fbf447e0bb111cd74891201e",
       "version_major": 2,
       "version_minor": 0
      },
      "text/plain": [
       "replaying log with TBR, completed variants ::   0%|          | 0/484 [00:00<?, ?it/s]"
      ]
     },
     "metadata": {},
     "output_type": "display_data"
    },
    {
     "name": "stdout",
     "output_type": "stream",
     "text": [
      "2022-08-10 02:07:02 score evaluated: 0.4411764705882353\n",
      "final score: 0.518\n",
      "2022-08-10 02:07:02 discovering a process model...\n",
      "2022-08-10 02:07:02 process model discovered\n"
     ]
    },
    {
     "data": {
      "application/vnd.jupyter.widget-view+json": {
       "model_id": "942a024095f44ca48387a3984f050817",
       "version_major": 2,
       "version_minor": 0
      },
      "text/plain": [
       "replaying log with TBR, completed variants ::   0%|          | 0/301 [00:00<?, ?it/s]"
      ]
     },
     "metadata": {},
     "output_type": "display_data"
    },
    {
     "name": "stdout",
     "output_type": "stream",
     "text": [
      "2022-08-10 02:07:04 score evaluated: 0.4601063829787234\n",
      "2022-08-10 02:07:04 discovering a process model...\n",
      "2022-08-10 02:07:04 process model discovered\n"
     ]
    },
    {
     "data": {
      "application/vnd.jupyter.widget-view+json": {
       "model_id": "f20f4735a81c48c0870786ce0e0e9844",
       "version_major": 2,
       "version_minor": 0
      },
      "text/plain": [
       "replaying log with TBR, completed variants ::   0%|          | 0/361 [00:00<?, ?it/s]"
      ]
     },
     "metadata": {},
     "output_type": "display_data"
    },
    {
     "name": "stdout",
     "output_type": "stream",
     "text": [
      "2022-08-10 02:07:07 score evaluated: 0.36866359447004604\n",
      "final score: 0.414\n",
      "2022-08-10 02:07:07 discovering a process model...\n",
      "2022-08-10 02:07:08 process model discovered\n"
     ]
    },
    {
     "data": {
      "application/vnd.jupyter.widget-view+json": {
       "model_id": "31c2bfd957dc4599868778fa16d2b84c",
       "version_major": 2,
       "version_minor": 0
      },
      "text/plain": [
       "replaying log with TBR, completed variants ::   0%|          | 0/482 [00:00<?, ?it/s]"
      ]
     },
     "metadata": {},
     "output_type": "display_data"
    },
    {
     "name": "stdout",
     "output_type": "stream",
     "text": [
      "2022-08-10 02:07:11 score evaluated: 0.15267175572519087\n",
      "2022-08-10 02:07:11 discovering a process model...\n",
      "2022-08-10 02:07:12 process model discovered\n"
     ]
    },
    {
     "data": {
      "application/vnd.jupyter.widget-view+json": {
       "model_id": "cdbc7e85256c46afa272eb374a4fedc2",
       "version_major": 2,
       "version_minor": 0
      },
      "text/plain": [
       "replaying log with TBR, completed variants ::   0%|          | 0/499 [00:00<?, ?it/s]"
      ]
     },
     "metadata": {},
     "output_type": "display_data"
    },
    {
     "name": "stdout",
     "output_type": "stream",
     "text": [
      "2022-08-10 02:07:16 score evaluated: 0.19626168224299068\n",
      "final score: 0.174\n",
      "2022-08-10 02:07:16 discovering a process model...\n",
      "2022-08-10 02:07:17 process model discovered\n"
     ]
    },
    {
     "data": {
      "application/vnd.jupyter.widget-view+json": {
       "model_id": "ccc8f85616bc484aa001212fe44f6abb",
       "version_major": 2,
       "version_minor": 0
      },
      "text/plain": [
       "replaying log with TBR, completed variants ::   0%|          | 0/482 [00:00<?, ?it/s]"
      ]
     },
     "metadata": {},
     "output_type": "display_data"
    },
    {
     "name": "stdout",
     "output_type": "stream",
     "text": [
      "2022-08-10 02:07:20 score evaluated: 0.15267175572519087\n",
      "2022-08-10 02:07:20 discovering a process model...\n",
      "2022-08-10 02:07:21 process model discovered\n"
     ]
    },
    {
     "data": {
      "application/vnd.jupyter.widget-view+json": {
       "model_id": "2b2314b7d57e4984899e1abe8e7e46aa",
       "version_major": 2,
       "version_minor": 0
      },
      "text/plain": [
       "replaying log with TBR, completed variants ::   0%|          | 0/499 [00:00<?, ?it/s]"
      ]
     },
     "metadata": {},
     "output_type": "display_data"
    },
    {
     "name": "stdout",
     "output_type": "stream",
     "text": [
      "2022-08-10 02:07:24 score evaluated: 0.19626168224299068\n",
      "final score: 0.174\n",
      "2022-08-10 02:07:24 discovering a process model...\n",
      "2022-08-10 02:07:24 process model discovered\n"
     ]
    },
    {
     "data": {
      "application/vnd.jupyter.widget-view+json": {
       "model_id": "3b458c2507664fc6a30fa8de87e7302c",
       "version_major": 2,
       "version_minor": 0
      },
      "text/plain": [
       "replaying log with TBR, completed variants ::   0%|          | 0/301 [00:00<?, ?it/s]"
      ]
     },
     "metadata": {},
     "output_type": "display_data"
    },
    {
     "name": "stdout",
     "output_type": "stream",
     "text": [
      "2022-08-10 02:07:27 score evaluated: 0.4601063829787234\n",
      "2022-08-10 02:07:27 discovering a process model...\n",
      "2022-08-10 02:07:27 process model discovered\n"
     ]
    },
    {
     "data": {
      "application/vnd.jupyter.widget-view+json": {
       "model_id": "8288adee3da747dca650b43b921f6890",
       "version_major": 2,
       "version_minor": 0
      },
      "text/plain": [
       "replaying log with TBR, completed variants ::   0%|          | 0/361 [00:00<?, ?it/s]"
      ]
     },
     "metadata": {},
     "output_type": "display_data"
    },
    {
     "name": "stdout",
     "output_type": "stream",
     "text": [
      "2022-08-10 02:07:29 score evaluated: 0.36866359447004604\n",
      "final score: 0.414\n",
      "2022-08-10 02:07:29 miner: heuristics_miner metric: generalization\n",
      "2022-08-10 02:07:29 discovering a process model...\n",
      "2022-08-10 02:07:30 process model discovered\n"
     ]
    },
    {
     "data": {
      "application/vnd.jupyter.widget-view+json": {
       "model_id": "f9c1cbab317e48358fe5f27a0f201cca",
       "version_major": 2,
       "version_minor": 0
      },
      "text/plain": [
       "replaying log with TBR, completed variants ::   0%|          | 0/4 [00:00<?, ?it/s]"
      ]
     },
     "metadata": {},
     "output_type": "display_data"
    },
    {
     "name": "stdout",
     "output_type": "stream",
     "text": [
      "2022-08-10 02:07:31 score evaluated: 0.253073880524051\n",
      "2022-08-10 02:07:31 discovering a process model...\n",
      "2022-08-10 02:07:32 process model discovered\n"
     ]
    },
    {
     "data": {
      "application/vnd.jupyter.widget-view+json": {
       "model_id": "258ffd05174f4cd9bc26452cfbda702a",
       "version_major": 2,
       "version_minor": 0
      },
      "text/plain": [
       "replaying log with TBR, completed variants ::   0%|          | 0/2 [00:00<?, ?it/s]"
      ]
     },
     "metadata": {},
     "output_type": "display_data"
    },
    {
     "name": "stdout",
     "output_type": "stream",
     "text": [
      "2022-08-10 02:07:33 score evaluated: 0.223829807050006\n",
      "final score: 0.238\n",
      "2022-08-10 02:07:33 discovering a process model...\n",
      "2022-08-10 02:07:34 process model discovered\n"
     ]
    },
    {
     "data": {
      "application/vnd.jupyter.widget-view+json": {
       "model_id": "1b950485c0f94a69872dbf1f90b9e95b",
       "version_major": 2,
       "version_minor": 0
      },
      "text/plain": [
       "replaying log with TBR, completed variants ::   0%|          | 0/4 [00:00<?, ?it/s]"
      ]
     },
     "metadata": {},
     "output_type": "display_data"
    },
    {
     "name": "stdout",
     "output_type": "stream",
     "text": [
      "2022-08-10 02:07:35 score evaluated: 0.253073880524051\n",
      "2022-08-10 02:07:35 discovering a process model...\n",
      "2022-08-10 02:07:36 process model discovered\n"
     ]
    },
    {
     "data": {
      "application/vnd.jupyter.widget-view+json": {
       "model_id": "b89112a176e045a78fe6bc9c679556a2",
       "version_major": 2,
       "version_minor": 0
      },
      "text/plain": [
       "replaying log with TBR, completed variants ::   0%|          | 0/2 [00:00<?, ?it/s]"
      ]
     },
     "metadata": {},
     "output_type": "display_data"
    },
    {
     "name": "stdout",
     "output_type": "stream",
     "text": [
      "2022-08-10 02:07:38 score evaluated: 0.22297549480935708\n",
      "final score: 0.238\n",
      "2022-08-10 02:07:38 discovering a process model...\n",
      "2022-08-10 02:07:38 process model discovered\n"
     ]
    },
    {
     "data": {
      "application/vnd.jupyter.widget-view+json": {
       "model_id": "9bd9e3b4379f4507b3f63d7f88abf916",
       "version_major": 2,
       "version_minor": 0
      },
      "text/plain": [
       "replaying log with TBR, completed variants ::   0%|          | 0/4 [00:00<?, ?it/s]"
      ]
     },
     "metadata": {},
     "output_type": "display_data"
    },
    {
     "name": "stdout",
     "output_type": "stream",
     "text": [
      "2022-08-10 02:07:38 score evaluated: 0.3875470157590166\n",
      "2022-08-10 02:07:38 discovering a process model...\n",
      "2022-08-10 02:07:38 process model discovered\n"
     ]
    },
    {
     "data": {
      "application/vnd.jupyter.widget-view+json": {
       "model_id": "97fef01cc6b8407983a38a8b7b1eb96d",
       "version_major": 2,
       "version_minor": 0
      },
      "text/plain": [
       "replaying log with TBR, completed variants ::   0%|          | 0/2 [00:00<?, ?it/s]"
      ]
     },
     "metadata": {},
     "output_type": "display_data"
    },
    {
     "name": "stdout",
     "output_type": "stream",
     "text": [
      "2022-08-10 02:07:38 score evaluated: 0.46640874466526006\n",
      "final score: 0.427\n",
      "2022-08-10 02:07:38 discovering a process model...\n",
      "2022-08-10 02:07:39 process model discovered\n"
     ]
    },
    {
     "data": {
      "application/vnd.jupyter.widget-view+json": {
       "model_id": "cddc1d75b06a4dbfba7afa707098822d",
       "version_major": 2,
       "version_minor": 0
      },
      "text/plain": [
       "replaying log with TBR, completed variants ::   0%|          | 0/4 [00:00<?, ?it/s]"
      ]
     },
     "metadata": {},
     "output_type": "display_data"
    },
    {
     "name": "stdout",
     "output_type": "stream",
     "text": [
      "2022-08-10 02:07:47 score evaluated: 0.1925053370238825\n",
      "2022-08-10 02:07:47 discovering a process model...\n",
      "2022-08-10 02:07:48 process model discovered\n"
     ]
    },
    {
     "data": {
      "application/vnd.jupyter.widget-view+json": {
       "model_id": "5b8eb076e8f94537bb478530e012593f",
       "version_major": 2,
       "version_minor": 0
      },
      "text/plain": [
       "replaying log with TBR, completed variants ::   0%|          | 0/2 [00:00<?, ?it/s]"
      ]
     },
     "metadata": {},
     "output_type": "display_data"
    },
    {
     "name": "stdout",
     "output_type": "stream",
     "text": [
      "2022-08-10 02:07:56 score evaluated: 0.18347499758592\n",
      "final score: 0.188\n",
      "2022-08-10 02:07:56 discovering a process model...\n",
      "2022-08-10 02:07:57 process model discovered\n"
     ]
    },
    {
     "data": {
      "application/vnd.jupyter.widget-view+json": {
       "model_id": "7ad87af673844686803c553b21ca8be3",
       "version_major": 2,
       "version_minor": 0
      },
      "text/plain": [
       "replaying log with TBR, completed variants ::   0%|          | 0/4 [00:00<?, ?it/s]"
      ]
     },
     "metadata": {},
     "output_type": "display_data"
    },
    {
     "name": "stdout",
     "output_type": "stream",
     "text": [
      "2022-08-10 02:08:05 score evaluated: 0.19378351021069573\n",
      "2022-08-10 02:08:05 discovering a process model...\n",
      "2022-08-10 02:08:06 process model discovered\n"
     ]
    },
    {
     "data": {
      "application/vnd.jupyter.widget-view+json": {
       "model_id": "90f252b2b8f445ae83a16401242cfaf6",
       "version_major": 2,
       "version_minor": 0
      },
      "text/plain": [
       "replaying log with TBR, completed variants ::   0%|          | 0/2 [00:00<?, ?it/s]"
      ]
     },
     "metadata": {},
     "output_type": "display_data"
    },
    {
     "name": "stdout",
     "output_type": "stream",
     "text": [
      "2022-08-10 02:08:14 score evaluated: 0.18347499758592\n",
      "final score: 0.189\n",
      "2022-08-10 02:08:14 discovering a process model...\n",
      "2022-08-10 02:08:14 process model discovered\n"
     ]
    },
    {
     "data": {
      "application/vnd.jupyter.widget-view+json": {
       "model_id": "93cb4adc61de4cc0939b5a0218ba29e4",
       "version_major": 2,
       "version_minor": 0
      },
      "text/plain": [
       "replaying log with TBR, completed variants ::   0%|          | 0/4 [00:00<?, ?it/s]"
      ]
     },
     "metadata": {},
     "output_type": "display_data"
    },
    {
     "name": "stdout",
     "output_type": "stream",
     "text": [
      "2022-08-10 02:08:14 score evaluated: 0.4680229510106587\n",
      "2022-08-10 02:08:14 discovering a process model...\n",
      "2022-08-10 02:08:14 process model discovered\n"
     ]
    },
    {
     "data": {
      "application/vnd.jupyter.widget-view+json": {
       "model_id": "167c3a8d6bad4ce1a18138f839f68011",
       "version_major": 2,
       "version_minor": 0
      },
      "text/plain": [
       "replaying log with TBR, completed variants ::   0%|          | 0/2 [00:00<?, ?it/s]"
      ]
     },
     "metadata": {},
     "output_type": "display_data"
    },
    {
     "name": "stdout",
     "output_type": "stream",
     "text": [
      "2022-08-10 02:08:14 score evaluated: 0.4262718339463023\n",
      "final score: 0.447\n",
      "2022-08-10 02:08:14 discovering a process model...\n",
      "2022-08-10 02:08:15 process model discovered\n"
     ]
    },
    {
     "data": {
      "application/vnd.jupyter.widget-view+json": {
       "model_id": "3666a35fe32a41a1b009b68a0624d9c8",
       "version_major": 2,
       "version_minor": 0
      },
      "text/plain": [
       "replaying log with TBR, completed variants ::   0%|          | 0/9 [00:00<?, ?it/s]"
      ]
     },
     "metadata": {},
     "output_type": "display_data"
    },
    {
     "name": "stdout",
     "output_type": "stream",
     "text": [
      "2022-08-10 02:08:16 score evaluated: 0.25067402300697916\n",
      "2022-08-10 02:08:16 discovering a process model...\n",
      "2022-08-10 02:08:16 process model discovered\n"
     ]
    },
    {
     "data": {
      "application/vnd.jupyter.widget-view+json": {
       "model_id": "76b6a285b71d492d9f2eeee331a4ba25",
       "version_major": 2,
       "version_minor": 0
      },
      "text/plain": [
       "replaying log with TBR, completed variants ::   0%|          | 0/9 [00:00<?, ?it/s]"
      ]
     },
     "metadata": {},
     "output_type": "display_data"
    },
    {
     "name": "stdout",
     "output_type": "stream",
     "text": [
      "2022-08-10 02:08:17 score evaluated: 0.24345233877874162\n",
      "final score: 0.247\n",
      "2022-08-10 02:08:17 discovering a process model...\n",
      "2022-08-10 02:08:18 process model discovered\n"
     ]
    },
    {
     "data": {
      "application/vnd.jupyter.widget-view+json": {
       "model_id": "b0ad3574be1c4d0d8eb1500d1191a8f1",
       "version_major": 2,
       "version_minor": 0
      },
      "text/plain": [
       "replaying log with TBR, completed variants ::   0%|          | 0/9 [00:00<?, ?it/s]"
      ]
     },
     "metadata": {},
     "output_type": "display_data"
    },
    {
     "name": "stdout",
     "output_type": "stream",
     "text": [
      "2022-08-10 02:08:19 score evaluated: 0.25121092271465084\n",
      "2022-08-10 02:08:19 discovering a process model...\n",
      "2022-08-10 02:08:19 process model discovered\n"
     ]
    },
    {
     "data": {
      "application/vnd.jupyter.widget-view+json": {
       "model_id": "11b565c3b42f4273abe1bcade70e0096",
       "version_major": 2,
       "version_minor": 0
      },
      "text/plain": [
       "replaying log with TBR, completed variants ::   0%|          | 0/9 [00:00<?, ?it/s]"
      ]
     },
     "metadata": {},
     "output_type": "display_data"
    },
    {
     "name": "stdout",
     "output_type": "stream",
     "text": [
      "2022-08-10 02:08:20 score evaluated: 0.24486030932981595\n",
      "final score: 0.248\n",
      "2022-08-10 02:08:20 discovering a process model...\n",
      "2022-08-10 02:08:20 process model discovered\n"
     ]
    },
    {
     "data": {
      "application/vnd.jupyter.widget-view+json": {
       "model_id": "9708bf092de24816a083cfc6b0512e18",
       "version_major": 2,
       "version_minor": 0
      },
      "text/plain": [
       "replaying log with TBR, completed variants ::   0%|          | 0/9 [00:00<?, ?it/s]"
      ]
     },
     "metadata": {},
     "output_type": "display_data"
    },
    {
     "name": "stdout",
     "output_type": "stream",
     "text": [
      "2022-08-10 02:08:20 score evaluated: 0.21978489695303038\n",
      "2022-08-10 02:08:20 discovering a process model...\n",
      "2022-08-10 02:08:20 process model discovered\n"
     ]
    },
    {
     "data": {
      "application/vnd.jupyter.widget-view+json": {
       "model_id": "cf96a3b417da443cbfc3895c82a2948f",
       "version_major": 2,
       "version_minor": 0
      },
      "text/plain": [
       "replaying log with TBR, completed variants ::   0%|          | 0/9 [00:00<?, ?it/s]"
      ]
     },
     "metadata": {},
     "output_type": "display_data"
    },
    {
     "name": "stdout",
     "output_type": "stream",
     "text": [
      "2022-08-10 02:08:20 score evaluated: 0.2323294052017062\n",
      "final score: 0.226\n",
      "2022-08-10 02:08:20 discovering a process model...\n",
      "2022-08-10 02:08:22 process model discovered\n"
     ]
    },
    {
     "data": {
      "application/vnd.jupyter.widget-view+json": {
       "model_id": "af2f385626784ed084b3932f4ca91459",
       "version_major": 2,
       "version_minor": 0
      },
      "text/plain": [
       "replaying log with TBR, completed variants ::   0%|          | 0/9 [00:00<?, ?it/s]"
      ]
     },
     "metadata": {},
     "output_type": "display_data"
    },
    {
     "name": "stdout",
     "output_type": "stream",
     "text": [
      "2022-08-10 02:08:24 score evaluated: 0.1889400125778179\n",
      "2022-08-10 02:08:24 discovering a process model...\n",
      "2022-08-10 02:08:26 process model discovered\n"
     ]
    },
    {
     "data": {
      "application/vnd.jupyter.widget-view+json": {
       "model_id": "d46ae28f52e244c992913dfbd817e26f",
       "version_major": 2,
       "version_minor": 0
      },
      "text/plain": [
       "replaying log with TBR, completed variants ::   0%|          | 0/9 [00:00<?, ?it/s]"
      ]
     },
     "metadata": {},
     "output_type": "display_data"
    },
    {
     "name": "stdout",
     "output_type": "stream",
     "text": [
      "2022-08-10 02:08:29 score evaluated: 0.16629587279601166\n",
      "final score: 0.178\n",
      "2022-08-10 02:08:29 discovering a process model...\n",
      "2022-08-10 02:08:30 process model discovered\n"
     ]
    },
    {
     "data": {
      "application/vnd.jupyter.widget-view+json": {
       "model_id": "818a183958fa445c9f2b3f401c7c9821",
       "version_major": 2,
       "version_minor": 0
      },
      "text/plain": [
       "replaying log with TBR, completed variants ::   0%|          | 0/9 [00:00<?, ?it/s]"
      ]
     },
     "metadata": {},
     "output_type": "display_data"
    },
    {
     "name": "stdout",
     "output_type": "stream",
     "text": [
      "2022-08-10 02:08:32 score evaluated: 0.18917413601126742\n",
      "2022-08-10 02:08:32 discovering a process model...\n",
      "2022-08-10 02:08:33 process model discovered\n"
     ]
    },
    {
     "data": {
      "application/vnd.jupyter.widget-view+json": {
       "model_id": "b6baa2c4dad148309b72d1be152016c5",
       "version_major": 2,
       "version_minor": 0
      },
      "text/plain": [
       "replaying log with TBR, completed variants ::   0%|          | 0/9 [00:00<?, ?it/s]"
      ]
     },
     "metadata": {},
     "output_type": "display_data"
    },
    {
     "name": "stdout",
     "output_type": "stream",
     "text": [
      "2022-08-10 02:08:36 score evaluated: 0.16629587279601166\n",
      "final score: 0.178\n",
      "2022-08-10 02:08:36 discovering a process model...\n",
      "2022-08-10 02:08:36 process model discovered\n"
     ]
    },
    {
     "data": {
      "application/vnd.jupyter.widget-view+json": {
       "model_id": "73ca8b792cc24a3d9aa7c478f1319895",
       "version_major": 2,
       "version_minor": 0
      },
      "text/plain": [
       "replaying log with TBR, completed variants ::   0%|          | 0/9 [00:00<?, ?it/s]"
      ]
     },
     "metadata": {},
     "output_type": "display_data"
    },
    {
     "name": "stdout",
     "output_type": "stream",
     "text": [
      "2022-08-10 02:08:36 score evaluated: 0.21978489695303038\n",
      "2022-08-10 02:08:36 discovering a process model...\n",
      "2022-08-10 02:08:36 process model discovered\n"
     ]
    },
    {
     "data": {
      "application/vnd.jupyter.widget-view+json": {
       "model_id": "b56ac385ac4c44adb45eb609b1f0a1f4",
       "version_major": 2,
       "version_minor": 0
      },
      "text/plain": [
       "replaying log with TBR, completed variants ::   0%|          | 0/9 [00:00<?, ?it/s]"
      ]
     },
     "metadata": {},
     "output_type": "display_data"
    },
    {
     "name": "stdout",
     "output_type": "stream",
     "text": [
      "2022-08-10 02:08:36 score evaluated: 0.2323294052017062\n",
      "final score: 0.226\n",
      "2022-08-10 02:08:36 miner: heuristics_miner metric: simplicity\n",
      "2022-08-10 02:08:36 discovering a process model...\n",
      "2022-08-10 02:08:37 process model discovered\n",
      "2022-08-10 02:08:37 score evaluated: 0.611764705882353\n",
      "2022-08-10 02:08:37 discovering a process model...\n",
      "2022-08-10 02:08:38 process model discovered\n",
      "2022-08-10 02:08:38 score evaluated: 0.6055555555555556\n",
      "final score: 0.609\n",
      "2022-08-10 02:08:38 discovering a process model...\n",
      "2022-08-10 02:08:38 process model discovered\n",
      "2022-08-10 02:08:38 score evaluated: 0.611764705882353\n",
      "2022-08-10 02:08:38 discovering a process model...\n",
      "2022-08-10 02:08:39 process model discovered\n",
      "2022-08-10 02:08:39 score evaluated: 0.6054794520547946\n",
      "final score: 0.609\n",
      "2022-08-10 02:08:39 discovering a process model...\n",
      "2022-08-10 02:08:39 process model discovered\n",
      "2022-08-10 02:08:39 score evaluated: 0.6875\n",
      "2022-08-10 02:08:39 discovering a process model...\n",
      "2022-08-10 02:08:39 process model discovered\n",
      "2022-08-10 02:08:39 score evaluated: 0.7142857142857143\n",
      "final score: 0.701\n",
      "2022-08-10 02:08:39 discovering a process model...\n",
      "2022-08-10 02:08:40 process model discovered\n",
      "2022-08-10 02:08:40 score evaluated: 0.5822637106184364\n",
      "2022-08-10 02:08:40 discovering a process model...\n",
      "2022-08-10 02:08:41 process model discovered\n",
      "2022-08-10 02:08:41 score evaluated: 0.5795586527293844\n",
      "final score: 0.581\n",
      "2022-08-10 02:08:41 discovering a process model...\n",
      "2022-08-10 02:08:42 process model discovered\n",
      "2022-08-10 02:08:42 score evaluated: 0.5822637106184364\n",
      "2022-08-10 02:08:42 discovering a process model...\n",
      "2022-08-10 02:08:42 process model discovered\n",
      "2022-08-10 02:08:42 score evaluated: 0.5794392523364487\n",
      "final score: 0.581\n",
      "2022-08-10 02:08:42 discovering a process model...\n",
      "2022-08-10 02:08:42 process model discovered\n",
      "2022-08-10 02:08:42 score evaluated: 0.7499999999999999\n",
      "2022-08-10 02:08:42 discovering a process model...\n",
      "2022-08-10 02:08:42 process model discovered\n",
      "2022-08-10 02:08:42 score evaluated: 0.6799999999999999\n",
      "final score: 0.715\n",
      "2022-08-10 02:08:42 discovering a process model...\n",
      "2022-08-10 02:08:43 process model discovered\n",
      "2022-08-10 02:08:43 score evaluated: 0.6139476961394769\n",
      "2022-08-10 02:08:43 discovering a process model...\n",
      "2022-08-10 02:08:44 process model discovered\n",
      "2022-08-10 02:08:44 score evaluated: 0.6342525399129173\n",
      "final score: 0.624\n",
      "2022-08-10 02:08:44 discovering a process model...\n",
      "2022-08-10 02:08:44 process model discovered\n",
      "2022-08-10 02:08:44 score evaluated: 0.6129032258064515\n",
      "2022-08-10 02:08:44 discovering a process model...\n",
      "2022-08-10 02:08:45 process model discovered\n",
      "2022-08-10 02:08:45 score evaluated: 0.6340057636887608\n",
      "final score: 0.623\n",
      "2022-08-10 02:08:45 discovering a process model...\n",
      "2022-08-10 02:08:45 process model discovered\n",
      "2022-08-10 02:08:45 score evaluated: 0.6551724137931035\n",
      "2022-08-10 02:08:45 discovering a process model...\n",
      "2022-08-10 02:08:45 process model discovered\n",
      "2022-08-10 02:08:45 score evaluated: 0.6666666666666666\n",
      "final score: 0.661\n",
      "2022-08-10 02:08:45 discovering a process model...\n",
      "2022-08-10 02:08:46 process model discovered\n",
      "2022-08-10 02:08:46 score evaluated: 0.5708333333333333\n",
      "2022-08-10 02:08:46 discovering a process model...\n",
      "2022-08-10 02:08:47 process model discovered\n",
      "2022-08-10 02:08:47 score evaluated: 0.5887096774193548\n",
      "final score: 0.58\n",
      "2022-08-10 02:08:47 discovering a process model...\n",
      "2022-08-10 02:08:48 process model discovered\n",
      "2022-08-10 02:08:48 score evaluated: 0.5708333333333333\n",
      "2022-08-10 02:08:48 discovering a process model...\n",
      "2022-08-10 02:08:50 process model discovered\n",
      "2022-08-10 02:08:50 score evaluated: 0.5887096774193548\n",
      "final score: 0.58\n",
      "2022-08-10 02:08:50 discovering a process model...\n",
      "2022-08-10 02:08:50 process model discovered\n",
      "2022-08-10 02:08:50 score evaluated: 0.6551724137931035\n",
      "2022-08-10 02:08:50 discovering a process model...\n",
      "2022-08-10 02:08:50 process model discovered\n",
      "2022-08-10 02:08:50 score evaluated: 0.6666666666666666\n",
      "final score: 0.661\n",
      "timestamp_cand: [10, 14, 20]\n",
      "case_id_cand: [0, 1, 12]\n",
      "activity_cand: [3, 6, 16]\n",
      "2022-08-10 02:08:50 miner: inductive_miner metric: Buijs2014\n",
      "2022-08-10 02:08:50 discovering a process model...\n",
      "2022-08-10 02:08:55 gave up discovering a model\n",
      "2022-08-10 02:08:55 score evaluated: 0\n",
      "2022-08-10 02:08:55 discovering a process model...\n",
      "2022-08-10 02:09:00 gave up discovering a model\n",
      "2022-08-10 02:09:00 score evaluated: 0\n",
      "final score: 0.0\n",
      "2022-08-10 02:09:00 discovering a process model...\n",
      "2022-08-10 02:09:05 gave up discovering a model\n",
      "2022-08-10 02:09:05 score evaluated: 0\n",
      "2022-08-10 02:09:05 discovering a process model...\n",
      "2022-08-10 02:09:10 gave up discovering a model\n",
      "2022-08-10 02:09:10 score evaluated: 0\n",
      "final score: 0.0\n",
      "2022-08-10 02:09:10 discovering a process model...\n",
      "2022-08-10 02:09:10 process model discovered\n"
     ]
    },
    {
     "data": {
      "application/vnd.jupyter.widget-view+json": {
       "model_id": "569ce60519594ec099ff1d330b961b15",
       "version_major": 2,
       "version_minor": 0
      },
      "text/plain": [
       "replaying log with TBR, completed variants ::   0%|          | 0/2 [00:00<?, ?it/s]"
      ]
     },
     "metadata": {},
     "output_type": "display_data"
    },
    {
     "data": {
      "application/vnd.jupyter.widget-view+json": {
       "model_id": "e5dec1992b044a2f9891115e60e26728",
       "version_major": 2,
       "version_minor": 0
      },
      "text/plain": [
       "replaying log with TBR, completed variants ::   0%|          | 0/454 [00:00<?, ?it/s]"
      ]
     },
     "metadata": {},
     "output_type": "display_data"
    },
    {
     "name": "stdout",
     "output_type": "stream",
     "text": [
      "2022-08-10 02:10:10 gave up evaluating a model\n",
      "2022-08-10 02:10:10 score evaluated: 0\n",
      "2022-08-10 02:10:10 discovering a process model...\n",
      "2022-08-10 02:10:10 process model discovered\n"
     ]
    },
    {
     "data": {
      "application/vnd.jupyter.widget-view+json": {
       "model_id": "a651b1e5c1dc43eeb3121d28988c6d3e",
       "version_major": 2,
       "version_minor": 0
      },
      "text/plain": [
       "replaying log with TBR, completed variants ::   0%|          | 0/3 [00:00<?, ?it/s]"
      ]
     },
     "metadata": {},
     "output_type": "display_data"
    },
    {
     "data": {
      "application/vnd.jupyter.widget-view+json": {
       "model_id": "019755359d334a89af20192d5fd7c0f3",
       "version_major": 2,
       "version_minor": 0
      },
      "text/plain": [
       "replaying log with TBR, completed variants ::   0%|          | 0/540 [00:00<?, ?it/s]"
      ]
     },
     "metadata": {},
     "output_type": "display_data"
    },
    {
     "data": {
      "application/vnd.jupyter.widget-view+json": {
       "model_id": "b7da2d8d219844f2aa4589270791e249",
       "version_major": 2,
       "version_minor": 0
      },
      "text/plain": [
       "replaying log with TBR, completed variants ::   0%|          | 0/3 [00:00<?, ?it/s]"
      ]
     },
     "metadata": {},
     "output_type": "display_data"
    },
    {
     "name": "stdout",
     "output_type": "stream",
     "text": [
      "2022-08-10 02:10:33 score evaluated: 0.8287971725417703\n",
      "final score: 0.414\n",
      "2022-08-10 02:10:33 discovering a process model...\n",
      "2022-08-10 02:10:38 gave up discovering a model\n",
      "2022-08-10 02:10:38 score evaluated: 0\n",
      "2022-08-10 02:10:38 discovering a process model...\n",
      "2022-08-10 02:10:43 gave up discovering a model\n",
      "2022-08-10 02:10:43 score evaluated: 0\n",
      "final score: 0.0\n",
      "2022-08-10 02:10:43 discovering a process model...\n",
      "2022-08-10 02:10:48 gave up discovering a model\n",
      "2022-08-10 02:10:48 score evaluated: 0\n",
      "2022-08-10 02:10:48 discovering a process model...\n",
      "2022-08-10 02:10:53 gave up discovering a model\n",
      "2022-08-10 02:10:53 score evaluated: 0\n",
      "final score: 0.0\n",
      "2022-08-10 02:10:53 discovering a process model...\n",
      "2022-08-10 02:10:54 process model discovered\n"
     ]
    },
    {
     "data": {
      "application/vnd.jupyter.widget-view+json": {
       "model_id": "b609c1cde3b846308528dad81b15d80e",
       "version_major": 2,
       "version_minor": 0
      },
      "text/plain": [
       "replaying log with TBR, completed variants ::   0%|          | 0/2 [00:00<?, ?it/s]"
      ]
     },
     "metadata": {},
     "output_type": "display_data"
    },
    {
     "data": {
      "application/vnd.jupyter.widget-view+json": {
       "model_id": "fdd184cad2254d28a757fa4fedd6c1a2",
       "version_major": 2,
       "version_minor": 0
      },
      "text/plain": [
       "replaying log with TBR, completed variants ::   0%|          | 0/452 [00:00<?, ?it/s]"
      ]
     },
     "metadata": {},
     "output_type": "display_data"
    },
    {
     "name": "stdout",
     "output_type": "stream",
     "text": [
      "2022-08-10 02:11:54 gave up evaluating a model\n",
      "2022-08-10 02:11:54 score evaluated: 0\n",
      "2022-08-10 02:11:54 discovering a process model...\n",
      "2022-08-10 02:11:54 process model discovered\n"
     ]
    },
    {
     "data": {
      "application/vnd.jupyter.widget-view+json": {
       "model_id": "12fff8d8418e480eac60db7def3a74b5",
       "version_major": 2,
       "version_minor": 0
      },
      "text/plain": [
       "replaying log with TBR, completed variants ::   0%|          | 0/3 [00:00<?, ?it/s]"
      ]
     },
     "metadata": {},
     "output_type": "display_data"
    },
    {
     "data": {
      "application/vnd.jupyter.widget-view+json": {
       "model_id": "ac4edf1b76344c35ae2c52633d163474",
       "version_major": 2,
       "version_minor": 0
      },
      "text/plain": [
       "replaying log with TBR, completed variants ::   0%|          | 0/541 [00:00<?, ?it/s]"
      ]
     },
     "metadata": {},
     "output_type": "display_data"
    },
    {
     "data": {
      "application/vnd.jupyter.widget-view+json": {
       "model_id": "5c5e762f989f48beb0f58044f700bc6c",
       "version_major": 2,
       "version_minor": 0
      },
      "text/plain": [
       "replaying log with TBR, completed variants ::   0%|          | 0/3 [00:00<?, ?it/s]"
      ]
     },
     "metadata": {},
     "output_type": "display_data"
    },
    {
     "name": "stdout",
     "output_type": "stream",
     "text": [
      "2022-08-10 02:12:15 score evaluated: 0.83248475418331\n",
      "final score: 0.416\n",
      "2022-08-10 02:12:15 discovering a process model...\n",
      "2022-08-10 02:12:20 gave up discovering a model\n",
      "2022-08-10 02:12:20 score evaluated: 0\n",
      "2022-08-10 02:12:20 discovering a process model...\n",
      "2022-08-10 02:12:25 gave up discovering a model\n",
      "2022-08-10 02:12:25 score evaluated: 0\n",
      "final score: 0.0\n",
      "2022-08-10 02:12:25 discovering a process model...\n",
      "2022-08-10 02:12:30 gave up discovering a model\n",
      "2022-08-10 02:12:30 score evaluated: 0\n",
      "2022-08-10 02:12:30 discovering a process model...\n",
      "2022-08-10 02:12:35 gave up discovering a model\n",
      "2022-08-10 02:12:35 score evaluated: 0\n",
      "final score: 0.0\n",
      "2022-08-10 02:12:35 discovering a process model...\n",
      "2022-08-10 02:12:35 process model discovered\n"
     ]
    },
    {
     "data": {
      "application/vnd.jupyter.widget-view+json": {
       "model_id": "63599be45c8d468a99153f52ef7269e4",
       "version_major": 2,
       "version_minor": 0
      },
      "text/plain": [
       "replaying log with TBR, completed variants ::   0%|          | 0/2 [00:00<?, ?it/s]"
      ]
     },
     "metadata": {},
     "output_type": "display_data"
    },
    {
     "data": {
      "application/vnd.jupyter.widget-view+json": {
       "model_id": "22911fbeb00f4ba184ccae16994489c3",
       "version_major": 2,
       "version_minor": 0
      },
      "text/plain": [
       "replaying log with TBR, completed variants ::   0%|          | 0/454 [00:00<?, ?it/s]"
      ]
     },
     "metadata": {},
     "output_type": "display_data"
    },
    {
     "data": {
      "application/vnd.jupyter.widget-view+json": {
       "model_id": "1ac44df2ad94493bbd5d87131e2dbe6a",
       "version_major": 2,
       "version_minor": 0
      },
      "text/plain": [
       "replaying log with TBR, completed variants ::   0%|          | 0/2 [00:00<?, ?it/s]"
      ]
     },
     "metadata": {},
     "output_type": "display_data"
    },
    {
     "name": "stdout",
     "output_type": "stream",
     "text": [
      "2022-08-10 02:13:33 score evaluated: 0.8528260550406647\n",
      "2022-08-10 02:13:33 discovering a process model...\n",
      "2022-08-10 02:13:33 process model discovered\n"
     ]
    },
    {
     "data": {
      "application/vnd.jupyter.widget-view+json": {
       "model_id": "1f95fc4b97ad4ff89407d0eed5cab5f8",
       "version_major": 2,
       "version_minor": 0
      },
      "text/plain": [
       "replaying log with TBR, completed variants ::   0%|          | 0/3 [00:00<?, ?it/s]"
      ]
     },
     "metadata": {},
     "output_type": "display_data"
    },
    {
     "data": {
      "application/vnd.jupyter.widget-view+json": {
       "model_id": "2d5eb764ec1947e6a9e0adf837a35a90",
       "version_major": 2,
       "version_minor": 0
      },
      "text/plain": [
       "replaying log with TBR, completed variants ::   0%|          | 0/533 [00:00<?, ?it/s]"
      ]
     },
     "metadata": {},
     "output_type": "display_data"
    },
    {
     "data": {
      "application/vnd.jupyter.widget-view+json": {
       "model_id": "6e5188cb96af454f84ecc133e41896e3",
       "version_major": 2,
       "version_minor": 0
      },
      "text/plain": [
       "replaying log with TBR, completed variants ::   0%|          | 0/3 [00:00<?, ?it/s]"
      ]
     },
     "metadata": {},
     "output_type": "display_data"
    },
    {
     "name": "stdout",
     "output_type": "stream",
     "text": [
      "2022-08-10 02:13:55 score evaluated: 0.83248475418331\n",
      "final score: 0.843\n",
      "2022-08-10 02:13:55 discovering a process model...\n",
      "2022-08-10 02:14:00 gave up discovering a model\n",
      "2022-08-10 02:14:00 score evaluated: 0\n",
      "2022-08-10 02:14:00 discovering a process model...\n",
      "2022-08-10 02:14:05 gave up discovering a model\n",
      "2022-08-10 02:14:05 score evaluated: 0\n",
      "final score: 0.0\n",
      "2022-08-10 02:14:05 discovering a process model...\n",
      "2022-08-10 02:14:10 gave up discovering a model\n",
      "2022-08-10 02:14:10 score evaluated: 0\n",
      "2022-08-10 02:14:10 discovering a process model...\n",
      "2022-08-10 02:14:15 gave up discovering a model\n",
      "2022-08-10 02:14:15 score evaluated: 0\n",
      "final score: 0.0\n",
      "2022-08-10 02:14:15 discovering a process model...\n",
      "2022-08-10 02:14:15 process model discovered\n"
     ]
    },
    {
     "data": {
      "application/vnd.jupyter.widget-view+json": {
       "model_id": "daf15e311746400c8d1ac19af82de977",
       "version_major": 2,
       "version_minor": 0
      },
      "text/plain": [
       "replaying log with TBR, completed variants ::   0%|          | 0/4 [00:00<?, ?it/s]"
      ]
     },
     "metadata": {},
     "output_type": "display_data"
    },
    {
     "data": {
      "application/vnd.jupyter.widget-view+json": {
       "model_id": "ad51a6dd38af45e4b9c034c171bbb3f5",
       "version_major": 2,
       "version_minor": 0
      },
      "text/plain": [
       "replaying log with TBR, completed variants ::   0%|          | 0/485 [00:00<?, ?it/s]"
      ]
     },
     "metadata": {},
     "output_type": "display_data"
    },
    {
     "data": {
      "application/vnd.jupyter.widget-view+json": {
       "model_id": "657c169dcc94455886e705cbb47244bf",
       "version_major": 2,
       "version_minor": 0
      },
      "text/plain": [
       "replaying log with TBR, completed variants ::   0%|          | 0/4 [00:00<?, ?it/s]"
      ]
     },
     "metadata": {},
     "output_type": "display_data"
    },
    {
     "name": "stdout",
     "output_type": "stream",
     "text": [
      "2022-08-10 02:14:28 score evaluated: 0.8532375130055514\n",
      "2022-08-10 02:14:28 discovering a process model...\n",
      "2022-08-10 02:14:28 process model discovered\n"
     ]
    },
    {
     "data": {
      "application/vnd.jupyter.widget-view+json": {
       "model_id": "ce280c9aa6694c20afbf3e2b5df708af",
       "version_major": 2,
       "version_minor": 0
      },
      "text/plain": [
       "replaying log with TBR, completed variants ::   0%|          | 0/2 [00:00<?, ?it/s]"
      ]
     },
     "metadata": {},
     "output_type": "display_data"
    },
    {
     "data": {
      "application/vnd.jupyter.widget-view+json": {
       "model_id": "fc4ec09f5d7a49fd884bae8dc1adedae",
       "version_major": 2,
       "version_minor": 0
      },
      "text/plain": [
       "replaying log with TBR, completed variants ::   0%|          | 0/485 [00:00<?, ?it/s]"
      ]
     },
     "metadata": {},
     "output_type": "display_data"
    },
    {
     "data": {
      "application/vnd.jupyter.widget-view+json": {
       "model_id": "ae91d461dc1b45819b2a758588f802a1",
       "version_major": 2,
       "version_minor": 0
      },
      "text/plain": [
       "replaying log with TBR, completed variants ::   0%|          | 0/2 [00:00<?, ?it/s]"
      ]
     },
     "metadata": {},
     "output_type": "display_data"
    },
    {
     "name": "stdout",
     "output_type": "stream",
     "text": [
      "2022-08-10 02:14:47 score evaluated: 0.8620618368095557\n",
      "final score: 0.858\n",
      "2022-08-10 02:14:47 discovering a process model...\n",
      "2022-08-10 02:14:52 gave up discovering a model\n",
      "2022-08-10 02:14:52 score evaluated: 0\n",
      "2022-08-10 02:14:52 discovering a process model...\n",
      "2022-08-10 02:14:57 gave up discovering a model\n",
      "2022-08-10 02:14:57 score evaluated: 0\n",
      "final score: 0.0\n",
      "2022-08-10 02:14:57 discovering a process model...\n",
      "2022-08-10 02:15:02 gave up discovering a model\n",
      "2022-08-10 02:15:02 score evaluated: 0\n",
      "2022-08-10 02:15:02 discovering a process model...\n",
      "2022-08-10 02:15:07 gave up discovering a model\n",
      "2022-08-10 02:15:07 score evaluated: 0\n",
      "final score: 0.0\n",
      "2022-08-10 02:15:07 discovering a process model...\n",
      "2022-08-10 02:15:07 process model discovered\n"
     ]
    },
    {
     "data": {
      "application/vnd.jupyter.widget-view+json": {
       "model_id": "c8519f92142042939b640a972a5eeab1",
       "version_major": 2,
       "version_minor": 0
      },
      "text/plain": [
       "replaying log with TBR, completed variants ::   0%|          | 0/4 [00:00<?, ?it/s]"
      ]
     },
     "metadata": {},
     "output_type": "display_data"
    },
    {
     "data": {
      "application/vnd.jupyter.widget-view+json": {
       "model_id": "b9d92622204b49ba9f94fd72b76ca03c",
       "version_major": 2,
       "version_minor": 0
      },
      "text/plain": [
       "replaying log with TBR, completed variants ::   0%|          | 0/509 [00:00<?, ?it/s]"
      ]
     },
     "metadata": {},
     "output_type": "display_data"
    },
    {
     "data": {
      "application/vnd.jupyter.widget-view+json": {
       "model_id": "5d1e2ce46aa34c6caaa7e791273d6b19",
       "version_major": 2,
       "version_minor": 0
      },
      "text/plain": [
       "replaying log with TBR, completed variants ::   0%|          | 0/4 [00:00<?, ?it/s]"
      ]
     },
     "metadata": {},
     "output_type": "display_data"
    },
    {
     "name": "stdout",
     "output_type": "stream",
     "text": [
      "2022-08-10 02:15:25 score evaluated: 0.8662400589680322\n",
      "2022-08-10 02:15:25 discovering a process model...\n",
      "2022-08-10 02:15:25 process model discovered\n"
     ]
    },
    {
     "data": {
      "application/vnd.jupyter.widget-view+json": {
       "model_id": "86f02affb5cf4cbe844395e504b244ee",
       "version_major": 2,
       "version_minor": 0
      },
      "text/plain": [
       "replaying log with TBR, completed variants ::   0%|          | 0/2 [00:00<?, ?it/s]"
      ]
     },
     "metadata": {},
     "output_type": "display_data"
    },
    {
     "data": {
      "application/vnd.jupyter.widget-view+json": {
       "model_id": "260ca9a8c8e342a28ac18154dcdfa382",
       "version_major": 2,
       "version_minor": 0
      },
      "text/plain": [
       "replaying log with TBR, completed variants ::   0%|          | 0/485 [00:00<?, ?it/s]"
      ]
     },
     "metadata": {},
     "output_type": "display_data"
    },
    {
     "data": {
      "application/vnd.jupyter.widget-view+json": {
       "model_id": "0777a636e27c49f6b6ff823911d930aa",
       "version_major": 2,
       "version_minor": 0
      },
      "text/plain": [
       "replaying log with TBR, completed variants ::   0%|          | 0/2 [00:00<?, ?it/s]"
      ]
     },
     "metadata": {},
     "output_type": "display_data"
    },
    {
     "name": "stdout",
     "output_type": "stream",
     "text": [
      "2022-08-10 02:15:33 score evaluated: 0.8627117213617699\n",
      "final score: 0.864\n",
      "2022-08-10 02:15:33 discovering a process model...\n",
      "2022-08-10 02:15:38 gave up discovering a model\n",
      "2022-08-10 02:15:38 score evaluated: 0\n",
      "2022-08-10 02:15:38 discovering a process model...\n",
      "2022-08-10 02:15:43 gave up discovering a model\n",
      "2022-08-10 02:15:43 score evaluated: 0\n",
      "final score: 0.0\n",
      "2022-08-10 02:15:44 discovering a process model...\n",
      "2022-08-10 02:15:49 gave up discovering a model\n",
      "2022-08-10 02:15:49 score evaluated: 0\n",
      "2022-08-10 02:15:49 discovering a process model...\n",
      "2022-08-10 02:15:54 gave up discovering a model\n",
      "2022-08-10 02:15:54 score evaluated: 0\n",
      "final score: 0.0\n",
      "2022-08-10 02:15:54 discovering a process model...\n",
      "2022-08-10 02:15:54 process model discovered\n"
     ]
    },
    {
     "data": {
      "application/vnd.jupyter.widget-view+json": {
       "model_id": "21a3247534cb40fd8ae33cfe36dc9a79",
       "version_major": 2,
       "version_minor": 0
      },
      "text/plain": [
       "replaying log with TBR, completed variants ::   0%|          | 0/4 [00:00<?, ?it/s]"
      ]
     },
     "metadata": {},
     "output_type": "display_data"
    },
    {
     "data": {
      "application/vnd.jupyter.widget-view+json": {
       "model_id": "43c7c352cacb44b2be611047f1ba7cbe",
       "version_major": 2,
       "version_minor": 0
      },
      "text/plain": [
       "replaying log with TBR, completed variants ::   0%|          | 0/454 [00:00<?, ?it/s]"
      ]
     },
     "metadata": {},
     "output_type": "display_data"
    },
    {
     "data": {
      "application/vnd.jupyter.widget-view+json": {
       "model_id": "f93307668a8f41cbb266a7c33d2b946e",
       "version_major": 2,
       "version_minor": 0
      },
      "text/plain": [
       "replaying log with TBR, completed variants ::   0%|          | 0/4 [00:00<?, ?it/s]"
      ]
     },
     "metadata": {},
     "output_type": "display_data"
    },
    {
     "name": "stdout",
     "output_type": "stream",
     "text": [
      "2022-08-10 02:16:08 score evaluated: 0.8579889174494411\n",
      "2022-08-10 02:16:08 discovering a process model...\n",
      "2022-08-10 02:16:08 process model discovered\n"
     ]
    },
    {
     "data": {
      "application/vnd.jupyter.widget-view+json": {
       "model_id": "6387dabf4a094b53996e58439c96b150",
       "version_major": 2,
       "version_minor": 0
      },
      "text/plain": [
       "replaying log with TBR, completed variants ::   0%|          | 0/2 [00:00<?, ?it/s]"
      ]
     },
     "metadata": {},
     "output_type": "display_data"
    },
    {
     "data": {
      "application/vnd.jupyter.widget-view+json": {
       "model_id": "5525b41dbcc6403ca4d600f09f3446fe",
       "version_major": 2,
       "version_minor": 0
      },
      "text/plain": [
       "replaying log with TBR, completed variants ::   0%|          | 0/485 [00:00<?, ?it/s]"
      ]
     },
     "metadata": {},
     "output_type": "display_data"
    },
    {
     "data": {
      "application/vnd.jupyter.widget-view+json": {
       "model_id": "bf88b34a1cbe49dab1dfcf99a6605456",
       "version_major": 2,
       "version_minor": 0
      },
      "text/plain": [
       "replaying log with TBR, completed variants ::   0%|          | 0/2 [00:00<?, ?it/s]"
      ]
     },
     "metadata": {},
     "output_type": "display_data"
    },
    {
     "name": "stdout",
     "output_type": "stream",
     "text": [
      "2022-08-10 02:16:29 score evaluated: 0.8570883707368981\n",
      "final score: 0.858\n",
      "2022-08-10 02:16:29 discovering a process model...\n",
      "2022-08-10 02:16:34 gave up discovering a model\n",
      "2022-08-10 02:16:34 score evaluated: 0\n",
      "2022-08-10 02:16:34 discovering a process model...\n",
      "2022-08-10 02:16:39 gave up discovering a model\n",
      "2022-08-10 02:16:39 score evaluated: 0\n",
      "final score: 0.0\n",
      "2022-08-10 02:16:39 discovering a process model...\n",
      "2022-08-10 02:16:44 gave up discovering a model\n",
      "2022-08-10 02:16:44 score evaluated: 0\n",
      "2022-08-10 02:16:44 discovering a process model...\n",
      "2022-08-10 02:16:49 gave up discovering a model\n",
      "2022-08-10 02:16:49 score evaluated: 0\n",
      "final score: 0.0\n",
      "2022-08-10 02:16:49 discovering a process model...\n",
      "2022-08-10 02:16:49 process model discovered\n"
     ]
    },
    {
     "data": {
      "application/vnd.jupyter.widget-view+json": {
       "model_id": "012f54b860744d668ddf9d4e7eb74edd",
       "version_major": 2,
       "version_minor": 0
      },
      "text/plain": [
       "replaying log with TBR, completed variants ::   0%|          | 0/9 [00:00<?, ?it/s]"
      ]
     },
     "metadata": {},
     "output_type": "display_data"
    },
    {
     "data": {
      "application/vnd.jupyter.widget-view+json": {
       "model_id": "deb205f123c84b11a51f601de62669a5",
       "version_major": 2,
       "version_minor": 0
      },
      "text/plain": [
       "replaying log with TBR, completed variants ::   0%|          | 0/301 [00:00<?, ?it/s]"
      ]
     },
     "metadata": {},
     "output_type": "display_data"
    },
    {
     "data": {
      "application/vnd.jupyter.widget-view+json": {
       "model_id": "935405f0d2ba4f63a9a690717f64e703",
       "version_major": 2,
       "version_minor": 0
      },
      "text/plain": [
       "replaying log with TBR, completed variants ::   0%|          | 0/9 [00:00<?, ?it/s]"
      ]
     },
     "metadata": {},
     "output_type": "display_data"
    },
    {
     "name": "stdout",
     "output_type": "stream",
     "text": [
      "2022-08-10 02:16:51 score evaluated: 0.8725198460678252\n",
      "2022-08-10 02:16:51 discovering a process model...\n",
      "2022-08-10 02:16:51 process model discovered\n"
     ]
    },
    {
     "data": {
      "application/vnd.jupyter.widget-view+json": {
       "model_id": "7f39b3fc815f4ecaa6444c91e7107c79",
       "version_major": 2,
       "version_minor": 0
      },
      "text/plain": [
       "replaying log with TBR, completed variants ::   0%|          | 0/9 [00:00<?, ?it/s]"
      ]
     },
     "metadata": {},
     "output_type": "display_data"
    },
    {
     "data": {
      "application/vnd.jupyter.widget-view+json": {
       "model_id": "693fa2e62de3468e9cdd5104b890e9ab",
       "version_major": 2,
       "version_minor": 0
      },
      "text/plain": [
       "replaying log with TBR, completed variants ::   0%|          | 0/361 [00:00<?, ?it/s]"
      ]
     },
     "metadata": {},
     "output_type": "display_data"
    },
    {
     "data": {
      "application/vnd.jupyter.widget-view+json": {
       "model_id": "57fa18bfc93849a0afcfad49974e88b7",
       "version_major": 2,
       "version_minor": 0
      },
      "text/plain": [
       "replaying log with TBR, completed variants ::   0%|          | 0/9 [00:00<?, ?it/s]"
      ]
     },
     "metadata": {},
     "output_type": "display_data"
    },
    {
     "name": "stdout",
     "output_type": "stream",
     "text": [
      "2022-08-10 02:16:54 score evaluated: 0.866133632438171\n",
      "final score: 0.869\n",
      "2022-08-10 02:16:54 discovering a process model...\n",
      "2022-08-10 02:16:59 gave up discovering a model\n",
      "2022-08-10 02:16:59 score evaluated: 0\n",
      "2022-08-10 02:16:59 discovering a process model...\n",
      "2022-08-10 02:17:04 gave up discovering a model\n",
      "2022-08-10 02:17:04 score evaluated: 0\n",
      "final score: 0.0\n",
      "2022-08-10 02:17:04 discovering a process model...\n",
      "2022-08-10 02:17:09 gave up discovering a model\n",
      "2022-08-10 02:17:09 score evaluated: 0\n",
      "2022-08-10 02:17:09 discovering a process model...\n",
      "2022-08-10 02:17:14 gave up discovering a model\n",
      "2022-08-10 02:17:14 score evaluated: 0\n",
      "final score: 0.0\n",
      "2022-08-10 02:17:14 discovering a process model...\n",
      "2022-08-10 02:17:14 process model discovered\n"
     ]
    },
    {
     "data": {
      "application/vnd.jupyter.widget-view+json": {
       "model_id": "62bb41b928f8459dacb5de9ae6be4fd0",
       "version_major": 2,
       "version_minor": 0
      },
      "text/plain": [
       "replaying log with TBR, completed variants ::   0%|          | 0/9 [00:00<?, ?it/s]"
      ]
     },
     "metadata": {},
     "output_type": "display_data"
    },
    {
     "data": {
      "application/vnd.jupyter.widget-view+json": {
       "model_id": "d51f78c2e3e14f09944c5d186e0aa330",
       "version_major": 2,
       "version_minor": 0
      },
      "text/plain": [
       "replaying log with TBR, completed variants ::   0%|          | 0/301 [00:00<?, ?it/s]"
      ]
     },
     "metadata": {},
     "output_type": "display_data"
    },
    {
     "data": {
      "application/vnd.jupyter.widget-view+json": {
       "model_id": "e029367c87f54a68a68713d94cbf754f",
       "version_major": 2,
       "version_minor": 0
      },
      "text/plain": [
       "replaying log with TBR, completed variants ::   0%|          | 0/9 [00:00<?, ?it/s]"
      ]
     },
     "metadata": {},
     "output_type": "display_data"
    },
    {
     "name": "stdout",
     "output_type": "stream",
     "text": [
      "2022-08-10 02:17:16 score evaluated: 0.8725198460678252\n",
      "2022-08-10 02:17:16 discovering a process model...\n",
      "2022-08-10 02:17:16 process model discovered\n"
     ]
    },
    {
     "data": {
      "application/vnd.jupyter.widget-view+json": {
       "model_id": "d743f25de1da453e86efc61430b4b811",
       "version_major": 2,
       "version_minor": 0
      },
      "text/plain": [
       "replaying log with TBR, completed variants ::   0%|          | 0/9 [00:00<?, ?it/s]"
      ]
     },
     "metadata": {},
     "output_type": "display_data"
    },
    {
     "data": {
      "application/vnd.jupyter.widget-view+json": {
       "model_id": "defb07ad79124f2ab3ab477a79f72536",
       "version_major": 2,
       "version_minor": 0
      },
      "text/plain": [
       "replaying log with TBR, completed variants ::   0%|          | 0/361 [00:00<?, ?it/s]"
      ]
     },
     "metadata": {},
     "output_type": "display_data"
    },
    {
     "data": {
      "application/vnd.jupyter.widget-view+json": {
       "model_id": "9c1fbebfd13140ecafd5ae22dbfc506f",
       "version_major": 2,
       "version_minor": 0
      },
      "text/plain": [
       "replaying log with TBR, completed variants ::   0%|          | 0/9 [00:00<?, ?it/s]"
      ]
     },
     "metadata": {},
     "output_type": "display_data"
    },
    {
     "name": "stdout",
     "output_type": "stream",
     "text": [
      "2022-08-10 02:17:19 score evaluated: 0.866133632438171\n",
      "final score: 0.869\n",
      "2022-08-10 02:17:19 discovering a process model...\n",
      "2022-08-10 02:17:24 gave up discovering a model\n",
      "2022-08-10 02:17:24 score evaluated: 0\n",
      "2022-08-10 02:17:24 discovering a process model...\n",
      "2022-08-10 02:17:29 gave up discovering a model\n",
      "2022-08-10 02:17:29 score evaluated: 0\n",
      "final score: 0.0\n",
      "2022-08-10 02:17:29 discovering a process model...\n",
      "2022-08-10 02:17:34 gave up discovering a model\n",
      "2022-08-10 02:17:34 score evaluated: 0\n",
      "2022-08-10 02:17:34 discovering a process model...\n",
      "2022-08-10 02:17:39 gave up discovering a model\n",
      "2022-08-10 02:17:39 score evaluated: 0\n",
      "final score: 0.0\n",
      "2022-08-10 02:17:39 discovering a process model...\n",
      "2022-08-10 02:17:39 process model discovered\n"
     ]
    },
    {
     "data": {
      "application/vnd.jupyter.widget-view+json": {
       "model_id": "8e40f43582b84a769ab128dfbbc13686",
       "version_major": 2,
       "version_minor": 0
      },
      "text/plain": [
       "replaying log with TBR, completed variants ::   0%|          | 0/9 [00:00<?, ?it/s]"
      ]
     },
     "metadata": {},
     "output_type": "display_data"
    },
    {
     "data": {
      "application/vnd.jupyter.widget-view+json": {
       "model_id": "303a7b61d0b549edaf0f62e467094f10",
       "version_major": 2,
       "version_minor": 0
      },
      "text/plain": [
       "replaying log with TBR, completed variants ::   0%|          | 0/301 [00:00<?, ?it/s]"
      ]
     },
     "metadata": {},
     "output_type": "display_data"
    },
    {
     "data": {
      "application/vnd.jupyter.widget-view+json": {
       "model_id": "e7fe5464c9d24707985c53a8cbbce73b",
       "version_major": 2,
       "version_minor": 0
      },
      "text/plain": [
       "replaying log with TBR, completed variants ::   0%|          | 0/9 [00:00<?, ?it/s]"
      ]
     },
     "metadata": {},
     "output_type": "display_data"
    },
    {
     "name": "stdout",
     "output_type": "stream",
     "text": [
      "2022-08-10 02:17:42 score evaluated: 0.8725198460678252\n",
      "2022-08-10 02:17:42 discovering a process model...\n",
      "2022-08-10 02:17:42 process model discovered\n"
     ]
    },
    {
     "data": {
      "application/vnd.jupyter.widget-view+json": {
       "model_id": "a28537a0590a4eeba5d8dc040f96c5d8",
       "version_major": 2,
       "version_minor": 0
      },
      "text/plain": [
       "replaying log with TBR, completed variants ::   0%|          | 0/9 [00:00<?, ?it/s]"
      ]
     },
     "metadata": {},
     "output_type": "display_data"
    },
    {
     "data": {
      "application/vnd.jupyter.widget-view+json": {
       "model_id": "be77a1ae86734c529348bf8c91dc41ec",
       "version_major": 2,
       "version_minor": 0
      },
      "text/plain": [
       "replaying log with TBR, completed variants ::   0%|          | 0/361 [00:00<?, ?it/s]"
      ]
     },
     "metadata": {},
     "output_type": "display_data"
    },
    {
     "data": {
      "application/vnd.jupyter.widget-view+json": {
       "model_id": "5ebb9f35217341beb2f64218cc08cd43",
       "version_major": 2,
       "version_minor": 0
      },
      "text/plain": [
       "replaying log with TBR, completed variants ::   0%|          | 0/9 [00:00<?, ?it/s]"
      ]
     },
     "metadata": {},
     "output_type": "display_data"
    },
    {
     "name": "stdout",
     "output_type": "stream",
     "text": [
      "2022-08-10 02:17:45 score evaluated: 0.866133632438171\n",
      "final score: 0.869\n",
      "2022-08-10 02:17:45 miner: inductive_miner metric: fitness\n",
      "2022-08-10 02:17:45 discovering a process model...\n",
      "2022-08-10 02:17:50 gave up discovering a model\n",
      "2022-08-10 02:17:50 score evaluated: 0\n",
      "2022-08-10 02:17:50 discovering a process model...\n",
      "2022-08-10 02:17:55 gave up discovering a model\n",
      "2022-08-10 02:17:55 score evaluated: 0\n",
      "final score: 0.0\n",
      "2022-08-10 02:17:55 discovering a process model...\n",
      "2022-08-10 02:18:00 gave up discovering a model\n",
      "2022-08-10 02:18:00 score evaluated: 0\n",
      "2022-08-10 02:18:00 discovering a process model...\n",
      "2022-08-10 02:18:05 gave up discovering a model\n",
      "2022-08-10 02:18:05 score evaluated: 0\n",
      "final score: 0.0\n",
      "2022-08-10 02:18:05 discovering a process model...\n",
      "2022-08-10 02:18:05 process model discovered\n"
     ]
    },
    {
     "data": {
      "application/vnd.jupyter.widget-view+json": {
       "model_id": "7125780233264107b462b13fe8359ba0",
       "version_major": 2,
       "version_minor": 0
      },
      "text/plain": [
       "replaying log with TBR, completed variants ::   0%|          | 0/2 [00:00<?, ?it/s]"
      ]
     },
     "metadata": {},
     "output_type": "display_data"
    },
    {
     "name": "stdout",
     "output_type": "stream",
     "text": [
      "2022-08-10 02:18:05 score evaluated: 1.0\n",
      "2022-08-10 02:18:05 discovering a process model...\n",
      "2022-08-10 02:18:05 process model discovered\n"
     ]
    },
    {
     "data": {
      "application/vnd.jupyter.widget-view+json": {
       "model_id": "cf7d9238a05f4d2695ebae63046f0178",
       "version_major": 2,
       "version_minor": 0
      },
      "text/plain": [
       "replaying log with TBR, completed variants ::   0%|          | 0/3 [00:00<?, ?it/s]"
      ]
     },
     "metadata": {},
     "output_type": "display_data"
    },
    {
     "name": "stdout",
     "output_type": "stream",
     "text": [
      "2022-08-10 02:18:06 score evaluated: 0.9868527836390196\n",
      "final score: 0.993\n",
      "2022-08-10 02:18:06 discovering a process model...\n",
      "2022-08-10 02:18:11 gave up discovering a model\n",
      "2022-08-10 02:18:11 score evaluated: 0\n",
      "2022-08-10 02:18:11 discovering a process model...\n",
      "2022-08-10 02:18:16 gave up discovering a model\n",
      "2022-08-10 02:18:16 score evaluated: 0\n",
      "final score: 0.0\n",
      "2022-08-10 02:18:16 discovering a process model...\n",
      "2022-08-10 02:18:21 gave up discovering a model\n",
      "2022-08-10 02:18:21 score evaluated: 0\n",
      "2022-08-10 02:18:21 discovering a process model...\n",
      "2022-08-10 02:18:26 gave up discovering a model\n",
      "2022-08-10 02:18:26 score evaluated: 0\n",
      "final score: 0.0\n",
      "2022-08-10 02:18:26 discovering a process model...\n",
      "2022-08-10 02:18:26 process model discovered\n"
     ]
    },
    {
     "data": {
      "application/vnd.jupyter.widget-view+json": {
       "model_id": "642caf4120a34a43805dc841c4895ad7",
       "version_major": 2,
       "version_minor": 0
      },
      "text/plain": [
       "replaying log with TBR, completed variants ::   0%|          | 0/2 [00:00<?, ?it/s]"
      ]
     },
     "metadata": {},
     "output_type": "display_data"
    },
    {
     "name": "stdout",
     "output_type": "stream",
     "text": [
      "2022-08-10 02:18:26 score evaluated: 1.0\n",
      "2022-08-10 02:18:26 discovering a process model...\n",
      "2022-08-10 02:18:26 process model discovered\n"
     ]
    },
    {
     "data": {
      "application/vnd.jupyter.widget-view+json": {
       "model_id": "0538f6a2c1af40669ef2ca1997fc3834",
       "version_major": 2,
       "version_minor": 0
      },
      "text/plain": [
       "replaying log with TBR, completed variants ::   0%|          | 0/3 [00:00<?, ?it/s]"
      ]
     },
     "metadata": {},
     "output_type": "display_data"
    },
    {
     "name": "stdout",
     "output_type": "stream",
     "text": [
      "2022-08-10 02:18:27 score evaluated: 0.9855302464525766\n",
      "final score: 0.993\n",
      "2022-08-10 02:18:27 discovering a process model...\n",
      "2022-08-10 02:18:32 gave up discovering a model\n",
      "2022-08-10 02:18:32 score evaluated: 0\n",
      "2022-08-10 02:18:32 discovering a process model...\n",
      "2022-08-10 02:18:37 gave up discovering a model\n",
      "2022-08-10 02:18:37 score evaluated: 0\n",
      "final score: 0.0\n",
      "2022-08-10 02:18:37 discovering a process model...\n",
      "2022-08-10 02:18:42 gave up discovering a model\n",
      "2022-08-10 02:18:42 score evaluated: 0\n",
      "2022-08-10 02:18:42 discovering a process model...\n",
      "2022-08-10 02:18:47 gave up discovering a model\n",
      "2022-08-10 02:18:47 score evaluated: 0\n",
      "final score: 0.0\n",
      "2022-08-10 02:18:47 discovering a process model...\n",
      "2022-08-10 02:18:47 process model discovered\n"
     ]
    },
    {
     "data": {
      "application/vnd.jupyter.widget-view+json": {
       "model_id": "98697191916c49f3b96a5557e9a04f26",
       "version_major": 2,
       "version_minor": 0
      },
      "text/plain": [
       "replaying log with TBR, completed variants ::   0%|          | 0/2 [00:00<?, ?it/s]"
      ]
     },
     "metadata": {},
     "output_type": "display_data"
    },
    {
     "name": "stdout",
     "output_type": "stream",
     "text": [
      "2022-08-10 02:18:47 score evaluated: 1.0\n",
      "2022-08-10 02:18:47 discovering a process model...\n",
      "2022-08-10 02:18:47 process model discovered\n"
     ]
    },
    {
     "data": {
      "application/vnd.jupyter.widget-view+json": {
       "model_id": "4ef530eaeaa74d1bbdd6174696d321e9",
       "version_major": 2,
       "version_minor": 0
      },
      "text/plain": [
       "replaying log with TBR, completed variants ::   0%|          | 0/3 [00:00<?, ?it/s]"
      ]
     },
     "metadata": {},
     "output_type": "display_data"
    },
    {
     "name": "stdout",
     "output_type": "stream",
     "text": [
      "2022-08-10 02:18:48 score evaluated: 0.9855302464525766\n",
      "final score: 0.993\n",
      "2022-08-10 02:18:48 discovering a process model...\n",
      "2022-08-10 02:18:53 gave up discovering a model\n",
      "2022-08-10 02:18:53 score evaluated: 0\n",
      "2022-08-10 02:18:53 discovering a process model...\n",
      "2022-08-10 02:18:58 gave up discovering a model\n",
      "2022-08-10 02:18:58 score evaluated: 0\n",
      "final score: 0.0\n",
      "2022-08-10 02:18:58 discovering a process model...\n",
      "2022-08-10 02:19:03 gave up discovering a model\n",
      "2022-08-10 02:19:03 score evaluated: 0\n",
      "2022-08-10 02:19:03 discovering a process model...\n",
      "2022-08-10 02:19:08 gave up discovering a model\n",
      "2022-08-10 02:19:08 score evaluated: 0\n",
      "final score: 0.0\n",
      "2022-08-10 02:19:08 discovering a process model...\n",
      "2022-08-10 02:19:08 process model discovered\n"
     ]
    },
    {
     "data": {
      "application/vnd.jupyter.widget-view+json": {
       "model_id": "1e160419a90240d49b3a49d9b826c083",
       "version_major": 2,
       "version_minor": 0
      },
      "text/plain": [
       "replaying log with TBR, completed variants ::   0%|          | 0/4 [00:00<?, ?it/s]"
      ]
     },
     "metadata": {},
     "output_type": "display_data"
    },
    {
     "name": "stdout",
     "output_type": "stream",
     "text": [
      "2022-08-10 02:19:08 score evaluated: 0.9897846457879694\n",
      "2022-08-10 02:19:08 discovering a process model...\n",
      "2022-08-10 02:19:08 process model discovered\n"
     ]
    },
    {
     "data": {
      "application/vnd.jupyter.widget-view+json": {
       "model_id": "65d6dee10bbd432c9b6d65546ade38a3",
       "version_major": 2,
       "version_minor": 0
      },
      "text/plain": [
       "replaying log with TBR, completed variants ::   0%|          | 0/2 [00:00<?, ?it/s]"
      ]
     },
     "metadata": {},
     "output_type": "display_data"
    },
    {
     "name": "stdout",
     "output_type": "stream",
     "text": [
      "2022-08-10 02:19:08 score evaluated: 0.9957605106757649\n",
      "final score: 0.993\n",
      "2022-08-10 02:19:08 discovering a process model...\n",
      "2022-08-10 02:19:13 gave up discovering a model\n",
      "2022-08-10 02:19:13 score evaluated: 0\n",
      "2022-08-10 02:19:13 discovering a process model...\n",
      "2022-08-10 02:19:18 gave up discovering a model\n",
      "2022-08-10 02:19:18 score evaluated: 0\n",
      "final score: 0.0\n",
      "2022-08-10 02:19:18 discovering a process model...\n",
      "2022-08-10 02:19:23 gave up discovering a model\n",
      "2022-08-10 02:19:23 score evaluated: 0\n",
      "2022-08-10 02:19:23 discovering a process model...\n",
      "2022-08-10 02:19:28 gave up discovering a model\n",
      "2022-08-10 02:19:28 score evaluated: 0\n",
      "final score: 0.0\n",
      "2022-08-10 02:19:28 discovering a process model...\n",
      "2022-08-10 02:19:28 process model discovered\n"
     ]
    },
    {
     "data": {
      "application/vnd.jupyter.widget-view+json": {
       "model_id": "ab81d24ff2b64235b046f85839302fed",
       "version_major": 2,
       "version_minor": 0
      },
      "text/plain": [
       "replaying log with TBR, completed variants ::   0%|          | 0/4 [00:00<?, ?it/s]"
      ]
     },
     "metadata": {},
     "output_type": "display_data"
    },
    {
     "name": "stdout",
     "output_type": "stream",
     "text": [
      "2022-08-10 02:19:28 score evaluated: 1.0\n",
      "2022-08-10 02:19:28 discovering a process model...\n",
      "2022-08-10 02:19:28 process model discovered\n"
     ]
    },
    {
     "data": {
      "application/vnd.jupyter.widget-view+json": {
       "model_id": "8bef92ca426d4103b2bb03a2dc501ada",
       "version_major": 2,
       "version_minor": 0
      },
      "text/plain": [
       "replaying log with TBR, completed variants ::   0%|          | 0/2 [00:00<?, ?it/s]"
      ]
     },
     "metadata": {},
     "output_type": "display_data"
    },
    {
     "name": "stdout",
     "output_type": "stream",
     "text": [
      "2022-08-10 02:19:29 score evaluated: 0.9969792159542961\n",
      "final score: 0.998\n",
      "2022-08-10 02:19:29 discovering a process model...\n",
      "2022-08-10 02:19:34 gave up discovering a model\n",
      "2022-08-10 02:19:34 score evaluated: 0\n",
      "2022-08-10 02:19:34 discovering a process model...\n",
      "2022-08-10 02:19:39 gave up discovering a model\n",
      "2022-08-10 02:19:39 score evaluated: 0\n",
      "final score: 0.0\n",
      "2022-08-10 02:19:39 discovering a process model...\n",
      "2022-08-10 02:19:44 gave up discovering a model\n",
      "2022-08-10 02:19:44 score evaluated: 0\n",
      "2022-08-10 02:19:44 discovering a process model...\n",
      "2022-08-10 02:19:49 gave up discovering a model\n",
      "2022-08-10 02:19:49 score evaluated: 0\n",
      "final score: 0.0\n",
      "2022-08-10 02:19:49 discovering a process model...\n",
      "2022-08-10 02:19:49 process model discovered\n"
     ]
    },
    {
     "data": {
      "application/vnd.jupyter.widget-view+json": {
       "model_id": "e9aa9b5659764e81bb6406327a55bea7",
       "version_major": 2,
       "version_minor": 0
      },
      "text/plain": [
       "replaying log with TBR, completed variants ::   0%|          | 0/4 [00:00<?, ?it/s]"
      ]
     },
     "metadata": {},
     "output_type": "display_data"
    },
    {
     "name": "stdout",
     "output_type": "stream",
     "text": [
      "2022-08-10 02:19:49 score evaluated: 0.9920027742210841\n",
      "2022-08-10 02:19:49 discovering a process model...\n",
      "2022-08-10 02:19:49 process model discovered\n"
     ]
    },
    {
     "data": {
      "application/vnd.jupyter.widget-view+json": {
       "model_id": "6ee081d7d78c41e4bbe9356bef767e8f",
       "version_major": 2,
       "version_minor": 0
      },
      "text/plain": [
       "replaying log with TBR, completed variants ::   0%|          | 0/2 [00:00<?, ?it/s]"
      ]
     },
     "metadata": {},
     "output_type": "display_data"
    },
    {
     "name": "stdout",
     "output_type": "stream",
     "text": [
      "2022-08-10 02:19:49 score evaluated: 0.9952038369304557\n",
      "final score: 0.994\n",
      "2022-08-10 02:19:49 discovering a process model...\n",
      "2022-08-10 02:19:54 gave up discovering a model\n",
      "2022-08-10 02:19:54 score evaluated: 0\n",
      "2022-08-10 02:19:54 discovering a process model...\n",
      "2022-08-10 02:19:59 gave up discovering a model\n",
      "2022-08-10 02:19:59 score evaluated: 0\n",
      "final score: 0.0\n",
      "2022-08-10 02:19:59 discovering a process model...\n",
      "2022-08-10 02:20:04 gave up discovering a model\n",
      "2022-08-10 02:20:04 score evaluated: 0\n",
      "2022-08-10 02:20:04 discovering a process model...\n",
      "2022-08-10 02:20:09 gave up discovering a model\n",
      "2022-08-10 02:20:09 score evaluated: 0\n",
      "final score: 0.0\n",
      "2022-08-10 02:20:09 discovering a process model...\n",
      "2022-08-10 02:20:09 process model discovered\n"
     ]
    },
    {
     "data": {
      "application/vnd.jupyter.widget-view+json": {
       "model_id": "f8d71f967000401a9bbb88480bee64c7",
       "version_major": 2,
       "version_minor": 0
      },
      "text/plain": [
       "replaying log with TBR, completed variants ::   0%|          | 0/9 [00:00<?, ?it/s]"
      ]
     },
     "metadata": {},
     "output_type": "display_data"
    },
    {
     "name": "stdout",
     "output_type": "stream",
     "text": [
      "2022-08-10 02:20:09 score evaluated: 0.99568345323741\n",
      "2022-08-10 02:20:09 discovering a process model...\n",
      "2022-08-10 02:20:09 process model discovered\n"
     ]
    },
    {
     "data": {
      "application/vnd.jupyter.widget-view+json": {
       "model_id": "1cf0c0c7194043dfbf9676c12e4bdaf4",
       "version_major": 2,
       "version_minor": 0
      },
      "text/plain": [
       "replaying log with TBR, completed variants ::   0%|          | 0/9 [00:00<?, ?it/s]"
      ]
     },
     "metadata": {},
     "output_type": "display_data"
    },
    {
     "name": "stdout",
     "output_type": "stream",
     "text": [
      "2022-08-10 02:20:09 score evaluated: 0.9937304075235109\n",
      "final score: 0.995\n",
      "2022-08-10 02:20:09 discovering a process model...\n",
      "2022-08-10 02:20:14 gave up discovering a model\n",
      "2022-08-10 02:20:14 score evaluated: 0\n",
      "2022-08-10 02:20:14 discovering a process model...\n",
      "2022-08-10 02:20:19 gave up discovering a model\n",
      "2022-08-10 02:20:19 score evaluated: 0\n",
      "final score: 0.0\n",
      "2022-08-10 02:20:19 discovering a process model...\n",
      "2022-08-10 02:20:24 gave up discovering a model\n",
      "2022-08-10 02:20:24 score evaluated: 0\n",
      "2022-08-10 02:20:24 discovering a process model...\n",
      "2022-08-10 02:20:29 gave up discovering a model\n",
      "2022-08-10 02:20:29 score evaluated: 0\n",
      "final score: 0.0\n",
      "2022-08-10 02:20:29 discovering a process model...\n",
      "2022-08-10 02:20:30 process model discovered\n"
     ]
    },
    {
     "data": {
      "application/vnd.jupyter.widget-view+json": {
       "model_id": "29c5e39c43aa46fcb44d21afa6d8b158",
       "version_major": 2,
       "version_minor": 0
      },
      "text/plain": [
       "replaying log with TBR, completed variants ::   0%|          | 0/9 [00:00<?, ?it/s]"
      ]
     },
     "metadata": {},
     "output_type": "display_data"
    },
    {
     "name": "stdout",
     "output_type": "stream",
     "text": [
      "2022-08-10 02:20:30 score evaluated: 0.99568345323741\n",
      "2022-08-10 02:20:30 discovering a process model...\n",
      "2022-08-10 02:20:30 process model discovered\n"
     ]
    },
    {
     "data": {
      "application/vnd.jupyter.widget-view+json": {
       "model_id": "a75ef7dd60104a198e99a0cb903017ae",
       "version_major": 2,
       "version_minor": 0
      },
      "text/plain": [
       "replaying log with TBR, completed variants ::   0%|          | 0/9 [00:00<?, ?it/s]"
      ]
     },
     "metadata": {},
     "output_type": "display_data"
    },
    {
     "name": "stdout",
     "output_type": "stream",
     "text": [
      "2022-08-10 02:20:30 score evaluated: 0.9937304075235109\n",
      "final score: 0.995\n",
      "2022-08-10 02:20:30 discovering a process model...\n",
      "2022-08-10 02:20:35 gave up discovering a model\n",
      "2022-08-10 02:20:35 score evaluated: 0\n",
      "2022-08-10 02:20:35 discovering a process model...\n",
      "2022-08-10 02:20:40 gave up discovering a model\n",
      "2022-08-10 02:20:40 score evaluated: 0\n",
      "final score: 0.0\n",
      "2022-08-10 02:20:40 discovering a process model...\n",
      "2022-08-10 02:20:45 gave up discovering a model\n",
      "2022-08-10 02:20:45 score evaluated: 0\n",
      "2022-08-10 02:20:45 discovering a process model...\n",
      "2022-08-10 02:20:50 gave up discovering a model\n",
      "2022-08-10 02:20:50 score evaluated: 0\n",
      "final score: 0.0\n",
      "2022-08-10 02:20:50 discovering a process model...\n",
      "2022-08-10 02:20:50 process model discovered\n"
     ]
    },
    {
     "data": {
      "application/vnd.jupyter.widget-view+json": {
       "model_id": "8bcfa3b0fdec4593a20f9bc5f7b62a69",
       "version_major": 2,
       "version_minor": 0
      },
      "text/plain": [
       "replaying log with TBR, completed variants ::   0%|          | 0/9 [00:00<?, ?it/s]"
      ]
     },
     "metadata": {},
     "output_type": "display_data"
    },
    {
     "name": "stdout",
     "output_type": "stream",
     "text": [
      "2022-08-10 02:20:50 score evaluated: 0.99568345323741\n",
      "2022-08-10 02:20:50 discovering a process model...\n",
      "2022-08-10 02:20:50 process model discovered\n"
     ]
    },
    {
     "data": {
      "application/vnd.jupyter.widget-view+json": {
       "model_id": "f17dc12102834f64888606a0b9f1379b",
       "version_major": 2,
       "version_minor": 0
      },
      "text/plain": [
       "replaying log with TBR, completed variants ::   0%|          | 0/9 [00:00<?, ?it/s]"
      ]
     },
     "metadata": {},
     "output_type": "display_data"
    },
    {
     "name": "stdout",
     "output_type": "stream",
     "text": [
      "2022-08-10 02:20:50 score evaluated: 0.9937304075235109\n",
      "final score: 0.995\n",
      "2022-08-10 02:20:50 miner: inductive_miner metric: precision\n",
      "2022-08-10 02:20:50 discovering a process model...\n",
      "2022-08-10 02:20:55 gave up discovering a model\n",
      "2022-08-10 02:20:55 score evaluated: 0\n",
      "2022-08-10 02:20:55 discovering a process model...\n",
      "2022-08-10 02:21:00 gave up discovering a model\n",
      "2022-08-10 02:21:00 score evaluated: 0\n",
      "final score: 0.0\n",
      "2022-08-10 02:21:00 discovering a process model...\n",
      "2022-08-10 02:21:05 gave up discovering a model\n",
      "2022-08-10 02:21:05 score evaluated: 0\n",
      "2022-08-10 02:21:05 discovering a process model...\n",
      "2022-08-10 02:21:10 gave up discovering a model\n",
      "2022-08-10 02:21:10 score evaluated: 0\n",
      "final score: 0.0\n",
      "2022-08-10 02:21:10 discovering a process model...\n",
      "2022-08-10 02:21:10 process model discovered\n"
     ]
    },
    {
     "data": {
      "application/vnd.jupyter.widget-view+json": {
       "model_id": "1f559f69179a46ad9ef7540e3d4a4bdc",
       "version_major": 2,
       "version_minor": 0
      },
      "text/plain": [
       "replaying log with TBR, completed variants ::   0%|          | 0/454 [00:00<?, ?it/s]"
      ]
     },
     "metadata": {},
     "output_type": "display_data"
    },
    {
     "name": "stdout",
     "output_type": "stream",
     "text": [
      "2022-08-10 02:22:10 gave up evaluating a model\n",
      "2022-08-10 02:22:10 score evaluated: 0\n",
      "2022-08-10 02:22:10 discovering a process model...\n",
      "2022-08-10 02:22:11 process model discovered\n"
     ]
    },
    {
     "data": {
      "application/vnd.jupyter.widget-view+json": {
       "model_id": "138e690ba7914ec7b5fecd16793ad952",
       "version_major": 2,
       "version_minor": 0
      },
      "text/plain": [
       "replaying log with TBR, completed variants ::   0%|          | 0/540 [00:00<?, ?it/s]"
      ]
     },
     "metadata": {},
     "output_type": "display_data"
    },
    {
     "name": "stdout",
     "output_type": "stream",
     "text": [
      "2022-08-10 02:22:33 score evaluated: 0.13970588235294112\n",
      "final score: 0.07\n",
      "2022-08-10 02:22:33 discovering a process model...\n",
      "2022-08-10 02:22:38 gave up discovering a model\n",
      "2022-08-10 02:22:38 score evaluated: 0\n",
      "2022-08-10 02:22:38 discovering a process model...\n",
      "2022-08-10 02:22:43 gave up discovering a model\n",
      "2022-08-10 02:22:43 score evaluated: 0\n",
      "final score: 0.0\n",
      "2022-08-10 02:22:43 discovering a process model...\n",
      "2022-08-10 02:22:48 gave up discovering a model\n",
      "2022-08-10 02:22:48 score evaluated: 0\n",
      "2022-08-10 02:22:48 discovering a process model...\n",
      "2022-08-10 02:22:53 gave up discovering a model\n",
      "2022-08-10 02:22:53 score evaluated: 0\n",
      "final score: 0.0\n",
      "2022-08-10 02:22:53 discovering a process model...\n",
      "2022-08-10 02:22:53 process model discovered\n"
     ]
    },
    {
     "data": {
      "application/vnd.jupyter.widget-view+json": {
       "model_id": "06b7fb78988c48e8a609d8299f212ad5",
       "version_major": 2,
       "version_minor": 0
      },
      "text/plain": [
       "replaying log with TBR, completed variants ::   0%|          | 0/452 [00:00<?, ?it/s]"
      ]
     },
     "metadata": {},
     "output_type": "display_data"
    },
    {
     "name": "stdout",
     "output_type": "stream",
     "text": [
      "2022-08-10 02:23:53 gave up evaluating a model\n",
      "2022-08-10 02:23:53 score evaluated: 0\n",
      "2022-08-10 02:23:53 discovering a process model...\n",
      "2022-08-10 02:23:53 process model discovered\n"
     ]
    },
    {
     "data": {
      "application/vnd.jupyter.widget-view+json": {
       "model_id": "0ae39c98b35c45a789755e177b944518",
       "version_major": 2,
       "version_minor": 0
      },
      "text/plain": [
       "replaying log with TBR, completed variants ::   0%|          | 0/541 [00:00<?, ?it/s]"
      ]
     },
     "metadata": {},
     "output_type": "display_data"
    },
    {
     "name": "stdout",
     "output_type": "stream",
     "text": [
      "2022-08-10 02:24:14 score evaluated: 0.13970588235294112\n",
      "final score: 0.07\n",
      "2022-08-10 02:24:14 discovering a process model...\n",
      "2022-08-10 02:24:19 gave up discovering a model\n",
      "2022-08-10 02:24:19 score evaluated: 0\n",
      "2022-08-10 02:24:19 discovering a process model...\n",
      "2022-08-10 02:24:24 gave up discovering a model\n",
      "2022-08-10 02:24:24 score evaluated: 0\n",
      "final score: 0.0\n",
      "2022-08-10 02:24:24 discovering a process model...\n",
      "2022-08-10 02:24:29 gave up discovering a model\n",
      "2022-08-10 02:24:29 score evaluated: 0\n",
      "2022-08-10 02:24:29 discovering a process model...\n",
      "2022-08-10 02:24:34 gave up discovering a model\n",
      "2022-08-10 02:24:34 score evaluated: 0\n",
      "final score: 0.0\n",
      "2022-08-10 02:24:34 discovering a process model...\n",
      "2022-08-10 02:24:34 process model discovered\n"
     ]
    },
    {
     "data": {
      "application/vnd.jupyter.widget-view+json": {
       "model_id": "a875752a61094e94aca3e238a20ef0cf",
       "version_major": 2,
       "version_minor": 0
      },
      "text/plain": [
       "replaying log with TBR, completed variants ::   0%|          | 0/454 [00:00<?, ?it/s]"
      ]
     },
     "metadata": {},
     "output_type": "display_data"
    },
    {
     "name": "stdout",
     "output_type": "stream",
     "text": [
      "2022-08-10 02:25:31 score evaluated: 0.17789165446559296\n",
      "2022-08-10 02:25:31 discovering a process model...\n",
      "2022-08-10 02:25:31 process model discovered\n"
     ]
    },
    {
     "data": {
      "application/vnd.jupyter.widget-view+json": {
       "model_id": "2f3af90e3f2141e7a76d2958bccc3139",
       "version_major": 2,
       "version_minor": 0
      },
      "text/plain": [
       "replaying log with TBR, completed variants ::   0%|          | 0/533 [00:00<?, ?it/s]"
      ]
     },
     "metadata": {},
     "output_type": "display_data"
    },
    {
     "name": "stdout",
     "output_type": "stream",
     "text": [
      "2022-08-10 02:25:53 score evaluated: 0.13970588235294112\n",
      "final score: 0.159\n",
      "2022-08-10 02:25:53 discovering a process model...\n",
      "2022-08-10 02:25:58 gave up discovering a model\n",
      "2022-08-10 02:25:58 score evaluated: 0\n",
      "2022-08-10 02:25:58 discovering a process model...\n",
      "2022-08-10 02:26:03 gave up discovering a model\n",
      "2022-08-10 02:26:03 score evaluated: 0\n",
      "final score: 0.0\n",
      "2022-08-10 02:26:03 discovering a process model...\n",
      "2022-08-10 02:26:08 gave up discovering a model\n",
      "2022-08-10 02:26:08 score evaluated: 0\n",
      "2022-08-10 02:26:08 discovering a process model...\n",
      "2022-08-10 02:26:13 gave up discovering a model\n",
      "2022-08-10 02:26:13 score evaluated: 0\n",
      "final score: 0.0\n",
      "2022-08-10 02:26:13 discovering a process model...\n",
      "2022-08-10 02:26:13 process model discovered\n"
     ]
    },
    {
     "data": {
      "application/vnd.jupyter.widget-view+json": {
       "model_id": "9d3b4b2802574f4db57c2820689d8e96",
       "version_major": 2,
       "version_minor": 0
      },
      "text/plain": [
       "replaying log with TBR, completed variants ::   0%|          | 0/485 [00:00<?, ?it/s]"
      ]
     },
     "metadata": {},
     "output_type": "display_data"
    },
    {
     "name": "stdout",
     "output_type": "stream",
     "text": [
      "2022-08-10 02:26:25 score evaluated: 0.15043156596794083\n",
      "2022-08-10 02:26:25 discovering a process model...\n",
      "2022-08-10 02:26:25 process model discovered\n"
     ]
    },
    {
     "data": {
      "application/vnd.jupyter.widget-view+json": {
       "model_id": "d9c7aad9281b45a691647a68d9286ffd",
       "version_major": 2,
       "version_minor": 0
      },
      "text/plain": [
       "replaying log with TBR, completed variants ::   0%|          | 0/485 [00:00<?, ?it/s]"
      ]
     },
     "metadata": {},
     "output_type": "display_data"
    },
    {
     "name": "stdout",
     "output_type": "stream",
     "text": [
      "2022-08-10 02:26:44 score evaluated: 0.1762452107279694\n",
      "final score: 0.163\n",
      "2022-08-10 02:26:44 discovering a process model...\n",
      "2022-08-10 02:26:49 gave up discovering a model\n",
      "2022-08-10 02:26:49 score evaluated: 0\n",
      "2022-08-10 02:26:49 discovering a process model...\n",
      "2022-08-10 02:26:54 gave up discovering a model\n",
      "2022-08-10 02:26:54 score evaluated: 0\n",
      "final score: 0.0\n",
      "2022-08-10 02:26:54 discovering a process model...\n",
      "2022-08-10 02:26:59 gave up discovering a model\n",
      "2022-08-10 02:26:59 score evaluated: 0\n",
      "2022-08-10 02:26:59 discovering a process model...\n",
      "2022-08-10 02:27:04 gave up discovering a model\n",
      "2022-08-10 02:27:04 score evaluated: 0\n",
      "final score: 0.0\n",
      "2022-08-10 02:27:04 discovering a process model...\n",
      "2022-08-10 02:27:05 process model discovered\n"
     ]
    },
    {
     "data": {
      "application/vnd.jupyter.widget-view+json": {
       "model_id": "f3280c129c394184bb91f14adae79f7c",
       "version_major": 2,
       "version_minor": 0
      },
      "text/plain": [
       "replaying log with TBR, completed variants ::   0%|          | 0/509 [00:00<?, ?it/s]"
      ]
     },
     "metadata": {},
     "output_type": "display_data"
    },
    {
     "name": "stdout",
     "output_type": "stream",
     "text": [
      "2022-08-10 02:27:22 score evaluated: 0.1697930142302717\n",
      "2022-08-10 02:27:22 discovering a process model...\n",
      "2022-08-10 02:27:22 process model discovered\n"
     ]
    },
    {
     "data": {
      "application/vnd.jupyter.widget-view+json": {
       "model_id": "d59eea16d16b49fba5464d3060db68cf",
       "version_major": 2,
       "version_minor": 0
      },
      "text/plain": [
       "replaying log with TBR, completed variants ::   0%|          | 0/485 [00:00<?, ?it/s]"
      ]
     },
     "metadata": {},
     "output_type": "display_data"
    },
    {
     "name": "stdout",
     "output_type": "stream",
     "text": [
      "2022-08-10 02:27:30 score evaluated: 0.18995815899581592\n",
      "final score: 0.18\n",
      "2022-08-10 02:27:30 discovering a process model...\n",
      "2022-08-10 02:27:35 gave up discovering a model\n",
      "2022-08-10 02:27:35 score evaluated: 0\n",
      "2022-08-10 02:27:35 discovering a process model...\n",
      "2022-08-10 02:27:40 gave up discovering a model\n",
      "2022-08-10 02:27:40 score evaluated: 0\n",
      "final score: 0.0\n",
      "2022-08-10 02:27:40 discovering a process model...\n",
      "2022-08-10 02:27:45 gave up discovering a model\n",
      "2022-08-10 02:27:45 score evaluated: 0\n",
      "2022-08-10 02:27:45 discovering a process model...\n",
      "2022-08-10 02:27:50 gave up discovering a model\n",
      "2022-08-10 02:27:50 score evaluated: 0\n",
      "final score: 0.0\n",
      "2022-08-10 02:27:50 discovering a process model...\n",
      "2022-08-10 02:27:50 process model discovered\n"
     ]
    },
    {
     "data": {
      "application/vnd.jupyter.widget-view+json": {
       "model_id": "7c4e3aee42ad4a239e97cf6891e26014",
       "version_major": 2,
       "version_minor": 0
      },
      "text/plain": [
       "replaying log with TBR, completed variants ::   0%|          | 0/454 [00:00<?, ?it/s]"
      ]
     },
     "metadata": {},
     "output_type": "display_data"
    },
    {
     "name": "stdout",
     "output_type": "stream",
     "text": [
      "2022-08-10 02:28:04 score evaluated: 0.1798587885544407\n",
      "2022-08-10 02:28:04 discovering a process model...\n",
      "2022-08-10 02:28:04 process model discovered\n"
     ]
    },
    {
     "data": {
      "application/vnd.jupyter.widget-view+json": {
       "model_id": "56dd9acfa9674c3c8b1d5fb07c36f327",
       "version_major": 2,
       "version_minor": 0
      },
      "text/plain": [
       "replaying log with TBR, completed variants ::   0%|          | 0/485 [00:00<?, ?it/s]"
      ]
     },
     "metadata": {},
     "output_type": "display_data"
    },
    {
     "name": "stdout",
     "output_type": "stream",
     "text": [
      "2022-08-10 02:28:24 score evaluated: 0.13678516228748072\n",
      "final score: 0.158\n",
      "2022-08-10 02:28:24 discovering a process model...\n",
      "2022-08-10 02:28:29 gave up discovering a model\n",
      "2022-08-10 02:28:29 score evaluated: 0\n",
      "2022-08-10 02:28:29 discovering a process model...\n",
      "2022-08-10 02:28:34 gave up discovering a model\n",
      "2022-08-10 02:28:34 score evaluated: 0\n",
      "final score: 0.0\n",
      "2022-08-10 02:28:34 discovering a process model...\n",
      "2022-08-10 02:28:39 gave up discovering a model\n",
      "2022-08-10 02:28:39 score evaluated: 0\n",
      "2022-08-10 02:28:39 discovering a process model...\n",
      "2022-08-10 02:28:44 gave up discovering a model\n",
      "2022-08-10 02:28:44 score evaluated: 0\n",
      "final score: 0.0\n",
      "2022-08-10 02:28:44 discovering a process model...\n",
      "2022-08-10 02:28:44 process model discovered\n"
     ]
    },
    {
     "data": {
      "application/vnd.jupyter.widget-view+json": {
       "model_id": "e62e3100e4c8441491cd02a05802ab3b",
       "version_major": 2,
       "version_minor": 0
      },
      "text/plain": [
       "replaying log with TBR, completed variants ::   0%|          | 0/301 [00:00<?, ?it/s]"
      ]
     },
     "metadata": {},
     "output_type": "display_data"
    },
    {
     "name": "stdout",
     "output_type": "stream",
     "text": [
      "2022-08-10 02:28:47 score evaluated: 0.4601063829787234\n",
      "2022-08-10 02:28:47 discovering a process model...\n",
      "2022-08-10 02:28:47 process model discovered\n"
     ]
    },
    {
     "data": {
      "application/vnd.jupyter.widget-view+json": {
       "model_id": "875c432ae67048f892a17a2bfdeb1715",
       "version_major": 2,
       "version_minor": 0
      },
      "text/plain": [
       "replaying log with TBR, completed variants ::   0%|          | 0/361 [00:00<?, ?it/s]"
      ]
     },
     "metadata": {},
     "output_type": "display_data"
    },
    {
     "name": "stdout",
     "output_type": "stream",
     "text": [
      "2022-08-10 02:28:49 score evaluated: 0.36866359447004604\n",
      "final score: 0.414\n",
      "2022-08-10 02:28:49 discovering a process model...\n",
      "2022-08-10 02:28:54 gave up discovering a model\n",
      "2022-08-10 02:28:54 score evaluated: 0\n",
      "2022-08-10 02:28:54 discovering a process model...\n",
      "2022-08-10 02:28:59 gave up discovering a model\n",
      "2022-08-10 02:28:59 score evaluated: 0\n",
      "final score: 0.0\n",
      "2022-08-10 02:28:59 discovering a process model...\n",
      "2022-08-10 02:29:04 gave up discovering a model\n",
      "2022-08-10 02:29:04 score evaluated: 0\n",
      "2022-08-10 02:29:04 discovering a process model...\n",
      "2022-08-10 02:29:09 gave up discovering a model\n",
      "2022-08-10 02:29:09 score evaluated: 0\n",
      "final score: 0.0\n",
      "2022-08-10 02:29:09 discovering a process model...\n",
      "2022-08-10 02:29:09 process model discovered\n"
     ]
    },
    {
     "data": {
      "application/vnd.jupyter.widget-view+json": {
       "model_id": "179295be2e3c4792bcab090ebc8cba0c",
       "version_major": 2,
       "version_minor": 0
      },
      "text/plain": [
       "replaying log with TBR, completed variants ::   0%|          | 0/301 [00:00<?, ?it/s]"
      ]
     },
     "metadata": {},
     "output_type": "display_data"
    },
    {
     "name": "stdout",
     "output_type": "stream",
     "text": [
      "2022-08-10 02:29:11 score evaluated: 0.4601063829787234\n",
      "2022-08-10 02:29:11 discovering a process model...\n",
      "2022-08-10 02:29:11 process model discovered\n"
     ]
    },
    {
     "data": {
      "application/vnd.jupyter.widget-view+json": {
       "model_id": "faf39dfb9c724aebad7c3723a2aaca10",
       "version_major": 2,
       "version_minor": 0
      },
      "text/plain": [
       "replaying log with TBR, completed variants ::   0%|          | 0/361 [00:00<?, ?it/s]"
      ]
     },
     "metadata": {},
     "output_type": "display_data"
    },
    {
     "name": "stdout",
     "output_type": "stream",
     "text": [
      "2022-08-10 02:29:14 score evaluated: 0.36866359447004604\n",
      "final score: 0.414\n",
      "2022-08-10 02:29:14 discovering a process model...\n",
      "2022-08-10 02:29:19 gave up discovering a model\n",
      "2022-08-10 02:29:19 score evaluated: 0\n",
      "2022-08-10 02:29:19 discovering a process model...\n",
      "2022-08-10 02:29:24 gave up discovering a model\n",
      "2022-08-10 02:29:24 score evaluated: 0\n",
      "final score: 0.0\n",
      "2022-08-10 02:29:24 discovering a process model...\n",
      "2022-08-10 02:29:29 gave up discovering a model\n",
      "2022-08-10 02:29:29 score evaluated: 0\n",
      "2022-08-10 02:29:29 discovering a process model...\n",
      "2022-08-10 02:29:34 gave up discovering a model\n",
      "2022-08-10 02:29:34 score evaluated: 0\n",
      "final score: 0.0\n",
      "2022-08-10 02:29:34 discovering a process model...\n",
      "2022-08-10 02:29:34 process model discovered\n"
     ]
    },
    {
     "data": {
      "application/vnd.jupyter.widget-view+json": {
       "model_id": "5e46a546ed244e08bf22894d727792a9",
       "version_major": 2,
       "version_minor": 0
      },
      "text/plain": [
       "replaying log with TBR, completed variants ::   0%|          | 0/301 [00:00<?, ?it/s]"
      ]
     },
     "metadata": {},
     "output_type": "display_data"
    },
    {
     "name": "stdout",
     "output_type": "stream",
     "text": [
      "2022-08-10 02:29:36 score evaluated: 0.4601063829787234\n",
      "2022-08-10 02:29:36 discovering a process model...\n",
      "2022-08-10 02:29:36 process model discovered\n"
     ]
    },
    {
     "data": {
      "application/vnd.jupyter.widget-view+json": {
       "model_id": "0f55a5d793794d79b5add45b859c6b90",
       "version_major": 2,
       "version_minor": 0
      },
      "text/plain": [
       "replaying log with TBR, completed variants ::   0%|          | 0/361 [00:00<?, ?it/s]"
      ]
     },
     "metadata": {},
     "output_type": "display_data"
    },
    {
     "name": "stdout",
     "output_type": "stream",
     "text": [
      "2022-08-10 02:29:39 score evaluated: 0.36866359447004604\n",
      "final score: 0.414\n",
      "2022-08-10 02:29:39 miner: inductive_miner metric: generalization\n",
      "2022-08-10 02:29:39 discovering a process model...\n",
      "2022-08-10 02:29:44 gave up discovering a model\n",
      "2022-08-10 02:29:44 score evaluated: 0\n",
      "2022-08-10 02:29:44 discovering a process model...\n",
      "2022-08-10 02:29:49 gave up discovering a model\n",
      "2022-08-10 02:29:49 score evaluated: 0\n",
      "final score: 0.0\n",
      "2022-08-10 02:29:49 discovering a process model...\n",
      "2022-08-10 02:29:54 gave up discovering a model\n",
      "2022-08-10 02:29:54 score evaluated: 0\n",
      "2022-08-10 02:29:54 discovering a process model...\n",
      "2022-08-10 02:29:59 gave up discovering a model\n",
      "2022-08-10 02:29:59 score evaluated: 0\n",
      "final score: 0.0\n",
      "2022-08-10 02:29:59 discovering a process model...\n",
      "2022-08-10 02:29:59 process model discovered\n"
     ]
    },
    {
     "data": {
      "application/vnd.jupyter.widget-view+json": {
       "model_id": "b451ec87294047699c6db4c820fb685d",
       "version_major": 2,
       "version_minor": 0
      },
      "text/plain": [
       "replaying log with TBR, completed variants ::   0%|          | 0/2 [00:00<?, ?it/s]"
      ]
     },
     "metadata": {},
     "output_type": "display_data"
    },
    {
     "name": "stdout",
     "output_type": "stream",
     "text": [
      "2022-08-10 02:30:00 score evaluated: 0.13438989465891116\n",
      "2022-08-10 02:30:00 discovering a process model...\n",
      "2022-08-10 02:30:00 process model discovered\n"
     ]
    },
    {
     "data": {
      "application/vnd.jupyter.widget-view+json": {
       "model_id": "8f5d3f906a754a5a9ebaecaea40d986a",
       "version_major": 2,
       "version_minor": 0
      },
      "text/plain": [
       "replaying log with TBR, completed variants ::   0%|          | 0/3 [00:00<?, ?it/s]"
      ]
     },
     "metadata": {},
     "output_type": "display_data"
    },
    {
     "name": "stdout",
     "output_type": "stream",
     "text": [
      "2022-08-10 02:30:00 score evaluated: 0.08871016946116672\n",
      "final score: 0.112\n",
      "2022-08-10 02:30:00 discovering a process model...\n",
      "2022-08-10 02:30:05 gave up discovering a model\n",
      "2022-08-10 02:30:05 score evaluated: 0\n",
      "2022-08-10 02:30:05 discovering a process model...\n",
      "2022-08-10 02:30:10 gave up discovering a model\n",
      "2022-08-10 02:30:10 score evaluated: 0\n",
      "final score: 0.0\n",
      "2022-08-10 02:30:10 discovering a process model...\n",
      "2022-08-10 02:30:15 gave up discovering a model\n",
      "2022-08-10 02:30:15 score evaluated: 0\n",
      "2022-08-10 02:30:15 discovering a process model...\n",
      "2022-08-10 02:30:20 gave up discovering a model\n",
      "2022-08-10 02:30:20 score evaluated: 0\n",
      "final score: 0.0\n",
      "2022-08-10 02:30:20 discovering a process model...\n",
      "2022-08-10 02:30:20 process model discovered\n"
     ]
    },
    {
     "data": {
      "application/vnd.jupyter.widget-view+json": {
       "model_id": "6a5bbbc85547415f879a09c50462866d",
       "version_major": 2,
       "version_minor": 0
      },
      "text/plain": [
       "replaying log with TBR, completed variants ::   0%|          | 0/2 [00:00<?, ?it/s]"
      ]
     },
     "metadata": {},
     "output_type": "display_data"
    },
    {
     "name": "stdout",
     "output_type": "stream",
     "text": [
      "2022-08-10 02:30:21 score evaluated: 0.16208898436221186\n",
      "2022-08-10 02:30:21 discovering a process model...\n",
      "2022-08-10 02:30:21 process model discovered\n"
     ]
    },
    {
     "data": {
      "application/vnd.jupyter.widget-view+json": {
       "model_id": "d20141bea27549129d5e6efe29f3917f",
       "version_major": 2,
       "version_minor": 0
      },
      "text/plain": [
       "replaying log with TBR, completed variants ::   0%|          | 0/3 [00:00<?, ?it/s]"
      ]
     },
     "metadata": {},
     "output_type": "display_data"
    },
    {
     "name": "stdout",
     "output_type": "stream",
     "text": [
      "2022-08-10 02:30:21 score evaluated: 0.11300774321860785\n",
      "final score: 0.138\n",
      "2022-08-10 02:30:21 discovering a process model...\n",
      "2022-08-10 02:30:26 gave up discovering a model\n",
      "2022-08-10 02:30:26 score evaluated: 0\n",
      "2022-08-10 02:30:26 discovering a process model...\n",
      "2022-08-10 02:30:31 gave up discovering a model\n",
      "2022-08-10 02:30:31 score evaluated: 0\n",
      "final score: 0.0\n",
      "2022-08-10 02:30:31 discovering a process model...\n",
      "2022-08-10 02:30:36 gave up discovering a model\n",
      "2022-08-10 02:30:36 score evaluated: 0\n",
      "2022-08-10 02:30:36 discovering a process model...\n",
      "2022-08-10 02:30:41 gave up discovering a model\n",
      "2022-08-10 02:30:41 score evaluated: 0\n",
      "final score: 0.0\n",
      "2022-08-10 02:30:41 discovering a process model...\n",
      "2022-08-10 02:30:41 process model discovered\n"
     ]
    },
    {
     "data": {
      "application/vnd.jupyter.widget-view+json": {
       "model_id": "dcaedd2c16394e319ae052ad760943dc",
       "version_major": 2,
       "version_minor": 0
      },
      "text/plain": [
       "replaying log with TBR, completed variants ::   0%|          | 0/2 [00:00<?, ?it/s]"
      ]
     },
     "metadata": {},
     "output_type": "display_data"
    },
    {
     "name": "stdout",
     "output_type": "stream",
     "text": [
      "2022-08-10 02:30:42 score evaluated: 0.1633925156085022\n",
      "2022-08-10 02:30:42 discovering a process model...\n",
      "2022-08-10 02:30:42 process model discovered\n"
     ]
    },
    {
     "data": {
      "application/vnd.jupyter.widget-view+json": {
       "model_id": "9fc4fce3e5c94ae996c260fbb5de934b",
       "version_major": 2,
       "version_minor": 0
      },
      "text/plain": [
       "replaying log with TBR, completed variants ::   0%|          | 0/3 [00:00<?, ?it/s]"
      ]
     },
     "metadata": {},
     "output_type": "display_data"
    },
    {
     "name": "stdout",
     "output_type": "stream",
     "text": [
      "2022-08-10 02:30:42 score evaluated: 0.11300774321860785\n",
      "final score: 0.138\n",
      "2022-08-10 02:30:42 discovering a process model...\n",
      "2022-08-10 02:30:47 gave up discovering a model\n",
      "2022-08-10 02:30:47 score evaluated: 0\n",
      "2022-08-10 02:30:47 discovering a process model...\n",
      "2022-08-10 02:30:52 gave up discovering a model\n",
      "2022-08-10 02:30:52 score evaluated: 0\n",
      "final score: 0.0\n",
      "2022-08-10 02:30:52 discovering a process model...\n",
      "2022-08-10 02:30:57 gave up discovering a model\n",
      "2022-08-10 02:30:57 score evaluated: 0\n",
      "2022-08-10 02:30:57 discovering a process model...\n",
      "2022-08-10 02:31:02 gave up discovering a model\n",
      "2022-08-10 02:31:02 score evaluated: 0\n",
      "final score: 0.0\n",
      "2022-08-10 02:31:02 discovering a process model...\n",
      "2022-08-10 02:31:02 process model discovered\n"
     ]
    },
    {
     "data": {
      "application/vnd.jupyter.widget-view+json": {
       "model_id": "bc44b4637ad546beafd0e98456c5ac79",
       "version_major": 2,
       "version_minor": 0
      },
      "text/plain": [
       "replaying log with TBR, completed variants ::   0%|          | 0/4 [00:00<?, ?it/s]"
      ]
     },
     "metadata": {},
     "output_type": "display_data"
    },
    {
     "name": "stdout",
     "output_type": "stream",
     "text": [
      "2022-08-10 02:31:02 score evaluated: 0.3468399482548363\n",
      "2022-08-10 02:31:02 discovering a process model...\n",
      "2022-08-10 02:31:03 process model discovered\n"
     ]
    },
    {
     "data": {
      "application/vnd.jupyter.widget-view+json": {
       "model_id": "2a77f933eda5436bb2ed97c6f6539ba4",
       "version_major": 2,
       "version_minor": 0
      },
      "text/plain": [
       "replaying log with TBR, completed variants ::   0%|          | 0/2 [00:00<?, ?it/s]"
      ]
     },
     "metadata": {},
     "output_type": "display_data"
    },
    {
     "name": "stdout",
     "output_type": "stream",
     "text": [
      "2022-08-10 02:31:03 score evaluated: 0.3718041357512505\n",
      "final score: 0.359\n",
      "2022-08-10 02:31:03 discovering a process model...\n",
      "2022-08-10 02:31:08 gave up discovering a model\n",
      "2022-08-10 02:31:08 score evaluated: 0\n",
      "2022-08-10 02:31:08 discovering a process model...\n",
      "2022-08-10 02:31:13 gave up discovering a model\n",
      "2022-08-10 02:31:13 score evaluated: 0\n",
      "final score: 0.0\n",
      "2022-08-10 02:31:13 discovering a process model...\n",
      "2022-08-10 02:31:18 gave up discovering a model\n",
      "2022-08-10 02:31:18 score evaluated: 0\n",
      "2022-08-10 02:31:18 discovering a process model...\n",
      "2022-08-10 02:31:23 gave up discovering a model\n",
      "2022-08-10 02:31:23 score evaluated: 0\n",
      "final score: 0.0\n",
      "2022-08-10 02:31:23 discovering a process model...\n",
      "2022-08-10 02:31:23 process model discovered\n"
     ]
    },
    {
     "data": {
      "application/vnd.jupyter.widget-view+json": {
       "model_id": "e0787f4155c84b729de6d91033651d73",
       "version_major": 2,
       "version_minor": 0
      },
      "text/plain": [
       "replaying log with TBR, completed variants ::   0%|          | 0/4 [00:00<?, ?it/s]"
      ]
     },
     "metadata": {},
     "output_type": "display_data"
    },
    {
     "name": "stdout",
     "output_type": "stream",
     "text": [
      "2022-08-10 02:31:23 score evaluated: 0.40325435785873387\n",
      "2022-08-10 02:31:23 discovering a process model...\n",
      "2022-08-10 02:31:23 process model discovered\n"
     ]
    },
    {
     "data": {
      "application/vnd.jupyter.widget-view+json": {
       "model_id": "2b0922df8e854dd29354ace70067f0b9",
       "version_major": 2,
       "version_minor": 0
      },
      "text/plain": [
       "replaying log with TBR, completed variants ::   0%|          | 0/2 [00:00<?, ?it/s]"
      ]
     },
     "metadata": {},
     "output_type": "display_data"
    },
    {
     "name": "stdout",
     "output_type": "stream",
     "text": [
      "2022-08-10 02:31:23 score evaluated: 0.3598498852511899\n",
      "final score: 0.382\n",
      "2022-08-10 02:31:23 discovering a process model...\n",
      "2022-08-10 02:31:28 gave up discovering a model\n",
      "2022-08-10 02:31:28 score evaluated: 0\n",
      "2022-08-10 02:31:28 discovering a process model...\n",
      "2022-08-10 02:31:33 gave up discovering a model\n",
      "2022-08-10 02:31:33 score evaluated: 0\n",
      "final score: 0.0\n",
      "2022-08-10 02:31:33 discovering a process model...\n",
      "2022-08-10 02:31:38 gave up discovering a model\n",
      "2022-08-10 02:31:38 score evaluated: 0\n",
      "2022-08-10 02:31:38 discovering a process model...\n",
      "2022-08-10 02:31:43 gave up discovering a model\n",
      "2022-08-10 02:31:43 score evaluated: 0\n",
      "final score: 0.0\n",
      "2022-08-10 02:31:43 discovering a process model...\n",
      "2022-08-10 02:31:43 process model discovered\n"
     ]
    },
    {
     "data": {
      "application/vnd.jupyter.widget-view+json": {
       "model_id": "288ed7dd555b4c229eee9a8c8c8ae641",
       "version_major": 2,
       "version_minor": 0
      },
      "text/plain": [
       "replaying log with TBR, completed variants ::   0%|          | 0/4 [00:00<?, ?it/s]"
      ]
     },
     "metadata": {},
     "output_type": "display_data"
    },
    {
     "name": "stdout",
     "output_type": "stream",
     "text": [
      "2022-08-10 02:31:43 score evaluated: 0.3836397257477814\n",
      "2022-08-10 02:31:43 discovering a process model...\n",
      "2022-08-10 02:31:44 process model discovered\n"
     ]
    },
    {
     "data": {
      "application/vnd.jupyter.widget-view+json": {
       "model_id": "5d2bc777895e4bc08abacc0bc1717cea",
       "version_major": 2,
       "version_minor": 0
      },
      "text/plain": [
       "replaying log with TBR, completed variants ::   0%|          | 0/2 [00:00<?, ?it/s]"
      ]
     },
     "metadata": {},
     "output_type": "display_data"
    },
    {
     "name": "stdout",
     "output_type": "stream",
     "text": [
      "2022-08-10 02:31:44 score evaluated: 0.373325287987638\n",
      "final score: 0.378\n",
      "2022-08-10 02:31:44 discovering a process model...\n",
      "2022-08-10 02:31:49 gave up discovering a model\n",
      "2022-08-10 02:31:49 score evaluated: 0\n",
      "2022-08-10 02:31:49 discovering a process model...\n",
      "2022-08-10 02:31:54 gave up discovering a model\n",
      "2022-08-10 02:31:54 score evaluated: 0\n",
      "final score: 0.0\n",
      "2022-08-10 02:31:54 discovering a process model...\n",
      "2022-08-10 02:31:59 gave up discovering a model\n",
      "2022-08-10 02:31:59 score evaluated: 0\n",
      "2022-08-10 02:31:59 discovering a process model...\n",
      "2022-08-10 02:32:04 gave up discovering a model\n",
      "2022-08-10 02:32:04 score evaluated: 0\n",
      "final score: 0.0\n",
      "2022-08-10 02:32:04 discovering a process model...\n",
      "2022-08-10 02:32:04 process model discovered\n"
     ]
    },
    {
     "data": {
      "application/vnd.jupyter.widget-view+json": {
       "model_id": "b96ee73012954d599fba63cc6480165b",
       "version_major": 2,
       "version_minor": 0
      },
      "text/plain": [
       "replaying log with TBR, completed variants ::   0%|          | 0/9 [00:00<?, ?it/s]"
      ]
     },
     "metadata": {},
     "output_type": "display_data"
    },
    {
     "name": "stdout",
     "output_type": "stream",
     "text": [
      "2022-08-10 02:32:04 score evaluated: 0.2483977286901925\n",
      "2022-08-10 02:32:04 discovering a process model...\n",
      "2022-08-10 02:32:04 process model discovered\n"
     ]
    },
    {
     "data": {
      "application/vnd.jupyter.widget-view+json": {
       "model_id": "21dceff37544411292b74b367cd5e0ef",
       "version_major": 2,
       "version_minor": 0
      },
      "text/plain": [
       "replaying log with TBR, completed variants ::   0%|          | 0/9 [00:00<?, ?it/s]"
      ]
     },
     "metadata": {},
     "output_type": "display_data"
    },
    {
     "name": "stdout",
     "output_type": "stream",
     "text": [
      "2022-08-10 02:32:04 score evaluated: 0.261461859683373\n",
      "final score: 0.255\n",
      "2022-08-10 02:32:04 discovering a process model...\n",
      "2022-08-10 02:32:09 gave up discovering a model\n",
      "2022-08-10 02:32:09 score evaluated: 0\n",
      "2022-08-10 02:32:09 discovering a process model...\n",
      "2022-08-10 02:32:14 gave up discovering a model\n",
      "2022-08-10 02:32:14 score evaluated: 0\n",
      "final score: 0.0\n",
      "2022-08-10 02:32:14 discovering a process model...\n",
      "2022-08-10 02:32:19 gave up discovering a model\n",
      "2022-08-10 02:32:19 score evaluated: 0\n",
      "2022-08-10 02:32:19 discovering a process model...\n",
      "2022-08-10 02:32:24 gave up discovering a model\n",
      "2022-08-10 02:32:24 score evaluated: 0\n",
      "final score: 0.0\n",
      "2022-08-10 02:32:24 discovering a process model...\n",
      "2022-08-10 02:32:24 process model discovered\n"
     ]
    },
    {
     "data": {
      "application/vnd.jupyter.widget-view+json": {
       "model_id": "8406b4cf713d46f2bf6ea958d923e245",
       "version_major": 2,
       "version_minor": 0
      },
      "text/plain": [
       "replaying log with TBR, completed variants ::   0%|          | 0/9 [00:00<?, ?it/s]"
      ]
     },
     "metadata": {},
     "output_type": "display_data"
    },
    {
     "name": "stdout",
     "output_type": "stream",
     "text": [
      "2022-08-10 02:32:24 score evaluated: 0.24839772869019228\n",
      "2022-08-10 02:32:24 discovering a process model...\n",
      "2022-08-10 02:32:24 process model discovered\n"
     ]
    },
    {
     "data": {
      "application/vnd.jupyter.widget-view+json": {
       "model_id": "23ddaa59c3134d19a6de29633d961dc7",
       "version_major": 2,
       "version_minor": 0
      },
      "text/plain": [
       "replaying log with TBR, completed variants ::   0%|          | 0/9 [00:00<?, ?it/s]"
      ]
     },
     "metadata": {},
     "output_type": "display_data"
    },
    {
     "name": "stdout",
     "output_type": "stream",
     "text": [
      "2022-08-10 02:32:24 score evaluated: 0.261461859683373\n",
      "final score: 0.255\n",
      "2022-08-10 02:32:24 discovering a process model...\n",
      "2022-08-10 02:32:29 gave up discovering a model\n",
      "2022-08-10 02:32:29 score evaluated: 0\n",
      "2022-08-10 02:32:29 discovering a process model...\n",
      "2022-08-10 02:32:34 gave up discovering a model\n",
      "2022-08-10 02:32:34 score evaluated: 0\n",
      "final score: 0.0\n",
      "2022-08-10 02:32:34 discovering a process model...\n",
      "2022-08-10 02:32:39 gave up discovering a model\n",
      "2022-08-10 02:32:39 score evaluated: 0\n",
      "2022-08-10 02:32:40 discovering a process model...\n",
      "2022-08-10 02:32:45 gave up discovering a model\n",
      "2022-08-10 02:32:45 score evaluated: 0\n",
      "final score: 0.0\n",
      "2022-08-10 02:32:45 discovering a process model...\n",
      "2022-08-10 02:32:45 process model discovered\n"
     ]
    },
    {
     "data": {
      "application/vnd.jupyter.widget-view+json": {
       "model_id": "97d334ca925c4fa7b39f81880bce2931",
       "version_major": 2,
       "version_minor": 0
      },
      "text/plain": [
       "replaying log with TBR, completed variants ::   0%|          | 0/9 [00:00<?, ?it/s]"
      ]
     },
     "metadata": {},
     "output_type": "display_data"
    },
    {
     "name": "stdout",
     "output_type": "stream",
     "text": [
      "2022-08-10 02:32:45 score evaluated: 0.2483977286901925\n",
      "2022-08-10 02:32:45 discovering a process model...\n",
      "2022-08-10 02:32:45 process model discovered\n"
     ]
    },
    {
     "data": {
      "application/vnd.jupyter.widget-view+json": {
       "model_id": "2726a1d6d13344bab673b5863b38e540",
       "version_major": 2,
       "version_minor": 0
      },
      "text/plain": [
       "replaying log with TBR, completed variants ::   0%|          | 0/9 [00:00<?, ?it/s]"
      ]
     },
     "metadata": {},
     "output_type": "display_data"
    },
    {
     "name": "stdout",
     "output_type": "stream",
     "text": [
      "2022-08-10 02:32:45 score evaluated: 0.261461859683373\n",
      "final score: 0.255\n",
      "2022-08-10 02:32:45 miner: inductive_miner metric: simplicity\n",
      "2022-08-10 02:32:45 discovering a process model...\n",
      "2022-08-10 02:32:50 gave up discovering a model\n",
      "2022-08-10 02:32:50 score evaluated: 0\n",
      "2022-08-10 02:32:50 discovering a process model...\n",
      "2022-08-10 02:32:55 gave up discovering a model\n",
      "2022-08-10 02:32:55 score evaluated: 0\n",
      "final score: 0.0\n",
      "2022-08-10 02:32:55 discovering a process model...\n",
      "2022-08-10 02:33:00 gave up discovering a model\n",
      "2022-08-10 02:33:00 score evaluated: 0\n",
      "2022-08-10 02:33:00 discovering a process model...\n",
      "2022-08-10 02:33:05 gave up discovering a model\n",
      "2022-08-10 02:33:05 score evaluated: 0\n",
      "final score: 0.0\n",
      "2022-08-10 02:33:05 discovering a process model...\n",
      "2022-08-10 02:33:05 process model discovered\n",
      "2022-08-10 02:33:05 score evaluated: 0.7142857142857143\n",
      "2022-08-10 02:33:05 discovering a process model...\n",
      "2022-08-10 02:33:05 process model discovered\n",
      "2022-08-10 02:33:05 score evaluated: 0.6774193548387096\n",
      "final score: 0.696\n",
      "2022-08-10 02:33:05 discovering a process model...\n",
      "2022-08-10 02:33:10 gave up discovering a model\n",
      "2022-08-10 02:33:10 score evaluated: 0\n",
      "2022-08-10 02:33:10 discovering a process model...\n",
      "2022-08-10 02:33:15 gave up discovering a model\n",
      "2022-08-10 02:33:15 score evaluated: 0\n",
      "final score: 0.0\n",
      "2022-08-10 02:33:15 discovering a process model...\n",
      "2022-08-10 02:33:20 gave up discovering a model\n",
      "2022-08-10 02:33:20 score evaluated: 0\n",
      "2022-08-10 02:33:20 discovering a process model...\n",
      "2022-08-10 02:33:25 gave up discovering a model\n",
      "2022-08-10 02:33:25 score evaluated: 0\n",
      "final score: 0.0\n",
      "2022-08-10 02:33:25 discovering a process model...\n",
      "2022-08-10 02:33:25 process model discovered\n",
      "2022-08-10 02:33:25 score evaluated: 0.7333333333333333\n",
      "2022-08-10 02:33:25 discovering a process model...\n",
      "2022-08-10 02:33:25 process model discovered\n",
      "2022-08-10 02:33:25 score evaluated: 0.7142857142857143\n",
      "final score: 0.724\n",
      "2022-08-10 02:33:25 discovering a process model...\n",
      "2022-08-10 02:33:30 gave up discovering a model\n",
      "2022-08-10 02:33:30 score evaluated: 0\n",
      "2022-08-10 02:33:30 discovering a process model...\n",
      "2022-08-10 02:33:35 gave up discovering a model\n",
      "2022-08-10 02:33:35 score evaluated: 0\n",
      "final score: 0.0\n",
      "2022-08-10 02:33:35 discovering a process model...\n",
      "2022-08-10 02:33:40 gave up discovering a model\n",
      "2022-08-10 02:33:40 score evaluated: 0\n",
      "2022-08-10 02:33:40 discovering a process model...\n",
      "2022-08-10 02:33:45 gave up discovering a model\n",
      "2022-08-10 02:33:45 score evaluated: 0\n",
      "final score: 0.0\n",
      "2022-08-10 02:33:45 discovering a process model...\n",
      "2022-08-10 02:33:45 process model discovered\n",
      "2022-08-10 02:33:45 score evaluated: 0.7454545454545455\n",
      "2022-08-10 02:33:45 discovering a process model...\n",
      "2022-08-10 02:33:45 process model discovered\n",
      "2022-08-10 02:33:45 score evaluated: 0.7142857142857143\n",
      "final score: 0.73\n",
      "2022-08-10 02:33:45 discovering a process model...\n",
      "2022-08-10 02:33:50 gave up discovering a model\n",
      "2022-08-10 02:33:50 score evaluated: 0\n",
      "2022-08-10 02:33:50 discovering a process model...\n",
      "2022-08-10 02:33:55 gave up discovering a model\n",
      "2022-08-10 02:33:55 score evaluated: 0\n",
      "final score: 0.0\n",
      "2022-08-10 02:33:56 discovering a process model...\n",
      "2022-08-10 02:34:01 gave up discovering a model\n",
      "2022-08-10 02:34:01 score evaluated: 0\n",
      "2022-08-10 02:34:01 discovering a process model...\n",
      "2022-08-10 02:34:06 gave up discovering a model\n",
      "2022-08-10 02:34:06 score evaluated: 0\n",
      "final score: 0.0\n",
      "2022-08-10 02:34:06 discovering a process model...\n",
      "2022-08-10 02:34:06 process model discovered\n",
      "2022-08-10 02:34:06 score evaluated: 0.6969696969696969\n",
      "2022-08-10 02:34:06 discovering a process model...\n",
      "2022-08-10 02:34:06 process model discovered\n",
      "2022-08-10 02:34:06 score evaluated: 0.7011494252873564\n",
      "final score: 0.699\n",
      "2022-08-10 02:34:06 discovering a process model...\n",
      "2022-08-10 02:34:11 gave up discovering a model\n",
      "2022-08-10 02:34:11 score evaluated: 0\n",
      "2022-08-10 02:34:11 discovering a process model...\n",
      "2022-08-10 02:34:16 gave up discovering a model\n",
      "2022-08-10 02:34:16 score evaluated: 0\n",
      "final score: 0.0\n",
      "2022-08-10 02:34:16 discovering a process model...\n",
      "2022-08-10 02:34:21 gave up discovering a model\n",
      "2022-08-10 02:34:21 score evaluated: 0\n",
      "2022-08-10 02:34:21 discovering a process model...\n",
      "2022-08-10 02:34:26 gave up discovering a model\n",
      "2022-08-10 02:34:26 score evaluated: 0\n",
      "final score: 0.0\n",
      "2022-08-10 02:34:26 discovering a process model...\n",
      "2022-08-10 02:34:26 process model discovered\n",
      "2022-08-10 02:34:26 score evaluated: 0.6880733944954129\n",
      "2022-08-10 02:34:26 discovering a process model...\n",
      "2022-08-10 02:34:26 process model discovered\n",
      "2022-08-10 02:34:26 score evaluated: 0.6956521739130435\n",
      "final score: 0.692\n",
      "2022-08-10 02:34:26 discovering a process model...\n",
      "2022-08-10 02:34:31 gave up discovering a model\n",
      "2022-08-10 02:34:31 score evaluated: 0\n",
      "2022-08-10 02:34:31 discovering a process model...\n",
      "2022-08-10 02:34:36 gave up discovering a model\n",
      "2022-08-10 02:34:36 score evaluated: 0\n",
      "final score: 0.0\n",
      "2022-08-10 02:34:36 discovering a process model...\n",
      "2022-08-10 02:34:41 gave up discovering a model\n",
      "2022-08-10 02:34:41 score evaluated: 0\n",
      "2022-08-10 02:34:41 discovering a process model...\n",
      "2022-08-10 02:34:46 gave up discovering a model\n",
      "2022-08-10 02:34:46 score evaluated: 0\n",
      "final score: 0.0\n",
      "2022-08-10 02:34:46 discovering a process model...\n",
      "2022-08-10 02:34:46 process model discovered\n",
      "2022-08-10 02:34:46 score evaluated: 0.6703296703296703\n",
      "2022-08-10 02:34:46 discovering a process model...\n",
      "2022-08-10 02:34:46 process model discovered\n",
      "2022-08-10 02:34:46 score evaluated: 0.6799999999999999\n",
      "final score: 0.675\n",
      "2022-08-10 02:34:46 discovering a process model...\n",
      "2022-08-10 02:34:51 gave up discovering a model\n",
      "2022-08-10 02:34:51 score evaluated: 0\n",
      "2022-08-10 02:34:51 discovering a process model...\n",
      "2022-08-10 02:34:56 gave up discovering a model\n",
      "2022-08-10 02:34:56 score evaluated: 0\n",
      "final score: 0.0\n",
      "2022-08-10 02:34:56 discovering a process model...\n",
      "2022-08-10 02:35:01 gave up discovering a model\n",
      "2022-08-10 02:35:01 score evaluated: 0\n",
      "2022-08-10 02:35:01 discovering a process model...\n",
      "2022-08-10 02:35:06 gave up discovering a model\n",
      "2022-08-10 02:35:06 score evaluated: 0\n",
      "final score: 0.0\n",
      "2022-08-10 02:35:06 discovering a process model...\n",
      "2022-08-10 02:35:06 process model discovered\n",
      "2022-08-10 02:35:06 score evaluated: 0.6774193548387096\n",
      "2022-08-10 02:35:06 discovering a process model...\n",
      "2022-08-10 02:35:06 process model discovered\n",
      "2022-08-10 02:35:06 score evaluated: 0.6923076923076922\n",
      "final score: 0.685\n",
      "2022-08-10 02:35:06 discovering a process model...\n",
      "2022-08-10 02:35:11 gave up discovering a model\n",
      "2022-08-10 02:35:11 score evaluated: 0\n",
      "2022-08-10 02:35:11 discovering a process model...\n",
      "2022-08-10 02:35:16 gave up discovering a model\n",
      "2022-08-10 02:35:16 score evaluated: 0\n",
      "final score: 0.0\n",
      "2022-08-10 02:35:16 discovering a process model...\n",
      "2022-08-10 02:35:21 gave up discovering a model\n",
      "2022-08-10 02:35:21 score evaluated: 0\n",
      "2022-08-10 02:35:21 discovering a process model...\n",
      "2022-08-10 02:35:26 gave up discovering a model\n",
      "2022-08-10 02:35:26 score evaluated: 0\n",
      "final score: 0.0\n",
      "2022-08-10 02:35:26 discovering a process model...\n",
      "2022-08-10 02:35:26 process model discovered\n",
      "2022-08-10 02:35:26 score evaluated: 0.6774193548387096\n",
      "2022-08-10 02:35:26 discovering a process model...\n",
      "2022-08-10 02:35:26 process model discovered\n",
      "2022-08-10 02:35:26 score evaluated: 0.6923076923076922\n",
      "final score: 0.685\n",
      "2022-08-10 02:35:26 discovering a process model...\n",
      "2022-08-10 02:35:31 gave up discovering a model\n",
      "2022-08-10 02:35:31 score evaluated: 0\n",
      "2022-08-10 02:35:31 discovering a process model...\n",
      "2022-08-10 02:35:36 gave up discovering a model\n",
      "2022-08-10 02:35:36 score evaluated: 0\n",
      "final score: 0.0\n",
      "2022-08-10 02:35:36 discovering a process model...\n",
      "2022-08-10 02:35:41 gave up discovering a model\n",
      "2022-08-10 02:35:41 score evaluated: 0\n",
      "2022-08-10 02:35:41 discovering a process model...\n",
      "2022-08-10 02:35:46 gave up discovering a model\n",
      "2022-08-10 02:35:46 score evaluated: 0\n",
      "final score: 0.0\n",
      "2022-08-10 02:35:46 discovering a process model...\n",
      "2022-08-10 02:35:46 process model discovered\n",
      "2022-08-10 02:35:46 score evaluated: 0.6774193548387096\n",
      "2022-08-10 02:35:46 discovering a process model...\n",
      "2022-08-10 02:35:46 process model discovered\n",
      "2022-08-10 02:35:46 score evaluated: 0.6923076923076922\n",
      "final score: 0.685\n",
      "2022-08-10 02:35:46 miner: heuristics_miner metric: Buijs2014\n",
      "2022-08-10 02:35:46 discovering a process model...\n",
      "2022-08-10 02:35:47 process model discovered\n"
     ]
    },
    {
     "data": {
      "application/vnd.jupyter.widget-view+json": {
       "model_id": "b6d167a8371745be8356d46cae677e6d",
       "version_major": 2,
       "version_minor": 0
      },
      "text/plain": [
       "replaying log with TBR, completed variants ::   0%|          | 0/2 [00:00<?, ?it/s]"
      ]
     },
     "metadata": {},
     "output_type": "display_data"
    },
    {
     "data": {
      "application/vnd.jupyter.widget-view+json": {
       "model_id": "56cbddfd3f7f448d9b7d27b94f97eb74",
       "version_major": 2,
       "version_minor": 0
      },
      "text/plain": [
       "replaying log with TBR, completed variants ::   0%|          | 0/453 [00:00<?, ?it/s]"
      ]
     },
     "metadata": {},
     "output_type": "display_data"
    },
    {
     "data": {
      "application/vnd.jupyter.widget-view+json": {
       "model_id": "3ac9750da8f245678654d989bb005df3",
       "version_major": 2,
       "version_minor": 0
      },
      "text/plain": [
       "replaying log with TBR, completed variants ::   0%|          | 0/2 [00:00<?, ?it/s]"
      ]
     },
     "metadata": {},
     "output_type": "display_data"
    },
    {
     "name": "stdout",
     "output_type": "stream",
     "text": [
      "2022-08-10 02:35:55 score evaluated: 0.7054463639863214\n",
      "2022-08-10 02:35:55 discovering a process model...\n",
      "2022-08-10 02:35:56 process model discovered\n"
     ]
    },
    {
     "data": {
      "application/vnd.jupyter.widget-view+json": {
       "model_id": "e7fe3d45b1ad4576af7534178af6f2a2",
       "version_major": 2,
       "version_minor": 0
      },
      "text/plain": [
       "replaying log with TBR, completed variants ::   0%|          | 0/3 [00:00<?, ?it/s]"
      ]
     },
     "metadata": {},
     "output_type": "display_data"
    },
    {
     "data": {
      "application/vnd.jupyter.widget-view+json": {
       "model_id": "38d4466e428c41a59e0cf32f825e4297",
       "version_major": 2,
       "version_minor": 0
      },
      "text/plain": [
       "replaying log with TBR, completed variants ::   0%|          | 0/538 [00:00<?, ?it/s]"
      ]
     },
     "metadata": {},
     "output_type": "display_data"
    },
    {
     "data": {
      "application/vnd.jupyter.widget-view+json": {
       "model_id": "1551999b4acd454084d542490aea67c3",
       "version_major": 2,
       "version_minor": 0
      },
      "text/plain": [
       "replaying log with TBR, completed variants ::   0%|          | 0/3 [00:00<?, ?it/s]"
      ]
     },
     "metadata": {},
     "output_type": "display_data"
    },
    {
     "name": "stdout",
     "output_type": "stream",
     "text": [
      "2022-08-10 02:36:02 score evaluated: 0.6695540962224497\n",
      "final score: 0.688\n",
      "2022-08-10 02:36:02 discovering a process model...\n",
      "2022-08-10 02:36:03 process model discovered\n"
     ]
    },
    {
     "data": {
      "application/vnd.jupyter.widget-view+json": {
       "model_id": "2cae1e310a7d4d0cacc82ed147ac675a",
       "version_major": 2,
       "version_minor": 0
      },
      "text/plain": [
       "replaying log with TBR, completed variants ::   0%|          | 0/2 [00:00<?, ?it/s]"
      ]
     },
     "metadata": {},
     "output_type": "display_data"
    },
    {
     "data": {
      "application/vnd.jupyter.widget-view+json": {
       "model_id": "466aad58250347f0ba85445adcd3fe8f",
       "version_major": 2,
       "version_minor": 0
      },
      "text/plain": [
       "replaying log with TBR, completed variants ::   0%|          | 0/453 [00:00<?, ?it/s]"
      ]
     },
     "metadata": {},
     "output_type": "display_data"
    },
    {
     "data": {
      "application/vnd.jupyter.widget-view+json": {
       "model_id": "5dff9623304e4939bd8be6aaa68901bf",
       "version_major": 2,
       "version_minor": 0
      },
      "text/plain": [
       "replaying log with TBR, completed variants ::   0%|          | 0/2 [00:00<?, ?it/s]"
      ]
     },
     "metadata": {},
     "output_type": "display_data"
    },
    {
     "name": "stdout",
     "output_type": "stream",
     "text": [
      "2022-08-10 02:36:11 score evaluated: 0.7055808009068948\n",
      "2022-08-10 02:36:11 discovering a process model...\n",
      "2022-08-10 02:36:11 process model discovered\n"
     ]
    },
    {
     "data": {
      "application/vnd.jupyter.widget-view+json": {
       "model_id": "61cabedcec3d4f8082bce6c028585a0e",
       "version_major": 2,
       "version_minor": 0
      },
      "text/plain": [
       "replaying log with TBR, completed variants ::   0%|          | 0/3 [00:00<?, ?it/s]"
      ]
     },
     "metadata": {},
     "output_type": "display_data"
    },
    {
     "data": {
      "application/vnd.jupyter.widget-view+json": {
       "model_id": "c3b40d3e2bea42488af304aebecebe44",
       "version_major": 2,
       "version_minor": 0
      },
      "text/plain": [
       "replaying log with TBR, completed variants ::   0%|          | 0/538 [00:00<?, ?it/s]"
      ]
     },
     "metadata": {},
     "output_type": "display_data"
    },
    {
     "data": {
      "application/vnd.jupyter.widget-view+json": {
       "model_id": "e4ae3e79c5da4c348d416af199c6943b",
       "version_major": 2,
       "version_minor": 0
      },
      "text/plain": [
       "replaying log with TBR, completed variants ::   0%|          | 0/3 [00:00<?, ?it/s]"
      ]
     },
     "metadata": {},
     "output_type": "display_data"
    },
    {
     "name": "stdout",
     "output_type": "stream",
     "text": [
      "2022-08-10 02:36:18 score evaluated: 0.6683145045811624\n",
      "final score: 0.687\n",
      "2022-08-10 02:36:18 discovering a process model...\n",
      "2022-08-10 02:36:18 process model discovered\n"
     ]
    },
    {
     "data": {
      "application/vnd.jupyter.widget-view+json": {
       "model_id": "db17e0f8ddbb4f808a846671eb98333e",
       "version_major": 2,
       "version_minor": 0
      },
      "text/plain": [
       "replaying log with TBR, completed variants ::   0%|          | 0/2 [00:00<?, ?it/s]"
      ]
     },
     "metadata": {},
     "output_type": "display_data"
    },
    {
     "data": {
      "application/vnd.jupyter.widget-view+json": {
       "model_id": "a1d138b5069e42d9b57dd58a80461e7c",
       "version_major": 2,
       "version_minor": 0
      },
      "text/plain": [
       "replaying log with TBR, completed variants ::   0%|          | 0/454 [00:00<?, ?it/s]"
      ]
     },
     "metadata": {},
     "output_type": "display_data"
    },
    {
     "data": {
      "application/vnd.jupyter.widget-view+json": {
       "model_id": "eaa67f76e526431080c254786468cd6b",
       "version_major": 2,
       "version_minor": 0
      },
      "text/plain": [
       "replaying log with TBR, completed variants ::   0%|          | 0/2 [00:00<?, ?it/s]"
      ]
     },
     "metadata": {},
     "output_type": "display_data"
    },
    {
     "name": "stdout",
     "output_type": "stream",
     "text": [
      "2022-08-10 02:37:18 gave up evaluating a model\n",
      "2022-08-10 02:37:18 score evaluated: 0\n",
      "2022-08-10 02:37:18 discovering a process model...\n",
      "2022-08-10 02:37:18 process model discovered\n"
     ]
    },
    {
     "data": {
      "application/vnd.jupyter.widget-view+json": {
       "model_id": "34f64388a23c410f8a5db00bbfbef4a9",
       "version_major": 2,
       "version_minor": 0
      },
      "text/plain": [
       "replaying log with TBR, completed variants ::   0%|          | 0/3 [00:00<?, ?it/s]"
      ]
     },
     "metadata": {},
     "output_type": "display_data"
    },
    {
     "data": {
      "application/vnd.jupyter.widget-view+json": {
       "model_id": "26b78b01b8ac450da29a418cf8c1c2ec",
       "version_major": 2,
       "version_minor": 0
      },
      "text/plain": [
       "replaying log with TBR, completed variants ::   0%|          | 0/540 [00:00<?, ?it/s]"
      ]
     },
     "metadata": {},
     "output_type": "display_data"
    },
    {
     "data": {
      "application/vnd.jupyter.widget-view+json": {
       "model_id": "a427b14d7b804ee49430ef05e7ee8d69",
       "version_major": 2,
       "version_minor": 0
      },
      "text/plain": [
       "replaying log with TBR, completed variants ::   0%|          | 0/3 [00:00<?, ?it/s]"
      ]
     },
     "metadata": {},
     "output_type": "display_data"
    },
    {
     "name": "stdout",
     "output_type": "stream",
     "text": [
      "2022-08-10 02:37:40 score evaluated: 0.8379972191276609\n",
      "final score: 0.419\n",
      "2022-08-10 02:37:40 discovering a process model...\n",
      "2022-08-10 02:37:41 process model discovered\n"
     ]
    },
    {
     "data": {
      "application/vnd.jupyter.widget-view+json": {
       "model_id": "e52a75b6fcd647f199a0b1e31d37ea63",
       "version_major": 2,
       "version_minor": 0
      },
      "text/plain": [
       "replaying log with TBR, completed variants ::   0%|          | 0/2 [00:00<?, ?it/s]"
      ]
     },
     "metadata": {},
     "output_type": "display_data"
    },
    {
     "data": {
      "application/vnd.jupyter.widget-view+json": {
       "model_id": "6d72f2bcc10d4b2b813ca8170e04fa09",
       "version_major": 2,
       "version_minor": 0
      },
      "text/plain": [
       "replaying log with TBR, completed variants ::   0%|          | 0/454 [00:00<?, ?it/s]"
      ]
     },
     "metadata": {},
     "output_type": "display_data"
    },
    {
     "data": {
      "application/vnd.jupyter.widget-view+json": {
       "model_id": "686e7366f2544e10acd418f4705ec3de",
       "version_major": 2,
       "version_minor": 0
      },
      "text/plain": [
       "replaying log with TBR, completed variants ::   0%|          | 0/2 [00:00<?, ?it/s]"
      ]
     },
     "metadata": {},
     "output_type": "display_data"
    },
    {
     "name": "stdout",
     "output_type": "stream",
     "text": [
      "2022-08-10 02:38:05 score evaluated: 0.6785792706938549\n",
      "2022-08-10 02:38:05 discovering a process model...\n",
      "2022-08-10 02:38:06 process model discovered\n"
     ]
    },
    {
     "data": {
      "application/vnd.jupyter.widget-view+json": {
       "model_id": "464ccf5f181b48b08f5dc25febbbc6f6",
       "version_major": 2,
       "version_minor": 0
      },
      "text/plain": [
       "replaying log with TBR, completed variants ::   0%|          | 0/3 [00:00<?, ?it/s]"
      ]
     },
     "metadata": {},
     "output_type": "display_data"
    },
    {
     "data": {
      "application/vnd.jupyter.widget-view+json": {
       "model_id": "952ca98b4fa04f40866221c21ebaafb0",
       "version_major": 2,
       "version_minor": 0
      },
      "text/plain": [
       "replaying log with TBR, completed variants ::   0%|          | 0/541 [00:00<?, ?it/s]"
      ]
     },
     "metadata": {},
     "output_type": "display_data"
    },
    {
     "data": {
      "application/vnd.jupyter.widget-view+json": {
       "model_id": "e47520caff964c6ca550c0573155eb27",
       "version_major": 2,
       "version_minor": 0
      },
      "text/plain": [
       "replaying log with TBR, completed variants ::   0%|          | 0/3 [00:00<?, ?it/s]"
      ]
     },
     "metadata": {},
     "output_type": "display_data"
    },
    {
     "name": "stdout",
     "output_type": "stream",
     "text": [
      "2022-08-10 02:38:14 score evaluated: 0.6601164011903651\n",
      "final score: 0.669\n",
      "2022-08-10 02:38:14 discovering a process model...\n",
      "2022-08-10 02:38:15 process model discovered\n"
     ]
    },
    {
     "data": {
      "application/vnd.jupyter.widget-view+json": {
       "model_id": "2e4e5c1151db493f99e825295f76f24a",
       "version_major": 2,
       "version_minor": 0
      },
      "text/plain": [
       "replaying log with TBR, completed variants ::   0%|          | 0/2 [00:00<?, ?it/s]"
      ]
     },
     "metadata": {},
     "output_type": "display_data"
    },
    {
     "data": {
      "application/vnd.jupyter.widget-view+json": {
       "model_id": "a9cf7cb23724433baf9b5299c7122161",
       "version_major": 2,
       "version_minor": 0
      },
      "text/plain": [
       "replaying log with TBR, completed variants ::   0%|          | 0/454 [00:00<?, ?it/s]"
      ]
     },
     "metadata": {},
     "output_type": "display_data"
    },
    {
     "data": {
      "application/vnd.jupyter.widget-view+json": {
       "model_id": "3abe2c4c3d1c49eb8d4224e10b8e86b9",
       "version_major": 2,
       "version_minor": 0
      },
      "text/plain": [
       "replaying log with TBR, completed variants ::   0%|          | 0/2 [00:00<?, ?it/s]"
      ]
     },
     "metadata": {},
     "output_type": "display_data"
    },
    {
     "name": "stdout",
     "output_type": "stream",
     "text": [
      "2022-08-10 02:38:39 score evaluated: 0.6785792706938549\n",
      "2022-08-10 02:38:39 discovering a process model...\n",
      "2022-08-10 02:38:39 process model discovered\n"
     ]
    },
    {
     "data": {
      "application/vnd.jupyter.widget-view+json": {
       "model_id": "f42d2b9ec2084083b31b96ff08a48313",
       "version_major": 2,
       "version_minor": 0
      },
      "text/plain": [
       "replaying log with TBR, completed variants ::   0%|          | 0/3 [00:00<?, ?it/s]"
      ]
     },
     "metadata": {},
     "output_type": "display_data"
    },
    {
     "data": {
      "application/vnd.jupyter.widget-view+json": {
       "model_id": "acfc0da25f9b4d2ea801c27cd610b08a",
       "version_major": 2,
       "version_minor": 0
      },
      "text/plain": [
       "replaying log with TBR, completed variants ::   0%|          | 0/541 [00:00<?, ?it/s]"
      ]
     },
     "metadata": {},
     "output_type": "display_data"
    },
    {
     "data": {
      "application/vnd.jupyter.widget-view+json": {
       "model_id": "b07cc1e88799470c8ec3edbe204abd48",
       "version_major": 2,
       "version_minor": 0
      },
      "text/plain": [
       "replaying log with TBR, completed variants ::   0%|          | 0/3 [00:00<?, ?it/s]"
      ]
     },
     "metadata": {},
     "output_type": "display_data"
    },
    {
     "name": "stdout",
     "output_type": "stream",
     "text": [
      "2022-08-10 02:38:48 score evaluated: 0.6601164011903651\n",
      "final score: 0.669\n",
      "2022-08-10 02:38:48 discovering a process model...\n",
      "2022-08-10 02:38:48 process model discovered\n"
     ]
    },
    {
     "data": {
      "application/vnd.jupyter.widget-view+json": {
       "model_id": "6a73396c3a7f4443abef9d94914abdae",
       "version_major": 2,
       "version_minor": 0
      },
      "text/plain": [
       "replaying log with TBR, completed variants ::   0%|          | 0/2 [00:00<?, ?it/s]"
      ]
     },
     "metadata": {},
     "output_type": "display_data"
    },
    {
     "data": {
      "application/vnd.jupyter.widget-view+json": {
       "model_id": "9bc4553c53bc4840a6816efd058e2cfb",
       "version_major": 2,
       "version_minor": 0
      },
      "text/plain": [
       "replaying log with TBR, completed variants ::   0%|          | 0/452 [00:00<?, ?it/s]"
      ]
     },
     "metadata": {},
     "output_type": "display_data"
    },
    {
     "name": "stdout",
     "output_type": "stream",
     "text": [
      "2022-08-10 02:39:48 gave up evaluating a model\n",
      "2022-08-10 02:39:48 score evaluated: 0\n",
      "2022-08-10 02:39:49 discovering a process model...\n",
      "2022-08-10 02:39:49 process model discovered\n"
     ]
    },
    {
     "data": {
      "application/vnd.jupyter.widget-view+json": {
       "model_id": "128f90456c6d41ea8ec48c4a1049784f",
       "version_major": 2,
       "version_minor": 0
      },
      "text/plain": [
       "replaying log with TBR, completed variants ::   0%|          | 0/3 [00:00<?, ?it/s]"
      ]
     },
     "metadata": {},
     "output_type": "display_data"
    },
    {
     "data": {
      "application/vnd.jupyter.widget-view+json": {
       "model_id": "de3d77fcaca04c338038c78b0d189303",
       "version_major": 2,
       "version_minor": 0
      },
      "text/plain": [
       "replaying log with TBR, completed variants ::   0%|          | 0/541 [00:00<?, ?it/s]"
      ]
     },
     "metadata": {},
     "output_type": "display_data"
    },
    {
     "data": {
      "application/vnd.jupyter.widget-view+json": {
       "model_id": "ce4b49d153e84ebb9c47eb59f4713d63",
       "version_major": 2,
       "version_minor": 0
      },
      "text/plain": [
       "replaying log with TBR, completed variants ::   0%|          | 0/3 [00:00<?, ?it/s]"
      ]
     },
     "metadata": {},
     "output_type": "display_data"
    },
    {
     "name": "stdout",
     "output_type": "stream",
     "text": [
      "2022-08-10 02:40:06 score evaluated: 0.8338623076284447\n",
      "final score: 0.417\n",
      "2022-08-10 02:40:06 discovering a process model...\n",
      "2022-08-10 02:40:07 process model discovered\n"
     ]
    },
    {
     "data": {
      "application/vnd.jupyter.widget-view+json": {
       "model_id": "3932411d88b849118f2f5f9dbfcb26d6",
       "version_major": 2,
       "version_minor": 0
      },
      "text/plain": [
       "replaying log with TBR, completed variants ::   0%|          | 0/2 [00:00<?, ?it/s]"
      ]
     },
     "metadata": {},
     "output_type": "display_data"
    },
    {
     "data": {
      "application/vnd.jupyter.widget-view+json": {
       "model_id": "607c3304d30340cbb09ebeb18e71ad14",
       "version_major": 2,
       "version_minor": 0
      },
      "text/plain": [
       "replaying log with TBR, completed variants ::   0%|          | 0/454 [00:00<?, ?it/s]"
      ]
     },
     "metadata": {},
     "output_type": "display_data"
    },
    {
     "data": {
      "application/vnd.jupyter.widget-view+json": {
       "model_id": "3ab61ecd713a40b3987c9c56803aca5f",
       "version_major": 2,
       "version_minor": 0
      },
      "text/plain": [
       "replaying log with TBR, completed variants ::   0%|          | 0/2 [00:00<?, ?it/s]"
      ]
     },
     "metadata": {},
     "output_type": "display_data"
    },
    {
     "name": "stdout",
     "output_type": "stream",
     "text": [
      "2022-08-10 02:40:22 score evaluated: 0.7119539159745676\n",
      "2022-08-10 02:40:22 discovering a process model...\n",
      "2022-08-10 02:40:23 process model discovered\n"
     ]
    },
    {
     "data": {
      "application/vnd.jupyter.widget-view+json": {
       "model_id": "dd7d12fd0804412b80aee1839199e9eb",
       "version_major": 2,
       "version_minor": 0
      },
      "text/plain": [
       "replaying log with TBR, completed variants ::   0%|          | 0/3 [00:00<?, ?it/s]"
      ]
     },
     "metadata": {},
     "output_type": "display_data"
    },
    {
     "data": {
      "application/vnd.jupyter.widget-view+json": {
       "model_id": "b38dfdd03a194c39bbe8493752b9b48f",
       "version_major": 2,
       "version_minor": 0
      },
      "text/plain": [
       "replaying log with TBR, completed variants ::   0%|          | 0/541 [00:00<?, ?it/s]"
      ]
     },
     "metadata": {},
     "output_type": "display_data"
    },
    {
     "data": {
      "application/vnd.jupyter.widget-view+json": {
       "model_id": "e3cfad6d037c409d8072bf05516df3a6",
       "version_major": 2,
       "version_minor": 0
      },
      "text/plain": [
       "replaying log with TBR, completed variants ::   0%|          | 0/3 [00:00<?, ?it/s]"
      ]
     },
     "metadata": {},
     "output_type": "display_data"
    },
    {
     "name": "stdout",
     "output_type": "stream",
     "text": [
      "2022-08-10 02:40:42 score evaluated: 0.6532910396082895\n",
      "final score: 0.683\n",
      "2022-08-10 02:40:42 discovering a process model...\n",
      "2022-08-10 02:40:43 process model discovered\n"
     ]
    },
    {
     "data": {
      "application/vnd.jupyter.widget-view+json": {
       "model_id": "2374c764427745788df17bb815e23d2f",
       "version_major": 2,
       "version_minor": 0
      },
      "text/plain": [
       "replaying log with TBR, completed variants ::   0%|          | 0/2 [00:00<?, ?it/s]"
      ]
     },
     "metadata": {},
     "output_type": "display_data"
    },
    {
     "data": {
      "application/vnd.jupyter.widget-view+json": {
       "model_id": "298c555175794d05abbf34229ffd886b",
       "version_major": 2,
       "version_minor": 0
      },
      "text/plain": [
       "replaying log with TBR, completed variants ::   0%|          | 0/454 [00:00<?, ?it/s]"
      ]
     },
     "metadata": {},
     "output_type": "display_data"
    },
    {
     "data": {
      "application/vnd.jupyter.widget-view+json": {
       "model_id": "eefffc5e112b42aeacca54a150ff71b5",
       "version_major": 2,
       "version_minor": 0
      },
      "text/plain": [
       "replaying log with TBR, completed variants ::   0%|          | 0/2 [00:00<?, ?it/s]"
      ]
     },
     "metadata": {},
     "output_type": "display_data"
    },
    {
     "name": "stdout",
     "output_type": "stream",
     "text": [
      "2022-08-10 02:40:58 score evaluated: 0.7128687053937208\n",
      "2022-08-10 02:40:58 discovering a process model...\n",
      "2022-08-10 02:40:59 process model discovered\n"
     ]
    },
    {
     "data": {
      "application/vnd.jupyter.widget-view+json": {
       "model_id": "3fbbb552fbca42fa8a7edbf052a322ae",
       "version_major": 2,
       "version_minor": 0
      },
      "text/plain": [
       "replaying log with TBR, completed variants ::   0%|          | 0/3 [00:00<?, ?it/s]"
      ]
     },
     "metadata": {},
     "output_type": "display_data"
    },
    {
     "data": {
      "application/vnd.jupyter.widget-view+json": {
       "model_id": "395dc23d07534a25b1ba6e0817b17803",
       "version_major": 2,
       "version_minor": 0
      },
      "text/plain": [
       "replaying log with TBR, completed variants ::   0%|          | 0/541 [00:00<?, ?it/s]"
      ]
     },
     "metadata": {},
     "output_type": "display_data"
    },
    {
     "data": {
      "application/vnd.jupyter.widget-view+json": {
       "model_id": "fcd75af0318247fda0148308fb666e23",
       "version_major": 2,
       "version_minor": 0
      },
      "text/plain": [
       "replaying log with TBR, completed variants ::   0%|          | 0/3 [00:00<?, ?it/s]"
      ]
     },
     "metadata": {},
     "output_type": "display_data"
    },
    {
     "name": "stdout",
     "output_type": "stream",
     "text": [
      "2022-08-10 02:41:18 score evaluated: 0.6532910396082895\n",
      "final score: 0.683\n",
      "2022-08-10 02:41:18 discovering a process model...\n",
      "2022-08-10 02:41:18 process model discovered\n"
     ]
    },
    {
     "data": {
      "application/vnd.jupyter.widget-view+json": {
       "model_id": "509d878d2e2040c8ac36d7217dd824fb",
       "version_major": 2,
       "version_minor": 0
      },
      "text/plain": [
       "replaying log with TBR, completed variants ::   0%|          | 0/2 [00:00<?, ?it/s]"
      ]
     },
     "metadata": {},
     "output_type": "display_data"
    },
    {
     "data": {
      "application/vnd.jupyter.widget-view+json": {
       "model_id": "4083d6937a534da4bb41a89ff8eb5550",
       "version_major": 2,
       "version_minor": 0
      },
      "text/plain": [
       "replaying log with TBR, completed variants ::   0%|          | 0/454 [00:00<?, ?it/s]"
      ]
     },
     "metadata": {},
     "output_type": "display_data"
    },
    {
     "data": {
      "application/vnd.jupyter.widget-view+json": {
       "model_id": "f3e1a0639e454310922d8824feedb10b",
       "version_major": 2,
       "version_minor": 0
      },
      "text/plain": [
       "replaying log with TBR, completed variants ::   0%|          | 0/2 [00:00<?, ?it/s]"
      ]
     },
     "metadata": {},
     "output_type": "display_data"
    },
    {
     "name": "stdout",
     "output_type": "stream",
     "text": [
      "2022-08-10 02:42:15 score evaluated: 0.8856224348778485\n",
      "2022-08-10 02:42:15 discovering a process model...\n",
      "2022-08-10 02:42:15 process model discovered\n"
     ]
    },
    {
     "data": {
      "application/vnd.jupyter.widget-view+json": {
       "model_id": "ba155a774ee546eab32a1f3cdf9adc35",
       "version_major": 2,
       "version_minor": 0
      },
      "text/plain": [
       "replaying log with TBR, completed variants ::   0%|          | 0/3 [00:00<?, ?it/s]"
      ]
     },
     "metadata": {},
     "output_type": "display_data"
    },
    {
     "data": {
      "application/vnd.jupyter.widget-view+json": {
       "model_id": "53abeafca804498f97922e3345840c4f",
       "version_major": 2,
       "version_minor": 0
      },
      "text/plain": [
       "replaying log with TBR, completed variants ::   0%|          | 0/533 [00:00<?, ?it/s]"
      ]
     },
     "metadata": {},
     "output_type": "display_data"
    },
    {
     "data": {
      "application/vnd.jupyter.widget-view+json": {
       "model_id": "c575cfe0f3e642d487d126daaf7ed2c4",
       "version_major": 2,
       "version_minor": 0
      },
      "text/plain": [
       "replaying log with TBR, completed variants ::   0%|          | 0/3 [00:00<?, ?it/s]"
      ]
     },
     "metadata": {},
     "output_type": "display_data"
    },
    {
     "name": "stdout",
     "output_type": "stream",
     "text": [
      "2022-08-10 02:42:37 score evaluated: 0.8629833561598094\n",
      "final score: 0.874\n",
      "2022-08-10 02:42:37 discovering a process model...\n",
      "2022-08-10 02:42:38 process model discovered\n"
     ]
    },
    {
     "data": {
      "application/vnd.jupyter.widget-view+json": {
       "model_id": "483eba314a11411f84c2fdb65a08a755",
       "version_major": 2,
       "version_minor": 0
      },
      "text/plain": [
       "replaying log with TBR, completed variants ::   0%|          | 0/4 [00:00<?, ?it/s]"
      ]
     },
     "metadata": {},
     "output_type": "display_data"
    },
    {
     "data": {
      "application/vnd.jupyter.widget-view+json": {
       "model_id": "740d6445b287402a9ff6e148d5424163",
       "version_major": 2,
       "version_minor": 0
      },
      "text/plain": [
       "replaying log with TBR, completed variants ::   0%|          | 0/507 [00:00<?, ?it/s]"
      ]
     },
     "metadata": {},
     "output_type": "display_data"
    },
    {
     "data": {
      "application/vnd.jupyter.widget-view+json": {
       "model_id": "7b796bb64ac84d1f8462bf801ea25e3f",
       "version_major": 2,
       "version_minor": 0
      },
      "text/plain": [
       "replaying log with TBR, completed variants ::   0%|          | 0/4 [00:00<?, ?it/s]"
      ]
     },
     "metadata": {},
     "output_type": "display_data"
    },
    {
     "name": "stdout",
     "output_type": "stream",
     "text": [
      "2022-08-10 02:42:42 score evaluated: 0.6881447620803689\n",
      "2022-08-10 02:42:42 discovering a process model...\n",
      "2022-08-10 02:42:43 process model discovered\n"
     ]
    },
    {
     "data": {
      "application/vnd.jupyter.widget-view+json": {
       "model_id": "7b0f8a1f035540069b84b014a7b6313a",
       "version_major": 2,
       "version_minor": 0
      },
      "text/plain": [
       "replaying log with TBR, completed variants ::   0%|          | 0/2 [00:00<?, ?it/s]"
      ]
     },
     "metadata": {},
     "output_type": "display_data"
    },
    {
     "data": {
      "application/vnd.jupyter.widget-view+json": {
       "model_id": "92bd1b89352a4b6cb32750998686464e",
       "version_major": 2,
       "version_minor": 0
      },
      "text/plain": [
       "replaying log with TBR, completed variants ::   0%|          | 0/484 [00:00<?, ?it/s]"
      ]
     },
     "metadata": {},
     "output_type": "display_data"
    },
    {
     "data": {
      "application/vnd.jupyter.widget-view+json": {
       "model_id": "ce72ba56411947cfa20c3d0ca54d4fd0",
       "version_major": 2,
       "version_minor": 0
      },
      "text/plain": [
       "replaying log with TBR, completed variants ::   0%|          | 0/2 [00:00<?, ?it/s]"
      ]
     },
     "metadata": {},
     "output_type": "display_data"
    },
    {
     "name": "stdout",
     "output_type": "stream",
     "text": [
      "2022-08-10 02:42:48 score evaluated: 0.7357460880021751\n",
      "final score: 0.712\n",
      "2022-08-10 02:42:48 discovering a process model...\n",
      "2022-08-10 02:42:49 process model discovered\n"
     ]
    },
    {
     "data": {
      "application/vnd.jupyter.widget-view+json": {
       "model_id": "10a623b673434f408a87a46b0c8761aa",
       "version_major": 2,
       "version_minor": 0
      },
      "text/plain": [
       "replaying log with TBR, completed variants ::   0%|          | 0/4 [00:00<?, ?it/s]"
      ]
     },
     "metadata": {},
     "output_type": "display_data"
    },
    {
     "data": {
      "application/vnd.jupyter.widget-view+json": {
       "model_id": "7c953a821c6145d3a4a4db18c0862253",
       "version_major": 2,
       "version_minor": 0
      },
      "text/plain": [
       "replaying log with TBR, completed variants ::   0%|          | 0/507 [00:00<?, ?it/s]"
      ]
     },
     "metadata": {},
     "output_type": "display_data"
    },
    {
     "data": {
      "application/vnd.jupyter.widget-view+json": {
       "model_id": "c2b168fe3d5a42f1871a963c494a313f",
       "version_major": 2,
       "version_minor": 0
      },
      "text/plain": [
       "replaying log with TBR, completed variants ::   0%|          | 0/4 [00:00<?, ?it/s]"
      ]
     },
     "metadata": {},
     "output_type": "display_data"
    },
    {
     "name": "stdout",
     "output_type": "stream",
     "text": [
      "2022-08-10 02:42:54 score evaluated: 0.6854768861199514\n",
      "2022-08-10 02:42:54 discovering a process model...\n",
      "2022-08-10 02:42:54 process model discovered\n"
     ]
    },
    {
     "data": {
      "application/vnd.jupyter.widget-view+json": {
       "model_id": "43a95cde4d0d4896a8a1804cfe6d6793",
       "version_major": 2,
       "version_minor": 0
      },
      "text/plain": [
       "replaying log with TBR, completed variants ::   0%|          | 0/2 [00:00<?, ?it/s]"
      ]
     },
     "metadata": {},
     "output_type": "display_data"
    },
    {
     "data": {
      "application/vnd.jupyter.widget-view+json": {
       "model_id": "ebf79c6f6f9e44e3a47238686e6cb177",
       "version_major": 2,
       "version_minor": 0
      },
      "text/plain": [
       "replaying log with TBR, completed variants ::   0%|          | 0/484 [00:00<?, ?it/s]"
      ]
     },
     "metadata": {},
     "output_type": "display_data"
    },
    {
     "data": {
      "application/vnd.jupyter.widget-view+json": {
       "model_id": "ffd59d72e62745b29f4f132742bf72e1",
       "version_major": 2,
       "version_minor": 0
      },
      "text/plain": [
       "replaying log with TBR, completed variants ::   0%|          | 0/2 [00:00<?, ?it/s]"
      ]
     },
     "metadata": {},
     "output_type": "display_data"
    },
    {
     "name": "stdout",
     "output_type": "stream",
     "text": [
      "2022-08-10 02:42:59 score evaluated: 0.7357460880021751\n",
      "final score: 0.711\n",
      "2022-08-10 02:42:59 discovering a process model...\n",
      "2022-08-10 02:42:59 process model discovered\n"
     ]
    },
    {
     "data": {
      "application/vnd.jupyter.widget-view+json": {
       "model_id": "1b187edae9e54125bd82080d0c757e28",
       "version_major": 2,
       "version_minor": 0
      },
      "text/plain": [
       "replaying log with TBR, completed variants ::   0%|          | 0/4 [00:00<?, ?it/s]"
      ]
     },
     "metadata": {},
     "output_type": "display_data"
    },
    {
     "data": {
      "application/vnd.jupyter.widget-view+json": {
       "model_id": "02464f02b4754c9393f94ad99ad051ec",
       "version_major": 2,
       "version_minor": 0
      },
      "text/plain": [
       "replaying log with TBR, completed variants ::   0%|          | 0/485 [00:00<?, ?it/s]"
      ]
     },
     "metadata": {},
     "output_type": "display_data"
    },
    {
     "data": {
      "application/vnd.jupyter.widget-view+json": {
       "model_id": "bebac310ad29466796b132b036d1efb8",
       "version_major": 2,
       "version_minor": 0
      },
      "text/plain": [
       "replaying log with TBR, completed variants ::   0%|          | 0/4 [00:00<?, ?it/s]"
      ]
     },
     "metadata": {},
     "output_type": "display_data"
    },
    {
     "name": "stdout",
     "output_type": "stream",
     "text": [
      "2022-08-10 02:43:02 score evaluated: 0.8571299354583723\n",
      "2022-08-10 02:43:02 discovering a process model...\n",
      "2022-08-10 02:43:02 process model discovered\n"
     ]
    },
    {
     "data": {
      "application/vnd.jupyter.widget-view+json": {
       "model_id": "a1882f9dddd14812953264b9f4e91636",
       "version_major": 2,
       "version_minor": 0
      },
      "text/plain": [
       "replaying log with TBR, completed variants ::   0%|          | 0/2 [00:00<?, ?it/s]"
      ]
     },
     "metadata": {},
     "output_type": "display_data"
    },
    {
     "data": {
      "application/vnd.jupyter.widget-view+json": {
       "model_id": "13c80cdf2b6f4951b8a727780700aa51",
       "version_major": 2,
       "version_minor": 0
      },
      "text/plain": [
       "replaying log with TBR, completed variants ::   0%|          | 0/485 [00:00<?, ?it/s]"
      ]
     },
     "metadata": {},
     "output_type": "display_data"
    },
    {
     "data": {
      "application/vnd.jupyter.widget-view+json": {
       "model_id": "a659344fb8674c72b8d5d5cc1a0c507f",
       "version_major": 2,
       "version_minor": 0
      },
      "text/plain": [
       "replaying log with TBR, completed variants ::   0%|          | 0/2 [00:00<?, ?it/s]"
      ]
     },
     "metadata": {},
     "output_type": "display_data"
    },
    {
     "name": "stdout",
     "output_type": "stream",
     "text": [
      "2022-08-10 02:43:04 score evaluated: 0.9048917932248324\n",
      "final score: 0.881\n",
      "2022-08-10 02:43:04 discovering a process model...\n",
      "2022-08-10 02:43:05 process model discovered\n"
     ]
    },
    {
     "data": {
      "application/vnd.jupyter.widget-view+json": {
       "model_id": "90c1365c1b954dc7807a43c91eb7c911",
       "version_major": 2,
       "version_minor": 0
      },
      "text/plain": [
       "replaying log with TBR, completed variants ::   0%|          | 0/4 [00:00<?, ?it/s]"
      ]
     },
     "metadata": {},
     "output_type": "display_data"
    },
    {
     "data": {
      "application/vnd.jupyter.widget-view+json": {
       "model_id": "fedb6579d09745fcbdf012d80f1bc16e",
       "version_major": 2,
       "version_minor": 0
      },
      "text/plain": [
       "replaying log with TBR, completed variants ::   0%|          | 0/509 [00:00<?, ?it/s]"
      ]
     },
     "metadata": {},
     "output_type": "display_data"
    },
    {
     "data": {
      "application/vnd.jupyter.widget-view+json": {
       "model_id": "6c451c68d302438b93f60296c05c57b4",
       "version_major": 2,
       "version_minor": 0
      },
      "text/plain": [
       "replaying log with TBR, completed variants ::   0%|          | 0/4 [00:00<?, ?it/s]"
      ]
     },
     "metadata": {},
     "output_type": "display_data"
    },
    {
     "name": "stdout",
     "output_type": "stream",
     "text": [
      "2022-08-10 02:43:21 score evaluated: 0.6917859511107995\n",
      "2022-08-10 02:43:21 discovering a process model...\n",
      "2022-08-10 02:43:22 process model discovered\n"
     ]
    },
    {
     "data": {
      "application/vnd.jupyter.widget-view+json": {
       "model_id": "e19238d57f9d4dc5bc68c80a82b07e62",
       "version_major": 2,
       "version_minor": 0
      },
      "text/plain": [
       "replaying log with TBR, completed variants ::   0%|          | 0/2 [00:00<?, ?it/s]"
      ]
     },
     "metadata": {},
     "output_type": "display_data"
    },
    {
     "data": {
      "application/vnd.jupyter.widget-view+json": {
       "model_id": "d9ad7bec988c4ddc974f33626fc59f2a",
       "version_major": 2,
       "version_minor": 0
      },
      "text/plain": [
       "replaying log with TBR, completed variants ::   0%|          | 0/485 [00:00<?, ?it/s]"
      ]
     },
     "metadata": {},
     "output_type": "display_data"
    },
    {
     "data": {
      "application/vnd.jupyter.widget-view+json": {
       "model_id": "fe3a54b1801b49dfbfd7800fa3faea19",
       "version_major": 2,
       "version_minor": 0
      },
      "text/plain": [
       "replaying log with TBR, completed variants ::   0%|          | 0/2 [00:00<?, ?it/s]"
      ]
     },
     "metadata": {},
     "output_type": "display_data"
    },
    {
     "name": "stdout",
     "output_type": "stream",
     "text": [
      "2022-08-10 02:43:35 score evaluated: 0.6942752981266657\n",
      "final score: 0.693\n",
      "2022-08-10 02:43:35 discovering a process model...\n",
      "2022-08-10 02:43:36 process model discovered\n"
     ]
    },
    {
     "data": {
      "application/vnd.jupyter.widget-view+json": {
       "model_id": "01b20ad3e6fd44b18989f4484305b60a",
       "version_major": 2,
       "version_minor": 0
      },
      "text/plain": [
       "replaying log with TBR, completed variants ::   0%|          | 0/4 [00:00<?, ?it/s]"
      ]
     },
     "metadata": {},
     "output_type": "display_data"
    },
    {
     "data": {
      "application/vnd.jupyter.widget-view+json": {
       "model_id": "92526290c0b64adeb5e34190aad13b4c",
       "version_major": 2,
       "version_minor": 0
      },
      "text/plain": [
       "replaying log with TBR, completed variants ::   0%|          | 0/509 [00:00<?, ?it/s]"
      ]
     },
     "metadata": {},
     "output_type": "display_data"
    },
    {
     "data": {
      "application/vnd.jupyter.widget-view+json": {
       "model_id": "e75c85ebd8794e11a923a78081ac9e32",
       "version_major": 2,
       "version_minor": 0
      },
      "text/plain": [
       "replaying log with TBR, completed variants ::   0%|          | 0/4 [00:00<?, ?it/s]"
      ]
     },
     "metadata": {},
     "output_type": "display_data"
    },
    {
     "name": "stdout",
     "output_type": "stream",
     "text": [
      "2022-08-10 02:43:52 score evaluated: 0.6917859511107995\n",
      "2022-08-10 02:43:52 discovering a process model...\n",
      "2022-08-10 02:43:52 process model discovered\n"
     ]
    },
    {
     "data": {
      "application/vnd.jupyter.widget-view+json": {
       "model_id": "b4de3f9cd1254ee28d25c9513cabc84e",
       "version_major": 2,
       "version_minor": 0
      },
      "text/plain": [
       "replaying log with TBR, completed variants ::   0%|          | 0/2 [00:00<?, ?it/s]"
      ]
     },
     "metadata": {},
     "output_type": "display_data"
    },
    {
     "data": {
      "application/vnd.jupyter.widget-view+json": {
       "model_id": "82e9d852db6a4308bfbac138b6fba47f",
       "version_major": 2,
       "version_minor": 0
      },
      "text/plain": [
       "replaying log with TBR, completed variants ::   0%|          | 0/485 [00:00<?, ?it/s]"
      ]
     },
     "metadata": {},
     "output_type": "display_data"
    },
    {
     "data": {
      "application/vnd.jupyter.widget-view+json": {
       "model_id": "dee593bfd2714eaa8fdf52e0234502bb",
       "version_major": 2,
       "version_minor": 0
      },
      "text/plain": [
       "replaying log with TBR, completed variants ::   0%|          | 0/2 [00:00<?, ?it/s]"
      ]
     },
     "metadata": {},
     "output_type": "display_data"
    },
    {
     "name": "stdout",
     "output_type": "stream",
     "text": [
      "2022-08-10 02:44:05 score evaluated: 0.6943505984306482\n",
      "final score: 0.693\n",
      "2022-08-10 02:44:05 discovering a process model...\n",
      "2022-08-10 02:44:05 process model discovered\n"
     ]
    },
    {
     "data": {
      "application/vnd.jupyter.widget-view+json": {
       "model_id": "4bf78151177940afac2fcf434d17b54f",
       "version_major": 2,
       "version_minor": 0
      },
      "text/plain": [
       "replaying log with TBR, completed variants ::   0%|          | 0/4 [00:00<?, ?it/s]"
      ]
     },
     "metadata": {},
     "output_type": "display_data"
    },
    {
     "data": {
      "application/vnd.jupyter.widget-view+json": {
       "model_id": "197fbf67781c4aaeb5aa3c904dcd1fee",
       "version_major": 2,
       "version_minor": 0
      },
      "text/plain": [
       "replaying log with TBR, completed variants ::   0%|          | 0/509 [00:00<?, ?it/s]"
      ]
     },
     "metadata": {},
     "output_type": "display_data"
    },
    {
     "data": {
      "application/vnd.jupyter.widget-view+json": {
       "model_id": "ddc5705bac2542069959b1cac28dfda7",
       "version_major": 2,
       "version_minor": 0
      },
      "text/plain": [
       "replaying log with TBR, completed variants ::   0%|          | 0/4 [00:00<?, ?it/s]"
      ]
     },
     "metadata": {},
     "output_type": "display_data"
    },
    {
     "name": "stdout",
     "output_type": "stream",
     "text": [
      "2022-08-10 02:44:07 score evaluated: 0.8661120117116107\n",
      "2022-08-10 02:44:07 discovering a process model...\n",
      "2022-08-10 02:44:07 process model discovered\n"
     ]
    },
    {
     "data": {
      "application/vnd.jupyter.widget-view+json": {
       "model_id": "aaba8deb21cb447f8cd5a368a153ad75",
       "version_major": 2,
       "version_minor": 0
      },
      "text/plain": [
       "replaying log with TBR, completed variants ::   0%|          | 0/2 [00:00<?, ?it/s]"
      ]
     },
     "metadata": {},
     "output_type": "display_data"
    },
    {
     "data": {
      "application/vnd.jupyter.widget-view+json": {
       "model_id": "2da92ad9f0f14a359c14858657d55321",
       "version_major": 2,
       "version_minor": 0
      },
      "text/plain": [
       "replaying log with TBR, completed variants ::   0%|          | 0/485 [00:00<?, ?it/s]"
      ]
     },
     "metadata": {},
     "output_type": "display_data"
    },
    {
     "data": {
      "application/vnd.jupyter.widget-view+json": {
       "model_id": "8ccf33d116ba46f49b3cfaca7a1f19c8",
       "version_major": 2,
       "version_minor": 0
      },
      "text/plain": [
       "replaying log with TBR, completed variants ::   0%|          | 0/2 [00:00<?, ?it/s]"
      ]
     },
     "metadata": {},
     "output_type": "display_data"
    },
    {
     "name": "stdout",
     "output_type": "stream",
     "text": [
      "2022-08-10 02:44:13 score evaluated: 0.8785432327196966\n",
      "final score: 0.872\n",
      "2022-08-10 02:44:13 discovering a process model...\n",
      "2022-08-10 02:44:14 process model discovered\n"
     ]
    },
    {
     "data": {
      "application/vnd.jupyter.widget-view+json": {
       "model_id": "00e11930aed742938819f6582d3ecb0f",
       "version_major": 2,
       "version_minor": 0
      },
      "text/plain": [
       "replaying log with TBR, completed variants ::   0%|          | 0/4 [00:00<?, ?it/s]"
      ]
     },
     "metadata": {},
     "output_type": "display_data"
    },
    {
     "data": {
      "application/vnd.jupyter.widget-view+json": {
       "model_id": "b4ddab9b63fb43b6907e148b10f03025",
       "version_major": 2,
       "version_minor": 0
      },
      "text/plain": [
       "replaying log with TBR, completed variants ::   0%|          | 0/509 [00:00<?, ?it/s]"
      ]
     },
     "metadata": {},
     "output_type": "display_data"
    },
    {
     "data": {
      "application/vnd.jupyter.widget-view+json": {
       "model_id": "a7cf92dc659144018a3fb0def81b2881",
       "version_major": 2,
       "version_minor": 0
      },
      "text/plain": [
       "replaying log with TBR, completed variants ::   0%|          | 0/4 [00:00<?, ?it/s]"
      ]
     },
     "metadata": {},
     "output_type": "display_data"
    },
    {
     "name": "stdout",
     "output_type": "stream",
     "text": [
      "2022-08-10 02:44:33 score evaluated: 0.6516843418978164\n",
      "2022-08-10 02:44:33 discovering a process model...\n",
      "2022-08-10 02:44:34 process model discovered\n"
     ]
    },
    {
     "data": {
      "application/vnd.jupyter.widget-view+json": {
       "model_id": "79981d2028e84009a6d90000a6df8180",
       "version_major": 2,
       "version_minor": 0
      },
      "text/plain": [
       "replaying log with TBR, completed variants ::   0%|          | 0/2 [00:00<?, ?it/s]"
      ]
     },
     "metadata": {},
     "output_type": "display_data"
    },
    {
     "data": {
      "application/vnd.jupyter.widget-view+json": {
       "model_id": "0f9bcaecf9174d8397aba760d65ab4fb",
       "version_major": 2,
       "version_minor": 0
      },
      "text/plain": [
       "replaying log with TBR, completed variants ::   0%|          | 0/485 [00:00<?, ?it/s]"
      ]
     },
     "metadata": {},
     "output_type": "display_data"
    },
    {
     "data": {
      "application/vnd.jupyter.widget-view+json": {
       "model_id": "abda2b7b30644fc692bba25aab763f0f",
       "version_major": 2,
       "version_minor": 0
      },
      "text/plain": [
       "replaying log with TBR, completed variants ::   0%|          | 0/2 [00:00<?, ?it/s]"
      ]
     },
     "metadata": {},
     "output_type": "display_data"
    },
    {
     "name": "stdout",
     "output_type": "stream",
     "text": [
      "2022-08-10 02:44:51 score evaluated: 0.6714351234806012\n",
      "final score: 0.662\n",
      "2022-08-10 02:44:51 discovering a process model...\n",
      "2022-08-10 02:44:52 process model discovered\n"
     ]
    },
    {
     "data": {
      "application/vnd.jupyter.widget-view+json": {
       "model_id": "9ebe03dc22a94db58f4cdf6741b276f8",
       "version_major": 2,
       "version_minor": 0
      },
      "text/plain": [
       "replaying log with TBR, completed variants ::   0%|          | 0/4 [00:00<?, ?it/s]"
      ]
     },
     "metadata": {},
     "output_type": "display_data"
    },
    {
     "data": {
      "application/vnd.jupyter.widget-view+json": {
       "model_id": "6545ce14cb114c90b6b0ed7e52e8de27",
       "version_major": 2,
       "version_minor": 0
      },
      "text/plain": [
       "replaying log with TBR, completed variants ::   0%|          | 0/509 [00:00<?, ?it/s]"
      ]
     },
     "metadata": {},
     "output_type": "display_data"
    },
    {
     "data": {
      "application/vnd.jupyter.widget-view+json": {
       "model_id": "472b1f48cdd445bebe8c34a68dff0dd5",
       "version_major": 2,
       "version_minor": 0
      },
      "text/plain": [
       "replaying log with TBR, completed variants ::   0%|          | 0/4 [00:00<?, ?it/s]"
      ]
     },
     "metadata": {},
     "output_type": "display_data"
    },
    {
     "name": "stdout",
     "output_type": "stream",
     "text": [
      "2022-08-10 02:45:11 score evaluated: 0.6519708133997979\n",
      "2022-08-10 02:45:11 discovering a process model...\n",
      "2022-08-10 02:45:12 process model discovered\n"
     ]
    },
    {
     "data": {
      "application/vnd.jupyter.widget-view+json": {
       "model_id": "cda92f543bd44964b95eeda0249a7a2b",
       "version_major": 2,
       "version_minor": 0
      },
      "text/plain": [
       "replaying log with TBR, completed variants ::   0%|          | 0/2 [00:00<?, ?it/s]"
      ]
     },
     "metadata": {},
     "output_type": "display_data"
    },
    {
     "data": {
      "application/vnd.jupyter.widget-view+json": {
       "model_id": "87cb467df3d54ba6adcbe364fd570047",
       "version_major": 2,
       "version_minor": 0
      },
      "text/plain": [
       "replaying log with TBR, completed variants ::   0%|          | 0/485 [00:00<?, ?it/s]"
      ]
     },
     "metadata": {},
     "output_type": "display_data"
    },
    {
     "data": {
      "application/vnd.jupyter.widget-view+json": {
       "model_id": "355585b36f5b4224bcea880a647ab9d1",
       "version_major": 2,
       "version_minor": 0
      },
      "text/plain": [
       "replaying log with TBR, completed variants ::   0%|          | 0/2 [00:00<?, ?it/s]"
      ]
     },
     "metadata": {},
     "output_type": "display_data"
    }
   ],
   "source": [
    "n_splits = len(event_logs)\n",
    "n_estimators = 100\n",
    "n_cands_filtering = [1, 2, 3]\n",
    "miners = ['inductive_miner', 'heuristics_miner']\n",
    "metrics = ['Buijs2014', 'fitness', 'precision', 'generalization', 'simplicity']\n",
    "maximum_trials = 10\n",
    "results = []\n",
    "# performance evaluation with leave-one-out (use one for test and the others for training)\n",
    "for i in range(len(features)):\n",
    "    test_index = i\n",
    "    train_index = list(set(range(len(features))) - set([test_index]))\n",
    "    # print('TRAIN:', train_index)\n",
    "    print(datetime.now().strftime('%Y-%m-%d %H:%M:%S'), 'evaluating:', datasets[test_index])\n",
    "    \n",
    "    for i_n_cands in n_cands_filtering:\n",
    "        # narrow down key column candidates with a supervised approach\n",
    "        # build a binary classifier for each key column\n",
    "        # try multiple times to find candidates\n",
    "        start_time = time.time()\n",
    "        found_cands = False\n",
    "        for i_trial in range(maximum_trials):\n",
    "            case_id_cand = get_key_column_cands(features, 'case:concept:name', \n",
    "                                                train_index, [test_index], 1, i_n_cands)\n",
    "            timestamp_cand = get_key_column_cands(features, 'time:timestamp', \n",
    "                                                  train_index, [test_index], 1, i_n_cands)\n",
    "            activity_cand = get_key_column_cands(features, 'concept:name', \n",
    "                                                 train_index, [test_index], 1, i_n_cands)\n",
    "            print('timestamp_cand:', timestamp_cand)\n",
    "            print('case_id_cand:', case_id_cand)\n",
    "            print('activity_cand:', activity_cand)\n",
    "            if all([len(timestamp_cand) > 0, len(case_id_cand) > 0, len(activity_cand) > 0]):\n",
    "                found_cands = True\n",
    "                break\n",
    "        if not found_cands:\n",
    "            print('Could not find key column candidates. Skip this test.')\n",
    "            break\n",
    "        \n",
    "        key_index_cand = [list(t) for t in product(case_id_cand, timestamp_cand, activity_cand) if len(set(t)) >= 3]\n",
    "        # as similar activity sequences have to be observed by multiple cases (otherwise we cannot identify a process flow)\n",
    "        # hence we rule out the cases where each sequence of activities do not share a common pattern\n",
    "        # in this regrad, we use cosine similarity to measure the overlaps between activities\n",
    "        tmp = [similarity_check(event_logs[test_index], key_indices, n_samples=10, min_cosine_sim=0.3) \\\n",
    "            for key_indices in key_index_cand]\n",
    "        combinations_to_try = np.array(key_index_cand)[np.array(tmp)]\n",
    "        time_cand_selection = time.time() - start_time\n",
    "        \n",
    "        h = event_logs[test_index].columns.values.tolist()\n",
    "        correct_indices = [\n",
    "            h.index('case:concept:name'),\n",
    "            h.index('time:timestamp'),\n",
    "            h.index('concept:name')\n",
    "        ]\n",
    "        \n",
    "        for i_miner in miners:\n",
    "            for i_metric in metrics:\n",
    "                print(datetime.now().strftime('%Y-%m-%d %H:%M:%S'), 'miner:', i_miner, 'metric:', i_metric)\n",
    "                start_time = time.time()\n",
    "                scores = [measure_score(event_logs[test_index], key_indices, miner=i_miner, \n",
    "                                        metric=i_metric, n_splits=2) for key_indices in combinations_to_try]\n",
    "                time_score_eval = time.time() - start_time\n",
    "                \n",
    "                results.append({'dataset': datasets[test_index], 'time_cand_selection': time_cand_selection, \n",
    "                                'time_score_eval': time_score_eval, 'n_timestamp_cand': len(timestamp_cand), \n",
    "                                'n_case_id_cand': len(case_id_cand), 'n_activity_cand': len(activity_cand), \n",
    "                                'n_top_cands': i_n_cands, 'n_cands': len(combinations_to_try), \n",
    "                                'scores': scores, 'correct_indices': correct_indices, \n",
    "                                'cands': combinations_to_try, 'miner': i_miner, 'metric': i_metric, \n",
    "                                'n_RF_estimators': n_estimators})"
   ]
  },
  {
   "cell_type": "code",
   "execution_count": null,
   "id": "c9cc0d5d-a9ee-434b-b3dc-512bc93eb64b",
   "metadata": {},
   "outputs": [],
   "source": [
    "with open(r'results.pickle', 'wb') as output_file:\n",
    "    pickle.dump(results, output_file)"
   ]
  },
  {
   "cell_type": "code",
   "execution_count": null,
   "id": "6b64f0af-d7c5-43de-ae6b-30205a460eff",
   "metadata": {
    "tags": []
   },
   "outputs": [],
   "source": [
    "results"
   ]
  }
 ],
 "metadata": {
  "kernelspec": {
   "display_name": "Python 3 (ipykernel)",
   "language": "python",
   "name": "python3"
  },
  "language_info": {
   "codemirror_mode": {
    "name": "ipython",
    "version": 3
   },
   "file_extension": ".py",
   "mimetype": "text/x-python",
   "name": "python",
   "nbconvert_exporter": "python",
   "pygments_lexer": "ipython3",
   "version": "3.10.5"
  }
 },
 "nbformat": 4,
 "nbformat_minor": 5
}
