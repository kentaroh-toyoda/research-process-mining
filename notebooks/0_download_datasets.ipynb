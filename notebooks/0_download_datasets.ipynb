{
 "cells": [
  {
   "cell_type": "code",
   "execution_count": 2,
   "id": "bf3017dc",
   "metadata": {},
   "outputs": [
    {
     "name": "stdout",
     "output_type": "stream",
     "text": [
      "PDC2020 training has been already downloaded.\n",
      "PDC2020 test has been already downloaded.\n",
      "PDC2020 ground truth has been already downloaded.\n",
      "BPI_Challenge_2020_Request_For_Payment has been already downloaded.\n",
      "BPI_Challenge_2020_Prepaid_Travel_Costs has been already downloaded.\n",
      "BPIC2020_Travel_Permit_Data has been already downloaded.\n",
      "BPIC2020_International_Declarations has been already downloaded.\n",
      "BPIC2020_Domestic_Declarations has been already downloaded.\n",
      "Purchase order handling process (BPI Challenge 2019) has been already downloaded.\n",
      "Payment Process of Common Agricultural Policy (BPI Challenge 2018) has been already downloaded.\n",
      "Loan application process of a Dutch financial institute (BPI Challenge 2017) has been already downloaded.\n",
      "Click-data for the customers that are not logged in to the website (BPI Challenge 2016) has been already downloaded.\n",
      "Click-data for the customers that are logged in to the website (BPI Challenge 2016) has been already downloaded.\n",
      "Municipality log 1 (BPI Challenge 2015) has been already downloaded.\n",
      "Municipality log 2 (BPI Challenge 2015) has been already downloaded.\n",
      "Municipality log 3 (BPI Challenge 2015) has been already downloaded.\n",
      "Municipality log 4 (BPI Challenge 2015) has been already downloaded.\n",
      "Municipality log 5 (BPI Challenge 2015) has been already downloaded.\n",
      "Change log (BPI Challenge 2014) has been already downloaded.\n",
      "Incident management log (BPI Challenge 2013) has been already downloaded.\n",
      "Problem management log, open problems (BPI Challenge 2013) has been already downloaded.\n",
      "Problem management log, closed problems (BPI Challenge 2013) has been already downloaded.\n",
      "Event log of a loan application process (BPI Challenge 2012) has been already downloaded.\n",
      "Anonymized event log of a Dutch Academic Hospital (BPI Challenge 2011) has been already downloaded.\n",
      "Production Analysis with Process Mining Technology has been already downloaded.\n"
     ]
    }
   ],
   "source": [
    "import os\n",
    "import json\n",
    "import urllib.request\n",
    "import zipfile\n",
    "import gzip\n",
    "import shutil\n",
    "import re\n",
    "\n",
    "dataset_dir = '../datasets/'\n",
    "\n",
    "# make directory if not exists\n",
    "if not os.path.exists(dataset_dir):\n",
    "    os.makedirs(dataset_dir)\n",
    "\n",
    "# datasets are listed in datasets.json\n",
    "with open(dataset_dir + 'datasets.json') as f:\n",
    "  datasets = json.load(f)\n",
    "\n",
    "# download the datasets\n",
    "for dataset in datasets:\n",
    "    full_path = dataset_dir + dataset['filename']\n",
    "    # if the dataset has been downloaded, do nothing\n",
    "    if os.path.exists(full_path):\n",
    "        print(dataset['name'], 'has been already downloaded.')\n",
    "    else:\n",
    "        print('Downloading', dataset['name'])\n",
    "        # obtain a dataset\n",
    "        urllib.request.urlretrieve(dataset['url'], full_path)\n",
    "        # unzip it if it's a zip file\n",
    "        if re.match(r'.*\\.zip$', dataset['filename']):\n",
    "            print('Decompressing', dataset['name'])\n",
    "            with zipfile.ZipFile(full_path) as zip_ref:\n",
    "                zip_ref.extractall(dataset_dir)\n",
    "        elif re.match(r'.*\\.gz$', dataset['filename']):\n",
    "            print('Decompressing', dataset['name'])\n",
    "            # make a filename for output \n",
    "            tmp = re.search(r'(.*)\\.gz$', dataset['filename'])\n",
    "            output_filename = dataset_dir + tmp.group(1)\n",
    "            with gzip.open(full_path, 'rb') as f_in:\n",
    "                with open(output_filename, 'wb') as f_out:\n",
    "                    shutil.copyfileobj(f_in, f_out)\n"
   ]
  }
 ],
 "metadata": {
  "kernelspec": {
   "display_name": "Python 3 (ipykernel)",
   "language": "python",
   "name": "python3"
  },
  "language_info": {
   "codemirror_mode": {
    "name": "ipython",
    "version": 3
   },
   "file_extension": ".py",
   "mimetype": "text/x-python",
   "name": "python",
   "nbconvert_exporter": "python",
   "pygments_lexer": "ipython3",
   "version": "3.10.5"
  }
 },
 "nbformat": 4,
 "nbformat_minor": 5
}
