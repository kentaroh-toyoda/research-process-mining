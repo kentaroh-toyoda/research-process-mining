{
 "cells": [
  {
   "cell_type": "code",
   "execution_count": null,
   "id": "bf3017dc",
   "metadata": {},
   "outputs": [],
   "source": [
    "import os\n",
    "import re\n",
    "import gzip\n",
    "import glob\n",
    "import json\n",
    "import shutil\n",
    "import zipfile\n",
    "import pandas as pd\n",
    "import urllib.request\n",
    "from pm4py.objects.conversion.log import converter as log_converter\n",
    "from pm4py.objects.log.importer.xes import importer as xes_importer\n",
    "\n",
    "dataset_dir = '../datasets/'\n",
    "\n",
    "# make directory if not exists\n",
    "if not os.path.exists(dataset_dir):\n",
    "    os.makedirs(dataset_dir)\n",
    "\n",
    "# datasets are listed in datasets.json\n",
    "with open(dataset_dir + 'datasets.json') as f:\n",
    "  datasets = json.load(f)\n",
    "\n",
    "# download the datasets\n",
    "for dataset in datasets:\n",
    "    full_path = dataset_dir + dataset['filename']\n",
    "    # if the dataset has been downloaded, do nothing\n",
    "    if os.path.exists(full_path):\n",
    "        print(dataset['name'], 'has been already downloaded.')\n",
    "    else:\n",
    "        print('Downloading', dataset['name'])\n",
    "        # obtain a dataset\n",
    "        urllib.request.urlretrieve(dataset['url'], full_path)\n",
    "        # unzip it if it's a zip file\n",
    "        if re.match(r'.*\\.zip$', dataset['filename']):\n",
    "            print('Decompressing', dataset['name'])\n",
    "            with zipfile.ZipFile(full_path) as zip_ref:\n",
    "                zip_ref.extractall(dataset_dir)\n",
    "        elif re.match(r'.*\\.gz$', dataset['filename']):\n",
    "            print('Decompressing', dataset['name'])\n",
    "            # make a filename for output \n",
    "            tmp = re.search(r'(.*)\\.gz$', dataset['filename'])\n",
    "            output_filename = dataset_dir + tmp.group(1)\n",
    "            with gzip.open(full_path, 'rb') as f_in:\n",
    "                with open(output_filename, 'wb') as f_out:\n",
    "                    shutil.copyfileobj(f_in, f_out)\n"
   ]
  },
  {
   "cell_type": "code",
   "execution_count": null,
   "id": "e6a808ad-5b88-4b9e-addd-3eb5d26f904a",
   "metadata": {},
   "outputs": [],
   "source": [
    "# convert xes to csv\n",
    "for xes_filename in glob.glob('../datasets/**/*.xes', recursive=True):\n",
    "    # set csv filename\n",
    "    csv_filename = re.sub(r'\\.xes$', '.csv', xes_filename)\n",
    "    print('Converting', xes_filename, 'to', csv_filename)\n",
    "    # read a xes log file\n",
    "    log = xes_importer.apply(xes_filename)\n",
    "    # convert it to a data frame\n",
    "    dataframe = log_converter.apply(log, variant=log_converter.Variants.TO_DATA_FRAME)\n",
    "    print(dataframe.head())\n",
    "    # save it as csv\n",
    "    dataframe.to_csv(csv_filename, index=False)"
   ]
  }
 ],
 "metadata": {
  "kernelspec": {
   "display_name": "Python 3 (ipykernel)",
   "language": "python",
   "name": "python3"
  },
  "language_info": {
   "codemirror_mode": {
    "name": "ipython",
    "version": 3
   },
   "file_extension": ".py",
   "mimetype": "text/x-python",
   "name": "python",
   "nbconvert_exporter": "python",
   "pygments_lexer": "ipython3",
   "version": "3.10.5"
  }
 },
 "nbformat": 4,
 "nbformat_minor": 5
}
